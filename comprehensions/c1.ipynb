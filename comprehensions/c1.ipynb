{
 "cells": [
  {
   "cell_type": "code",
   "execution_count": 5,
   "id": "3391a4c2",
   "metadata": {},
   "outputs": [],
   "source": [
    "nums = []\n",
    "for i in range(10):\n",
    "    nums.append(i)"
   ]
  },
  {
   "cell_type": "code",
   "execution_count": 4,
   "id": "c745fc3d",
   "metadata": {},
   "outputs": [
    {
     "data": {
      "text/plain": [
       "[0, 1, 4, 9, 16, 25, 36, 49, 64, 81]"
      ]
     },
     "execution_count": 4,
     "metadata": {},
     "output_type": "execute_result"
    }
   ],
   "source": [
    "sq = [number * number for number in nums]\n",
    "sq"
   ]
  },
  {
   "cell_type": "code",
   "execution_count": null,
   "id": "ad22fe7a",
   "metadata": {},
   "outputs": [
    {
     "data": {
      "text/plain": [
       "[0, 1, 4, 9, 16, 25, 36, 49, 64, 81]"
      ]
     },
     "execution_count": 8,
     "metadata": {},
     "output_type": "execute_result"
    }
   ],
   "source": [
    "[number * number \n",
    " for number in nums] # We read right to left"
   ]
  },
  {
   "cell_type": "code",
   "execution_count": null,
   "id": "0a4be021",
   "metadata": {},
   "outputs": [
    {
     "name": "stdout",
     "output_type": "stream",
     "text": [
      "0\n",
      "1\n",
      "4\n",
      "9\n",
      "16\n",
      "25\n",
      "36\n",
      "49\n",
      "64\n",
      "81\n"
     ]
    },
    {
     "data": {
      "text/plain": [
       "[None, None, None, None, None, None, None, None, None, None]"
      ]
     },
     "execution_count": 7,
     "metadata": {},
     "output_type": "execute_result"
    }
   ],
   "source": [
    "[print(number * number) for number in nums]\n",
    "# comprehensions are all about the return of the expression. \n",
    "# Since print returns None, we get a list of None(s) even if \n",
    "# we print all results to the screen"
   ]
  },
  {
   "cell_type": "code",
   "execution_count": 10,
   "id": "8a93c0a8",
   "metadata": {},
   "outputs": [
    {
     "data": {
      "text/plain": [
       "['This', 'Is', 'A', 'Bunch', 'Of', 'Words']"
      ]
     },
     "execution_count": 10,
     "metadata": {},
     "output_type": "execute_result"
    }
   ],
   "source": [
    "words = \"This is a bunch of words\".split()\n",
    "[word.capitalize() for word in words]"
   ]
  },
  {
   "cell_type": "code",
   "execution_count": 13,
   "id": "57d67e4f",
   "metadata": {},
   "outputs": [
    {
     "data": {
      "text/plain": [
       "'This Is A Bunch Of Words'"
      ]
     },
     "execution_count": 13,
     "metadata": {},
     "output_type": "execute_result"
    }
   ],
   "source": [
    "' '.join([word.capitalize() for word in words])"
   ]
  },
  {
   "cell_type": "code",
   "execution_count": 14,
   "id": "ed59af5c",
   "metadata": {},
   "outputs": [
    {
     "data": {
      "text/plain": [
       "'This Is A Bunch Of Words'"
      ]
     },
     "execution_count": 14,
     "metadata": {},
     "output_type": "execute_result"
    }
   ],
   "source": [
    "\"This is a bunch of words\".title()"
   ]
  },
  {
   "cell_type": "code",
   "execution_count": 15,
   "id": "97834058",
   "metadata": {},
   "outputs": [
    {
     "data": {
      "text/plain": [
       "'10*20*20'"
      ]
     },
     "execution_count": 15,
     "metadata": {},
     "output_type": "execute_result"
    }
   ],
   "source": [
    "mylist = [10, 20, 20]\n",
    "'*'.join([str(num) for num in mylist])"
   ]
  },
  {
   "cell_type": "code",
   "execution_count": 18,
   "id": "a6a74598",
   "metadata": {},
   "outputs": [
    {
     "name": "stdout",
     "output_type": "stream",
     "text": [
      "20157\n"
     ]
    }
   ],
   "source": [
    "hex_strings = input(\"Enter multiple hex numbers separated by whitespace\").split()\n",
    "print(sum([int(hex_str, 16) for hex_str in hex_strings]))"
   ]
  },
  {
   "cell_type": "code",
   "execution_count": 28,
   "id": "49d0ce05",
   "metadata": {},
   "outputs": [
    {
     "name": "stdout",
     "output_type": "stream",
     "text": [
      "12\n"
     ]
    }
   ],
   "source": [
    "sentence = input(\"Enter a sentence: \")\n",
    "print(sum([not ch.isspace() for ch in sentence]))\n"
   ]
  },
  {
   "cell_type": "code",
   "execution_count": null,
   "id": "b06eee8d",
   "metadata": {},
   "outputs": [
    {
     "data": {
      "text/plain": [
       "2"
      ]
     },
     "execution_count": 25,
     "metadata": {},
     "output_type": "execute_result"
    }
   ],
   "source": [
    "# True is summed as 'ones'\n",
    "isinstance(True, int) # because bool is a subclass of int\n",
    "sum([True, True])"
   ]
  },
  {
   "cell_type": "code",
   "execution_count": 29,
   "id": "cdf5294a",
   "metadata": {},
   "outputs": [],
   "source": [
    "d = {\"a\": 1, \"b\":2, \"c\":3}"
   ]
  },
  {
   "cell_type": "code",
   "execution_count": 30,
   "id": "2f4957d3",
   "metadata": {},
   "outputs": [
    {
     "data": {
      "text/plain": [
       "['a', 'bb', 'ccc']"
      ]
     },
     "execution_count": 30,
     "metadata": {},
     "output_type": "execute_result"
    }
   ],
   "source": [
    "[key * d[key]\n",
    " for key in d] "
   ]
  },
  {
   "cell_type": "code",
   "execution_count": 34,
   "id": "9ff51006",
   "metadata": {},
   "outputs": [
    {
     "data": {
      "text/plain": [
       "['siht', 'si', 'a', 'tset', 'fo', 'ym', 'noisneherpmoc']"
      ]
     },
     "execution_count": 34,
     "metadata": {},
     "output_type": "execute_result"
    }
   ],
   "source": [
    "def reverse_word(word):\n",
    "    return word[::-1]\n",
    "\n",
    "words = \"this is a test of my comprehension\".split()\n",
    "[reverse_word(word) for word in words]"
   ]
  },
  {
   "cell_type": "code",
   "execution_count": 35,
   "id": "77b37976",
   "metadata": {},
   "outputs": [
    {
     "data": {
      "text/plain": [
       "['a', 'bb', 'ccc']"
      ]
     },
     "execution_count": 35,
     "metadata": {},
     "output_type": "execute_result"
    }
   ],
   "source": [
    "d = {\"a\": 1, \"b\":2, \"c\":3}\n",
    "[key * value for key, value in d.items()]"
   ]
  },
  {
   "cell_type": "code",
   "execution_count": 37,
   "id": "0e660469",
   "metadata": {},
   "outputs": [
    {
     "data": {
      "text/plain": [
       "['root:x:0:0:root:/root:/bin/ash\\n',\n",
       " 'bin:x:1:1:bin:/bin:/sbin/nologin\\n',\n",
       " 'daemon:x:2:2:daemon:/sbin:/sbin/nologin\\n',\n",
       " 'adm:x:3:4:adm:/var/adm:/sbin/nologin\\n',\n",
       " 'lp:x:4:7:lp:/var/spool/lpd:/sbin/nologin\\n',\n",
       " 'sync:x:5:0:sync:/sbin:/bin/sync\\n',\n",
       " 'shutdown:x:6:0:shutdown:/sbin:/sbin/shutdown\\n',\n",
       " 'halt:x:7:0:halt:/sbin:/sbin/halt\\n',\n",
       " 'mail:x:8:12:mail:/var/mail:/sbin/nologin\\n',\n",
       " 'news:x:9:13:news:/usr/lib/news:/sbin/nologin\\n',\n",
       " 'uucp:x:10:14:uucp:/var/spool/uucppublic:/sbin/nologin\\n',\n",
       " 'operator:x:11:0:operator:/root:/sbin/nologin\\n',\n",
       " 'man:x:13:15:man:/usr/man:/sbin/nologin\\n',\n",
       " 'postmaster:x:14:12:postmaster:/var/mail:/sbin/nologin\\n',\n",
       " 'cron:x:16:16:cron:/var/spool/cron:/sbin/nologin\\n',\n",
       " 'ftp:x:21:21::/var/lib/ftp:/sbin/nologin\\n',\n",
       " 'sshd:x:22:22:sshd:/dev/null:/sbin/nologin\\n',\n",
       " 'at:x:25:25:at:/var/spool/cron/atjobs:/sbin/nologin\\n',\n",
       " 'squid:x:31:31:Squid:/var/cache/squid:/sbin/nologin\\n',\n",
       " 'xfs:x:33:33:X Font Server:/etc/X11/fs:/sbin/nologin\\n',\n",
       " 'games:x:35:35:games:/usr/games:/sbin/nologin\\n',\n",
       " 'cyrus:x:85:12::/usr/cyrus:/sbin/nologin\\n',\n",
       " 'vpopmail:x:89:89::/var/vpopmail:/sbin/nologin\\n',\n",
       " 'ntp:x:123:123:NTP:/var/empty:/sbin/nologin\\n',\n",
       " 'smmsp:x:209:209:smmsp:/var/spool/mqueue:/sbin/nologin\\n',\n",
       " 'guest:x:405:100:guest:/dev/null:/sbin/nologin\\n',\n",
       " 'nobody:x:65534:65534:nobody:/:/sbin/nologin\\n',\n",
       " 'nginx:x:100:101:nginx:/var/lib/nginx:/sbin/nologin\\n',\n",
       " 'vnstat:x:101:102:vnstat:/var/lib/vnstat:/bin/false\\n',\n",
       " 'redis:x:102:103:redis:/var/lib/redis:/bin/false']"
      ]
     },
     "execution_count": 37,
     "metadata": {},
     "output_type": "execute_result"
    }
   ],
   "source": [
    "[one_line for one_line in open('passwd')]"
   ]
  },
  {
   "cell_type": "code",
   "execution_count": 40,
   "id": "ce57c50d",
   "metadata": {},
   "outputs": [
    {
     "data": {
      "text/plain": [
       "['news', 'ntp', 'nobody', 'nginx']"
      ]
     },
     "execution_count": 40,
     "metadata": {},
     "output_type": "execute_result"
    }
   ],
   "source": [
    "[one_line.split(\":\")[0]\n",
    " for one_line in open(\"passwd\") if one_line.startswith(\"n\")]"
   ]
  },
  {
   "cell_type": "code",
   "execution_count": null,
   "id": "05a6d89e",
   "metadata": {},
   "outputs": [],
   "source": []
  }
 ],
 "metadata": {
  "kernelspec": {
   "display_name": ".venv",
   "language": "python",
   "name": "python3"
  },
  "language_info": {
   "codemirror_mode": {
    "name": "ipython",
    "version": 3
   },
   "file_extension": ".py",
   "mimetype": "text/x-python",
   "name": "python",
   "nbconvert_exporter": "python",
   "pygments_lexer": "ipython3",
   "version": "3.13.3"
  }
 },
 "nbformat": 4,
 "nbformat_minor": 5
}
