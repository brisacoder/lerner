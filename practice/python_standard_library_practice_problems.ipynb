{
 "cells": [
  {
   "cell_type": "markdown",
   "id": "5e666de4",
   "metadata": {},
   "source": [
    "# Python Standard‑Library Practice Problems\n",
    "160 + crisp, non‑repeating tasks covering key modules.\n",
    "\n",
    "**Instructions**\n",
    "1. Solve each problem in the code cell under it.\n",
    "2. Use **only** the hinted module/function unless otherwise noted.\n",
    "3. Add extra cells if you want to test your work.\n"
   ]
  },
  {
   "cell_type": "markdown",
   "id": "57a1b028",
   "metadata": {},
   "source": [
    "## Index\n",
    "- **collections — Counter** — 12 problems\n",
    "- **collections — defaultdict** — 10 problems\n",
    "- **collections — deque** — 8 problems\n",
    "- **collections — ChainMap** — 6 problems\n",
    "- **heapq — heappush/heappop** — 10 problems\n",
    "- **heapq — nlargest** — 4 problems\n",
    "- **bisect — bisect_left** — 6 problems\n",
    "- **bisect — insort** — 4 problems\n",
    "- **itertools — groupby** — 8 problems\n",
    "- **itertools — accumulate** — 8 problems\n",
    "- **itertools — starmap** — 6 problems\n",
    "- **itertools — chain** — 6 problems\n",
    "- **functools — reduce** — 6 problems\n",
    "- **functools — partial** — 6 problems\n",
    "- **datetime — arithmetic** — 12 problems\n",
    "- **datetime — floor/ceil to windows** — 10 problems\n",
    "- **operator — attrgetter** — 6 problems\n",
    "- **operator — itemgetter** — 6 problems\n",
    "- **built‑in — map** — 5 problems\n",
    "- **built‑in — sum** — 5 problems\n",
    "- **built‑in — dict** — 4 problems\n",
    "- **strings — parsing multi‑line logs** — 16 problems\n",
    "\n",
    "**Total problems: 164**"
   ]
  },
  {
   "cell_type": "markdown",
   "id": "756802bf",
   "metadata": {},
   "source": [
    "## collections — Counter"
   ]
  },
  {
   "cell_type": "markdown",
   "id": "e7293a8d",
   "metadata": {},
   "source": [
    "### Problem 1\n",
    "Count the frequency of each letter in `\"Mississippi\"`, ignoring case and excluding non‑alphabetic characters."
   ]
  },
  {
   "cell_type": "code",
   "execution_count": null,
   "id": "5ba31acc",
   "metadata": {},
   "outputs": [],
   "source": [
    "# Your solution here"
   ]
  },
  {
   "cell_type": "markdown",
   "id": "6ffabb80",
   "metadata": {},
   "source": [
    "### Problem 2\n",
    "Given a list of sentences, build a `Counter` of **case‑insensitive** word frequencies and print the top 5."
   ]
  },
  {
   "cell_type": "code",
   "execution_count": null,
   "id": "8b21a5c0",
   "metadata": {},
   "outputs": [],
   "source": [
    "# Your solution here"
   ]
  },
  {
   "cell_type": "markdown",
   "id": "1c6078ff",
   "metadata": {},
   "source": [
    "### Problem 3\n",
    "From a list of log dictionaries that include an integer `status` field, build a `Counter` of HTTP status codes."
   ]
  },
  {
   "cell_type": "code",
   "execution_count": null,
   "id": "4c5923ae",
   "metadata": {},
   "outputs": [],
   "source": [
    "# Your solution here"
   ]
  },
  {
   "cell_type": "markdown",
   "id": "1f512665",
   "metadata": {},
   "source": [
    "### Problem 4\n",
    "Find the **least common** element in `[3, 1, 4, 1, 5, 9, 2, 6, 5]` using `Counter`."
   ]
  },
  {
   "cell_type": "code",
   "execution_count": null,
   "id": "8ebda463",
   "metadata": {},
   "outputs": [],
   "source": [
    "# Your solution here"
   ]
  },
  {
   "cell_type": "markdown",
   "id": "97dcddaa",
   "metadata": {},
   "source": [
    "### Problem 5\n",
    "You have two `Counter`s representing inventories from two warehouses. Combine them into a single inventory."
   ]
  },
  {
   "cell_type": "code",
   "execution_count": null,
   "id": "487570ac",
   "metadata": {},
   "outputs": [],
   "source": [
    "# Your solution here"
   ]
  },
  {
   "cell_type": "markdown",
   "id": "1ea789d2",
   "metadata": {},
   "source": [
    "### Problem 6\n",
    "Subtract inventory `B` from inventory `A` (both `Counter`s) to show what remains in `A` after a shipment."
   ]
  },
  {
   "cell_type": "code",
   "execution_count": null,
   "id": "42d96911",
   "metadata": {},
   "outputs": [],
   "source": [
    "# Your solution here"
   ]
  },
  {
   "cell_type": "markdown",
   "id": "0dff1d1e",
   "metadata": {},
   "source": [
    "### Problem 7\n",
    "Simulate 10 000 dice rolls and use a `Counter` to produce a histogram of face frequencies."
   ]
  },
  {
   "cell_type": "code",
   "execution_count": null,
   "id": "d28930f2",
   "metadata": {},
   "outputs": [],
   "source": [
    "# Your solution here"
   ]
  },
  {
   "cell_type": "markdown",
   "id": "7af76f28",
   "metadata": {},
   "source": [
    "### Problem 8\n",
    "Find the most common two‑character substring in the string `\"banana bandana\"`."
   ]
  },
  {
   "cell_type": "code",
   "execution_count": null,
   "id": "8fb7a5e6",
   "metadata": {},
   "outputs": [],
   "source": [
    "# Your solution here"
   ]
  },
  {
   "cell_type": "markdown",
   "id": "ff22cbfa",
   "metadata": {},
   "source": [
    "### Problem 9\n",
    "Build a trigram (`length 3` substring) frequency `Counter` for the text *\"to be or not to be\"*."
   ]
  },
  {
   "cell_type": "code",
   "execution_count": null,
   "id": "dfab4176",
   "metadata": {},
   "outputs": [],
   "source": [
    "# Your solution here"
   ]
  },
  {
   "cell_type": "markdown",
   "id": "fef471ee",
   "metadata": {},
   "source": [
    "### Problem 10\n",
    "Update an existing `Counter` with the letters from the string `\"counterupdate\"`."
   ]
  },
  {
   "cell_type": "code",
   "execution_count": null,
   "id": "6ad8b5b7",
   "metadata": {},
   "outputs": [],
   "source": [
    "# Your solution here"
   ]
  },
  {
   "cell_type": "markdown",
   "id": "3d7c0367",
   "metadata": {},
   "source": [
    "### Problem 11\n",
    "Convert a `Counter` to a sorted list of `(item, count)` pairs in **descending** order of count."
   ]
  },
  {
   "cell_type": "code",
   "execution_count": null,
   "id": "60f0bc1f",
   "metadata": {},
   "outputs": [],
   "source": [
    "# Your solution here"
   ]
  },
  {
   "cell_type": "markdown",
   "id": "8bb7dfd7",
   "metadata": {},
   "source": [
    "### Problem 12\n",
    "Determine whether two strings are anagrams (ignoring case and spaces) using `Counter`."
   ]
  },
  {
   "cell_type": "code",
   "execution_count": null,
   "id": "4613e80b",
   "metadata": {},
   "outputs": [],
   "source": [
    "# Your solution here"
   ]
  },
  {
   "cell_type": "markdown",
   "id": "7d3f91a6",
   "metadata": {},
   "source": [
    "## collections — defaultdict"
   ]
  },
  {
   "cell_type": "markdown",
   "id": "17cc5f1a",
   "metadata": {},
   "source": [
    "### Problem 13\n",
    "Build an **adjacency list** for the edges `[(\"A\",\"B\"),(\"A\",\"C\"),(\"B\",\"D\")]` using `defaultdict(list)`."
   ]
  },
  {
   "cell_type": "code",
   "execution_count": null,
   "id": "8f1d1ff0",
   "metadata": {},
   "outputs": [],
   "source": [
    "# Your solution here"
   ]
  },
  {
   "cell_type": "markdown",
   "id": "2e07c724",
   "metadata": {},
   "source": [
    "### Problem 14\n",
    "Count word frequencies in a text **stream** using `defaultdict(int)`."
   ]
  },
  {
   "cell_type": "code",
   "execution_count": null,
   "id": "9940bce4",
   "metadata": {},
   "outputs": [],
   "source": [
    "# Your solution here"
   ]
  },
  {
   "cell_type": "markdown",
   "id": "23911d6c",
   "metadata": {},
   "source": [
    "### Problem 15\n",
    "Group the words `[\"apple\",\"apricot\",\"banana\",\"blackberry\"]` by their first letter."
   ]
  },
  {
   "cell_type": "code",
   "execution_count": null,
   "id": "420ca442",
   "metadata": {},
   "outputs": [],
   "source": [
    "# Your solution here"
   ]
  },
  {
   "cell_type": "markdown",
   "id": "d9c4d323",
   "metadata": {},
   "source": [
    "### Problem 16\n",
    "Aggregate exam scores by student ID given a list of `(id, score)` pairs."
   ]
  },
  {
   "cell_type": "code",
   "execution_count": null,
   "id": "48797f8a",
   "metadata": {},
   "outputs": [],
   "source": []
  },
  {
   "cell_type": "code",
   "execution_count": null,
   "id": "d6b17259",
   "metadata": {},
   "outputs": [],
   "source": [
    "# Your solution here"
   ]
  },
  {
   "cell_type": "markdown",
   "id": "56c274f0",
   "metadata": {},
   "source": [
    "### Problem 17\n",
    "Create a two‑level nested `defaultdict(dict)` to store `{classroom → {student → grade}}`."
   ]
  },
  {
   "cell_type": "code",
   "execution_count": null,
   "id": "3da9b4d2",
   "metadata": {},
   "outputs": [],
   "source": [
    "# Your solution here"
   ]
  },
  {
   "cell_type": "markdown",
   "id": "3eb8a8f4",
   "metadata": {},
   "source": [
    "### Problem 18\n",
    "Using `defaultdict(float)`, accumulate total sales amounts keyed by `\"item_id\"` from a list of orders."
   ]
  },
  {
   "cell_type": "code",
   "execution_count": null,
   "id": "22e628f4",
   "metadata": {},
   "outputs": [],
   "source": [
    "# Your solution here"
   ]
  },
  {
   "cell_type": "markdown",
   "id": "3747cc73",
   "metadata": {},
   "source": [
    "### Problem 19\n",
    "Use `defaultdict(set)` to deduplicate the values in `[(1,\"a\"),(1,\"b\"),(1,\"a\")]`."
   ]
  },
  {
   "cell_type": "code",
   "execution_count": null,
   "id": "2c1fb4af",
   "metadata": {},
   "outputs": [],
   "source": [
    "# Your solution here"
   ]
  },
  {
   "cell_type": "markdown",
   "id": "4783ca82",
   "metadata": {},
   "source": [
    "### Problem 20\n",
    "Categorize words by **length** with `defaultdict(list)`."
   ]
  },
  {
   "cell_type": "code",
   "execution_count": null,
   "id": "fe487b37",
   "metadata": {},
   "outputs": [],
   "source": [
    "# Your solution here"
   ]
  },
  {
   "cell_type": "markdown",
   "id": "a930f52b",
   "metadata": {},
   "source": [
    "### Problem 21\n",
    "Implement a streaming counter that returns 0 for unseen keys with `defaultdict(lambda: 0)`."
   ]
  },
  {
   "cell_type": "code",
   "execution_count": null,
   "id": "6287de00",
   "metadata": {},
   "outputs": [],
   "source": [
    "# Your solution here"
   ]
  },
  {
   "cell_type": "markdown",
   "id": "f2913777",
   "metadata": {},
   "source": [
    "### Problem 22\n",
    "Use `defaultdict` for simple memoization of the Fibonacci sequence."
   ]
  },
  {
   "cell_type": "code",
   "execution_count": null,
   "id": "4f3fcaac",
   "metadata": {},
   "outputs": [],
   "source": [
    "# Your solution here"
   ]
  },
  {
   "cell_type": "markdown",
   "id": "25dff253",
   "metadata": {},
   "source": [
    "## collections — deque"
   ]
  },
  {
   "cell_type": "markdown",
   "id": "95962073",
   "metadata": {},
   "source": [
    "### Problem 23\n",
    "Maintain a sliding window (size 3) maximum over `[1,3,2,5,4,6]` using a `deque`."
   ]
  },
  {
   "cell_type": "code",
   "execution_count": null,
   "id": "6d54ca3d",
   "metadata": {},
   "outputs": [],
   "source": [
    "# Your solution here"
   ]
  },
  {
   "cell_type": "markdown",
   "id": "c8cd5abf",
   "metadata": {},
   "source": [
    "### Problem 24\n",
    "Implement a fixed‑length queue (`maxlen = 5`) that overwrites the oldest items."
   ]
  },
  {
   "cell_type": "code",
   "execution_count": null,
   "id": "f72d5bef",
   "metadata": {},
   "outputs": [],
   "source": [
    "# Your solution here"
   ]
  },
  {
   "cell_type": "markdown",
   "id": "93516964",
   "metadata": {},
   "source": [
    "### Problem 25\n",
    "Rotate the deque `deque([1,2,3,4,5])` two steps to the right."
   ]
  },
  {
   "cell_type": "code",
   "execution_count": null,
   "id": "9bea63d1",
   "metadata": {},
   "outputs": [],
   "source": [
    "# Your solution here"
   ]
  },
  {
   "cell_type": "markdown",
   "id": "6082bbe5",
   "metadata": {},
   "source": [
    "### Problem 26\n",
    "Write a function that checks whether a string is a palindrome using `deque` pops from both ends."
   ]
  },
  {
   "cell_type": "code",
   "execution_count": null,
   "id": "d051848a",
   "metadata": {},
   "outputs": [],
   "source": [
    "# Your solution here"
   ]
  },
  {
   "cell_type": "markdown",
   "id": "72d864de",
   "metadata": {},
   "source": [
    "### Problem 27\n",
    "Perform a breadth‑first search (BFS) on the tree `{\"A\":[\"B\",\"C\"],\"B\":[\"D\"], \"C\":[], \"D\":[]}` with a `deque`."
   ]
  },
  {
   "cell_type": "code",
   "execution_count": null,
   "id": "571891d3",
   "metadata": {},
   "outputs": [],
   "source": [
    "# Your solution here"
   ]
  },
  {
   "cell_type": "markdown",
   "id": "769cf7ac",
   "metadata": {},
   "source": [
    "### Problem 28\n",
    "Simulate browser history with back/forward stacks using two `deque`s."
   ]
  },
  {
   "cell_type": "code",
   "execution_count": null,
   "id": "54ce9a94",
   "metadata": {},
   "outputs": [],
   "source": [
    "# Your solution here"
   ]
  },
  {
   "cell_type": "markdown",
   "id": "a4349534",
   "metadata": {},
   "source": [
    "### Problem 29\n",
    "Create a ring buffer log that keeps the last 10 events."
   ]
  },
  {
   "cell_type": "code",
   "execution_count": null,
   "id": "1e9818a3",
   "metadata": {},
   "outputs": [],
   "source": [
    "# Your solution here"
   ]
  },
  {
   "cell_type": "markdown",
   "id": "43029fe6",
   "metadata": {},
   "source": [
    "### Problem 30\n",
    "Show that a `deque` can be used as both a stack and a queue, and compare the operations’ time complexity."
   ]
  },
  {
   "cell_type": "code",
   "execution_count": null,
   "id": "9781a39c",
   "metadata": {},
   "outputs": [],
   "source": [
    "# Your solution here"
   ]
  },
  {
   "cell_type": "markdown",
   "id": "494a3dc3",
   "metadata": {},
   "source": [
    "## collections — ChainMap"
   ]
  },
  {
   "cell_type": "markdown",
   "id": "63d111c0",
   "metadata": {},
   "source": [
    "### Problem 31\n",
    "Combine `defaults`, `env_vars`, and `cli_args` dicts with `ChainMap`, giving priority to `cli_args`."
   ]
  },
  {
   "cell_type": "code",
   "execution_count": null,
   "id": "8f762891",
   "metadata": {},
   "outputs": [],
   "source": [
    "# Your solution here"
   ]
  },
  {
   "cell_type": "markdown",
   "id": "4c8dd8f7",
   "metadata": {},
   "source": [
    "### Problem 32\n",
    "Override application settings with environment variables while falling back on defaults using `ChainMap`."
   ]
  },
  {
   "cell_type": "code",
   "execution_count": null,
   "id": "cab1faa7",
   "metadata": {},
   "outputs": [],
   "source": [
    "# Your solution here"
   ]
  },
  {
   "cell_type": "markdown",
   "id": "2d1f95a0",
   "metadata": {},
   "source": [
    "### Problem 33\n",
    "Demonstrate lexical variable resolution by linking locals and globals via nested `ChainMap`s."
   ]
  },
  {
   "cell_type": "code",
   "execution_count": null,
   "id": "0fb4ae45",
   "metadata": {},
   "outputs": [],
   "source": [
    "# Your solution here"
   ]
  },
  {
   "cell_type": "markdown",
   "id": "8f657afb",
   "metadata": {},
   "source": [
    "### Problem 34\n",
    "Confirm that updating the **first** mapping in a `ChainMap` reflects in lookups but not the underlying dicts."
   ]
  },
  {
   "cell_type": "code",
   "execution_count": null,
   "id": "94e21bca",
   "metadata": {},
   "outputs": [],
   "source": [
    "# Your solution here"
   ]
  },
  {
   "cell_type": "markdown",
   "id": "ca1cada3",
   "metadata": {},
   "source": [
    "### Problem 35\n",
    "Layer three configuration files with `ChainMap` and query a setting named `\"timeout\"`."
   ]
  },
  {
   "cell_type": "code",
   "execution_count": null,
   "id": "67239350",
   "metadata": {},
   "outputs": [],
   "source": [
    "# Your solution here"
   ]
  },
  {
   "cell_type": "markdown",
   "id": "6d2e3423",
   "metadata": {},
   "source": [
    "### Problem 36\n",
    "Flatten a `ChainMap` to a regular dict in one line."
   ]
  },
  {
   "cell_type": "code",
   "execution_count": null,
   "id": "eb8f674b",
   "metadata": {},
   "outputs": [],
   "source": [
    "# Your solution here"
   ]
  },
  {
   "cell_type": "markdown",
   "id": "78ae8bda",
   "metadata": {},
   "source": [
    "## heapq — heappush/heappop"
   ]
  },
  {
   "cell_type": "markdown",
   "id": "de660c06",
   "metadata": {},
   "source": [
    "### Problem 37\n",
    "Maintain the running **median** of a stream of numbers using two heaps."
   ]
  },
  {
   "cell_type": "code",
   "execution_count": null,
   "id": "4e4c2a2b",
   "metadata": {},
   "outputs": [],
   "source": [
    "# Your solution here"
   ]
  },
  {
   "cell_type": "markdown",
   "id": "14b32785",
   "metadata": {},
   "source": [
    "### Problem 38\n",
    "Merge k sorted lists `[[1,4,7],[2,5,8],[0,6,9]]` into a single sorted list with a heap."
   ]
  },
  {
   "cell_type": "code",
   "execution_count": null,
   "id": "bb14ce47",
   "metadata": {},
   "outputs": [],
   "source": [
    "# Your solution here"
   ]
  },
  {
   "cell_type": "markdown",
   "id": "5b95989d",
   "metadata": {},
   "source": [
    "### Problem 39\n",
    "Keep the smallest 10 numbers from a one‑million‑item data stream."
   ]
  },
  {
   "cell_type": "code",
   "execution_count": null,
   "id": "4767cb16",
   "metadata": {},
   "outputs": [],
   "source": [
    "# Your solution here"
   ]
  },
  {
   "cell_type": "markdown",
   "id": "2be31015",
   "metadata": {},
   "source": [
    "### Problem 40\n",
    "Implement a priority queue of tasks `(priority, task_name)` that executes lowest numbers first."
   ]
  },
  {
   "cell_type": "code",
   "execution_count": null,
   "id": "e443b3fd",
   "metadata": {},
   "outputs": [],
   "source": [
    "# Your solution here"
   ]
  },
  {
   "cell_type": "markdown",
   "id": "8532c4fe",
   "metadata": {},
   "source": [
    "### Problem 41\n",
    "Schedule tasks by earliest `deadline` timestamp using `heapq`."
   ]
  },
  {
   "cell_type": "code",
   "execution_count": null,
   "id": "17ac2403",
   "metadata": {},
   "outputs": [],
   "source": [
    "# Your solution here"
   ]
  },
  {
   "cell_type": "markdown",
   "id": "663dd66b",
   "metadata": {},
   "source": [
    "### Problem 42\n",
    "Given timestamps, pop events in chronological order using a min‑heap."
   ]
  },
  {
   "cell_type": "code",
   "execution_count": null,
   "id": "78a3bc06",
   "metadata": {},
   "outputs": [],
   "source": [
    "# Your solution here"
   ]
  },
  {
   "cell_type": "markdown",
   "id": "43820b71",
   "metadata": {},
   "source": [
    "### Problem 43\n",
    "Use `heapq.heappushpop` to keep the heap size at most 100 while processing a stream."
   ]
  },
  {
   "cell_type": "code",
   "execution_count": null,
   "id": "d009fe1e",
   "metadata": {},
   "outputs": [],
   "source": [
    "# Your solution here"
   ]
  },
  {
   "cell_type": "markdown",
   "id": "0b16c7d3",
   "metadata": {},
   "source": [
    "### Problem 44\n",
    "Apply a heap in Dijkstra’s shortest‑path algorithm skeleton."
   ]
  },
  {
   "cell_type": "code",
   "execution_count": null,
   "id": "fa866546",
   "metadata": {},
   "outputs": [],
   "source": [
    "# Your solution here"
   ]
  },
  {
   "cell_type": "markdown",
   "id": "614ffd95",
   "metadata": {},
   "source": [
    "### Problem 45\n",
    "Simulate an **event queue** that orders events by `(time, seq)` to avoid tie collisions."
   ]
  },
  {
   "cell_type": "code",
   "execution_count": null,
   "id": "3a0d1da4",
   "metadata": {},
   "outputs": [],
   "source": [
    "# Your solution here"
   ]
  },
  {
   "cell_type": "markdown",
   "id": "7fd6a6b0",
   "metadata": {},
   "source": [
    "### Problem 46\n",
    "Turn a list into a heap **in‑place** and then repeatedly pop to sort ascending."
   ]
  },
  {
   "cell_type": "code",
   "execution_count": null,
   "id": "1eb1c350",
   "metadata": {},
   "outputs": [],
   "source": [
    "# Your solution here"
   ]
  },
  {
   "cell_type": "markdown",
   "id": "2c375037",
   "metadata": {},
   "source": [
    "## heapq — nlargest"
   ]
  },
  {
   "cell_type": "markdown",
   "id": "f811141e",
   "metadata": {},
   "source": [
    "### Problem 47\n",
    "Find the three **longest** words in `[\"ant\",\"hippopotamus\",\"giraffe\",\"chimpanzee\",\"lion\"]`."
   ]
  },
  {
   "cell_type": "code",
   "execution_count": null,
   "id": "2f2809eb",
   "metadata": {},
   "outputs": [],
   "source": [
    "# Your solution here"
   ]
  },
  {
   "cell_type": "markdown",
   "id": "52f7f688",
   "metadata": {},
   "source": [
    "### Problem 48\n",
    "Select the top 5 most expensive items from a list of `(price, item)` tuples."
   ]
  },
  {
   "cell_type": "code",
   "execution_count": null,
   "id": "86edab04",
   "metadata": {},
   "outputs": [],
   "source": [
    "# Your solution here"
   ]
  },
  {
   "cell_type": "markdown",
   "id": "ff847ff1",
   "metadata": {},
   "source": [
    "### Problem 49\n",
    "Given vehicles with `{\"model\":str,\"speed\":int}`, get the 4 fastest using `nlargest` with a key."
   ]
  },
  {
   "cell_type": "code",
   "execution_count": null,
   "id": "40ff2997",
   "metadata": {},
   "outputs": [],
   "source": [
    "# Your solution here"
   ]
  },
  {
   "cell_type": "markdown",
   "id": "f27394e1",
   "metadata": {},
   "source": [
    "### Problem 50\n",
    "Use `nlargest` to retrieve the top 3 most frequent words from a `Counter`."
   ]
  },
  {
   "cell_type": "code",
   "execution_count": null,
   "id": "0f5aa687",
   "metadata": {},
   "outputs": [],
   "source": [
    "# Your solution here"
   ]
  },
  {
   "cell_type": "markdown",
   "id": "bfb2f566",
   "metadata": {},
   "source": [
    "## bisect — bisect_left"
   ]
  },
  {
   "cell_type": "markdown",
   "id": "2ebf40ad",
   "metadata": {},
   "source": [
    "### Problem 51\n",
    "Find the insertion position for 42 in `[1,10,20,30,50]` using `bisect_left`."
   ]
  },
  {
   "cell_type": "code",
   "execution_count": null,
   "id": "b0818068",
   "metadata": {},
   "outputs": [],
   "source": [
    "# Your solution here"
   ]
  },
  {
   "cell_type": "markdown",
   "id": "9250a591",
   "metadata": {},
   "source": [
    "### Problem 52\n",
    "Count how many numbers in a sorted list are `<= x` using `bisect_left`."
   ]
  },
  {
   "cell_type": "code",
   "execution_count": null,
   "id": "80b40fbc",
   "metadata": {},
   "outputs": [],
   "source": [
    "# Your solution here"
   ]
  },
  {
   "cell_type": "markdown",
   "id": "671a8a65",
   "metadata": {},
   "source": [
    "### Problem 53\n",
    "Given a sorted list, find the element **closest** to `target` with `bisect`."
   ]
  },
  {
   "cell_type": "code",
   "execution_count": null,
   "id": "98138c93",
   "metadata": {},
   "outputs": [],
   "source": [
    "# Your solution here"
   ]
  },
  {
   "cell_type": "markdown",
   "id": "e85dddbd",
   "metadata": {},
   "source": [
    "### Problem 54\n",
    "Implement a generic binary search that returns index or `-1` using `bisect_left`."
   ]
  },
  {
   "cell_type": "code",
   "execution_count": null,
   "id": "f78a887f",
   "metadata": {},
   "outputs": [],
   "source": [
    "# Your solution here"
   ]
  },
  {
   "cell_type": "markdown",
   "id": "35c9070b",
   "metadata": {},
   "source": [
    "### Problem 55\n",
    "Insert an ISO timestamp into a sorted list of timestamps preserving order."
   ]
  },
  {
   "cell_type": "code",
   "execution_count": null,
   "id": "84612bf1",
   "metadata": {},
   "outputs": [],
   "source": [
    "# Your solution here"
   ]
  },
  {
   "cell_type": "markdown",
   "id": "896678e3",
   "metadata": {},
   "source": [
    "### Problem 56\n",
    "Compute the length of the longest non‑decreasing subsequence using `bisect_left`."
   ]
  },
  {
   "cell_type": "code",
   "execution_count": null,
   "id": "ba74a4d3",
   "metadata": {},
   "outputs": [],
   "source": [
    "# Your solution here"
   ]
  },
  {
   "cell_type": "markdown",
   "id": "ca6bb873",
   "metadata": {},
   "source": [
    "## bisect — insort"
   ]
  },
  {
   "cell_type": "markdown",
   "id": "9b51eaea",
   "metadata": {},
   "source": [
    "### Problem 57\n",
    "Maintain a real‑time **leaderboard** of scores using `insort` on each new score."
   ]
  },
  {
   "cell_type": "code",
   "execution_count": null,
   "id": "f43b1c77",
   "metadata": {},
   "outputs": [],
   "source": [
    "# Your solution here"
   ]
  },
  {
   "cell_type": "markdown",
   "id": "9203c736",
   "metadata": {},
   "source": [
    "### Problem 58\n",
    "Insert a value into a sorted list and keep it sorted in O(log n) time with `insort`."
   ]
  },
  {
   "cell_type": "code",
   "execution_count": null,
   "id": "9a55ee12",
   "metadata": {},
   "outputs": [],
   "source": [
    "# Your solution here"
   ]
  },
  {
   "cell_type": "markdown",
   "id": "0709c372",
   "metadata": {},
   "source": [
    "### Problem 59\n",
    "Maintain the sliding‑window median with `insort` and list slicing."
   ]
  },
  {
   "cell_type": "code",
   "execution_count": null,
   "id": "0c7a9041",
   "metadata": {},
   "outputs": [],
   "source": [
    "# Your solution here"
   ]
  },
  {
   "cell_type": "markdown",
   "id": "5b75110f",
   "metadata": {},
   "source": [
    "### Problem 60\n",
    "Build a **sorted unique** list by combining `insort` and `bisect` checks."
   ]
  },
  {
   "cell_type": "code",
   "execution_count": null,
   "id": "2e850da7",
   "metadata": {},
   "outputs": [],
   "source": [
    "# Your solution here"
   ]
  },
  {
   "cell_type": "markdown",
   "id": "519929f2",
   "metadata": {},
   "source": [
    "## itertools — groupby"
   ]
  },
  {
   "cell_type": "markdown",
   "id": "682b4b4e",
   "metadata": {},
   "source": [
    "### Problem 61\n",
    "Collapse consecutive duplicate letters in `'AAAABBBCCDAABBB'`."
   ]
  },
  {
   "cell_type": "code",
   "execution_count": null,
   "id": "e670d1cb",
   "metadata": {},
   "outputs": [],
   "source": [
    "# Your solution here"
   ]
  },
  {
   "cell_type": "markdown",
   "id": "e50aaedf",
   "metadata": {},
   "source": [
    "### Problem 62\n",
    "Group `[\"ant\",\"bear\",\"bee\",\"cat\"]` by word length."
   ]
  },
  {
   "cell_type": "code",
   "execution_count": null,
   "id": "47302518",
   "metadata": {},
   "outputs": [],
   "source": [
    "# Your solution here"
   ]
  },
  {
   "cell_type": "markdown",
   "id": "7f8aee73",
   "metadata": {},
   "source": [
    "### Problem 63\n",
    "Group log entries (ISO timestamp strings) by **date** component."
   ]
  },
  {
   "cell_type": "code",
   "execution_count": null,
   "id": "d31d6392",
   "metadata": {},
   "outputs": [],
   "source": [
    "# Your solution here"
   ]
  },
  {
   "cell_type": "markdown",
   "id": "83b1d5a7",
   "metadata": {},
   "source": [
    "### Problem 64\n",
    "Group objects with attribute `category` using `groupby` after sorting."
   ]
  },
  {
   "cell_type": "code",
   "execution_count": null,
   "id": "b54d731d",
   "metadata": {},
   "outputs": [],
   "source": [
    "# Your solution here"
   ]
  },
  {
   "cell_type": "markdown",
   "id": "785900b9",
   "metadata": {},
   "source": [
    "### Problem 65\n",
    "Split paragraphs separated by blank lines using `groupby` on truthiness of stripped lines."
   ]
  },
  {
   "cell_type": "code",
   "execution_count": null,
   "id": "2c8da8e4",
   "metadata": {},
   "outputs": [],
   "source": [
    "# Your solution here"
   ]
  },
  {
   "cell_type": "markdown",
   "id": "acce7b9e",
   "metadata": {},
   "source": [
    "### Problem 66\n",
    "Implement run‑length encoding of a list."
   ]
  },
  {
   "cell_type": "code",
   "execution_count": null,
   "id": "d3ac1950",
   "metadata": {},
   "outputs": [],
   "source": [
    "# Your solution here"
   ]
  },
  {
   "cell_type": "markdown",
   "id": "11e5ec5a",
   "metadata": {},
   "source": [
    "### Problem 67\n",
    "Given daily rainfall `(date, mm)` pairs, group by month and sum totals."
   ]
  },
  {
   "cell_type": "code",
   "execution_count": null,
   "id": "fcfa3b92",
   "metadata": {},
   "outputs": [],
   "source": [
    "# Your solution here"
   ]
  },
  {
   "cell_type": "markdown",
   "id": "0244b426",
   "metadata": {},
   "source": [
    "### Problem 68\n",
    "Detect runs of identical numbers in `[1,1,2,2,2,3]`."
   ]
  },
  {
   "cell_type": "code",
   "execution_count": null,
   "id": "2958e1da",
   "metadata": {},
   "outputs": [],
   "source": [
    "# Your solution here"
   ]
  },
  {
   "cell_type": "markdown",
   "id": "84cbaa50",
   "metadata": {},
   "source": [
    "## itertools — accumulate"
   ]
  },
  {
   "cell_type": "markdown",
   "id": "224662c2",
   "metadata": {},
   "source": [
    "### Problem 69\n",
    "Generate the cumulative sum of `[1,2,3,4]`."
   ]
  },
  {
   "cell_type": "code",
   "execution_count": null,
   "id": "80edcf8d",
   "metadata": {},
   "outputs": [],
   "source": [
    "# Your solution here"
   ]
  },
  {
   "cell_type": "markdown",
   "id": "1fc8f584",
   "metadata": {},
   "source": [
    "### Problem 70\n",
    "Compute cumulative **product** of `[1,2,3,4]`."
   ]
  },
  {
   "cell_type": "code",
   "execution_count": null,
   "id": "058a260f",
   "metadata": {},
   "outputs": [],
   "source": [
    "# Your solution here"
   ]
  },
  {
   "cell_type": "markdown",
   "id": "d01d90d2",
   "metadata": {},
   "source": [
    "### Problem 71\n",
    "Produce the running **maximum** of `[3,1,4,1,5,9]`."
   ]
  },
  {
   "cell_type": "code",
   "execution_count": null,
   "id": "12fa1087",
   "metadata": {},
   "outputs": [],
   "source": [
    "# Your solution here"
   ]
  },
  {
   "cell_type": "markdown",
   "id": "cc4f49df",
   "metadata": {},
   "source": [
    "### Problem 72\n",
    "Calculate cumulative distance from a list of per‑leg distances."
   ]
  },
  {
   "cell_type": "code",
   "execution_count": null,
   "id": "b998cb41",
   "metadata": {},
   "outputs": [],
   "source": [
    "# Your solution here"
   ]
  },
  {
   "cell_type": "markdown",
   "id": "ba83062b",
   "metadata": {},
   "source": [
    "### Problem 73\n",
    "Create a simple moving **average** (window 3) using `accumulate` and `itertools.islice`."
   ]
  },
  {
   "cell_type": "code",
   "execution_count": null,
   "id": "56221106",
   "metadata": {},
   "outputs": [],
   "source": [
    "# Your solution here"
   ]
  },
  {
   "cell_type": "markdown",
   "id": "55be0e1e",
   "metadata": {},
   "source": [
    "### Problem 74\n",
    "Compute prefix XOR of `[7,3,5]`."
   ]
  },
  {
   "cell_type": "code",
   "execution_count": null,
   "id": "e5e59dce",
   "metadata": {},
   "outputs": [],
   "source": [
    "# Your solution here"
   ]
  },
  {
   "cell_type": "markdown",
   "id": "2266b364",
   "metadata": {},
   "source": [
    "### Problem 75\n",
    "Generate an infinite Fibonacci sequence with `accumulate`."
   ]
  },
  {
   "cell_type": "code",
   "execution_count": null,
   "id": "c2aab227",
   "metadata": {},
   "outputs": [],
   "source": [
    "# Your solution here"
   ]
  },
  {
   "cell_type": "markdown",
   "id": "eef33064",
   "metadata": {},
   "source": [
    "### Problem 76\n",
    "Create cumulative word counts across chapters represented by word totals."
   ]
  },
  {
   "cell_type": "code",
   "execution_count": null,
   "id": "c10ac036",
   "metadata": {},
   "outputs": [],
   "source": [
    "# Your solution here"
   ]
  },
  {
   "cell_type": "markdown",
   "id": "b47d392e",
   "metadata": {},
   "source": [
    "## itertools — starmap"
   ]
  },
  {
   "cell_type": "markdown",
   "id": "1851a206",
   "metadata": {},
   "source": [
    "### Problem 77\n",
    "Compute rectangle areas from `[(3,4),(5,2),(9,6)]`."
   ]
  },
  {
   "cell_type": "code",
   "execution_count": null,
   "id": "458002da",
   "metadata": {},
   "outputs": [],
   "source": [
    "# Your solution here"
   ]
  },
  {
   "cell_type": "markdown",
   "id": "da353684",
   "metadata": {},
   "source": [
    "### Problem 78\n",
    "Raise numbers to powers from `[(2,3),(3,2),(10,3)]`."
   ]
  },
  {
   "cell_type": "code",
   "execution_count": null,
   "id": "6bb95603",
   "metadata": {},
   "outputs": [],
   "source": [
    "# Your solution here"
   ]
  },
  {
   "cell_type": "markdown",
   "id": "5c2953b7",
   "metadata": {},
   "source": [
    "### Problem 79\n",
    "Compute Euclidean distance for point pairs `[(0,0),(3,4)]` compared to the origin."
   ]
  },
  {
   "cell_type": "code",
   "execution_count": null,
   "id": "f1e51ab0",
   "metadata": {},
   "outputs": [],
   "source": [
    "# Your solution here"
   ]
  },
  {
   "cell_type": "markdown",
   "id": "ccc009d6",
   "metadata": {},
   "source": [
    "### Problem 80\n",
    "Multiply corresponding elements of two lists using `starmap` and `operator.mul`."
   ]
  },
  {
   "cell_type": "code",
   "execution_count": null,
   "id": "4693afa4",
   "metadata": {},
   "outputs": [],
   "source": [
    "# Your solution here"
   ]
  },
  {
   "cell_type": "markdown",
   "id": "34bcec02",
   "metadata": {},
   "source": [
    "### Problem 81\n",
    "Format `\"{}:{}\"` strings from `(host, port)` tuples."
   ]
  },
  {
   "cell_type": "code",
   "execution_count": null,
   "id": "8b678fa3",
   "metadata": {},
   "outputs": [],
   "source": [
    "# Your solution here"
   ]
  },
  {
   "cell_type": "markdown",
   "id": "c2d0a6dc",
   "metadata": {},
   "source": [
    "### Problem 82\n",
    "Build `datetime` objects from `(year,month,day)` tuples."
   ]
  },
  {
   "cell_type": "code",
   "execution_count": null,
   "id": "82a57238",
   "metadata": {},
   "outputs": [],
   "source": [
    "# Your solution here"
   ]
  },
  {
   "cell_type": "markdown",
   "id": "6c3e0e19",
   "metadata": {},
   "source": [
    "## itertools — chain"
   ]
  },
  {
   "cell_type": "markdown",
   "id": "111cf9e2",
   "metadata": {},
   "source": [
    "### Problem 83\n",
    "Flatten `[[1,2],[3,4],[5]]` into a single list."
   ]
  },
  {
   "cell_type": "code",
   "execution_count": null,
   "id": "7bd2e96b",
   "metadata": {},
   "outputs": [],
   "source": [
    "# Your solution here"
   ]
  },
  {
   "cell_type": "markdown",
   "id": "a2df18f6",
   "metadata": {},
   "source": [
    "### Problem 84\n",
    "Iterate over `range(3)`, `\"ABC\"`, and `[True, False]` in sequence."
   ]
  },
  {
   "cell_type": "code",
   "execution_count": null,
   "id": "cf5d7925",
   "metadata": {},
   "outputs": [],
   "source": [
    "# Your solution here"
   ]
  },
  {
   "cell_type": "markdown",
   "id": "638e060d",
   "metadata": {},
   "source": [
    "### Problem 85\n",
    "Use `chain.from_iterable` to flatten a list of sets."
   ]
  },
  {
   "cell_type": "code",
   "execution_count": null,
   "id": "5391e469",
   "metadata": {},
   "outputs": [],
   "source": [
    "# Your solution here"
   ]
  },
  {
   "cell_type": "markdown",
   "id": "e12b97e3",
   "metadata": {},
   "source": [
    "### Problem 86\n",
    "Concatenate generator outputs from two APIs."
   ]
  },
  {
   "cell_type": "code",
   "execution_count": null,
   "id": "9d7324c2",
   "metadata": {},
   "outputs": [],
   "source": [
    "# Your solution here"
   ]
  },
  {
   "cell_type": "markdown",
   "id": "beff6fea",
   "metadata": {},
   "source": [
    "### Problem 87\n",
    "Collect log lines from multiple files by chaining file iterators."
   ]
  },
  {
   "cell_type": "code",
   "execution_count": null,
   "id": "ddb8c32e",
   "metadata": {},
   "outputs": [],
   "source": [
    "# Your solution here"
   ]
  },
  {
   "cell_type": "markdown",
   "id": "1a1fc027",
   "metadata": {},
   "source": [
    "### Problem 88\n",
    "Join byte chunks into a single `bytes` object."
   ]
  },
  {
   "cell_type": "code",
   "execution_count": null,
   "id": "e029b94f",
   "metadata": {},
   "outputs": [],
   "source": [
    "# Your solution here"
   ]
  },
  {
   "cell_type": "markdown",
   "id": "e5a85732",
   "metadata": {},
   "source": [
    "## functools — reduce"
   ]
  },
  {
   "cell_type": "markdown",
   "id": "68b3f101",
   "metadata": {},
   "source": [
    "### Problem 89\n",
    "Compute the **product** of `[1,2,3,4]` with `reduce`."
   ]
  },
  {
   "cell_type": "code",
   "execution_count": null,
   "id": "918c1dd7",
   "metadata": {},
   "outputs": [],
   "source": [
    "# Your solution here"
   ]
  },
  {
   "cell_type": "markdown",
   "id": "1a14cc4c",
   "metadata": {},
   "source": [
    "### Problem 90\n",
    "Find the maximum value in `[3,7,2,5]` using `reduce`."
   ]
  },
  {
   "cell_type": "code",
   "execution_count": null,
   "id": "13311ecf",
   "metadata": {},
   "outputs": [],
   "source": [
    "# Your solution here"
   ]
  },
  {
   "cell_type": "markdown",
   "id": "cd6f821e",
   "metadata": {},
   "source": [
    "### Problem 91\n",
    "Flatten `[[1,2],[3,4],[5]]` to `[1,2,3,4,5]`."
   ]
  },
  {
   "cell_type": "code",
   "execution_count": null,
   "id": "a235f8a6",
   "metadata": {},
   "outputs": [],
   "source": [
    "# Your solution here"
   ]
  },
  {
   "cell_type": "markdown",
   "id": "4746da07",
   "metadata": {},
   "source": [
    "### Problem 92\n",
    "Compute the greatest common divisor of `[48,64,80]`."
   ]
  },
  {
   "cell_type": "code",
   "execution_count": null,
   "id": "837a78e6",
   "metadata": {},
   "outputs": [],
   "source": [
    "# Your solution here"
   ]
  },
  {
   "cell_type": "markdown",
   "id": "80117a30",
   "metadata": {},
   "source": [
    "### Problem 93\n",
    "Evaluate the polynomial `3x² + 2x + 1` at `x=5` using `reduce`."
   ]
  },
  {
   "cell_type": "code",
   "execution_count": null,
   "id": "19610233",
   "metadata": {},
   "outputs": [],
   "source": [
    "# Your solution here"
   ]
  },
  {
   "cell_type": "markdown",
   "id": "999d379a",
   "metadata": {},
   "source": [
    "### Problem 94\n",
    "Sum all numeric values in a nested dict `{\"a\":1,\"b\":{\"c\":2,\"d\":3}}`."
   ]
  },
  {
   "cell_type": "code",
   "execution_count": null,
   "id": "c13743a5",
   "metadata": {},
   "outputs": [],
   "source": [
    "# Your solution here"
   ]
  },
  {
   "cell_type": "markdown",
   "id": "9d29c97b",
   "metadata": {},
   "source": [
    "## functools — partial"
   ]
  },
  {
   "cell_type": "markdown",
   "id": "8d495a78",
   "metadata": {},
   "source": [
    "### Problem 95\n",
    "Create `multiply_by_5` from `operator.mul` using `partial`."
   ]
  },
  {
   "cell_type": "code",
   "execution_count": null,
   "id": "05f42406",
   "metadata": {},
   "outputs": [],
   "source": [
    "# Your solution here"
   ]
  },
  {
   "cell_type": "markdown",
   "id": "9cbe4bf0",
   "metadata": {},
   "source": [
    "### Problem 96\n",
    "Build a case‑insensitive `sorted` key with `partial(str.lower)`."
   ]
  },
  {
   "cell_type": "code",
   "execution_count": null,
   "id": "a3f0ad43",
   "metadata": {},
   "outputs": [],
   "source": [
    "# Your solution here"
   ]
  },
  {
   "cell_type": "markdown",
   "id": "aea59808",
   "metadata": {},
   "source": [
    "### Problem 97\n",
    "Make a `urlopen_with_timeout` function that sets `timeout=10` by default."
   ]
  },
  {
   "cell_type": "code",
   "execution_count": null,
   "id": "fe9afe36",
   "metadata": {},
   "outputs": [],
   "source": [
    "# Your solution here"
   ]
  },
  {
   "cell_type": "markdown",
   "id": "33b4b996",
   "metadata": {},
   "source": [
    "### Problem 98\n",
    "Use `partial` to pre‑bind a `logger` with a fixed log level."
   ]
  },
  {
   "cell_type": "code",
   "execution_count": null,
   "id": "59418e5c",
   "metadata": {},
   "outputs": [],
   "source": [
    "# Your solution here"
   ]
  },
  {
   "cell_type": "markdown",
   "id": "61574adc",
   "metadata": {},
   "source": [
    "### Problem 99\n",
    "Create an `exp` function as `partial(pow, math.e)`."
   ]
  },
  {
   "cell_type": "code",
   "execution_count": null,
   "id": "72cf60d0",
   "metadata": {},
   "outputs": [],
   "source": [
    "# Your solution here"
   ]
  },
  {
   "cell_type": "markdown",
   "id": "fce186ae",
   "metadata": {},
   "source": [
    "### Problem 100\n",
    "Adapt `int` to base‑2 default conversion with `partial(int, base=2)`."
   ]
  },
  {
   "cell_type": "code",
   "execution_count": null,
   "id": "c39b70cf",
   "metadata": {},
   "outputs": [],
   "source": [
    "# Your solution here"
   ]
  },
  {
   "cell_type": "markdown",
   "id": "a781aa46",
   "metadata": {},
   "source": [
    "## datetime — arithmetic"
   ]
  },
  {
   "cell_type": "markdown",
   "id": "343df189",
   "metadata": {},
   "source": [
    "### Problem 101\n",
    "Calculate the number of **days** between `2025-01-01` and `2025-12-31`."
   ]
  },
  {
   "cell_type": "code",
   "execution_count": null,
   "id": "7984a012",
   "metadata": {},
   "outputs": [],
   "source": [
    "# Your solution here"
   ]
  },
  {
   "cell_type": "markdown",
   "id": "02a8451a",
   "metadata": {},
   "source": [
    "### Problem 102\n",
    "Add 90 minutes to `2025-06-14 12:00:00`."
   ]
  },
  {
   "cell_type": "code",
   "execution_count": null,
   "id": "0000008e",
   "metadata": {},
   "outputs": [],
   "source": [
    "# Your solution here"
   ]
  },
  {
   "cell_type": "markdown",
   "id": "7efa51dd",
   "metadata": {},
   "source": [
    "### Problem 103\n",
    "Convert Unix epoch `172800` to a UTC datetime."
   ]
  },
  {
   "cell_type": "code",
   "execution_count": null,
   "id": "cdcb300f",
   "metadata": {},
   "outputs": [],
   "source": [
    "# Your solution here"
   ]
  },
  {
   "cell_type": "markdown",
   "id": "0995218c",
   "metadata": {},
   "source": [
    "### Problem 104\n",
    "Given a birthdate `1990-03-15`, compute exact age in years as of today."
   ]
  },
  {
   "cell_type": "code",
   "execution_count": null,
   "id": "21caa379",
   "metadata": {},
   "outputs": [],
   "source": [
    "# Your solution here"
   ]
  },
  {
   "cell_type": "markdown",
   "id": "007440be",
   "metadata": {},
   "source": [
    "### Problem 105\n",
    "Find the first Monday **after** `2025-02-13`."
   ]
  },
  {
   "cell_type": "code",
   "execution_count": null,
   "id": "90fbdab2",
   "metadata": {},
   "outputs": [],
   "source": [
    "# Your solution here"
   ]
  },
  {
   "cell_type": "markdown",
   "id": "6178110c",
   "metadata": {},
   "source": [
    "### Problem 106\n",
    "Compute the hour difference between `US/Eastern` and `Europe/Paris` on `2025-06-14 09:00` local times."
   ]
  },
  {
   "cell_type": "code",
   "execution_count": null,
   "id": "5df6b608",
   "metadata": {},
   "outputs": [],
   "source": [
    "# Your solution here"
   ]
  },
  {
   "cell_type": "markdown",
   "id": "c3d83c39",
   "metadata": {},
   "source": [
    "### Problem 107\n",
    "Add 7 business days to `2025-06-14`, skipping weekends."
   ]
  },
  {
   "cell_type": "code",
   "execution_count": null,
   "id": "d2291c42",
   "metadata": {},
   "outputs": [],
   "source": [
    "# Your solution here"
   ]
  },
  {
   "cell_type": "markdown",
   "id": "f49084b2",
   "metadata": {},
   "source": [
    "### Problem 108\n",
    "Generate a list of month‑start dates for 2025."
   ]
  },
  {
   "cell_type": "code",
   "execution_count": null,
   "id": "0a96811f",
   "metadata": {},
   "outputs": [],
   "source": [
    "# Your solution here"
   ]
  },
  {
   "cell_type": "markdown",
   "id": "22b6fd2c",
   "metadata": {},
   "source": [
    "### Problem 109\n",
    "Calculate seconds elapsed since the start of 2025 for `2025-03-10 05:04:03`."
   ]
  },
  {
   "cell_type": "code",
   "execution_count": null,
   "id": "dbbaa2a4",
   "metadata": {},
   "outputs": [],
   "source": [
    "# Your solution here"
   ]
  },
  {
   "cell_type": "markdown",
   "id": "c3044b5a",
   "metadata": {},
   "source": [
    "### Problem 110\n",
    "Parse ISO `\"2025-06-11T20:41:13.806890\"` and add 30 seconds."
   ]
  },
  {
   "cell_type": "code",
   "execution_count": null,
   "id": "dfbfe339",
   "metadata": {},
   "outputs": [],
   "source": [
    "# Your solution here"
   ]
  },
  {
   "cell_type": "markdown",
   "id": "8bbcfc5e",
   "metadata": {},
   "source": [
    "### Problem 111\n",
    "Find the average of a list of 10 timestamp objects."
   ]
  },
  {
   "cell_type": "code",
   "execution_count": null,
   "id": "793e4bd7",
   "metadata": {},
   "outputs": [],
   "source": [
    "# Your solution here"
   ]
  },
  {
   "cell_type": "markdown",
   "id": "9a50ffb1",
   "metadata": {},
   "source": [
    "### Problem 112\n",
    "Determine whether two time intervals overlap."
   ]
  },
  {
   "cell_type": "code",
   "execution_count": null,
   "id": "d926d294",
   "metadata": {},
   "outputs": [],
   "source": [
    "# Your solution here"
   ]
  },
  {
   "cell_type": "markdown",
   "id": "7a33acad",
   "metadata": {},
   "source": [
    "## datetime — floor/ceil to windows"
   ]
  },
  {
   "cell_type": "markdown",
   "id": "3fad14cf",
   "metadata": {},
   "source": [
    "### Problem 113\n",
    "Round `2025-06-14 10:07:23` **down** to the nearest 15‑minute mark."
   ]
  },
  {
   "cell_type": "code",
   "execution_count": null,
   "id": "673715db",
   "metadata": {},
   "outputs": [],
   "source": [
    "# Your solution here"
   ]
  },
  {
   "cell_type": "markdown",
   "id": "fdfe7cad",
   "metadata": {},
   "source": [
    "### Problem 114\n",
    "Round `2025-06-14 10:07:23` **up** to the next hour."
   ]
  },
  {
   "cell_type": "code",
   "execution_count": null,
   "id": "d9affc6d",
   "metadata": {},
   "outputs": [],
   "source": [
    "# Your solution here"
   ]
  },
  {
   "cell_type": "markdown",
   "id": "71767f64",
   "metadata": {},
   "source": [
    "### Problem 115\n",
    "Floor `2025-06-14 10:07:23` to midnight (start of day)."
   ]
  },
  {
   "cell_type": "code",
   "execution_count": null,
   "id": "6f46cbe4",
   "metadata": {},
   "outputs": [],
   "source": [
    "# Your solution here"
   ]
  },
  {
   "cell_type": "markdown",
   "id": "32bf526a",
   "metadata": {},
   "source": [
    "### Problem 116\n",
    "Ceil `2025-06-14 10:07:23` to the next Monday (start‑of‑week)."
   ]
  },
  {
   "cell_type": "code",
   "execution_count": null,
   "id": "c1cb8976",
   "metadata": {},
   "outputs": [],
   "source": [
    "# Your solution here"
   ]
  },
  {
   "cell_type": "markdown",
   "id": "640de5d9",
   "metadata": {},
   "source": [
    "### Problem 117\n",
    "Floor a timestamp to the first day of its month."
   ]
  },
  {
   "cell_type": "code",
   "execution_count": null,
   "id": "8afea2e0",
   "metadata": {},
   "outputs": [],
   "source": [
    "# Your solution here"
   ]
  },
  {
   "cell_type": "markdown",
   "id": "536ec005",
   "metadata": {},
   "source": [
    "### Problem 118\n",
    "Round a time to the nearest 5‑second window."
   ]
  },
  {
   "cell_type": "code",
   "execution_count": null,
   "id": "52cb5c84",
   "metadata": {},
   "outputs": [],
   "source": [
    "# Your solution here"
   ]
  },
  {
   "cell_type": "markdown",
   "id": "79587ec2",
   "metadata": {},
   "source": [
    "### Problem 119\n",
    "Floor to the previous quarter‑hour."
   ]
  },
  {
   "cell_type": "code",
   "execution_count": null,
   "id": "3163ecae",
   "metadata": {},
   "outputs": [],
   "source": [
    "# Your solution here"
   ]
  },
  {
   "cell_type": "markdown",
   "id": "fa4ba864",
   "metadata": {},
   "source": [
    "### Problem 120\n",
    "Ceil to the next business day at 09:00."
   ]
  },
  {
   "cell_type": "code",
   "execution_count": null,
   "id": "cea5dc28",
   "metadata": {},
   "outputs": [],
   "source": [
    "# Your solution here"
   ]
  },
  {
   "cell_type": "markdown",
   "id": "2ce400a2",
   "metadata": {},
   "source": [
    "### Problem 121\n",
    "Floor a date to the start of its calendar quarter."
   ]
  },
  {
   "cell_type": "code",
   "execution_count": null,
   "id": "8767afbe",
   "metadata": {},
   "outputs": [],
   "source": [
    "# Your solution here"
   ]
  },
  {
   "cell_type": "markdown",
   "id": "162224bb",
   "metadata": {},
   "source": [
    "### Problem 122\n",
    "Ceil to the next 10‑day period (1st, 11th, 21st of month)."
   ]
  },
  {
   "cell_type": "code",
   "execution_count": null,
   "id": "6abca3d8",
   "metadata": {},
   "outputs": [],
   "source": [
    "# Your solution here"
   ]
  },
  {
   "cell_type": "markdown",
   "id": "22f8cf33",
   "metadata": {},
   "source": [
    "## operator — attrgetter"
   ]
  },
  {
   "cell_type": "markdown",
   "id": "27b281d7",
   "metadata": {},
   "source": [
    "### Problem 123\n",
    "Sort a list of `Person` objects by the `age` attribute."
   ]
  },
  {
   "cell_type": "code",
   "execution_count": null,
   "id": "9bcbcba3",
   "metadata": {},
   "outputs": [],
   "source": [
    "# Your solution here"
   ]
  },
  {
   "cell_type": "markdown",
   "id": "175920da",
   "metadata": {},
   "source": [
    "### Problem 124\n",
    "Sort `[(1,\"b\"),(2,\"a\"),(3,\"c\")]` by the alphabetic element descending."
   ]
  },
  {
   "cell_type": "code",
   "execution_count": null,
   "id": "8d8d84d4",
   "metadata": {},
   "outputs": [],
   "source": [
    "# Your solution here"
   ]
  },
  {
   "cell_type": "markdown",
   "id": "bbf292df",
   "metadata": {},
   "source": [
    "### Problem 125\n",
    "Extract `\"address.city\"` from a list of nested objects with `attrgetter`."
   ]
  },
  {
   "cell_type": "code",
   "execution_count": null,
   "id": "4ce4c436",
   "metadata": {},
   "outputs": [],
   "source": [
    "# Your solution here"
   ]
  },
  {
   "cell_type": "markdown",
   "id": "221330fa",
   "metadata": {},
   "source": [
    "### Problem 126\n",
    "Use `max()` with `attrgetter(\"score\")` to find the top student."
   ]
  },
  {
   "cell_type": "code",
   "execution_count": null,
   "id": "8d0f12e9",
   "metadata": {},
   "outputs": [],
   "source": [
    "# Your solution here"
   ]
  },
  {
   "cell_type": "markdown",
   "id": "a165ebd0",
   "metadata": {},
   "source": [
    "### Problem 127\n",
    "Sort employees by `(department, salary)` using a multi‑field `attrgetter`."
   ]
  },
  {
   "cell_type": "code",
   "execution_count": null,
   "id": "d5cfc29a",
   "metadata": {},
   "outputs": [],
   "source": [
    "# Your solution here"
   ]
  },
  {
   "cell_type": "markdown",
   "id": "deb252e9",
   "metadata": {},
   "source": [
    "### Problem 128\n",
    "Group objects by an attribute value retrieved via `attrgetter` (hint: `itertools.groupby`)."
   ]
  },
  {
   "cell_type": "code",
   "execution_count": null,
   "id": "fb0e3469",
   "metadata": {},
   "outputs": [],
   "source": [
    "# Your solution here"
   ]
  },
  {
   "cell_type": "markdown",
   "id": "72c737f6",
   "metadata": {},
   "source": [
    "## operator — itemgetter"
   ]
  },
  {
   "cell_type": "markdown",
   "id": "19cd153c",
   "metadata": {},
   "source": [
    "### Problem 129\n",
    "Sort a list of dicts `[{\"score\": 90},{\"score\": 75}]` by `\"score\"` descending."
   ]
  },
  {
   "cell_type": "code",
   "execution_count": null,
   "id": "a62e0516",
   "metadata": {},
   "outputs": [],
   "source": [
    "# Your solution here"
   ]
  },
  {
   "cell_type": "markdown",
   "id": "007f8ec8",
   "metadata": {},
   "source": [
    "### Problem 130\n",
    "Unpack the two highest values from `(10, 2, 30, 4)` using `itemgetter`."
   ]
  },
  {
   "cell_type": "code",
   "execution_count": null,
   "id": "436fdf0e",
   "metadata": {},
   "outputs": [],
   "source": [
    "# Your solution here"
   ]
  },
  {
   "cell_type": "markdown",
   "id": "4663e8d5",
   "metadata": {},
   "source": [
    "### Problem 131\n",
    "Map `itemgetter(1)` over `[(0,\"a\"),(1,\"b\"),(2,\"c\")]` to extract the second column."
   ]
  },
  {
   "cell_type": "code",
   "execution_count": null,
   "id": "52a8a0ce",
   "metadata": {},
   "outputs": [],
   "source": [
    "# Your solution here"
   ]
  },
  {
   "cell_type": "markdown",
   "id": "3f7974d0",
   "metadata": {},
   "source": [
    "### Problem 132\n",
    "Find the tuple with the minimum second element using `min(..., key=itemgetter(1))`."
   ]
  },
  {
   "cell_type": "code",
   "execution_count": null,
   "id": "8360117a",
   "metadata": {},
   "outputs": [],
   "source": [
    "# Your solution here"
   ]
  },
  {
   "cell_type": "markdown",
   "id": "ad5f745d",
   "metadata": {},
   "source": [
    "### Problem 133\n",
    "Use `itemgetter(1)` inside `nlargest` to get the top 3 tuples by second value."
   ]
  },
  {
   "cell_type": "code",
   "execution_count": null,
   "id": "c628a2c7",
   "metadata": {},
   "outputs": [],
   "source": [
    "# Your solution here"
   ]
  },
  {
   "cell_type": "markdown",
   "id": "52bcfb52",
   "metadata": {},
   "source": [
    "### Problem 134\n",
    "Sort a list of tuples by indices 2 then 0 using a compound `itemgetter`."
   ]
  },
  {
   "cell_type": "code",
   "execution_count": null,
   "id": "06ae9f72",
   "metadata": {},
   "outputs": [],
   "source": [
    "# Your solution here"
   ]
  },
  {
   "cell_type": "markdown",
   "id": "a510e6ea",
   "metadata": {},
   "source": [
    "## built‑in — map"
   ]
  },
  {
   "cell_type": "markdown",
   "id": "8410f8c1",
   "metadata": {},
   "source": [
    "### Problem 135\n",
    "Convert `[\"1\",\"2\",\"3\"]` to `[1,2,3]` with `map(int, …)`."
   ]
  },
  {
   "cell_type": "code",
   "execution_count": null,
   "id": "53e3e764",
   "metadata": {},
   "outputs": [],
   "source": [
    "# Your solution here"
   ]
  },
  {
   "cell_type": "markdown",
   "id": "d1951f20",
   "metadata": {},
   "source": [
    "### Problem 136\n",
    "Strip whitespace from `[\"  a\",\"b  \",\" c \"]` using `map(str.strip, …)`."
   ]
  },
  {
   "cell_type": "code",
   "execution_count": null,
   "id": "bf200c60",
   "metadata": {},
   "outputs": [],
   "source": [
    "# Your solution here"
   ]
  },
  {
   "cell_type": "markdown",
   "id": "1c1bc856",
   "metadata": {},
   "source": [
    "### Problem 137\n",
    "Upper‑case `[\"cat\",\"dog\"]` with `map(str.upper, …)`."
   ]
  },
  {
   "cell_type": "code",
   "execution_count": null,
   "id": "0d747b8f",
   "metadata": {},
   "outputs": [],
   "source": [
    "# Your solution here"
   ]
  },
  {
   "cell_type": "markdown",
   "id": "0da2a654",
   "metadata": {},
   "source": [
    "### Problem 138\n",
    "Square numbers 0‑9 with `map(lambda x: x*x, …)`."
   ]
  },
  {
   "cell_type": "code",
   "execution_count": null,
   "id": "824c313a",
   "metadata": {},
   "outputs": [],
   "source": [
    "# Your solution here"
   ]
  },
  {
   "cell_type": "markdown",
   "id": "6137341b",
   "metadata": {},
   "source": [
    "### Problem 139\n",
    "Encode `[\"α\",\"β\"]` to UTF‑8 bytes with `map(str.encode, …)`."
   ]
  },
  {
   "cell_type": "code",
   "execution_count": null,
   "id": "d30d5fab",
   "metadata": {},
   "outputs": [],
   "source": [
    "# Your solution here"
   ]
  },
  {
   "cell_type": "markdown",
   "id": "3e71e9ef",
   "metadata": {},
   "source": [
    "## built‑in — sum"
   ]
  },
  {
   "cell_type": "markdown",
   "id": "6056ef51",
   "metadata": {},
   "source": [
    "### Problem 140\n",
    "Sum the fractions `[1/2, 1/3, 1/6]` (use `fractions.Fraction`)."
   ]
  },
  {
   "cell_type": "code",
   "execution_count": null,
   "id": "80e0d475",
   "metadata": {},
   "outputs": [],
   "source": [
    "# Your solution here"
   ]
  },
  {
   "cell_type": "markdown",
   "id": "59b2000d",
   "metadata": {},
   "source": [
    "### Problem 141\n",
    "Add a list of `datetime.timedelta` objects."
   ]
  },
  {
   "cell_type": "code",
   "execution_count": null,
   "id": "3851bbaf",
   "metadata": {},
   "outputs": [],
   "source": [
    "# Your solution here"
   ]
  },
  {
   "cell_type": "markdown",
   "id": "4712d0e0",
   "metadata": {},
   "source": [
    "### Problem 142\n",
    "Compute the total number of characters in `[\"foo\",\"bar\",\"baz\"]`."
   ]
  },
  {
   "cell_type": "code",
   "execution_count": null,
   "id": "2e612d9e",
   "metadata": {},
   "outputs": [],
   "source": [
    "# Your solution here"
   ]
  },
  {
   "cell_type": "markdown",
   "id": "8dcecea3",
   "metadata": {},
   "source": [
    "### Problem 143\n",
    "Sum a generator expression of squares up to 100 with a start value of 0."
   ]
  },
  {
   "cell_type": "code",
   "execution_count": null,
   "id": "9289b8a1",
   "metadata": {},
   "outputs": [],
   "source": [
    "# Your solution here"
   ]
  },
  {
   "cell_type": "markdown",
   "id": "37dbc84f",
   "metadata": {},
   "source": [
    "### Problem 144\n",
    "Aggregate file sizes from a dict of `{filename: bytes}` using `sum(dict.values())`."
   ]
  },
  {
   "cell_type": "code",
   "execution_count": null,
   "id": "8bbb5a6f",
   "metadata": {},
   "outputs": [],
   "source": [
    "# Your solution here"
   ]
  },
  {
   "cell_type": "markdown",
   "id": "f7829355",
   "metadata": {},
   "source": [
    "## built‑in — dict"
   ]
  },
  {
   "cell_type": "markdown",
   "id": "02d677bc",
   "metadata": {},
   "source": [
    "### Problem 145\n",
    "Invert `{\"a\":1,\"b\":2}` to `{1:\"a\",2:\"b\"}`."
   ]
  },
  {
   "cell_type": "code",
   "execution_count": null,
   "id": "dedfa9bd",
   "metadata": {},
   "outputs": [],
   "source": [
    "# Your solution here"
   ]
  },
  {
   "cell_type": "markdown",
   "id": "6f5c6084",
   "metadata": {},
   "source": [
    "### Problem 146\n",
    "Merge `[(\"a\",1),(\"b\",2)]` into a dict."
   ]
  },
  {
   "cell_type": "code",
   "execution_count": null,
   "id": "1c134ddf",
   "metadata": {},
   "outputs": [],
   "source": [
    "# Your solution here"
   ]
  },
  {
   "cell_type": "markdown",
   "id": "21f17caa",
   "metadata": {},
   "source": [
    "### Problem 147\n",
    "Create a dict comprehension that keeps only keys whose values are even from `{\"a\":1,\"b\":2,\"c\":3}`."
   ]
  },
  {
   "cell_type": "code",
   "execution_count": null,
   "id": "12b59933",
   "metadata": {},
   "outputs": [],
   "source": [
    "# Your solution here"
   ]
  },
  {
   "cell_type": "markdown",
   "id": "9e15443b",
   "metadata": {},
   "source": [
    "### Problem 148\n",
    "Build a dict from two lists `[\"x\",\"y\"]` and `[10,20]` using `zip`."
   ]
  },
  {
   "cell_type": "code",
   "execution_count": null,
   "id": "5810c688",
   "metadata": {},
   "outputs": [],
   "source": [
    "# Your solution here"
   ]
  },
  {
   "cell_type": "markdown",
   "id": "7c474e84",
   "metadata": {},
   "source": [
    "## strings — parsing multi‑line logs"
   ]
  },
  {
   "cell_type": "markdown",
   "id": "ec82ff69",
   "metadata": {},
   "source": [
    "### Problem 149\n",
    "Extract ISO timestamps from a multi‑line log string."
   ]
  },
  {
   "cell_type": "code",
   "execution_count": null,
   "id": "b2eb8fc1",
   "metadata": {},
   "outputs": [],
   "source": [
    "# Your solution here"
   ]
  },
  {
   "cell_type": "markdown",
   "id": "56bbaf81",
   "metadata": {},
   "source": [
    "### Problem 150\n",
    "Parse Apache log lines into a list of dicts with keys `ip`, `datetime`, `method`, `url`, `status`."
   ]
  },
  {
   "cell_type": "code",
   "execution_count": null,
   "id": "303c0900",
   "metadata": {},
   "outputs": [],
   "source": [
    "# Your solution here"
   ]
  },
  {
   "cell_type": "markdown",
   "id": "7dca4700",
   "metadata": {},
   "source": [
    "### Problem 151\n",
    "Count occurrences of each log level (`INFO`, `WARN`, `ERROR`) in the text."
   ]
  },
  {
   "cell_type": "code",
   "execution_count": null,
   "id": "19482d21",
   "metadata": {},
   "outputs": [],
   "source": [
    "# Your solution here"
   ]
  },
  {
   "cell_type": "markdown",
   "id": "63212b25",
   "metadata": {},
   "source": [
    "### Problem 152\n",
    "Extract the JSON blob from a multi‑line string that mixes text and JSON."
   ]
  },
  {
   "cell_type": "code",
   "execution_count": null,
   "id": "1e904f11",
   "metadata": {},
   "outputs": [],
   "source": [
    "# Your solution here"
   ]
  },
  {
   "cell_type": "markdown",
   "id": "61afadc9",
   "metadata": {},
   "source": [
    "### Problem 153\n",
    "Remove ANSI escape sequences (color codes) from terminal output."
   ]
  },
  {
   "cell_type": "code",
   "execution_count": null,
   "id": "8c90b220",
   "metadata": {},
   "outputs": [],
   "source": [
    "# Your solution here"
   ]
  },
  {
   "cell_type": "markdown",
   "id": "5b8c7c90",
   "metadata": {},
   "source": [
    "### Problem 154\n",
    "Split a Python stack trace into individual **frame** dictionaries."
   ]
  },
  {
   "cell_type": "code",
   "execution_count": null,
   "id": "8faf78ae",
   "metadata": {},
   "outputs": [],
   "source": [
    "# Your solution here"
   ]
  },
  {
   "cell_type": "markdown",
   "id": "73b8a703",
   "metadata": {},
   "source": [
    "### Problem 155\n",
    "Replace all IP addresses with `<IP>` placeholders."
   ]
  },
  {
   "cell_type": "code",
   "execution_count": null,
   "id": "7b1af54c",
   "metadata": {},
   "outputs": [],
   "source": [
    "# Your solution here"
   ]
  },
  {
   "cell_type": "markdown",
   "id": "9dc45115",
   "metadata": {},
   "source": [
    "### Problem 156\n",
    "Extract unique user IDs matching the pattern `uid=XYZ123`."
   ]
  },
  {
   "cell_type": "code",
   "execution_count": null,
   "id": "5affb709",
   "metadata": {},
   "outputs": [],
   "source": [
    "# Your solution here"
   ]
  },
  {
   "cell_type": "markdown",
   "id": "e86ebb6a",
   "metadata": {},
   "source": [
    "### Problem 157\n",
    "Parse CSV‑like lines that may contain embedded commas in quotes."
   ]
  },
  {
   "cell_type": "code",
   "execution_count": null,
   "id": "1dd4a443",
   "metadata": {},
   "outputs": [],
   "source": [
    "# Your solution here"
   ]
  },
  {
   "cell_type": "markdown",
   "id": "21a8613b",
   "metadata": {},
   "source": [
    "### Problem 158\n",
    "Extract text sections between `\"=== START\"` and `\"=== END\"` markers."
   ]
  },
  {
   "cell_type": "code",
   "execution_count": null,
   "id": "6be5fa0f",
   "metadata": {},
   "outputs": [],
   "source": [
    "# Your solution here"
   ]
  },
  {
   "cell_type": "markdown",
   "id": "3c614d53",
   "metadata": {},
   "source": [
    "### Problem 159\n",
    "Detect lines with unbalanced brackets and return their numbers."
   ]
  },
  {
   "cell_type": "code",
   "execution_count": null,
   "id": "842739a4",
   "metadata": {},
   "outputs": [],
   "source": [
    "# Your solution here"
   ]
  },
  {
   "cell_type": "markdown",
   "id": "1693000e",
   "metadata": {},
   "source": [
    "### Problem 160\n",
    "Parse `key=value` pairs from configuration text into a dict."
   ]
  },
  {
   "cell_type": "code",
   "execution_count": null,
   "id": "0c5ac35f",
   "metadata": {},
   "outputs": [],
   "source": [
    "# Your solution here"
   ]
  },
  {
   "cell_type": "markdown",
   "id": "d6f86eed",
   "metadata": {},
   "source": [
    "### Problem 161\n",
    "Normalize whitespace: collapse multiple spaces to one and strip each line."
   ]
  },
  {
   "cell_type": "code",
   "execution_count": null,
   "id": "bb1baecc",
   "metadata": {},
   "outputs": [],
   "source": [
    "# Your solution here"
   ]
  },
  {
   "cell_type": "markdown",
   "id": "c2857365",
   "metadata": {},
   "source": [
    "### Problem 162\n",
    "Find the longest line and its length."
   ]
  },
  {
   "cell_type": "code",
   "execution_count": null,
   "id": "9026ede3",
   "metadata": {},
   "outputs": [],
   "source": [
    "# Your solution here"
   ]
  },
  {
   "cell_type": "markdown",
   "id": "131c8bb6",
   "metadata": {},
   "source": [
    "### Problem 163\n",
    "Compute average response time from log lines like `\"t=123ms\"`."
   ]
  },
  {
   "cell_type": "code",
   "execution_count": null,
   "id": "b4a7dec1",
   "metadata": {},
   "outputs": [],
   "source": [
    "# Your solution here"
   ]
  },
  {
   "cell_type": "markdown",
   "id": "a033eaf4",
   "metadata": {},
   "source": [
    "### Problem 164\n",
    "Build a dict mapping date (YYYY‑MM‑DD) to count of `ERROR` lines."
   ]
  },
  {
   "cell_type": "code",
   "execution_count": null,
   "id": "d5f6eb4b",
   "metadata": {},
   "outputs": [],
   "source": [
    "# Your solution here"
   ]
  }
 ],
 "metadata": {
  "language_info": {
   "name": "python"
  }
 },
 "nbformat": 4,
 "nbformat_minor": 5
}
