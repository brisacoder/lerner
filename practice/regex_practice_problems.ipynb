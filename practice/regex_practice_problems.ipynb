{
 "cells": [
  {
   "cell_type": "markdown",
   "id": "b8a85c33",
   "metadata": {},
   "source": [
    "# 🧪 100 Python Regex Practice Problems\n",
    "Each problem includes input data and a regex task to solve."
   ]
  },
  {
   "cell_type": "markdown",
   "id": "27462299",
   "metadata": {},
   "source": [
    "## 1. Extract all email addresses from a paragraph\n",
    "**Task:** Extract all email addresses from the paragraph using regex.\n",
    "\n",
    "💡 *Hint:* `Use pattern: [\\w\\.-]+@[\\w\\.-]+\\.\\w+`"
   ]
  },
  {
   "cell_type": "code",
   "execution_count": null,
   "id": "bb5bb15a",
   "metadata": {},
   "outputs": [],
   "source": [
    "paragraph = \"\"\"\n",
    "Please contact us at support@example.com or sales@mycompany.org.\n",
    "You can also reach out to john.doe123@work.net for technical questions.\n",
    "\"\"\"\n",
    "\n",
    "# Your code here\n",
    "import re\n"
   ]
  },
  {
   "cell_type": "markdown",
   "id": "724275df",
   "metadata": {},
   "source": [
    "## 2. Find all IP addresses in Apache log\n",
    "**Task:** Extract all IPv4 addresses from the log.\n",
    "\n",
    "💡 *Hint:* `Use pattern: \\d{1,3}(?:\\.\\d{1,3}){3}`"
   ]
  },
  {
   "cell_type": "code",
   "execution_count": null,
   "id": "d2625df0",
   "metadata": {},
   "outputs": [],
   "source": [
    "log_data = \"\"\"\n",
    "192.168.1.1 - - [01/Jan/2024:10:00:00] \"GET /index.html HTTP/1.1\" 200\n",
    "10.0.0.1 - - [01/Jan/2024:10:01:00] \"POST /submit HTTP/1.1\" 404\n",
    "172.16.0.2 - - [01/Jan/2024:10:02:00] \"GET /contact HTTP/1.1\" 200\n",
    "\"\"\"\n",
    "\n",
    "# Your code here\n",
    "import re\n"
   ]
  },
  {
   "cell_type": "markdown",
   "id": "af90e9a3",
   "metadata": {},
   "source": [
    "## 3. Extract all dates in YYYY-MM-DD format\n",
    "**Task:** Extract all dates in the format YYYY-MM-DD.\n",
    "\n",
    "💡 *Hint:* `Use pattern: \\d{4}-\\d{2}-\\d{2}`"
   ]
  },
  {
   "cell_type": "code",
   "execution_count": null,
   "id": "8e461151",
   "metadata": {},
   "outputs": [],
   "source": [
    "text = \"Dates: 2024-01-01, 1999-12-31, and 2025-06-15 are valid.\"\n",
    "\n",
    "# Your code here\n",
    "import re\n"
   ]
  },
  {
   "cell_type": "markdown",
   "id": "e579f713",
   "metadata": {},
   "source": [
    "## 4. Parse status codes from Apache logs\n",
    "**Task:** Extract the HTTP status codes (e.g., 200, 404).\n",
    "\n",
    "💡 *Hint:* `Use pattern: \\\" \\d{3}$`"
   ]
  },
  {
   "cell_type": "code",
   "execution_count": null,
   "id": "8dc6c752",
   "metadata": {},
   "outputs": [],
   "source": [
    "logs = \"\"\"\n",
    "127.0.0.1 - - [01/Jan/2024:10:00:00] \"GET / HTTP/1.1\" 200\n",
    "127.0.0.1 - - [01/Jan/2024:10:01:00] \"GET /missing HTTP/1.1\" 404\n",
    "\"\"\"\n",
    "\n",
    "# Your code here\n",
    "import re\n"
   ]
  },
  {
   "cell_type": "markdown",
   "id": "96eb4f3e",
   "metadata": {},
   "source": [
    "## 5. Find all hashtags in a tweet\n",
    "**Task:** Extract all hashtags from the tweet.\n",
    "\n",
    "💡 *Hint:* `Use pattern: #\\w+`"
   ]
  },
  {
   "cell_type": "code",
   "execution_count": null,
   "id": "8b95d886",
   "metadata": {},
   "outputs": [],
   "source": [
    "tweet = \"Loving #Python3 and #MachineLearning in 2025! #100DaysOfCode\"\n",
    "\n",
    "# Your code here\n",
    "import re\n"
   ]
  },
  {
   "cell_type": "markdown",
   "id": "24f91b8d",
   "metadata": {},
   "source": [
    "## 6. Extract quoted strings\n",
    "**Task:** Extract all quoted strings (inside double quotes).\n",
    "\n",
    "💡 *Hint:* `Use pattern: \\\"(.*?)\\\"`"
   ]
  },
  {
   "cell_type": "code",
   "execution_count": null,
   "id": "30d68128",
   "metadata": {},
   "outputs": [],
   "source": [
    "quote_text = 'He said, \"hello\" and then she replied, \"hi there\".' \n",
    "\n",
    "# Your code here\n",
    "import re\n"
   ]
  },
  {
   "cell_type": "markdown",
   "id": "8ff0e7d1",
   "metadata": {},
   "source": [
    "## 7. Validate simple US phone numbers\n",
    "**Task:** Extract all US phone numbers in 123-456-7890 format.\n",
    "\n",
    "💡 *Hint:* `Use pattern: \\d{3}-\\d{3}-\\d{4}`"
   ]
  },
  {
   "cell_type": "code",
   "execution_count": null,
   "id": "58b84c77",
   "metadata": {},
   "outputs": [],
   "source": [
    "text = \"Call me at 123-456-7890 or 987-654-3210.\"\n",
    "\n",
    "# Your code here\n",
    "import re\n"
   ]
  },
  {
   "cell_type": "markdown",
   "id": "f276ae21",
   "metadata": {},
   "source": [
    "## 8. Extract filenames with .log extension\n",
    "**Task:** Extract all filenames ending in .log\n",
    "\n",
    "💡 *Hint:* `Use pattern: \\b\\w+\\.log\\b`"
   ]
  },
  {
   "cell_type": "code",
   "execution_count": null,
   "id": "d098dcc8",
   "metadata": {},
   "outputs": [],
   "source": [
    "file_list = \"sys.log error.log output.txt temp.log notes.md\"\n",
    "\n",
    "# Your code here\n",
    "import re\n"
   ]
  },
  {
   "cell_type": "markdown",
   "id": "8eb90743",
   "metadata": {},
   "source": [
    "## 9. Find all capitalized words\n",
    "**Task:** Extract all words that start with a capital letter.\n",
    "\n",
    "💡 *Hint:* `Use pattern: \\b[A-Z][a-z]*\\b`"
   ]
  },
  {
   "cell_type": "code",
   "execution_count": null,
   "id": "814e6ff9",
   "metadata": {},
   "outputs": [],
   "source": [
    "sentence = \"The Quick Brown Fox Jumps Over The Lazy Dog.\"\n",
    "\n",
    "# Your code here\n",
    "import re\n"
   ]
  },
  {
   "cell_type": "markdown",
   "id": "6f87685b",
   "metadata": {},
   "source": [
    "## 10. Parse HTTP methods from logs\n",
    "**Task:** Extract the HTTP method (GET, POST, DELETE, etc.)\n",
    "\n",
    "💡 *Hint:* `Use pattern: ^[A-Z]+`"
   ]
  },
  {
   "cell_type": "code",
   "execution_count": null,
   "id": "20af5e9d",
   "metadata": {},
   "outputs": [],
   "source": [
    "http_logs = \"\"\"\n",
    "GET /index.html HTTP/1.1\n",
    "POST /form HTTP/1.1\n",
    "DELETE /resource HTTP/1.1\n",
    "\"\"\"\n",
    "\n",
    "# Your code here\n",
    "import re\n"
   ]
  }
 ],
 "metadata": {},
 "nbformat": 4,
 "nbformat_minor": 5
}