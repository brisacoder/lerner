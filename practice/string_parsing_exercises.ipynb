{
 "cells": [
  {
   "cell_type": "markdown",
   "id": "3e84a075",
   "metadata": {},
   "source": [
    "# String Parsing Interview Exercises"
   ]
  },
  {
   "cell_type": "markdown",
   "id": "efeca45e",
   "metadata": {},
   "source": [
    "Each exercise includes the question and a sample input string to work with."
   ]
  },
  {
   "cell_type": "markdown",
   "id": "e965a615",
   "metadata": {},
   "source": [
    "## Question 1\n",
    "Extract the substring between the first and last occurrence of character `c` in a given string `s`."
   ]
  },
  {
   "cell_type": "code",
   "execution_count": 1,
   "id": "d0324f67",
   "metadata": {},
   "outputs": [
    {
     "data": {
      "text/plain": [
       "'defgcwx'"
      ]
     },
     "execution_count": 1,
     "metadata": {},
     "output_type": "execute_result"
    }
   ],
   "source": [
    "# Sample input for Question 1\n",
    "sample_1 = \"\"\"abxcdefgcwxcz\"\"\"\n",
    "\n",
    "left_index = sample_1.index('c')\n",
    "right_index = sample_1.rindex('c')\n",
    "sample_1[left_index + 1: right_index]"
   ]
  },
  {
   "cell_type": "markdown",
   "id": "5b897b76",
   "metadata": {},
   "source": [
    "## Question 2\n",
    "Get the file extension from a file path string."
   ]
  },
  {
   "cell_type": "code",
   "execution_count": 4,
   "id": "26bf94bb",
   "metadata": {},
   "outputs": [
    {
     "data": {
      "text/plain": [
       "'file.py'"
      ]
     },
     "execution_count": 4,
     "metadata": {},
     "output_type": "execute_result"
    }
   ],
   "source": [
    "# Sample input for Question 2\n",
    "sample_2 = \"\"\"/home/dev/project/file.py\"\"\"\n",
    "\n",
    "right_index = sample_2.rindex('/')\n",
    "sample_2[right_index + 1:]"
   ]
  },
  {
   "cell_type": "markdown",
   "id": "7a059573",
   "metadata": {},
   "source": [
    "## Question 3\n",
    "Extract query parameters from a URL string into a dictionary."
   ]
  },
  {
   "cell_type": "code",
   "execution_count": null,
   "id": "f6095057",
   "metadata": {},
   "outputs": [
    {
     "data": {
      "text/plain": [
       "[['param1', 'foo'], ['param2', 'bar']]"
      ]
     },
     "execution_count": 8,
     "metadata": {},
     "output_type": "execute_result"
    }
   ],
   "source": [
    "# Sample input for Question 3\n",
    "sample_3 = \"\"\"https://example.com/page?param1=foo&param2=bar\"\"\"\n",
    "\n",
    "q_index = sample_3.index('?')\n",
    "query_string = sample_3[q_index + 1:]\n",
    "params = dict(pair.split('=', 1) for pair in query_string.split('&'))\n",
    "params"
   ]
  },
  {
   "cell_type": "markdown",
   "id": "259b893c",
   "metadata": {},
   "source": [
    "## Question 4\n",
    "Parse the timestamp, log level, and message from a log entry like `'2025-06-14 17:53:22 - ERROR - Something happened'`."
   ]
  },
  {
   "cell_type": "code",
   "execution_count": 10,
   "id": "3846cdb5",
   "metadata": {},
   "outputs": [
    {
     "data": {
      "text/plain": [
       "['2025-06-14 17:53:22', 'ERROR', 'Something happened']"
      ]
     },
     "execution_count": 10,
     "metadata": {},
     "output_type": "execute_result"
    }
   ],
   "source": [
    "# Sample input for Question 4\n",
    "sample_4 = \"\"\"2025-06-14 17:53:22 - ERROR - Something happened\"\"\"\n",
    "components = sample_4.rsplit('-', 2)\n",
    "[c.strip() for c in components]\n"
   ]
  },
  {
   "cell_type": "markdown",
   "id": "e2895892",
   "metadata": {},
   "source": [
    "## Question 7\n",
    "Split a multiline string into lines and remove any empty lines."
   ]
  },
  {
   "cell_type": "code",
   "execution_count": 11,
   "id": "e026f29b",
   "metadata": {},
   "outputs": [
    {
     "data": {
      "text/plain": [
       "['line1', 'line2', 'line3']"
      ]
     },
     "execution_count": 11,
     "metadata": {},
     "output_type": "execute_result"
    }
   ],
   "source": [
    "# Sample input for Question 7\n",
    "sample_7 = \"\"\"line1\n",
    "\n",
    "line2\n",
    "line3\n",
    "\n",
    "\"\"\"\n",
    "\n",
    "[line for line in sample_7.split('\\n') if line.strip()]"
   ]
  },
  {
   "cell_type": "markdown",
   "id": "0c3532dd",
   "metadata": {},
   "source": [
    "## Question 8\n",
    "Remove all HTML tags from a string containing HTML."
   ]
  },
  {
   "cell_type": "code",
   "execution_count": null,
   "id": "15662cb3",
   "metadata": {},
   "outputs": [],
   "source": [
    "# Sample input for Question 8\n",
    "sample_8 = \"\"\"<div>Hello</div><p>World!</p>\"\"\""
   ]
  },
  {
   "cell_type": "code",
   "execution_count": null,
   "id": "622135ba",
   "metadata": {},
   "outputs": [],
   "source": [
    "\n"
   ]
  },
  {
   "cell_type": "markdown",
   "id": "4d1190a0",
   "metadata": {},
   "source": [
    "## Question 9\n",
    "Split a Windows file path `'C:\\Users\\Dev\\Documents\\file.txt'` into its components."
   ]
  },
  {
   "cell_type": "code",
   "execution_count": 14,
   "id": "ae69ff82",
   "metadata": {},
   "outputs": [
    {
     "data": {
      "text/plain": [
       "['C:', 'Users', 'Dev', 'Documents', 'file.txt']"
      ]
     },
     "execution_count": 14,
     "metadata": {},
     "output_type": "execute_result"
    }
   ],
   "source": [
    "# Sample input for Question 9\n",
    "sample_9 = r\"\"\"C:\\Users\\Dev\\Documents\\file.txt\"\"\"\n",
    "components = sample_9.split('\\\\')\n",
    "components"
   ]
  },
  {
   "cell_type": "markdown",
   "id": "dc137227",
   "metadata": {},
   "source": [
    "## Question 10\n",
    "Convert a `snake_case` string to `camelCase`."
   ]
  },
  {
   "cell_type": "code",
   "execution_count": null,
   "id": "d521e28f",
   "metadata": {},
   "outputs": [],
   "source": [
    "# Sample input for Question 10\n",
    "sample_10 = \"\"\"snake_case_example\"\"\"\n"
   ]
  },
  {
   "cell_type": "markdown",
   "id": "96aacc15",
   "metadata": {},
   "source": [
    "## Question 11\n",
    "Convert a `CamelCase` string to `snake_case`."
   ]
  },
  {
   "cell_type": "code",
   "execution_count": null,
   "id": "f91a9da2",
   "metadata": {},
   "outputs": [],
   "source": [
    "# Sample input for Question 11\n",
    "sample_11 = \"\"\"CamelCaseExample\"\"\""
   ]
  },
  {
   "cell_type": "markdown",
   "id": "1ecb3df8",
   "metadata": {},
   "source": [
    "## Question 12\n",
    "Count the number of words in a sentence."
   ]
  },
  {
   "cell_type": "code",
   "execution_count": null,
   "id": "cb3b226d",
   "metadata": {},
   "outputs": [],
   "source": [
    "# Sample input for Question 12\n",
    "sample_12 = \"\"\"This is a sample sentence for word count\"\"\""
   ]
  },
  {
   "cell_type": "markdown",
   "id": "b79b7951",
   "metadata": {},
   "source": [
    "## Question 13\n",
    "Check if a string is a palindrome, ignoring spaces and punctuation."
   ]
  },
  {
   "cell_type": "code",
   "execution_count": null,
   "id": "f332aac8",
   "metadata": {},
   "outputs": [
    {
     "data": {
      "text/plain": [
       "True"
      ]
     },
     "execution_count": 18,
     "metadata": {},
     "output_type": "execute_result"
    }
   ],
   "source": [
    "def is_palindrome(s):\n",
    "    cleaned = ''.join(c.lower() for c in s if c.isalnum())\n",
    "    return cleaned == cleaned[::-1]\n",
    "\n",
    "# Example usage\n",
    "sample_13 = \"A man a plan a canal Panama\"\n",
    "print(is_palindrome(sample_13))  # Output: True"
   ]
  },
  {
   "cell_type": "markdown",
   "id": "9567c27c",
   "metadata": {},
   "source": [
    "## Question 14\n",
    "Extract all integers from a string containing mixed text."
   ]
  },
  {
   "cell_type": "code",
   "execution_count": 19,
   "id": "c73b21ed",
   "metadata": {},
   "outputs": [
    {
     "data": {
      "text/plain": [
       "['1', '2', '3', '4', '5', '6', '7', '8', '9']"
      ]
     },
     "execution_count": 19,
     "metadata": {},
     "output_type": "execute_result"
    }
   ],
   "source": [
    "# Sample input for Question 14\n",
    "sample_14 = \"\"\"abc123def456ghi789\"\"\"\n",
    "[c for c in sample_14 if c.isdigit()]"
   ]
  },
  {
   "cell_type": "markdown",
   "id": "a3470eaf",
   "metadata": {},
   "source": [
    "## Question 15\n",
    "Separate letters and digits in a mixed alphanumeric string."
   ]
  },
  {
   "cell_type": "code",
   "execution_count": null,
   "id": "442da92e",
   "metadata": {},
   "outputs": [],
   "source": [
    "# Sample input for Question 15\n",
    "sample_15 = \"\"\"A1B2C3D4\"\"\""
   ]
  },
  {
   "cell_type": "markdown",
   "id": "407814f8",
   "metadata": {},
   "source": [
    "## Question 16\n",
    "Parse a query string like `'a=1&b=2&c=3'` into a dictionary."
   ]
  },
  {
   "cell_type": "code",
   "execution_count": 21,
   "id": "0bb6514d",
   "metadata": {},
   "outputs": [],
   "source": [
    "# Sample input for Question 16\n",
    "sample_16 = \"\"\"a=1&b=2&c=3\"\"\"\n",
    "result = {k: v for k, v in (item.split('=', 1) for item in sample_16.split('&'))}\n"
   ]
  },
  {
   "cell_type": "markdown",
   "id": "045fe4e9",
   "metadata": {},
   "source": [
    "## Question 17\n",
    "Extract year, month, and day from a date string in `YYYY-MM-DD` format."
   ]
  },
  {
   "cell_type": "code",
   "execution_count": 27,
   "id": "70b5632b",
   "metadata": {},
   "outputs": [
    {
     "data": {
      "text/plain": [
       "(2025, 6, 14)"
      ]
     },
     "execution_count": 27,
     "metadata": {},
     "output_type": "execute_result"
    }
   ],
   "source": [
    "# Sample input for Question 17\n",
    "import datetime\n",
    "\n",
    "sample_17 = \"\"\"2025-06-14\"\"\"\n",
    "d = datetime.datetime.strptime(sample_17, \"%Y-%m-%d\")\n",
    "d.year, d.month, d.day"
   ]
  },
  {
   "cell_type": "markdown",
   "id": "9ef1e73f",
   "metadata": {},
   "source": [
    "## Question 18\n",
    "Parse hours, minutes, and seconds from a time string `HH:MM:SS`."
   ]
  },
  {
   "cell_type": "code",
   "execution_count": 30,
   "id": "36c839be",
   "metadata": {},
   "outputs": [
    {
     "data": {
      "text/plain": [
       "(12, 34, 56)"
      ]
     },
     "execution_count": 30,
     "metadata": {},
     "output_type": "execute_result"
    }
   ],
   "source": [
    "# Sample input for Question 18\n",
    "sample_18 = \"\"\"12:34:56\"\"\"\n",
    "d = datetime.datetime.strptime(sample_18, \"%H:%M:%S\")\n",
    "d.hour, d.minute, d.second\n"
   ]
  },
  {
   "cell_type": "code",
   "execution_count": 28,
   "id": "31e7b4cf",
   "metadata": {},
   "outputs": [
    {
     "name": "stdout",
     "output_type": "stream",
     "text": [
      "Help on built-in function strptime in module time:\n",
      "\n",
      "strptime(...)\n",
      "    strptime(string, format) -> struct_time\n",
      "\n",
      "    Parse a string to a time tuple according to a format specification.\n",
      "    See the library reference manual for formatting codes (same as\n",
      "    strftime()).\n",
      "\n",
      "    Commonly used format codes:\n",
      "\n",
      "    %Y  Year with century as a decimal number.\n",
      "    %m  Month as a decimal number [01,12].\n",
      "    %d  Day of the month as a decimal number [01,31].\n",
      "    %H  Hour (24-hour clock) as a decimal number [00,23].\n",
      "    %M  Minute as a decimal number [00,59].\n",
      "    %S  Second as a decimal number [00,61].\n",
      "    %z  Time zone offset from UTC.\n",
      "    %a  Locale's abbreviated weekday name.\n",
      "    %A  Locale's full weekday name.\n",
      "    %b  Locale's abbreviated month name.\n",
      "    %B  Locale's full month name.\n",
      "    %c  Locale's appropriate date and time representation.\n",
      "    %I  Hour (12-hour clock) as a decimal number [01,12].\n",
      "    %p  Locale's equivalent of either AM or PM.\n",
      "\n",
      "    Other codes may be available on your platform.  See documentation for\n",
      "    the C library strftime function.\n",
      "\n"
     ]
    }
   ],
   "source": [
    "import time\n",
    "help(time.strptime)"
   ]
  },
  {
   "cell_type": "markdown",
   "id": "22db199b",
   "metadata": {},
   "source": [
    "## Question 19\n",
    "Parse key-value pairs from a string `'key1:value1,key2:value2'` into a dictionary."
   ]
  },
  {
   "cell_type": "code",
   "execution_count": 31,
   "id": "6313898c",
   "metadata": {},
   "outputs": [
    {
     "data": {
      "text/plain": [
       "{'key1': 'value1', 'key2': 'value2'}"
      ]
     },
     "execution_count": 31,
     "metadata": {},
     "output_type": "execute_result"
    }
   ],
   "source": [
    "# Sample input for Question 19\n",
    "sample_19 = \"\"\"key1:value1,key2:value2\"\"\"\n",
    "{k:v for k,v in (pair.split(':') for pair in sample_19.split(','))}\n"
   ]
  },
  {
   "cell_type": "markdown",
   "id": "1ab6c962",
   "metadata": {},
   "source": [
    "## Question 21\n",
    "Collapse multiple spaces into a single space in a string."
   ]
  },
  {
   "cell_type": "code",
   "execution_count": 32,
   "id": "3942a7a0",
   "metadata": {},
   "outputs": [
    {
     "data": {
      "text/plain": [
       "'This has multiple spaces'"
      ]
     },
     "execution_count": 32,
     "metadata": {},
     "output_type": "execute_result"
    }
   ],
   "source": [
    "import re\n",
    "\n",
    "# Sample input for Question 21\n",
    "sample_21 = \"\"\"This   has    multiple     spaces\"\"\"\n",
    "re.sub(r'\\s+', ' ', sample_21)"
   ]
  },
  {
   "cell_type": "markdown",
   "id": "3888b6a2",
   "metadata": {},
   "source": [
    "## Question 22\n",
    "Remove all non-alphanumeric characters from a string."
   ]
  },
  {
   "cell_type": "code",
   "execution_count": 34,
   "id": "ec28502d",
   "metadata": {},
   "outputs": [
    {
     "data": {
      "text/plain": [
       "'HelloWelcome2025'"
      ]
     },
     "execution_count": 34,
     "metadata": {},
     "output_type": "execute_result"
    }
   ],
   "source": [
    "# Sample input for Question 22\n",
    "sample_22 = \"\"\"Hello! Welcome @2025\"\"\"\n",
    "re.sub(r'[^a-zA-Z0-9]', '', sample_22)"
   ]
  },
  {
   "cell_type": "markdown",
   "id": "0cedcd7d",
   "metadata": {},
   "source": [
    "## Question 23\n",
    "Replace tabs with four spaces in a multiline text string."
   ]
  },
  {
   "cell_type": "code",
   "execution_count": 33,
   "id": "7d83ced1",
   "metadata": {},
   "outputs": [
    {
     "data": {
      "text/plain": [
       "'This    is    a    tabbed    text'"
      ]
     },
     "execution_count": 33,
     "metadata": {},
     "output_type": "execute_result"
    }
   ],
   "source": [
    "# Sample input for Question 23\n",
    "sample_23 = \"\"\"This\tis\ta\ttabbed\ttext\"\"\"\n",
    "sample_23.replace('\\t', '    ')"
   ]
  },
  {
   "cell_type": "markdown",
   "id": "fdb355da",
   "metadata": {},
   "source": [
    "## Question 24\n",
    "Extract the heading level and text from a Markdown header like `'## Heading'`."
   ]
  },
  {
   "cell_type": "code",
   "execution_count": null,
   "id": "2b3fa76e",
   "metadata": {},
   "outputs": [],
   "source": [
    "# Sample input for Question 24\n",
    "sample_24 = \"\"\"## Sample Heading\"\"\""
   ]
  },
  {
   "cell_type": "markdown",
   "id": "a89f709e",
   "metadata": {},
   "source": [
    "## Question 25\n",
    "Parse a string `'name=John Doe; age=30; location=USA'` into a dictionary."
   ]
  },
  {
   "cell_type": "code",
   "execution_count": 35,
   "id": "9527c1a9",
   "metadata": {},
   "outputs": [
    {
     "data": {
      "text/plain": [
       "{'name': 'John Doe', 'age': '30', 'location': 'USA'}"
      ]
     },
     "execution_count": 35,
     "metadata": {},
     "output_type": "execute_result"
    }
   ],
   "source": [
    "# Sample input for Question 25\n",
    "sample_25 = \"\"\"name=John Doe; age=30; location=USA\"\"\"\n",
    "\n",
    "{k:v for k,v in (pair.strip().split('=') for pair in sample_25.split(';'))}"
   ]
  },
  {
   "cell_type": "markdown",
   "id": "edf11873",
   "metadata": {},
   "source": [
    "## Question 26\n",
    "Reverse the order of words in a sentence."
   ]
  },
  {
   "cell_type": "code",
   "execution_count": 37,
   "id": "7c204ca3",
   "metadata": {},
   "outputs": [
    {
     "data": {
      "text/plain": [
       "'ChatGPT from world Hello'"
      ]
     },
     "execution_count": 37,
     "metadata": {},
     "output_type": "execute_result"
    }
   ],
   "source": [
    "# Sample input for Question 26\n",
    "sample_26 = \"\"\"Hello world from ChatGPT\"\"\"\n",
    "' '.join(sample_26.split(' ')[::-1])"
   ]
  },
  {
   "cell_type": "markdown",
   "id": "ffbc8d3a",
   "metadata": {},
   "source": [
    "## Question 27\n",
    "Reverse the characters in a string."
   ]
  },
  {
   "cell_type": "code",
   "execution_count": null,
   "id": "3e0cea20",
   "metadata": {},
   "outputs": [],
   "source": [
    "# Sample input for Question 27\n",
    "sample_27 = \"\"\"HelloWorld\"\"\""
   ]
  },
  {
   "cell_type": "markdown",
   "id": "d09e7ee9",
   "metadata": {},
   "source": [
    "## Question 28\n",
    "Find the longest substring without repeating characters in a given string."
   ]
  },
  {
   "cell_type": "code",
   "execution_count": 54,
   "id": "f23edd67",
   "metadata": {},
   "outputs": [
    {
     "data": {
      "text/plain": [
       "3"
      ]
     },
     "execution_count": 54,
     "metadata": {},
     "output_type": "execute_result"
    }
   ],
   "source": [
    "# Sample input for Question 28\n",
    "from itertools import combinations\n",
    "sample_28 = \"\"\"abcabcbb\"\"\"\n",
    "max_sub = 0\n",
    "for pair in combinations(range(len(sample_28) + 1), 2):\n",
    "    a,b = pair\n",
    "    slice = sample_28[a:b]\n",
    "    if len(slice) == len(set(slice)):\n",
    "        max_sub = max(max_sub, b-a)\n",
    "max_sub"
   ]
  },
  {
   "cell_type": "code",
   "execution_count": null,
   "id": "ef21abf6",
   "metadata": {},
   "outputs": [
    {
     "name": "stdout",
     "output_type": "stream",
     "text": [
      "3\n"
     ]
    },
    {
     "ename": "",
     "evalue": "",
     "output_type": "error",
     "traceback": [
      "\u001b[1;31mThe Kernel crashed while executing code in the current cell or a previous cell. \n",
      "\u001b[1;31mPlease review the code in the cell(s) to identify a possible cause of the failure. \n",
      "\u001b[1;31mClick <a href='https://aka.ms/vscodeJupyterKernelCrash'>here</a> for more info. \n",
      "\u001b[1;31mView Jupyter <a href='command:jupyter.viewOutput'>log</a> for further details."
     ]
    }
   ],
   "source": [
    "# Dict approach\n",
    "\n",
    "sample_28 = \"abcabcbb\"\n",
    "\n",
    "max_len = 0\n",
    "start = 0\n",
    "seen = {}\n",
    "\n",
    "for i, char in enumerate(sample_28):\n",
    "    if char in seen and seen[char] >= start:\n",
    "        start = seen[char] + 1\n",
    "    seen[char] = i\n",
    "    max_len = max(max_len, i - start + 1)\n",
    "\n",
    "print(max_len)"
   ]
  },
  {
   "cell_type": "markdown",
   "id": "bc21c285",
   "metadata": {},
   "source": [
    "## Question 30\n",
    "Normalize mixed path separators `'/usr/bin;C:\\Windows\\System32'` to UNIX separators."
   ]
  },
  {
   "cell_type": "code",
   "execution_count": null,
   "id": "8381f341",
   "metadata": {},
   "outputs": [],
   "source": [
    "# Sample input for Question 30\n",
    "sample_30 = \"\"\"/usr/bin;C:\\Windows\\System32\"\"\""
   ]
  },
  {
   "cell_type": "markdown",
   "id": "faf7b337",
   "metadata": {},
   "source": [
    "## Question 31\n",
    "Detect and remove HTML comments like `<!-- comment -->` from a string."
   ]
  },
  {
   "cell_type": "code",
   "execution_count": null,
   "id": "817d94ab",
   "metadata": {},
   "outputs": [],
   "source": [
    "# Sample input for Question 31\n",
    "sample_31 = \"\"\"<!-- hidden comment -->Visible text<!-- another -->\"\"\""
   ]
  },
  {
   "cell_type": "markdown",
   "id": "52d4b91c",
   "metadata": {},
   "source": [
    "## Question 32\n",
    "Validate an email address's basic structure and extract the username and domain."
   ]
  },
  {
   "cell_type": "code",
   "execution_count": null,
   "id": "dfb75035",
   "metadata": {},
   "outputs": [],
   "source": [
    "# Sample input for Question 32\n",
    "sample_32 = \"\"\"user@example.com\"\"\""
   ]
  },
  {
   "cell_type": "markdown",
   "id": "77d48ab5",
   "metadata": {},
   "source": [
    "## Question 33\n",
    "Extract the version number from a filename like `'file_v1.2.3.txt'`."
   ]
  },
  {
   "cell_type": "code",
   "execution_count": null,
   "id": "42486cd6",
   "metadata": {},
   "outputs": [],
   "source": [
    "# Sample input for Question 33\n",
    "sample_33 = \"\"\"file_v1.2.3.txt\"\"\""
   ]
  },
  {
   "cell_type": "markdown",
   "id": "15838f95",
   "metadata": {},
   "source": [
    "## Question 34\n",
    "Extract the domain name from a URL."
   ]
  },
  {
   "cell_type": "code",
   "execution_count": null,
   "id": "a5ec6339",
   "metadata": {},
   "outputs": [],
   "source": [
    "# Sample input for Question 34\n",
    "sample_34 = \"\"\"https://sub.example.co.uk/path\"\"\""
   ]
  },
  {
   "cell_type": "markdown",
   "id": "71127c5d",
   "metadata": {},
   "source": [
    "## Question 35\n",
    "Split a socket address `'127.0.0.1:8080'` into host and port."
   ]
  },
  {
   "cell_type": "code",
   "execution_count": null,
   "id": "d30f31db",
   "metadata": {},
   "outputs": [],
   "source": [
    "# Sample input for Question 35\n",
    "sample_35 = \"\"\"127.0.0.1:8080\"\"\""
   ]
  },
  {
   "cell_type": "markdown",
   "id": "42055859",
   "metadata": {},
   "source": [
    "## Question 36\n",
    "Unescape a quoted string containing escaped quotes."
   ]
  },
  {
   "cell_type": "code",
   "execution_count": null,
   "id": "b53a2686",
   "metadata": {},
   "outputs": [],
   "source": [
    "# Sample input for Question 36\n",
    "sample_36 = \"\"\"He said, \\\"Hello\\\"\"\"\""
   ]
  },
  {
   "cell_type": "markdown",
   "id": "d4e9f34e",
   "metadata": {},
   "source": [
    "## Question 37\n",
    "Parse a CSV line with quoted fields containing commas correctly."
   ]
  },
  {
   "cell_type": "code",
   "execution_count": null,
   "id": "fcc5b70c",
   "metadata": {},
   "outputs": [],
   "source": [
    "# Sample input for Question 37\n",
    "sample_37 = \"\"\"field1,\"field, with, commas\",field3\"\"\""
   ]
  },
  {
   "cell_type": "markdown",
   "id": "1dd6dcae",
   "metadata": {},
   "source": [
    "## Question 38\n",
    "Dedent a multiline text to the minimal indentation level."
   ]
  },
  {
   "cell_type": "code",
   "execution_count": null,
   "id": "d848ce84",
   "metadata": {},
   "outputs": [],
   "source": [
    "# Sample input for Question 38\n",
    "sample_38 = \"\"\"    indented line1\n",
    "        indented line2\n",
    "    indented line3\"\"\""
   ]
  },
  {
   "cell_type": "markdown",
   "id": "ac0f67de",
   "metadata": {},
   "source": [
    "## Question 39\n",
    "Detect whether a string uses `\\n`, `\\r\\n`, or `\\r` for line endings."
   ]
  },
  {
   "cell_type": "code",
   "execution_count": null,
   "id": "35e54674",
   "metadata": {},
   "outputs": [],
   "source": [
    "# Sample input for Question 39\n",
    "sample_39 = \"\"\"Line1\n",
    "Line2\n",
    "Line3\n",
    "Line4\"\"\""
   ]
  },
  {
   "cell_type": "code",
   "execution_count": null,
   "id": "d953c9fc",
   "metadata": {},
   "outputs": [],
   "source": []
  },
  {
   "cell_type": "markdown",
   "id": "e3894eb0",
   "metadata": {},
   "source": [
    "## Question 41\n",
    "Find all overlapping occurrences of a substring in a string."
   ]
  },
  {
   "cell_type": "code",
   "execution_count": null,
   "id": "2a1157f7",
   "metadata": {},
   "outputs": [],
   "source": [
    "# Sample input for Question 41\n",
    "sample_41 = \"\"\"abababa\"\"\""
   ]
  },
  {
   "cell_type": "markdown",
   "id": "1673e4e1",
   "metadata": {},
   "source": [
    "## Question 42\n",
    "Split a hyphenated string into individual words."
   ]
  },
  {
   "cell_type": "code",
   "execution_count": null,
   "id": "e967e74a",
   "metadata": {},
   "outputs": [],
   "source": [
    "# Sample input for Question 42\n",
    "sample_42 = \"\"\"word1-word2-word3\"\"\""
   ]
  },
  {
   "cell_type": "markdown",
   "id": "e438b382",
   "metadata": {},
   "source": [
    "## Question 43\n",
    "Parse a string representation of a list `\"[1,2,3]\"` into a Python list of integers."
   ]
  },
  {
   "cell_type": "code",
   "execution_count": null,
   "id": "70ccdf5b",
   "metadata": {},
   "outputs": [],
   "source": [
    "# Sample input for Question 43\n",
    "sample_43 = \"\"\"[1,2,3,4]\"\"\""
   ]
  },
  {
   "cell_type": "markdown",
   "id": "4fe5a23e",
   "metadata": {},
   "source": [
    "## Question 44\n",
    "Extract the content inside the outermost parentheses in a string."
   ]
  },
  {
   "cell_type": "code",
   "execution_count": null,
   "id": "f4170232",
   "metadata": {},
   "outputs": [],
   "source": [
    "# Sample input for Question 44\n",
    "sample_44 = \"\"\"func(arg1, arg2)\"\"\""
   ]
  },
  {
   "cell_type": "markdown",
   "id": "f1f61295",
   "metadata": {},
   "source": [
    "## Question 45\n",
    "Mask all digits in a string with `*`."
   ]
  },
  {
   "cell_type": "code",
   "execution_count": null,
   "id": "207aa3dd",
   "metadata": {},
   "outputs": [],
   "source": [
    "# Sample input for Question 45\n",
    "sample_45 = \"\"\"My phone number is 123-456-7890\"\"\""
   ]
  },
  {
   "cell_type": "markdown",
   "id": "ee4bd2aa",
   "metadata": {},
   "source": [
    "## Question 46\n",
    "Convert a string to title case (capitalize each word)."
   ]
  },
  {
   "cell_type": "code",
   "execution_count": null,
   "id": "cd1799b2",
   "metadata": {},
   "outputs": [],
   "source": [
    "# Sample input for Question 46\n",
    "sample_46 = \"\"\"this is title case\"\"\""
   ]
  },
  {
   "cell_type": "markdown",
   "id": "bb59cbc1",
   "metadata": {},
   "source": [
    "## Question 47\n",
    "Convert tabs to spaces and wrap lines at 80 characters."
   ]
  },
  {
   "cell_type": "code",
   "execution_count": null,
   "id": "e79c6937",
   "metadata": {},
   "outputs": [],
   "source": [
    "# Sample input for Question 47\n",
    "sample_47 = \"\"\"\tIndented with tabs and then some text that is really long and should maybe be wrapped\"\"\""
   ]
  },
  {
   "cell_type": "markdown",
   "id": "7c50602a",
   "metadata": {},
   "source": [
    "## Question 48\n",
    "Compress consecutive repeated characters in a string to a single character."
   ]
  },
  {
   "cell_type": "code",
   "execution_count": null,
   "id": "05924d35",
   "metadata": {},
   "outputs": [],
   "source": [
    "# Sample input for Question 48\n",
    "sample_48 = \"\"\"aaabbbccc\"\"\""
   ]
  },
  {
   "cell_type": "markdown",
   "id": "680b709e",
   "metadata": {},
   "source": [
    "## Question 49\n",
    "Find the index of the Nth occurrence of a substring in a string."
   ]
  },
  {
   "cell_type": "code",
   "execution_count": null,
   "id": "24cebd7f",
   "metadata": {},
   "outputs": [],
   "source": [
    "# Sample input for Question 49\n",
    "sample_49 = \"\"\"find the nth occurrence of a substring in a string\"\"\""
   ]
  },
  {
   "cell_type": "markdown",
   "id": "14586c1a",
   "metadata": {},
   "source": [
    "## Question 50\n",
    "Parse key-value pairs separated by newlines into a dictionary."
   ]
  },
  {
   "cell_type": "code",
   "execution_count": null,
   "id": "4348d169",
   "metadata": {},
   "outputs": [],
   "source": [
    "# Sample input for Question 50\n",
    "sample_50 = \"\"\"key1=value1\n",
    "key2=value2\n",
    "key3=value3\"\"\""
   ]
  }
 ],
 "metadata": {
  "kernelspec": {
   "display_name": ".venv",
   "language": "python",
   "name": "python3"
  },
  "language": "python",
  "language_info": {
   "codemirror_mode": {
    "name": "ipython",
    "version": 3
   },
   "file_extension": ".py",
   "mimetype": "text/x-python",
   "name": "python",
   "nbconvert_exporter": "python",
   "pygments_lexer": "ipython3",
   "version": "3.13.3"
  }
 },
 "nbformat": 4,
 "nbformat_minor": 5
}
