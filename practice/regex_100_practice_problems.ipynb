{
 "cells": [
  {
   "cell_type": "markdown",
   "id": "a5425152",
   "metadata": {},
   "source": [
    "# 🧪 100 Python Regex Practice Problems\n",
    "Each problem includes input data and a regex task to solve."
   ]
  },
  {
   "cell_type": "markdown",
   "id": "6b370fa8",
   "metadata": {},
   "source": [
    "## 1. Extract all email addresses from a paragraph\n",
    "**Task:** Extract all email addresses from the paragraph using regex.\n",
    "\n",
    "💡 *Hint:* `Use pattern: [\\w\\.-]+@[\\w\\.-]+\\.\\w+`"
   ]
  },
  {
   "cell_type": "code",
   "execution_count": null,
   "id": "0d0f3737",
   "metadata": {},
   "outputs": [],
   "source": [
    "paragraph = \"\"\"\n",
    "Please contact us at support@example.com or sales@mycompany.org.\n",
    "You can also reach out to john.doe123@work.net for technical questions.\n",
    "\"\"\"\n",
    "\n",
    "# Your code here\n",
    "import re\n"
   ]
  },
  {
   "cell_type": "markdown",
   "id": "674c7601",
   "metadata": {},
   "source": [
    "## 2. Find all IP addresses in Apache log\n",
    "**Task:** Extract all IPv4 addresses from the log.\n",
    "\n",
    "💡 *Hint:* `Use pattern: \\d{1,3}(?:\\.\\d{1,3}){3}`"
   ]
  },
  {
   "cell_type": "code",
   "execution_count": null,
   "id": "fcb287ca",
   "metadata": {},
   "outputs": [],
   "source": [
    "log_data = \"\"\"\n",
    "192.168.1.1 - - [01/Jan/2024:10:00:00] \"GET /index.html HTTP/1.1\" 200\n",
    "10.0.0.1 - - [01/Jan/2024:10:01:00] \"POST /submit HTTP/1.1\" 404\n",
    "172.16.0.2 - - [01/Jan/2024:10:02:00] \"GET /contact HTTP/1.1\" 200\n",
    "\"\"\"\n",
    "\n",
    "# Your code here\n",
    "import re\n"
   ]
  },
  {
   "cell_type": "markdown",
   "id": "3b4c3e3f",
   "metadata": {},
   "source": [
    "## 3. Extract all dates in YYYY-MM-DD format\n",
    "**Task:** Extract all dates in the format YYYY-MM-DD.\n",
    "\n",
    "💡 *Hint:* `Use pattern: \\d{4}-\\d{2}-\\d{2}`"
   ]
  },
  {
   "cell_type": "code",
   "execution_count": null,
   "id": "da3321f7",
   "metadata": {},
   "outputs": [],
   "source": [
    "text = \"Dates: 2024-01-01, 1999-12-31, and 2025-06-15 are valid.\"\n",
    "\n",
    "# Your code here\n",
    "import re\n"
   ]
  },
  {
   "cell_type": "markdown",
   "id": "a191b9e5",
   "metadata": {},
   "source": [
    "## 4. Parse status codes from Apache logs\n",
    "**Task:** Extract the HTTP status codes (e.g., 200, 404).\n",
    "\n",
    "💡 *Hint:* `Use pattern: \\\" \\d{3}$`"
   ]
  },
  {
   "cell_type": "code",
   "execution_count": null,
   "id": "56e1a474",
   "metadata": {},
   "outputs": [],
   "source": [
    "logs = \"\"\"\n",
    "127.0.0.1 - - [01/Jan/2024:10:00:00] \"GET / HTTP/1.1\" 200\n",
    "127.0.0.1 - - [01/Jan/2024:10:01:00] \"GET /missing HTTP/1.1\" 404\n",
    "\"\"\"\n",
    "\n",
    "# Your code here\n",
    "import re\n"
   ]
  },
  {
   "cell_type": "markdown",
   "id": "c492330b",
   "metadata": {},
   "source": [
    "## 5. Find all hashtags in a tweet\n",
    "**Task:** Extract all hashtags from the tweet.\n",
    "\n",
    "💡 *Hint:* `Use pattern: #\\w+`"
   ]
  },
  {
   "cell_type": "code",
   "execution_count": null,
   "id": "9444ce5a",
   "metadata": {},
   "outputs": [],
   "source": [
    "tweet = \"Loving #Python3 and #MachineLearning in 2025! #100DaysOfCode\"\n",
    "\n",
    "# Your code here\n",
    "import re\n"
   ]
  },
  {
   "cell_type": "markdown",
   "id": "32d27fb4",
   "metadata": {},
   "source": [
    "## 6. Extract quoted strings\n",
    "**Task:** Extract all quoted strings (inside double quotes).\n",
    "\n",
    "💡 *Hint:* `Use pattern: \\\"(.*?)\\\"`"
   ]
  },
  {
   "cell_type": "code",
   "execution_count": null,
   "id": "bf90cceb",
   "metadata": {},
   "outputs": [],
   "source": [
    "quote_text = 'He said, \"hello\" and then she replied, \"hi there\".' \n",
    "\n",
    "# Your code here\n",
    "import re\n"
   ]
  },
  {
   "cell_type": "markdown",
   "id": "f4208ef5",
   "metadata": {},
   "source": [
    "## 7. Validate simple US phone numbers\n",
    "**Task:** Extract all US phone numbers in 123-456-7890 format.\n",
    "\n",
    "💡 *Hint:* `Use pattern: \\d{3}-\\d{3}-\\d{4}`"
   ]
  },
  {
   "cell_type": "code",
   "execution_count": null,
   "id": "4509dd24",
   "metadata": {},
   "outputs": [],
   "source": [
    "text = \"Call me at 123-456-7890 or 987-654-3210.\"\n",
    "\n",
    "# Your code here\n",
    "import re\n"
   ]
  },
  {
   "cell_type": "markdown",
   "id": "894c5342",
   "metadata": {},
   "source": [
    "## 8. Extract filenames with .log extension\n",
    "**Task:** Extract all filenames ending in .log\n",
    "\n",
    "💡 *Hint:* `Use pattern: \\b\\w+\\.log\\b`"
   ]
  },
  {
   "cell_type": "code",
   "execution_count": null,
   "id": "7cfdd9fc",
   "metadata": {},
   "outputs": [],
   "source": [
    "file_list = \"sys.log error.log output.txt temp.log notes.md\"\n",
    "\n",
    "# Your code here\n",
    "import re\n"
   ]
  },
  {
   "cell_type": "markdown",
   "id": "5a911c53",
   "metadata": {},
   "source": [
    "## 9. Find all capitalized words\n",
    "**Task:** Extract all words that start with a capital letter.\n",
    "\n",
    "💡 *Hint:* `Use pattern: \\b[A-Z][a-z]*\\b`"
   ]
  },
  {
   "cell_type": "code",
   "execution_count": null,
   "id": "e5cb8a12",
   "metadata": {},
   "outputs": [],
   "source": [
    "sentence = \"The Quick Brown Fox Jumps Over The Lazy Dog.\"\n",
    "\n",
    "# Your code here\n",
    "import re\n"
   ]
  },
  {
   "cell_type": "markdown",
   "id": "7c411601",
   "metadata": {},
   "source": [
    "## 10. Parse HTTP methods from logs\n",
    "**Task:** Extract the HTTP method (GET, POST, DELETE, etc.)\n",
    "\n",
    "💡 *Hint:* `Use pattern: ^[A-Z]+`"
   ]
  },
  {
   "cell_type": "code",
   "execution_count": null,
   "id": "73510bd7",
   "metadata": {},
   "outputs": [],
   "source": [
    "http_logs = \"\"\"\n",
    "GET /index.html HTTP/1.1\n",
    "POST /form HTTP/1.1\n",
    "DELETE /resource HTTP/1.1\n",
    "\"\"\"\n",
    "\n",
    "# Your code here\n",
    "import re\n"
   ]
  },
  {
   "cell_type": "markdown",
   "id": "daf09f4b",
   "metadata": {},
   "source": [
    "## 11. Extract hex color codes\n",
    "**Task:** Extract all hex codes.\n",
    "\n",
    "💡 *Hint:* `#(?:[0-9a-fA-F]{3}){1,2}`"
   ]
  },
  {
   "cell_type": "code",
   "execution_count": null,
   "id": "6a693f4c",
   "metadata": {},
   "outputs": [],
   "source": [
    "colors = '#fff #123456 #abc #f1f1f1'\n",
    "\n",
    "# Your code here\n",
    "import re\n"
   ]
  },
  {
   "cell_type": "markdown",
   "id": "0a958a91",
   "metadata": {},
   "source": [
    "## 12. Find time in HH:MM format\n",
    "**Task:** Extract all HH:MM times.\n",
    "\n",
    "💡 *Hint:* `\\b\\d{2}:\\d{2}\\b`"
   ]
  },
  {
   "cell_type": "code",
   "execution_count": null,
   "id": "f320fbb3",
   "metadata": {},
   "outputs": [],
   "source": [
    "text = 'Alarm set for 09:30 and 18:45.'\n",
    "\n",
    "# Your code here\n",
    "import re\n"
   ]
  },
  {
   "cell_type": "markdown",
   "id": "86f617fb",
   "metadata": {},
   "source": [
    "## 13. Extract domain names\n",
    "**Task:** Extract domain names ending in .com or .io.\n",
    "\n",
    "💡 *Hint:* `\\b\\w+\\.(?:com|io)\\b`"
   ]
  },
  {
   "cell_type": "code",
   "execution_count": null,
   "id": "3c386906",
   "metadata": {},
   "outputs": [],
   "source": [
    "text = 'Visit openai.com and github.io for more info.'\n",
    "\n",
    "# Your code here\n",
    "import re\n"
   ]
  },
  {
   "cell_type": "markdown",
   "id": "a847abbc",
   "metadata": {},
   "source": [
    "## 14. Match floating point numbers\n",
    "**Task:** Find all floating point numbers.\n",
    "\n",
    "💡 *Hint:* `[+-]?\\d*\\.\\d+`"
   ]
  },
  {
   "cell_type": "code",
   "execution_count": null,
   "id": "e7d839de",
   "metadata": {},
   "outputs": [],
   "source": [
    "text = 'Values: 1.23, -0.001, +45.6'\n",
    "\n",
    "# Your code here\n",
    "import re\n"
   ]
  },
  {
   "cell_type": "markdown",
   "id": "20e74c34",
   "metadata": {},
   "source": [
    "## 15. Find words ending in 'ing'\n",
    "**Task:** Extract words ending in 'ing'.\n",
    "\n",
    "💡 *Hint:* `\\b\\w+ing\\b`"
   ]
  },
  {
   "cell_type": "code",
   "execution_count": null,
   "id": "0cca89f0",
   "metadata": {},
   "outputs": [],
   "source": [
    "text = 'I am running and jumping while coding.'\n",
    "\n",
    "# Your code here\n",
    "import re\n"
   ]
  },
  {
   "cell_type": "markdown",
   "id": "b6dd56da",
   "metadata": {},
   "source": [
    "## 16. Extract HTML tags\n",
    "**Task:** Extract all HTML tags.\n",
    "\n",
    "💡 *Hint:* `<[^>]+>`"
   ]
  },
  {
   "cell_type": "code",
   "execution_count": null,
   "id": "534ebcab",
   "metadata": {},
   "outputs": [],
   "source": [
    "html = '<div><p>Text</p></div>'\n",
    "\n",
    "# Your code here\n",
    "import re\n"
   ]
  },
  {
   "cell_type": "markdown",
   "id": "98e7abf3",
   "metadata": {},
   "source": [
    "## 17. Find duplicated words\n",
    "**Task:** Find duplicate consecutive words.\n",
    "\n",
    "💡 *Hint:* `\\b(\\w+)\\s+\\1\\b`"
   ]
  },
  {
   "cell_type": "code",
   "execution_count": null,
   "id": "60656132",
   "metadata": {},
   "outputs": [],
   "source": [
    "text = 'This is is a test test line.'\n",
    "\n",
    "# Your code here\n",
    "import re\n"
   ]
  },
  {
   "cell_type": "markdown",
   "id": "18f0d06a",
   "metadata": {},
   "source": [
    "## 18. Extract markdown links\n",
    "**Task:** Extract markdown link text and URL.\n",
    "\n",
    "💡 *Hint:* `\\[(.*?)\\]\\((.*?)\\)`"
   ]
  },
  {
   "cell_type": "code",
   "execution_count": null,
   "id": "37499852",
   "metadata": {},
   "outputs": [],
   "source": [
    "text = 'Check [Google](https://google.com)'\n",
    "\n",
    "# Your code here\n",
    "import re\n"
   ]
  },
  {
   "cell_type": "markdown",
   "id": "a6d0ed83",
   "metadata": {},
   "source": [
    "## 19. Validate hexadecimal numbers\n",
    "**Task:** Find all hexadecimal numbers.\n",
    "\n",
    "💡 *Hint:* `0[xX][0-9a-fA-F]+`"
   ]
  },
  {
   "cell_type": "code",
   "execution_count": null,
   "id": "2b08f2e4",
   "metadata": {},
   "outputs": [],
   "source": [
    "text = 'Hex: 0x1A3, 0xff, 0XABC'\n",
    "\n",
    "# Your code here\n",
    "import re\n"
   ]
  },
  {
   "cell_type": "markdown",
   "id": "990e4b9b",
   "metadata": {},
   "source": [
    "## 20. Extract non-ASCII characters\n",
    "**Task:** Find all non-ASCII characters.\n",
    "\n",
    "💡 *Hint:* `[^\\x00-\\x7F]+`"
   ]
  },
  {
   "cell_type": "code",
   "execution_count": null,
   "id": "e538a1be",
   "metadata": {},
   "outputs": [],
   "source": [
    "text = 'ASCII: A, Non-ASCII: ñ, ü'\n",
    "\n",
    "# Your code here\n",
    "import re\n"
   ]
  },
  {
   "cell_type": "markdown",
   "id": "3cc471d5",
   "metadata": {},
   "source": [
    "## 21. Extract hex color codes\n",
    "**Task:** Extract all hex codes.\n",
    "\n",
    "💡 *Hint:* `#(?:[0-9a-fA-F]{3}){1,2}`"
   ]
  },
  {
   "cell_type": "code",
   "execution_count": null,
   "id": "93b59852",
   "metadata": {},
   "outputs": [],
   "source": [
    "colors = '#fff #123456 #abc #f1f1f1'\n",
    "\n",
    "# Your code here\n",
    "import re\n"
   ]
  },
  {
   "cell_type": "markdown",
   "id": "21f81da1",
   "metadata": {},
   "source": [
    "## 22. Find time in HH:MM format\n",
    "**Task:** Extract all HH:MM times.\n",
    "\n",
    "💡 *Hint:* `\\b\\d{2}:\\d{2}\\b`"
   ]
  },
  {
   "cell_type": "code",
   "execution_count": null,
   "id": "4344e8cc",
   "metadata": {},
   "outputs": [],
   "source": [
    "text = 'Alarm set for 09:30 and 18:45.'\n",
    "\n",
    "# Your code here\n",
    "import re\n"
   ]
  },
  {
   "cell_type": "markdown",
   "id": "ca1a08d4",
   "metadata": {},
   "source": [
    "## 23. Extract domain names\n",
    "**Task:** Extract domain names ending in .com or .io.\n",
    "\n",
    "💡 *Hint:* `\\b\\w+\\.(?:com|io)\\b`"
   ]
  },
  {
   "cell_type": "code",
   "execution_count": null,
   "id": "2d8a1f9f",
   "metadata": {},
   "outputs": [],
   "source": [
    "text = 'Visit openai.com and github.io for more info.'\n",
    "\n",
    "# Your code here\n",
    "import re\n"
   ]
  },
  {
   "cell_type": "markdown",
   "id": "aa098a2a",
   "metadata": {},
   "source": [
    "## 24. Match floating point numbers\n",
    "**Task:** Find all floating point numbers.\n",
    "\n",
    "💡 *Hint:* `[+-]?\\d*\\.\\d+`"
   ]
  },
  {
   "cell_type": "code",
   "execution_count": null,
   "id": "812b802d",
   "metadata": {},
   "outputs": [],
   "source": [
    "text = 'Values: 1.23, -0.001, +45.6'\n",
    "\n",
    "# Your code here\n",
    "import re\n"
   ]
  },
  {
   "cell_type": "markdown",
   "id": "8cbf9035",
   "metadata": {},
   "source": [
    "## 25. Find words ending in 'ing'\n",
    "**Task:** Extract words ending in 'ing'.\n",
    "\n",
    "💡 *Hint:* `\\b\\w+ing\\b`"
   ]
  },
  {
   "cell_type": "code",
   "execution_count": null,
   "id": "dc483337",
   "metadata": {},
   "outputs": [],
   "source": [
    "text = 'I am running and jumping while coding.'\n",
    "\n",
    "# Your code here\n",
    "import re\n"
   ]
  },
  {
   "cell_type": "markdown",
   "id": "1d8ac20b",
   "metadata": {},
   "source": [
    "## 26. Extract HTML tags\n",
    "**Task:** Extract all HTML tags.\n",
    "\n",
    "💡 *Hint:* `<[^>]+>`"
   ]
  },
  {
   "cell_type": "code",
   "execution_count": null,
   "id": "4f598ede",
   "metadata": {},
   "outputs": [],
   "source": [
    "html = '<div><p>Text</p></div>'\n",
    "\n",
    "# Your code here\n",
    "import re\n"
   ]
  },
  {
   "cell_type": "markdown",
   "id": "5bd09033",
   "metadata": {},
   "source": [
    "## 27. Find duplicated words\n",
    "**Task:** Find duplicate consecutive words.\n",
    "\n",
    "💡 *Hint:* `\\b(\\w+)\\s+\\1\\b`"
   ]
  },
  {
   "cell_type": "code",
   "execution_count": null,
   "id": "0f3b9720",
   "metadata": {},
   "outputs": [],
   "source": [
    "text = 'This is is a test test line.'\n",
    "\n",
    "# Your code here\n",
    "import re\n"
   ]
  },
  {
   "cell_type": "markdown",
   "id": "80504402",
   "metadata": {},
   "source": [
    "## 28. Extract markdown links\n",
    "**Task:** Extract markdown link text and URL.\n",
    "\n",
    "💡 *Hint:* `\\[(.*?)\\]\\((.*?)\\)`"
   ]
  },
  {
   "cell_type": "code",
   "execution_count": null,
   "id": "4e0696e2",
   "metadata": {},
   "outputs": [],
   "source": [
    "text = 'Check [Google](https://google.com)'\n",
    "\n",
    "# Your code here\n",
    "import re\n"
   ]
  },
  {
   "cell_type": "markdown",
   "id": "2859d177",
   "metadata": {},
   "source": [
    "## 29. Validate hexadecimal numbers\n",
    "**Task:** Find all hexadecimal numbers.\n",
    "\n",
    "💡 *Hint:* `0[xX][0-9a-fA-F]+`"
   ]
  },
  {
   "cell_type": "code",
   "execution_count": null,
   "id": "987ef14d",
   "metadata": {},
   "outputs": [],
   "source": [
    "text = 'Hex: 0x1A3, 0xff, 0XABC'\n",
    "\n",
    "# Your code here\n",
    "import re\n"
   ]
  },
  {
   "cell_type": "markdown",
   "id": "ecf1e6e8",
   "metadata": {},
   "source": [
    "## 30. Extract non-ASCII characters\n",
    "**Task:** Find all non-ASCII characters.\n",
    "\n",
    "💡 *Hint:* `[^\\x00-\\x7F]+`"
   ]
  },
  {
   "cell_type": "code",
   "execution_count": null,
   "id": "311db987",
   "metadata": {},
   "outputs": [],
   "source": [
    "text = 'ASCII: A, Non-ASCII: ñ, ü'\n",
    "\n",
    "# Your code here\n",
    "import re\n"
   ]
  },
  {
   "cell_type": "markdown",
   "id": "93a7e014",
   "metadata": {},
   "source": [
    "## 31. Extract hex color codes\n",
    "**Task:** Extract all hex codes.\n",
    "\n",
    "💡 *Hint:* `#(?:[0-9a-fA-F]{3}){1,2}`"
   ]
  },
  {
   "cell_type": "code",
   "execution_count": null,
   "id": "bdff4193",
   "metadata": {},
   "outputs": [],
   "source": [
    "colors = '#fff #123456 #abc #f1f1f1'\n",
    "\n",
    "# Your code here\n",
    "import re\n"
   ]
  },
  {
   "cell_type": "markdown",
   "id": "fec71fc6",
   "metadata": {},
   "source": [
    "## 32. Find time in HH:MM format\n",
    "**Task:** Extract all HH:MM times.\n",
    "\n",
    "💡 *Hint:* `\\b\\d{2}:\\d{2}\\b`"
   ]
  },
  {
   "cell_type": "code",
   "execution_count": null,
   "id": "f9093d63",
   "metadata": {},
   "outputs": [],
   "source": [
    "text = 'Alarm set for 09:30 and 18:45.'\n",
    "\n",
    "# Your code here\n",
    "import re\n"
   ]
  },
  {
   "cell_type": "markdown",
   "id": "d0f1e412",
   "metadata": {},
   "source": [
    "## 33. Extract domain names\n",
    "**Task:** Extract domain names ending in .com or .io.\n",
    "\n",
    "💡 *Hint:* `\\b\\w+\\.(?:com|io)\\b`"
   ]
  },
  {
   "cell_type": "code",
   "execution_count": null,
   "id": "e98100f7",
   "metadata": {},
   "outputs": [],
   "source": [
    "text = 'Visit openai.com and github.io for more info.'\n",
    "\n",
    "# Your code here\n",
    "import re\n"
   ]
  },
  {
   "cell_type": "markdown",
   "id": "7bf5873f",
   "metadata": {},
   "source": [
    "## 34. Match floating point numbers\n",
    "**Task:** Find all floating point numbers.\n",
    "\n",
    "💡 *Hint:* `[+-]?\\d*\\.\\d+`"
   ]
  },
  {
   "cell_type": "code",
   "execution_count": null,
   "id": "0c707981",
   "metadata": {},
   "outputs": [],
   "source": [
    "text = 'Values: 1.23, -0.001, +45.6'\n",
    "\n",
    "# Your code here\n",
    "import re\n"
   ]
  },
  {
   "cell_type": "markdown",
   "id": "42194e16",
   "metadata": {},
   "source": [
    "## 35. Find words ending in 'ing'\n",
    "**Task:** Extract words ending in 'ing'.\n",
    "\n",
    "💡 *Hint:* `\\b\\w+ing\\b`"
   ]
  },
  {
   "cell_type": "code",
   "execution_count": null,
   "id": "7328d4a9",
   "metadata": {},
   "outputs": [],
   "source": [
    "text = 'I am running and jumping while coding.'\n",
    "\n",
    "# Your code here\n",
    "import re\n"
   ]
  },
  {
   "cell_type": "markdown",
   "id": "b1f9c094",
   "metadata": {},
   "source": [
    "## 36. Extract HTML tags\n",
    "**Task:** Extract all HTML tags.\n",
    "\n",
    "💡 *Hint:* `<[^>]+>`"
   ]
  },
  {
   "cell_type": "code",
   "execution_count": null,
   "id": "bdeb7653",
   "metadata": {},
   "outputs": [],
   "source": [
    "html = '<div><p>Text</p></div>'\n",
    "\n",
    "# Your code here\n",
    "import re\n"
   ]
  },
  {
   "cell_type": "markdown",
   "id": "9e33a514",
   "metadata": {},
   "source": [
    "## 37. Find duplicated words\n",
    "**Task:** Find duplicate consecutive words.\n",
    "\n",
    "💡 *Hint:* `\\b(\\w+)\\s+\\1\\b`"
   ]
  },
  {
   "cell_type": "code",
   "execution_count": null,
   "id": "7d5e8770",
   "metadata": {},
   "outputs": [],
   "source": [
    "text = 'This is is a test test line.'\n",
    "\n",
    "# Your code here\n",
    "import re\n"
   ]
  },
  {
   "cell_type": "markdown",
   "id": "965c5029",
   "metadata": {},
   "source": [
    "## 38. Extract markdown links\n",
    "**Task:** Extract markdown link text and URL.\n",
    "\n",
    "💡 *Hint:* `\\[(.*?)\\]\\((.*?)\\)`"
   ]
  },
  {
   "cell_type": "code",
   "execution_count": null,
   "id": "39b14ca3",
   "metadata": {},
   "outputs": [],
   "source": [
    "text = 'Check [Google](https://google.com)'\n",
    "\n",
    "# Your code here\n",
    "import re\n"
   ]
  },
  {
   "cell_type": "markdown",
   "id": "72146048",
   "metadata": {},
   "source": [
    "## 39. Validate hexadecimal numbers\n",
    "**Task:** Find all hexadecimal numbers.\n",
    "\n",
    "💡 *Hint:* `0[xX][0-9a-fA-F]+`"
   ]
  },
  {
   "cell_type": "code",
   "execution_count": null,
   "id": "7d401d7f",
   "metadata": {},
   "outputs": [],
   "source": [
    "text = 'Hex: 0x1A3, 0xff, 0XABC'\n",
    "\n",
    "# Your code here\n",
    "import re\n"
   ]
  },
  {
   "cell_type": "markdown",
   "id": "51cab4d7",
   "metadata": {},
   "source": [
    "## 40. Extract non-ASCII characters\n",
    "**Task:** Find all non-ASCII characters.\n",
    "\n",
    "💡 *Hint:* `[^\\x00-\\x7F]+`"
   ]
  },
  {
   "cell_type": "code",
   "execution_count": null,
   "id": "66a61382",
   "metadata": {},
   "outputs": [],
   "source": [
    "text = 'ASCII: A, Non-ASCII: ñ, ü'\n",
    "\n",
    "# Your code here\n",
    "import re\n"
   ]
  },
  {
   "cell_type": "markdown",
   "id": "94c9f583",
   "metadata": {},
   "source": [
    "## 41. Extract hex color codes\n",
    "**Task:** Extract all hex codes.\n",
    "\n",
    "💡 *Hint:* `#(?:[0-9a-fA-F]{3}){1,2}`"
   ]
  },
  {
   "cell_type": "code",
   "execution_count": null,
   "id": "8372bc2b",
   "metadata": {},
   "outputs": [],
   "source": [
    "colors = '#fff #123456 #abc #f1f1f1'\n",
    "\n",
    "# Your code here\n",
    "import re\n"
   ]
  },
  {
   "cell_type": "markdown",
   "id": "32ff2ed0",
   "metadata": {},
   "source": [
    "## 42. Find time in HH:MM format\n",
    "**Task:** Extract all HH:MM times.\n",
    "\n",
    "💡 *Hint:* `\\b\\d{2}:\\d{2}\\b`"
   ]
  },
  {
   "cell_type": "code",
   "execution_count": null,
   "id": "8b2f3245",
   "metadata": {},
   "outputs": [],
   "source": [
    "text = 'Alarm set for 09:30 and 18:45.'\n",
    "\n",
    "# Your code here\n",
    "import re\n"
   ]
  },
  {
   "cell_type": "markdown",
   "id": "9b76c4b9",
   "metadata": {},
   "source": [
    "## 43. Extract domain names\n",
    "**Task:** Extract domain names ending in .com or .io.\n",
    "\n",
    "💡 *Hint:* `\\b\\w+\\.(?:com|io)\\b`"
   ]
  },
  {
   "cell_type": "code",
   "execution_count": null,
   "id": "04b7666b",
   "metadata": {},
   "outputs": [],
   "source": [
    "text = 'Visit openai.com and github.io for more info.'\n",
    "\n",
    "# Your code here\n",
    "import re\n"
   ]
  },
  {
   "cell_type": "markdown",
   "id": "2fd7fd55",
   "metadata": {},
   "source": [
    "## 44. Match floating point numbers\n",
    "**Task:** Find all floating point numbers.\n",
    "\n",
    "💡 *Hint:* `[+-]?\\d*\\.\\d+`"
   ]
  },
  {
   "cell_type": "code",
   "execution_count": null,
   "id": "79f1c21b",
   "metadata": {},
   "outputs": [],
   "source": [
    "text = 'Values: 1.23, -0.001, +45.6'\n",
    "\n",
    "# Your code here\n",
    "import re\n"
   ]
  },
  {
   "cell_type": "markdown",
   "id": "73aa303c",
   "metadata": {},
   "source": [
    "## 45. Find words ending in 'ing'\n",
    "**Task:** Extract words ending in 'ing'.\n",
    "\n",
    "💡 *Hint:* `\\b\\w+ing\\b`"
   ]
  },
  {
   "cell_type": "code",
   "execution_count": null,
   "id": "d09bf086",
   "metadata": {},
   "outputs": [],
   "source": [
    "text = 'I am running and jumping while coding.'\n",
    "\n",
    "# Your code here\n",
    "import re\n"
   ]
  },
  {
   "cell_type": "markdown",
   "id": "8bb0ef0f",
   "metadata": {},
   "source": [
    "## 46. Extract HTML tags\n",
    "**Task:** Extract all HTML tags.\n",
    "\n",
    "💡 *Hint:* `<[^>]+>`"
   ]
  },
  {
   "cell_type": "code",
   "execution_count": null,
   "id": "03b2038e",
   "metadata": {},
   "outputs": [],
   "source": [
    "html = '<div><p>Text</p></div>'\n",
    "\n",
    "# Your code here\n",
    "import re\n"
   ]
  },
  {
   "cell_type": "markdown",
   "id": "aa4cbe23",
   "metadata": {},
   "source": [
    "## 47. Find duplicated words\n",
    "**Task:** Find duplicate consecutive words.\n",
    "\n",
    "💡 *Hint:* `\\b(\\w+)\\s+\\1\\b`"
   ]
  },
  {
   "cell_type": "code",
   "execution_count": null,
   "id": "467da831",
   "metadata": {},
   "outputs": [],
   "source": [
    "text = 'This is is a test test line.'\n",
    "\n",
    "# Your code here\n",
    "import re\n"
   ]
  },
  {
   "cell_type": "markdown",
   "id": "af94048a",
   "metadata": {},
   "source": [
    "## 48. Extract markdown links\n",
    "**Task:** Extract markdown link text and URL.\n",
    "\n",
    "💡 *Hint:* `\\[(.*?)\\]\\((.*?)\\)`"
   ]
  },
  {
   "cell_type": "code",
   "execution_count": null,
   "id": "509803b2",
   "metadata": {},
   "outputs": [],
   "source": [
    "text = 'Check [Google](https://google.com)'\n",
    "\n",
    "# Your code here\n",
    "import re\n"
   ]
  },
  {
   "cell_type": "markdown",
   "id": "2568962e",
   "metadata": {},
   "source": [
    "## 49. Validate hexadecimal numbers\n",
    "**Task:** Find all hexadecimal numbers.\n",
    "\n",
    "💡 *Hint:* `0[xX][0-9a-fA-F]+`"
   ]
  },
  {
   "cell_type": "code",
   "execution_count": null,
   "id": "82e459bf",
   "metadata": {},
   "outputs": [],
   "source": [
    "text = 'Hex: 0x1A3, 0xff, 0XABC'\n",
    "\n",
    "# Your code here\n",
    "import re\n"
   ]
  },
  {
   "cell_type": "markdown",
   "id": "22645ceb",
   "metadata": {},
   "source": [
    "## 50. Extract non-ASCII characters\n",
    "**Task:** Find all non-ASCII characters.\n",
    "\n",
    "💡 *Hint:* `[^\\x00-\\x7F]+`"
   ]
  },
  {
   "cell_type": "code",
   "execution_count": null,
   "id": "f324889c",
   "metadata": {},
   "outputs": [],
   "source": [
    "text = 'ASCII: A, Non-ASCII: ñ, ü'\n",
    "\n",
    "# Your code here\n",
    "import re\n"
   ]
  },
  {
   "cell_type": "markdown",
   "id": "23e5633c",
   "metadata": {},
   "source": [
    "## 51. Extract hex color codes\n",
    "**Task:** Extract all hex codes.\n",
    "\n",
    "💡 *Hint:* `#(?:[0-9a-fA-F]{3}){1,2}`"
   ]
  },
  {
   "cell_type": "code",
   "execution_count": null,
   "id": "ea6142b7",
   "metadata": {},
   "outputs": [],
   "source": [
    "colors = '#fff #123456 #abc #f1f1f1'\n",
    "\n",
    "# Your code here\n",
    "import re\n"
   ]
  },
  {
   "cell_type": "markdown",
   "id": "de8d9b5f",
   "metadata": {},
   "source": [
    "## 52. Find time in HH:MM format\n",
    "**Task:** Extract all HH:MM times.\n",
    "\n",
    "💡 *Hint:* `\\b\\d{2}:\\d{2}\\b`"
   ]
  },
  {
   "cell_type": "code",
   "execution_count": null,
   "id": "01bdd030",
   "metadata": {},
   "outputs": [],
   "source": [
    "text = 'Alarm set for 09:30 and 18:45.'\n",
    "\n",
    "# Your code here\n",
    "import re\n"
   ]
  },
  {
   "cell_type": "markdown",
   "id": "bf4cf88d",
   "metadata": {},
   "source": [
    "## 53. Extract domain names\n",
    "**Task:** Extract domain names ending in .com or .io.\n",
    "\n",
    "💡 *Hint:* `\\b\\w+\\.(?:com|io)\\b`"
   ]
  },
  {
   "cell_type": "code",
   "execution_count": null,
   "id": "81638d1d",
   "metadata": {},
   "outputs": [],
   "source": [
    "text = 'Visit openai.com and github.io for more info.'\n",
    "\n",
    "# Your code here\n",
    "import re\n"
   ]
  },
  {
   "cell_type": "markdown",
   "id": "3f517688",
   "metadata": {},
   "source": [
    "## 54. Match floating point numbers\n",
    "**Task:** Find all floating point numbers.\n",
    "\n",
    "💡 *Hint:* `[+-]?\\d*\\.\\d+`"
   ]
  },
  {
   "cell_type": "code",
   "execution_count": null,
   "id": "1225a338",
   "metadata": {},
   "outputs": [],
   "source": [
    "text = 'Values: 1.23, -0.001, +45.6'\n",
    "\n",
    "# Your code here\n",
    "import re\n"
   ]
  },
  {
   "cell_type": "markdown",
   "id": "23497903",
   "metadata": {},
   "source": [
    "## 55. Find words ending in 'ing'\n",
    "**Task:** Extract words ending in 'ing'.\n",
    "\n",
    "💡 *Hint:* `\\b\\w+ing\\b`"
   ]
  },
  {
   "cell_type": "code",
   "execution_count": null,
   "id": "12aee5ec",
   "metadata": {},
   "outputs": [],
   "source": [
    "text = 'I am running and jumping while coding.'\n",
    "\n",
    "# Your code here\n",
    "import re\n"
   ]
  },
  {
   "cell_type": "markdown",
   "id": "46435d9e",
   "metadata": {},
   "source": [
    "## 56. Extract HTML tags\n",
    "**Task:** Extract all HTML tags.\n",
    "\n",
    "💡 *Hint:* `<[^>]+>`"
   ]
  },
  {
   "cell_type": "code",
   "execution_count": null,
   "id": "4444883d",
   "metadata": {},
   "outputs": [],
   "source": [
    "html = '<div><p>Text</p></div>'\n",
    "\n",
    "# Your code here\n",
    "import re\n"
   ]
  },
  {
   "cell_type": "markdown",
   "id": "b40439ce",
   "metadata": {},
   "source": [
    "## 57. Find duplicated words\n",
    "**Task:** Find duplicate consecutive words.\n",
    "\n",
    "💡 *Hint:* `\\b(\\w+)\\s+\\1\\b`"
   ]
  },
  {
   "cell_type": "code",
   "execution_count": null,
   "id": "710b8bcd",
   "metadata": {},
   "outputs": [],
   "source": [
    "text = 'This is is a test test line.'\n",
    "\n",
    "# Your code here\n",
    "import re\n"
   ]
  },
  {
   "cell_type": "markdown",
   "id": "083b4b8d",
   "metadata": {},
   "source": [
    "## 58. Extract markdown links\n",
    "**Task:** Extract markdown link text and URL.\n",
    "\n",
    "💡 *Hint:* `\\[(.*?)\\]\\((.*?)\\)`"
   ]
  },
  {
   "cell_type": "code",
   "execution_count": null,
   "id": "c5a26268",
   "metadata": {},
   "outputs": [],
   "source": [
    "text = 'Check [Google](https://google.com)'\n",
    "\n",
    "# Your code here\n",
    "import re\n"
   ]
  },
  {
   "cell_type": "markdown",
   "id": "b97e39c4",
   "metadata": {},
   "source": [
    "## 59. Validate hexadecimal numbers\n",
    "**Task:** Find all hexadecimal numbers.\n",
    "\n",
    "💡 *Hint:* `0[xX][0-9a-fA-F]+`"
   ]
  },
  {
   "cell_type": "code",
   "execution_count": null,
   "id": "5156d821",
   "metadata": {},
   "outputs": [],
   "source": [
    "text = 'Hex: 0x1A3, 0xff, 0XABC'\n",
    "\n",
    "# Your code here\n",
    "import re\n"
   ]
  },
  {
   "cell_type": "markdown",
   "id": "997903a2",
   "metadata": {},
   "source": [
    "## 60. Extract non-ASCII characters\n",
    "**Task:** Find all non-ASCII characters.\n",
    "\n",
    "💡 *Hint:* `[^\\x00-\\x7F]+`"
   ]
  },
  {
   "cell_type": "code",
   "execution_count": null,
   "id": "f3afe1b6",
   "metadata": {},
   "outputs": [],
   "source": [
    "text = 'ASCII: A, Non-ASCII: ñ, ü'\n",
    "\n",
    "# Your code here\n",
    "import re\n"
   ]
  },
  {
   "cell_type": "markdown",
   "id": "ea2a2ce1",
   "metadata": {},
   "source": [
    "## 61. Extract hex color codes\n",
    "**Task:** Extract all hex codes.\n",
    "\n",
    "💡 *Hint:* `#(?:[0-9a-fA-F]{3}){1,2}`"
   ]
  },
  {
   "cell_type": "code",
   "execution_count": null,
   "id": "9b07bd0d",
   "metadata": {},
   "outputs": [],
   "source": [
    "colors = '#fff #123456 #abc #f1f1f1'\n",
    "\n",
    "# Your code here\n",
    "import re\n"
   ]
  },
  {
   "cell_type": "markdown",
   "id": "de542694",
   "metadata": {},
   "source": [
    "## 62. Find time in HH:MM format\n",
    "**Task:** Extract all HH:MM times.\n",
    "\n",
    "💡 *Hint:* `\\b\\d{2}:\\d{2}\\b`"
   ]
  },
  {
   "cell_type": "code",
   "execution_count": null,
   "id": "69c9e06e",
   "metadata": {},
   "outputs": [],
   "source": [
    "text = 'Alarm set for 09:30 and 18:45.'\n",
    "\n",
    "# Your code here\n",
    "import re\n"
   ]
  },
  {
   "cell_type": "markdown",
   "id": "c89c57aa",
   "metadata": {},
   "source": [
    "## 63. Extract domain names\n",
    "**Task:** Extract domain names ending in .com or .io.\n",
    "\n",
    "💡 *Hint:* `\\b\\w+\\.(?:com|io)\\b`"
   ]
  },
  {
   "cell_type": "code",
   "execution_count": null,
   "id": "63765458",
   "metadata": {},
   "outputs": [],
   "source": [
    "text = 'Visit openai.com and github.io for more info.'\n",
    "\n",
    "# Your code here\n",
    "import re\n"
   ]
  },
  {
   "cell_type": "markdown",
   "id": "56fa490f",
   "metadata": {},
   "source": [
    "## 64. Match floating point numbers\n",
    "**Task:** Find all floating point numbers.\n",
    "\n",
    "💡 *Hint:* `[+-]?\\d*\\.\\d+`"
   ]
  },
  {
   "cell_type": "code",
   "execution_count": null,
   "id": "e747f758",
   "metadata": {},
   "outputs": [],
   "source": [
    "text = 'Values: 1.23, -0.001, +45.6'\n",
    "\n",
    "# Your code here\n",
    "import re\n"
   ]
  },
  {
   "cell_type": "markdown",
   "id": "df7f87cf",
   "metadata": {},
   "source": [
    "## 65. Find words ending in 'ing'\n",
    "**Task:** Extract words ending in 'ing'.\n",
    "\n",
    "💡 *Hint:* `\\b\\w+ing\\b`"
   ]
  },
  {
   "cell_type": "code",
   "execution_count": null,
   "id": "87b2c219",
   "metadata": {},
   "outputs": [],
   "source": [
    "text = 'I am running and jumping while coding.'\n",
    "\n",
    "# Your code here\n",
    "import re\n"
   ]
  },
  {
   "cell_type": "markdown",
   "id": "c8085e3a",
   "metadata": {},
   "source": [
    "## 66. Extract HTML tags\n",
    "**Task:** Extract all HTML tags.\n",
    "\n",
    "💡 *Hint:* `<[^>]+>`"
   ]
  },
  {
   "cell_type": "code",
   "execution_count": null,
   "id": "35b37a87",
   "metadata": {},
   "outputs": [],
   "source": [
    "html = '<div><p>Text</p></div>'\n",
    "\n",
    "# Your code here\n",
    "import re\n"
   ]
  },
  {
   "cell_type": "markdown",
   "id": "5bc89e74",
   "metadata": {},
   "source": [
    "## 67. Find duplicated words\n",
    "**Task:** Find duplicate consecutive words.\n",
    "\n",
    "💡 *Hint:* `\\b(\\w+)\\s+\\1\\b`"
   ]
  },
  {
   "cell_type": "code",
   "execution_count": null,
   "id": "6ec61fd6",
   "metadata": {},
   "outputs": [],
   "source": [
    "text = 'This is is a test test line.'\n",
    "\n",
    "# Your code here\n",
    "import re\n"
   ]
  },
  {
   "cell_type": "markdown",
   "id": "ec5cc485",
   "metadata": {},
   "source": [
    "## 68. Extract markdown links\n",
    "**Task:** Extract markdown link text and URL.\n",
    "\n",
    "💡 *Hint:* `\\[(.*?)\\]\\((.*?)\\)`"
   ]
  },
  {
   "cell_type": "code",
   "execution_count": null,
   "id": "ad518122",
   "metadata": {},
   "outputs": [],
   "source": [
    "text = 'Check [Google](https://google.com)'\n",
    "\n",
    "# Your code here\n",
    "import re\n"
   ]
  },
  {
   "cell_type": "markdown",
   "id": "6c999db8",
   "metadata": {},
   "source": [
    "## 69. Validate hexadecimal numbers\n",
    "**Task:** Find all hexadecimal numbers.\n",
    "\n",
    "💡 *Hint:* `0[xX][0-9a-fA-F]+`"
   ]
  },
  {
   "cell_type": "code",
   "execution_count": null,
   "id": "7c68f559",
   "metadata": {},
   "outputs": [],
   "source": [
    "text = 'Hex: 0x1A3, 0xff, 0XABC'\n",
    "\n",
    "# Your code here\n",
    "import re\n"
   ]
  },
  {
   "cell_type": "markdown",
   "id": "6e1f9497",
   "metadata": {},
   "source": [
    "## 70. Extract non-ASCII characters\n",
    "**Task:** Find all non-ASCII characters.\n",
    "\n",
    "💡 *Hint:* `[^\\x00-\\x7F]+`"
   ]
  },
  {
   "cell_type": "code",
   "execution_count": null,
   "id": "17ccf912",
   "metadata": {},
   "outputs": [],
   "source": [
    "text = 'ASCII: A, Non-ASCII: ñ, ü'\n",
    "\n",
    "# Your code here\n",
    "import re\n"
   ]
  },
  {
   "cell_type": "markdown",
   "id": "75459571",
   "metadata": {},
   "source": [
    "## 71. Extract hex color codes\n",
    "**Task:** Extract all hex codes.\n",
    "\n",
    "💡 *Hint:* `#(?:[0-9a-fA-F]{3}){1,2}`"
   ]
  },
  {
   "cell_type": "code",
   "execution_count": null,
   "id": "a5e952ec",
   "metadata": {},
   "outputs": [],
   "source": [
    "colors = '#fff #123456 #abc #f1f1f1'\n",
    "\n",
    "# Your code here\n",
    "import re\n"
   ]
  },
  {
   "cell_type": "markdown",
   "id": "1a152dbd",
   "metadata": {},
   "source": [
    "## 72. Find time in HH:MM format\n",
    "**Task:** Extract all HH:MM times.\n",
    "\n",
    "💡 *Hint:* `\\b\\d{2}:\\d{2}\\b`"
   ]
  },
  {
   "cell_type": "code",
   "execution_count": null,
   "id": "a220aad4",
   "metadata": {},
   "outputs": [],
   "source": [
    "text = 'Alarm set for 09:30 and 18:45.'\n",
    "\n",
    "# Your code here\n",
    "import re\n"
   ]
  },
  {
   "cell_type": "markdown",
   "id": "217e64a2",
   "metadata": {},
   "source": [
    "## 73. Extract domain names\n",
    "**Task:** Extract domain names ending in .com or .io.\n",
    "\n",
    "💡 *Hint:* `\\b\\w+\\.(?:com|io)\\b`"
   ]
  },
  {
   "cell_type": "code",
   "execution_count": null,
   "id": "673dc469",
   "metadata": {},
   "outputs": [],
   "source": [
    "text = 'Visit openai.com and github.io for more info.'\n",
    "\n",
    "# Your code here\n",
    "import re\n"
   ]
  },
  {
   "cell_type": "markdown",
   "id": "8df9b046",
   "metadata": {},
   "source": [
    "## 74. Match floating point numbers\n",
    "**Task:** Find all floating point numbers.\n",
    "\n",
    "💡 *Hint:* `[+-]?\\d*\\.\\d+`"
   ]
  },
  {
   "cell_type": "code",
   "execution_count": null,
   "id": "762cd6ad",
   "metadata": {},
   "outputs": [],
   "source": [
    "text = 'Values: 1.23, -0.001, +45.6'\n",
    "\n",
    "# Your code here\n",
    "import re\n"
   ]
  },
  {
   "cell_type": "markdown",
   "id": "e32269bb",
   "metadata": {},
   "source": [
    "## 75. Find words ending in 'ing'\n",
    "**Task:** Extract words ending in 'ing'.\n",
    "\n",
    "💡 *Hint:* `\\b\\w+ing\\b`"
   ]
  },
  {
   "cell_type": "code",
   "execution_count": null,
   "id": "e9225d1e",
   "metadata": {},
   "outputs": [],
   "source": [
    "text = 'I am running and jumping while coding.'\n",
    "\n",
    "# Your code here\n",
    "import re\n"
   ]
  },
  {
   "cell_type": "markdown",
   "id": "9ce24f40",
   "metadata": {},
   "source": [
    "## 76. Extract HTML tags\n",
    "**Task:** Extract all HTML tags.\n",
    "\n",
    "💡 *Hint:* `<[^>]+>`"
   ]
  },
  {
   "cell_type": "code",
   "execution_count": null,
   "id": "3267a702",
   "metadata": {},
   "outputs": [],
   "source": [
    "html = '<div><p>Text</p></div>'\n",
    "\n",
    "# Your code here\n",
    "import re\n"
   ]
  },
  {
   "cell_type": "markdown",
   "id": "bfaacf69",
   "metadata": {},
   "source": [
    "## 77. Find duplicated words\n",
    "**Task:** Find duplicate consecutive words.\n",
    "\n",
    "💡 *Hint:* `\\b(\\w+)\\s+\\1\\b`"
   ]
  },
  {
   "cell_type": "code",
   "execution_count": null,
   "id": "26d1d34a",
   "metadata": {},
   "outputs": [],
   "source": [
    "text = 'This is is a test test line.'\n",
    "\n",
    "# Your code here\n",
    "import re\n"
   ]
  },
  {
   "cell_type": "markdown",
   "id": "8dcb0940",
   "metadata": {},
   "source": [
    "## 78. Extract markdown links\n",
    "**Task:** Extract markdown link text and URL.\n",
    "\n",
    "💡 *Hint:* `\\[(.*?)\\]\\((.*?)\\)`"
   ]
  },
  {
   "cell_type": "code",
   "execution_count": null,
   "id": "585103ad",
   "metadata": {},
   "outputs": [],
   "source": [
    "text = 'Check [Google](https://google.com)'\n",
    "\n",
    "# Your code here\n",
    "import re\n"
   ]
  },
  {
   "cell_type": "markdown",
   "id": "bad69a50",
   "metadata": {},
   "source": [
    "## 79. Validate hexadecimal numbers\n",
    "**Task:** Find all hexadecimal numbers.\n",
    "\n",
    "💡 *Hint:* `0[xX][0-9a-fA-F]+`"
   ]
  },
  {
   "cell_type": "code",
   "execution_count": null,
   "id": "30674898",
   "metadata": {},
   "outputs": [],
   "source": [
    "text = 'Hex: 0x1A3, 0xff, 0XABC'\n",
    "\n",
    "# Your code here\n",
    "import re\n"
   ]
  },
  {
   "cell_type": "markdown",
   "id": "d526e4a9",
   "metadata": {},
   "source": [
    "## 80. Extract non-ASCII characters\n",
    "**Task:** Find all non-ASCII characters.\n",
    "\n",
    "💡 *Hint:* `[^\\x00-\\x7F]+`"
   ]
  },
  {
   "cell_type": "code",
   "execution_count": null,
   "id": "2f7cfd76",
   "metadata": {},
   "outputs": [],
   "source": [
    "text = 'ASCII: A, Non-ASCII: ñ, ü'\n",
    "\n",
    "# Your code here\n",
    "import re\n"
   ]
  },
  {
   "cell_type": "markdown",
   "id": "9ab8a7a7",
   "metadata": {},
   "source": [
    "## 81. Extract hex color codes\n",
    "**Task:** Extract all hex codes.\n",
    "\n",
    "💡 *Hint:* `#(?:[0-9a-fA-F]{3}){1,2}`"
   ]
  },
  {
   "cell_type": "code",
   "execution_count": null,
   "id": "17d26fb4",
   "metadata": {},
   "outputs": [],
   "source": [
    "colors = '#fff #123456 #abc #f1f1f1'\n",
    "\n",
    "# Your code here\n",
    "import re\n"
   ]
  },
  {
   "cell_type": "markdown",
   "id": "77444fae",
   "metadata": {},
   "source": [
    "## 82. Find time in HH:MM format\n",
    "**Task:** Extract all HH:MM times.\n",
    "\n",
    "💡 *Hint:* `\\b\\d{2}:\\d{2}\\b`"
   ]
  },
  {
   "cell_type": "code",
   "execution_count": null,
   "id": "f02ef33a",
   "metadata": {},
   "outputs": [],
   "source": [
    "text = 'Alarm set for 09:30 and 18:45.'\n",
    "\n",
    "# Your code here\n",
    "import re\n"
   ]
  },
  {
   "cell_type": "markdown",
   "id": "cf9bf136",
   "metadata": {},
   "source": [
    "## 83. Extract domain names\n",
    "**Task:** Extract domain names ending in .com or .io.\n",
    "\n",
    "💡 *Hint:* `\\b\\w+\\.(?:com|io)\\b`"
   ]
  },
  {
   "cell_type": "code",
   "execution_count": null,
   "id": "4d580e49",
   "metadata": {},
   "outputs": [],
   "source": [
    "text = 'Visit openai.com and github.io for more info.'\n",
    "\n",
    "# Your code here\n",
    "import re\n"
   ]
  },
  {
   "cell_type": "markdown",
   "id": "fab8b7d1",
   "metadata": {},
   "source": [
    "## 84. Match floating point numbers\n",
    "**Task:** Find all floating point numbers.\n",
    "\n",
    "💡 *Hint:* `[+-]?\\d*\\.\\d+`"
   ]
  },
  {
   "cell_type": "code",
   "execution_count": null,
   "id": "3f508dbd",
   "metadata": {},
   "outputs": [],
   "source": [
    "text = 'Values: 1.23, -0.001, +45.6'\n",
    "\n",
    "# Your code here\n",
    "import re\n"
   ]
  },
  {
   "cell_type": "markdown",
   "id": "814a2ab0",
   "metadata": {},
   "source": [
    "## 85. Find words ending in 'ing'\n",
    "**Task:** Extract words ending in 'ing'.\n",
    "\n",
    "💡 *Hint:* `\\b\\w+ing\\b`"
   ]
  },
  {
   "cell_type": "code",
   "execution_count": null,
   "id": "ca287933",
   "metadata": {},
   "outputs": [],
   "source": [
    "text = 'I am running and jumping while coding.'\n",
    "\n",
    "# Your code here\n",
    "import re\n"
   ]
  },
  {
   "cell_type": "markdown",
   "id": "bef35203",
   "metadata": {},
   "source": [
    "## 86. Extract HTML tags\n",
    "**Task:** Extract all HTML tags.\n",
    "\n",
    "💡 *Hint:* `<[^>]+>`"
   ]
  },
  {
   "cell_type": "code",
   "execution_count": null,
   "id": "68fc5910",
   "metadata": {},
   "outputs": [],
   "source": [
    "html = '<div><p>Text</p></div>'\n",
    "\n",
    "# Your code here\n",
    "import re\n"
   ]
  },
  {
   "cell_type": "markdown",
   "id": "35a86d35",
   "metadata": {},
   "source": [
    "## 87. Find duplicated words\n",
    "**Task:** Find duplicate consecutive words.\n",
    "\n",
    "💡 *Hint:* `\\b(\\w+)\\s+\\1\\b`"
   ]
  },
  {
   "cell_type": "code",
   "execution_count": null,
   "id": "8e9df098",
   "metadata": {},
   "outputs": [],
   "source": [
    "text = 'This is is a test test line.'\n",
    "\n",
    "# Your code here\n",
    "import re\n"
   ]
  },
  {
   "cell_type": "markdown",
   "id": "d26ed12b",
   "metadata": {},
   "source": [
    "## 88. Extract markdown links\n",
    "**Task:** Extract markdown link text and URL.\n",
    "\n",
    "💡 *Hint:* `\\[(.*?)\\]\\((.*?)\\)`"
   ]
  },
  {
   "cell_type": "code",
   "execution_count": null,
   "id": "4bd52ccd",
   "metadata": {},
   "outputs": [],
   "source": [
    "text = 'Check [Google](https://google.com)'\n",
    "\n",
    "# Your code here\n",
    "import re\n"
   ]
  },
  {
   "cell_type": "markdown",
   "id": "5653c24d",
   "metadata": {},
   "source": [
    "## 89. Validate hexadecimal numbers\n",
    "**Task:** Find all hexadecimal numbers.\n",
    "\n",
    "💡 *Hint:* `0[xX][0-9a-fA-F]+`"
   ]
  },
  {
   "cell_type": "code",
   "execution_count": null,
   "id": "4e0782fc",
   "metadata": {},
   "outputs": [],
   "source": [
    "text = 'Hex: 0x1A3, 0xff, 0XABC'\n",
    "\n",
    "# Your code here\n",
    "import re\n"
   ]
  },
  {
   "cell_type": "markdown",
   "id": "f5310dfe",
   "metadata": {},
   "source": [
    "## 90. Extract non-ASCII characters\n",
    "**Task:** Find all non-ASCII characters.\n",
    "\n",
    "💡 *Hint:* `[^\\x00-\\x7F]+`"
   ]
  },
  {
   "cell_type": "code",
   "execution_count": null,
   "id": "bc65ff27",
   "metadata": {},
   "outputs": [],
   "source": [
    "text = 'ASCII: A, Non-ASCII: ñ, ü'\n",
    "\n",
    "# Your code here\n",
    "import re\n"
   ]
  },
  {
   "cell_type": "markdown",
   "id": "41902f9b",
   "metadata": {},
   "source": [
    "## 91. Extract hex color codes\n",
    "**Task:** Extract all hex codes.\n",
    "\n",
    "💡 *Hint:* `#(?:[0-9a-fA-F]{3}){1,2}`"
   ]
  },
  {
   "cell_type": "code",
   "execution_count": null,
   "id": "ba790f51",
   "metadata": {},
   "outputs": [],
   "source": [
    "colors = '#fff #123456 #abc #f1f1f1'\n",
    "\n",
    "# Your code here\n",
    "import re\n"
   ]
  },
  {
   "cell_type": "markdown",
   "id": "a543a69c",
   "metadata": {},
   "source": [
    "## 92. Find time in HH:MM format\n",
    "**Task:** Extract all HH:MM times.\n",
    "\n",
    "💡 *Hint:* `\\b\\d{2}:\\d{2}\\b`"
   ]
  },
  {
   "cell_type": "code",
   "execution_count": null,
   "id": "65816bec",
   "metadata": {},
   "outputs": [],
   "source": [
    "text = 'Alarm set for 09:30 and 18:45.'\n",
    "\n",
    "# Your code here\n",
    "import re\n"
   ]
  },
  {
   "cell_type": "markdown",
   "id": "fc86fe49",
   "metadata": {},
   "source": [
    "## 93. Extract domain names\n",
    "**Task:** Extract domain names ending in .com or .io.\n",
    "\n",
    "💡 *Hint:* `\\b\\w+\\.(?:com|io)\\b`"
   ]
  },
  {
   "cell_type": "code",
   "execution_count": null,
   "id": "11bd1cda",
   "metadata": {},
   "outputs": [],
   "source": [
    "text = 'Visit openai.com and github.io for more info.'\n",
    "\n",
    "# Your code here\n",
    "import re\n"
   ]
  },
  {
   "cell_type": "markdown",
   "id": "f0e3579d",
   "metadata": {},
   "source": [
    "## 94. Match floating point numbers\n",
    "**Task:** Find all floating point numbers.\n",
    "\n",
    "💡 *Hint:* `[+-]?\\d*\\.\\d+`"
   ]
  },
  {
   "cell_type": "code",
   "execution_count": null,
   "id": "48d29c69",
   "metadata": {},
   "outputs": [],
   "source": [
    "text = 'Values: 1.23, -0.001, +45.6'\n",
    "\n",
    "# Your code here\n",
    "import re\n"
   ]
  },
  {
   "cell_type": "markdown",
   "id": "a3d2e332",
   "metadata": {},
   "source": [
    "## 95. Find words ending in 'ing'\n",
    "**Task:** Extract words ending in 'ing'.\n",
    "\n",
    "💡 *Hint:* `\\b\\w+ing\\b`"
   ]
  },
  {
   "cell_type": "code",
   "execution_count": null,
   "id": "e576cc19",
   "metadata": {},
   "outputs": [],
   "source": [
    "text = 'I am running and jumping while coding.'\n",
    "\n",
    "# Your code here\n",
    "import re\n"
   ]
  },
  {
   "cell_type": "markdown",
   "id": "8bdf5b96",
   "metadata": {},
   "source": [
    "## 96. Extract HTML tags\n",
    "**Task:** Extract all HTML tags.\n",
    "\n",
    "💡 *Hint:* `<[^>]+>`"
   ]
  },
  {
   "cell_type": "code",
   "execution_count": null,
   "id": "f5d7d6bc",
   "metadata": {},
   "outputs": [],
   "source": [
    "html = '<div><p>Text</p></div>'\n",
    "\n",
    "# Your code here\n",
    "import re\n"
   ]
  },
  {
   "cell_type": "markdown",
   "id": "c3a4a6d1",
   "metadata": {},
   "source": [
    "## 97. Find duplicated words\n",
    "**Task:** Find duplicate consecutive words.\n",
    "\n",
    "💡 *Hint:* `\\b(\\w+)\\s+\\1\\b`"
   ]
  },
  {
   "cell_type": "code",
   "execution_count": null,
   "id": "fa8fbb24",
   "metadata": {},
   "outputs": [],
   "source": [
    "text = 'This is is a test test line.'\n",
    "\n",
    "# Your code here\n",
    "import re\n"
   ]
  },
  {
   "cell_type": "markdown",
   "id": "b5f60ae6",
   "metadata": {},
   "source": [
    "## 98. Extract markdown links\n",
    "**Task:** Extract markdown link text and URL.\n",
    "\n",
    "💡 *Hint:* `\\[(.*?)\\]\\((.*?)\\)`"
   ]
  },
  {
   "cell_type": "code",
   "execution_count": null,
   "id": "93c1444e",
   "metadata": {},
   "outputs": [],
   "source": [
    "text = 'Check [Google](https://google.com)'\n",
    "\n",
    "# Your code here\n",
    "import re\n"
   ]
  },
  {
   "cell_type": "markdown",
   "id": "0dd6b49e",
   "metadata": {},
   "source": [
    "## 99. Validate hexadecimal numbers\n",
    "**Task:** Find all hexadecimal numbers.\n",
    "\n",
    "💡 *Hint:* `0[xX][0-9a-fA-F]+`"
   ]
  },
  {
   "cell_type": "code",
   "execution_count": null,
   "id": "c4d51f3a",
   "metadata": {},
   "outputs": [],
   "source": [
    "text = 'Hex: 0x1A3, 0xff, 0XABC'\n",
    "\n",
    "# Your code here\n",
    "import re\n"
   ]
  },
  {
   "cell_type": "markdown",
   "id": "fcd65084",
   "metadata": {},
   "source": [
    "## 100. Extract non-ASCII characters\n",
    "**Task:** Find all non-ASCII characters.\n",
    "\n",
    "💡 *Hint:* `[^\\x00-\\x7F]+`"
   ]
  },
  {
   "cell_type": "code",
   "execution_count": null,
   "id": "f5c5161e",
   "metadata": {},
   "outputs": [],
   "source": [
    "text = 'ASCII: A, Non-ASCII: ñ, ü'\n",
    "\n",
    "# Your code here\n",
    "import re\n"
   ]
  }
 ],
 "metadata": {},
 "nbformat": 4,
 "nbformat_minor": 5
}