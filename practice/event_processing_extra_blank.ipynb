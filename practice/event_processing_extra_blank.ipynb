{
 "cells": [
  {
   "cell_type": "markdown",
   "id": "691f7abb",
   "metadata": {},
   "source": [
    "# 20 More Event‑Processing Interview Problems (Stdlib‑Only, **No Solutions**)\n",
    "\n",
    "*Each problem gives you a full task statement, a hint listing the stdlib constructs you’ll likely need, and a starter code cell.*\n",
    "\n",
    "All problems presume events shaped like:\n",
    "\n",
    "```python\n",
    "{\n",
    "    \"id\": int,\n",
    "    \"ts\": \"ISO‑8601 string\",\n",
    "    \"user\": \"user42\",\n",
    "    \"type\": \"LOGIN\" | \"VIEW\" | \"PURCHASE\" | ...,\n",
    "    \"payload\": {\"value\": int, ...}\n",
    "}\n",
    "```\n",
    "\n",
    "Use the generator below or plug in your own dataset.\n"
   ]
  },
  {
   "cell_type": "markdown",
   "id": "53d0ba5e",
   "metadata": {},
   "source": [
    "## Optional Helper – Synthetic Event Generator"
   ]
  },
  {
   "cell_type": "code",
   "execution_count": 5,
   "id": "3345ea48",
   "metadata": {},
   "outputs": [],
   "source": [
    "\n",
    "import random\n",
    "from datetime import datetime, timedelta\n",
    "\n",
    "EVENT_TYPES = [\"CLICK\", \"VIEW\", \"LOGIN\", \"PURCHASE\", \"LOGOUT\"]\n",
    "random.seed(1337)\n",
    "\n",
    "fixed_now = datetime(2024, 6, 14, 12, 0, 0)\n",
    "start, end = fixed_now - timedelta(days=7), fixed_now\n",
    "\n",
    "def _rand_ts(start, end):\n",
    "    delta = end - start\n",
    "    return start + timedelta(seconds=random.randint(0, int(delta.total_seconds())))\n",
    "\n",
    "def generate_events(n=1000):\n",
    "    for i in range(n):\n",
    "        yield {\n",
    "            \"id\": i,\n",
    "            \"ts\": _rand_ts(start, end).isoformat(),\n",
    "            \"user\": f\"user{random.randint(1, 200)}\",\n",
    "            \"type\": random.choice(EVENT_TYPES),\n",
    "            \"payload\": {\"value\": random.randint(1, 10000)}\n",
    "        }\n",
    "        \n"
   ]
  },
  {
   "cell_type": "markdown",
   "id": "e1451b30",
   "metadata": {},
   "source": [
    "---\n",
    "\n",
    "### Problem 1 – Hourly Event Histogram\n",
    "\n",
    "**Task**  \n",
    "Count how many events fall into each **hour of the day** (0‑23) and return a dict like `{hour: count}`.\n",
    "\n",
    "**Hint – stdlib tools to consider** → datetime, collections.Counter\n"
   ]
  },
  {
   "cell_type": "code",
   "execution_count": 83,
   "id": "6a412f2f",
   "metadata": {},
   "outputs": [],
   "source": [
    "# TODO – your code for Problem 1\n",
    "evs = generate_events(100)"
   ]
  },
  {
   "cell_type": "code",
   "execution_count": 65,
   "id": "bc3a50f2",
   "metadata": {},
   "outputs": [],
   "source": [
    "import pandas as pd\n",
    "\n",
    "df = pd.DataFrame(columns=[\"id\", \"ts\", \"user\", \"type\", \"value\"])\n",
    "for ev in evs:\n",
    "    flat_ev = {**ev, \"value\": ev['payload']['value']}\n",
    "    df.loc[len(df)] = flat_ev\n",
    "\n",
    "df[\"ts\"] = pd.to_datetime(df[\"ts\"])"
   ]
  },
  {
   "cell_type": "code",
   "execution_count": 66,
   "id": "77ccb235",
   "metadata": {},
   "outputs": [
    {
     "data": {
      "text/html": [
       "<div>\n",
       "<style scoped>\n",
       "    .dataframe tbody tr th:only-of-type {\n",
       "        vertical-align: middle;\n",
       "    }\n",
       "\n",
       "    .dataframe tbody tr th {\n",
       "        vertical-align: top;\n",
       "    }\n",
       "\n",
       "    .dataframe thead th {\n",
       "        text-align: right;\n",
       "    }\n",
       "</style>\n",
       "<table border=\"1\" class=\"dataframe\">\n",
       "  <thead>\n",
       "    <tr style=\"text-align: right;\">\n",
       "      <th></th>\n",
       "      <th>id</th>\n",
       "      <th>ts</th>\n",
       "      <th>user</th>\n",
       "      <th>type</th>\n",
       "      <th>value</th>\n",
       "    </tr>\n",
       "  </thead>\n",
       "  <tbody>\n",
       "    <tr>\n",
       "      <th>0</th>\n",
       "      <td>0</td>\n",
       "      <td>2025-06-13 14:13:43.413729</td>\n",
       "      <td>user71</td>\n",
       "      <td>PURCHASE</td>\n",
       "      <td>6861</td>\n",
       "    </tr>\n",
       "    <tr>\n",
       "      <th>1</th>\n",
       "      <td>1</td>\n",
       "      <td>2025-06-13 09:09:41.413729</td>\n",
       "      <td>user78</td>\n",
       "      <td>VIEW</td>\n",
       "      <td>2092</td>\n",
       "    </tr>\n",
       "    <tr>\n",
       "      <th>2</th>\n",
       "      <td>2</td>\n",
       "      <td>2025-06-13 14:51:02.413729</td>\n",
       "      <td>user78</td>\n",
       "      <td>LOGOUT</td>\n",
       "      <td>6993</td>\n",
       "    </tr>\n",
       "    <tr>\n",
       "      <th>3</th>\n",
       "      <td>3</td>\n",
       "      <td>2025-06-13 16:29:46.413729</td>\n",
       "      <td>user6</td>\n",
       "      <td>PURCHASE</td>\n",
       "      <td>5556</td>\n",
       "    </tr>\n",
       "    <tr>\n",
       "      <th>4</th>\n",
       "      <td>4</td>\n",
       "      <td>2025-06-13 12:26:26.413729</td>\n",
       "      <td>user184</td>\n",
       "      <td>PURCHASE</td>\n",
       "      <td>5665</td>\n",
       "    </tr>\n",
       "  </tbody>\n",
       "</table>\n",
       "</div>"
      ],
      "text/plain": [
       "   id                         ts     user      type  value\n",
       "0   0 2025-06-13 14:13:43.413729   user71  PURCHASE   6861\n",
       "1   1 2025-06-13 09:09:41.413729   user78      VIEW   2092\n",
       "2   2 2025-06-13 14:51:02.413729   user78    LOGOUT   6993\n",
       "3   3 2025-06-13 16:29:46.413729    user6  PURCHASE   5556\n",
       "4   4 2025-06-13 12:26:26.413729  user184  PURCHASE   5665"
      ]
     },
     "execution_count": 66,
     "metadata": {},
     "output_type": "execute_result"
    }
   ],
   "source": [
    "df.head()"
   ]
  },
  {
   "cell_type": "code",
   "execution_count": 71,
   "id": "53dc2d08",
   "metadata": {},
   "outputs": [],
   "source": [
    "# Correct syntax - pass grouping keys as a list\n",
    "hourly_counts = df.groupby(df[\"ts\"].dt.hour).size()"
   ]
  },
  {
   "cell_type": "code",
   "execution_count": 75,
   "id": "feba76ca",
   "metadata": {},
   "outputs": [
    {
     "data": {
      "text/plain": [
       "<Axes: xlabel='ts'>"
      ]
     },
     "execution_count": 75,
     "metadata": {},
     "output_type": "execute_result"
    },
    {
     "data": {
      "image/png": "[encoded data removed]",
      "text/plain": [
       "<Figure size 640x480 with 1 Axes>"
      ]
     },
     "metadata": {},
     "output_type": "display_data"
    }
   ],
   "source": [
    "hourly_counts.plot(kind='bar')"
   ]
  },
  {
   "cell_type": "code",
   "execution_count": 84,
   "id": "d30f17b1",
   "metadata": {},
   "outputs": [],
   "source": [
    "from collections import Counter\n",
    "hourly_counts = Counter(datetime.fromisoformat(ev[\"ts\"]).hour for ev in evs)"
   ]
  },
  {
   "cell_type": "code",
   "execution_count": 85,
   "id": "3b605de9",
   "metadata": {},
   "outputs": [
    {
     "data": {
      "text/plain": [
       "Counter({21: 9,\n",
       "         2: 8,\n",
       "         0: 7,\n",
       "         23: 6,\n",
       "         17: 6,\n",
       "         22: 5,\n",
       "         19: 5,\n",
       "         9: 5,\n",
       "         15: 4,\n",
       "         14: 4,\n",
       "         3: 4,\n",
       "         6: 4,\n",
       "         12: 4,\n",
       "         4: 4,\n",
       "         18: 4,\n",
       "         1: 3,\n",
       "         7: 3,\n",
       "         11: 3,\n",
       "         8: 3,\n",
       "         5: 2,\n",
       "         10: 2,\n",
       "         20: 2,\n",
       "         13: 2,\n",
       "         16: 1})"
      ]
     },
     "execution_count": 85,
     "metadata": {},
     "output_type": "execute_result"
    }
   ],
   "source": [
    "hourly_counts"
   ]
  },
  {
   "cell_type": "markdown",
   "id": "c86c2099",
   "metadata": {},
   "source": [
    "---\n",
    "\n",
    "### Problem 2 – Streaming 90th‑Percentile Payload Value\n",
    "\n",
    "**Task**  \n",
    "Keep a data structure that lets you query the 90th percentile of `payload['value']` at any moment during ingestion.\n",
    "\n",
    "**Hint – stdlib tools to consider** → heapq, bisect, statistics.quantiles\n"
   ]
  },
  {
   "cell_type": "code",
   "execution_count": 108,
   "id": "e8239add",
   "metadata": {},
   "outputs": [
    {
     "name": "stdout",
     "output_type": "stream",
     "text": [
      "Interpolated 90th: 6239.6, Actual value at/above 90th: 6852\n",
      "Interpolated 90th: 6618.8, Actual value at/above 90th: 6852\n",
      "Interpolated 90th: 8639.8, Actual value at/above 90th: 9406\n",
      "Interpolated 90th: 8384.4, Actual value at/above 90th: 9406\n",
      "Interpolated 90th: 8195.0, Actual value at/above 90th: 9406\n",
      "Interpolated 90th: 7952.8, Actual value at/above 90th: 9406\n",
      "Interpolated 90th: 7710.6, Actual value at/above 90th: 9406\n",
      "Interpolated 90th: 7468.4, Actual value at/above 90th: 9406\n",
      "Interpolated 90th: 7226.2, Actual value at/above 90th: 9406\n",
      "Interpolated 90th: 7893.0, Actual value at/above 90th: 7893\n",
      "Interpolated 90th: 7802.1, Actual value at/above 90th: 7893\n",
      "Interpolated 90th: 7711.2, Actual value at/above 90th: 7893\n",
      "Interpolated 90th: 7620.3, Actual value at/above 90th: 7893\n",
      "Interpolated 90th: 7529.4, Actual value at/above 90th: 7893\n",
      "Interpolated 90th: 7438.5, Actual value at/above 90th: 7893\n",
      "Interpolated 90th: 7903.0, Actual value at/above 90th: 7918\n",
      "Interpolated 90th: 7959.4, Actual value at/above 90th: 8056\n",
      "Interpolated 90th: 7945.6, Actual value at/above 90th: 8056\n",
      "Interpolated 90th: 7931.8, Actual value at/above 90th: 8056\n",
      "Interpolated 90th: 7918.0, Actual value at/above 90th: 7918\n",
      "Interpolated 90th: 8042.2, Actual value at/above 90th: 8056\n",
      "Interpolated 90th: 8028.4, Actual value at/above 90th: 8056\n",
      "Interpolated 90th: 8014.6, Actual value at/above 90th: 8056\n",
      "Interpolated 90th: 8000.8, Actual value at/above 90th: 8056\n",
      "Interpolated 90th: 7987.0, Actual value at/above 90th: 8056\n",
      "Interpolated 90th: 7973.2, Actual value at/above 90th: 8056\n",
      "Interpolated 90th: 7959.4, Actual value at/above 90th: 8056\n",
      "Interpolated 90th: 7945.6, Actual value at/above 90th: 8056\n",
      "Interpolated 90th: 7931.8, Actual value at/above 90th: 8056\n",
      "Interpolated 90th: 7918.0, Actual value at/above 90th: 7918\n",
      "Interpolated 90th: 8042.2, Actual value at/above 90th: 8056\n",
      "Interpolated 90th: 8263.2, Actual value at/above 90th: 8315\n",
      "Interpolated 90th: 8237.3, Actual value at/above 90th: 8315\n",
      "Interpolated 90th: 8211.4, Actual value at/above 90th: 8315\n",
      "Interpolated 90th: 8515.5, Actual value at/above 90th: 8716\n",
      "Interpolated 90th: 8475.4, Actual value at/above 90th: 8716\n",
      "Interpolated 90th: 8435.3, Actual value at/above 90th: 8716\n",
      "Interpolated 90th: 8395.2, Actual value at/above 90th: 8716\n",
      "Interpolated 90th: 8355.1, Actual value at/above 90th: 8716\n",
      "Interpolated 90th: 8315.0, Actual value at/above 90th: 8315\n",
      "Interpolated 90th: 8675.9, Actual value at/above 90th: 8716\n",
      "Interpolated 90th: 8635.8, Actual value at/above 90th: 8716\n",
      "Interpolated 90th: 8595.7, Actual value at/above 90th: 8716\n",
      "Interpolated 90th: 8555.6, Actual value at/above 90th: 8716\n",
      "Interpolated 90th: 8515.5, Actual value at/above 90th: 8716\n",
      "Interpolated 90th: 8475.4, Actual value at/above 90th: 8716\n",
      "Interpolated 90th: 8435.3, Actual value at/above 90th: 8716\n",
      "Interpolated 90th: 8395.2, Actual value at/above 90th: 8716\n",
      "Interpolated 90th: 8355.1, Actual value at/above 90th: 8716\n",
      "Interpolated 90th: 8315.0, Actual value at/above 90th: 8315\n",
      "Interpolated 90th: 8289.1, Actual value at/above 90th: 8315\n",
      "Interpolated 90th: 8487.8, Actual value at/above 90th: 8531\n",
      "Interpolated 90th: 8617.1, Actual value at/above 90th: 8654\n",
      "Interpolated 90th: 8604.8, Actual value at/above 90th: 8654\n",
      "Interpolated 90th: 8592.5, Actual value at/above 90th: 8654\n",
      "Interpolated 90th: 8580.2, Actual value at/above 90th: 8654\n",
      "Interpolated 90th: 8672.6, Actual value at/above 90th: 8716\n",
      "Interpolated 90th: 8666.4, Actual value at/above 90th: 8716\n",
      "Interpolated 90th: 8747.8, Actual value at/above 90th: 9034\n",
      "Interpolated 90th: 8716.0, Actual value at/above 90th: 8716\n",
      "Interpolated 90th: 8709.8, Actual value at/above 90th: 8716\n",
      "Interpolated 90th: 8703.6, Actual value at/above 90th: 8716\n",
      "Interpolated 90th: 8938.6, Actual value at/above 90th: 9034\n",
      "Interpolated 90th: 8906.8, Actual value at/above 90th: 9034\n",
      "Interpolated 90th: 8875.0, Actual value at/above 90th: 9034\n",
      "Interpolated 90th: 8843.2, Actual value at/above 90th: 9034\n",
      "Interpolated 90th: 8811.4, Actual value at/above 90th: 9034\n",
      "Interpolated 90th: 8779.6, Actual value at/above 90th: 9034\n",
      "Interpolated 90th: 8747.8, Actual value at/above 90th: 9034\n",
      "Interpolated 90th: 9034.0, Actual value at/above 90th: 9034\n",
      "Interpolated 90th: 9017.1, Actual value at/above 90th: 9034\n",
      "Interpolated 90th: 9000.2, Actual value at/above 90th: 9034\n",
      "Interpolated 90th: 8983.3, Actual value at/above 90th: 9034\n",
      "Interpolated 90th: 8966.4, Actual value at/above 90th: 9034\n",
      "Interpolated 90th: 9099.0, Actual value at/above 90th: 9164\n",
      "Interpolated 90th: 9086.0, Actual value at/above 90th: 9164\n",
      "Interpolated 90th: 9073.0, Actual value at/above 90th: 9164\n",
      "Interpolated 90th: 9060.0, Actual value at/above 90th: 9164\n",
      "Interpolated 90th: 9047.0, Actual value at/above 90th: 9164\n",
      "Interpolated 90th: 9034.0, Actual value at/above 90th: 9034\n",
      "Interpolated 90th: 9017.1, Actual value at/above 90th: 9034\n",
      "Interpolated 90th: 9000.2, Actual value at/above 90th: 9034\n",
      "Interpolated 90th: 8983.3, Actual value at/above 90th: 9034\n",
      "Interpolated 90th: 8966.4, Actual value at/above 90th: 9034\n",
      "Interpolated 90th: 8949.5, Actual value at/above 90th: 9034\n",
      "Interpolated 90th: 8932.6, Actual value at/above 90th: 9034\n",
      "Interpolated 90th: 8915.7, Actual value at/above 90th: 9034\n",
      "Interpolated 90th: 8898.8, Actual value at/above 90th: 9034\n",
      "Interpolated 90th: 9047.0, Actual value at/above 90th: 9164\n",
      "Interpolated 90th: 9034.0, Actual value at/above 90th: 9034\n",
      "Interpolated 90th: 9017.1, Actual value at/above 90th: 9034\n",
      "Interpolated 90th: 9000.2, Actual value at/above 90th: 9034\n",
      "Interpolated 90th: 8983.3, Actual value at/above 90th: 9034\n",
      "Interpolated 90th: 8966.4, Actual value at/above 90th: 9034\n",
      "Interpolated 90th: 8949.5, Actual value at/above 90th: 9034\n",
      "Interpolated 90th: 9086.0, Actual value at/above 90th: 9164\n",
      "Interpolated 90th: 9073.0, Actual value at/above 90th: 9164\n",
      "Interpolated 90th: 9060.0, Actual value at/above 90th: 9164\n",
      "Interpolated 90th: 9047.0, Actual value at/above 90th: 9164\n"
     ]
    }
   ],
   "source": [
    "# TODO – your code for Problem 2\n",
    "import bisect\n",
    "from statistics import quantiles\n",
    "\n",
    "values = []\n",
    "for ev in generate_events(100):\n",
    "    bisect.insort(values, ev.get('payload').get('value'))\n",
    "    if len(values) >= 2:\n",
    "        q = quantiles(values, n=10, method=\"inclusive\")\n",
    "        q90 = q[-1] # \n",
    "        idx = bisect.bisect_left(values, q90)\n",
    "        if idx >= len(values):\n",
    "            actual_90th = values[-1]\n",
    "        else:\n",
    "            actual_90th = values[idx]\n",
    "        print(f\"Interpolated 90th: {q90}, Actual value at/above 90th: {actual_90th}\")\n",
    "\n",
    "\n",
    "\n"
   ]
  },
  {
   "cell_type": "code",
   "execution_count": 111,
   "id": "f754c7f9",
   "metadata": {},
   "outputs": [
    {
     "data": {
      "text/plain": [
       "9111.4"
      ]
     },
     "execution_count": 111,
     "metadata": {},
     "output_type": "execute_result"
    }
   ],
   "source": [
    "evs = [ev.get('payload').get('value') for ev in generate_events(100)]\n",
    "q = quantiles(evs, n=10, method=\"inclusive\")\n",
    "q90 = q[-1] #\n",
    "q90"
   ]
  },
  {
   "cell_type": "code",
   "execution_count": 112,
   "id": "24b64910",
   "metadata": {},
   "outputs": [
    {
     "name": "stdout",
     "output_type": "stream",
     "text": [
      "Batch 90th: 9080.3\n",
      "Streaming 90th: 9080.3\n"
     ]
    }
   ],
   "source": [
    "events = list(generate_events(100))\n",
    "\n",
    "# Batch quantile\n",
    "evs = [ev['payload']['value'] for ev in events]\n",
    "q = quantiles(evs, n=10, method=\"inclusive\")\n",
    "print(\"Batch 90th:\", q[-1])\n",
    "\n",
    "# Streaming quantile\n",
    "values = []\n",
    "for ev in events:\n",
    "    bisect.insort(values, ev['payload']['value'])\n",
    "q_stream = quantiles(values, n=10, method=\"inclusive\")\n",
    "print(\"Streaming 90th:\", q_stream[-1])"
   ]
  },
  {
   "cell_type": "markdown",
   "id": "fe9f29b6",
   "metadata": {},
   "source": [
    "---\n",
    "\n",
    "### Problem 3 – Triple‑Login Without Logout Detector\n",
    "\n",
    "**Task**  \n",
    "For each user, emit the first timestamp at which they have **three consecutive `LOGIN` events** without an intervening `LOGOUT`.\n",
    "\n",
    "**Hint – stdlib tools to consider** → collections.defaultdict, collections.deque\n"
   ]
  },
  {
   "cell_type": "code",
   "execution_count": null,
   "id": "fd60ef90",
   "metadata": {},
   "outputs": [
    {
     "name": "stdout",
     "output_type": "stream",
     "text": [
      "user36: 2025-06-14T00:49:54.990875 3\n",
      "user150: 2025-06-14T04:04:01.990875 3\n",
      "user26: 2025-06-13T13:24:21.990875 3\n",
      "user29: 2025-06-13T23:34:44.990875 3\n",
      "user41: 2025-06-13T11:27:46.990875 3\n",
      "user165: 2025-06-14T00:43:36.990875 3\n",
      "user156: 2025-06-13T18:34:56.990875 3\n",
      "user24: 2025-06-13T23:28:53.990875 3\n"
     ]
    }
   ],
   "source": [
    "# TODO – your code for Problem 3\n",
    "from collections import defaultdict\n",
    "from collections import deque\n",
    "users = defaultdict(deque)\n",
    "\n",
    "for ev in generate_events(1000):\n",
    "    d = users[ev.get('user')]\n",
    "    match ev.get('type'):\n",
    "        case \"LOGIN\":\n",
    "            d.append(ev.get('ts'))\n",
    "            if len(d) == 3:\n",
    "                print(f\"{ev.get('user')}: {d[0]} {len(d)}\")\n",
    "        case \"LOGOUT\":\n",
    "            if d:\n",
    "                d.clear()\n",
    "        case _:\n",
    "            continue"
   ]
  },
  {
   "cell_type": "code",
   "execution_count": 1,
   "id": "f438d469",
   "metadata": {},
   "outputs": [],
   "source": [
    "# Place this cell before Problem 4 if you want to simulate ≤5s skew\n",
    "\n",
    "import heapq\n",
    "from datetime import datetime, timedelta\n",
    "\n",
    "def generate_events_with_skew(n=100, max_skew=5):\n",
    "    \"\"\"Yield events up to max_skew seconds out of order.\"\"\"\n",
    "    buf = []\n",
    "    latest_ts = None\n",
    "    for ev in generate_events(n):\n",
    "        ts = datetime.fromisoformat(ev[\"ts\"])\n",
    "        heapq.heappush(buf, (ts, ev))\n",
    "        if latest_ts is None or ts > latest_ts:\n",
    "            latest_ts = ts\n",
    "        # Emit events whose ts is at least max_skew seconds older than latest seen\n",
    "        while buf and (latest_ts - buf[0][0]).total_seconds() > max_skew:\n",
    "            yield heapq.heappop(buf)[1]\n",
    "    # Flush remaining\n",
    "    while buf:\n",
    "        yield heapq.heappop(buf)[1]"
   ]
  },
  {
   "cell_type": "markdown",
   "id": "722704a4",
   "metadata": {},
   "source": [
    "---\n",
    "\n",
    "### Problem 4 – Re‑order Events with ≤ 5 s Skew\n",
    "\n",
    "**Task**  \n",
    "Events arrive up to five seconds out of order. Buffer just enough to output them globally sorted.\n",
    "\n",
    "**Hint – stdlib tools to consider** → heapq, datetime\n"
   ]
  },
  {
   "cell_type": "code",
   "execution_count": 12,
   "id": "fdd825df",
   "metadata": {},
   "outputs": [
    {
     "name": "stdout",
     "output_type": "stream",
     "text": [
      "(datetime.datetime(2025, 6, 14, 0, 14, 21, 355467), {'id': 2, 'ts': datetime.datetime(2025, 6, 14, 0, 14, 21, 355467), 'user': 'user54', 'type': 'LOGOUT', 'payload': {'value': 8021}})\n",
      "(datetime.datetime(2025, 6, 14, 10, 13, 6, 355467), {'id': 1, 'ts': datetime.datetime(2025, 6, 14, 10, 13, 6, 355467), 'user': 'user49', 'type': 'LOGOUT', 'payload': {'value': 6286}})\n",
      "(datetime.datetime(2025, 6, 14, 5, 25, 43, 355467), {'id': 4, 'ts': datetime.datetime(2025, 6, 14, 5, 25, 43, 355467), 'user': 'user184', 'type': 'LOGOUT', 'payload': {'value': 2093}})\n",
      "(datetime.datetime(2025, 6, 14, 3, 11, 31, 355467), {'id': 5, 'ts': datetime.datetime(2025, 6, 14, 3, 11, 31, 355467), 'user': 'user97', 'type': 'PURCHASE', 'payload': {'value': 2926}})\n",
      "(datetime.datetime(2025, 6, 13, 15, 42, 53, 355467), {'id': 6, 'ts': datetime.datetime(2025, 6, 13, 15, 42, 53, 355467), 'user': 'user67', 'type': 'LOGIN', 'payload': {'value': 2118}})\n",
      "(datetime.datetime(2025, 6, 13, 22, 6, 4, 355467), {'id': 7, 'ts': datetime.datetime(2025, 6, 13, 22, 6, 4, 355467), 'user': 'user165', 'type': 'LOGOUT', 'payload': {'value': 4435}})\n",
      "(datetime.datetime(2025, 6, 14, 8, 0, 21, 355467), {'id': 8, 'ts': datetime.datetime(2025, 6, 14, 8, 0, 21, 355467), 'user': 'user65', 'type': 'CLICK', 'payload': {'value': 1646}})\n",
      "(datetime.datetime(2025, 6, 14, 11, 15, 28, 355467), {'id': 3, 'ts': datetime.datetime(2025, 6, 14, 11, 15, 28, 355467), 'user': 'user159', 'type': 'PURCHASE', 'payload': {'value': 9219}})\n",
      "(datetime.datetime(2025, 6, 14, 3, 58, 18, 355467), {'id': 10, 'ts': datetime.datetime(2025, 6, 14, 3, 58, 18, 355467), 'user': 'user34', 'type': 'LOGOUT', 'payload': {'value': 1991}})\n",
      "(datetime.datetime(2025, 6, 14, 11, 35, 57, 355467), {'id': 9, 'ts': datetime.datetime(2025, 6, 14, 11, 35, 57, 355467), 'user': 'user48', 'type': 'VIEW', 'payload': {'value': 5702}})\n",
      "(datetime.datetime(2025, 6, 14, 1, 34, 12, 355467), {'id': 12, 'ts': datetime.datetime(2025, 6, 14, 1, 34, 12, 355467), 'user': 'user172', 'type': 'PURCHASE', 'payload': {'value': 9029}})\n",
      "(datetime.datetime(2025, 6, 13, 13, 34, 34, 355467), {'id': 13, 'ts': datetime.datetime(2025, 6, 13, 13, 34, 34, 355467), 'user': 'user199', 'type': 'LOGIN', 'payload': {'value': 1528}})\n",
      "(datetime.datetime(2025, 6, 14, 2, 57, 35, 355467), {'id': 14, 'ts': datetime.datetime(2025, 6, 14, 2, 57, 35, 355467), 'user': 'user186', 'type': 'PURCHASE', 'payload': {'value': 8413}})\n",
      "(datetime.datetime(2025, 6, 14, 5, 36, 22, 355467), {'id': 15, 'ts': datetime.datetime(2025, 6, 14, 5, 36, 22, 355467), 'user': 'user197', 'type': 'CLICK', 'payload': {'value': 1677}})\n",
      "(datetime.datetime(2025, 6, 13, 15, 12, 47, 355467), {'id': 16, 'ts': datetime.datetime(2025, 6, 13, 15, 12, 47, 355467), 'user': 'user147', 'type': 'VIEW', 'payload': {'value': 2511}})\n",
      "(datetime.datetime(2025, 6, 13, 21, 22, 11, 355467), {'id': 17, 'ts': datetime.datetime(2025, 6, 13, 21, 22, 11, 355467), 'user': 'user180', 'type': 'CLICK', 'payload': {'value': 447}})\n",
      "(datetime.datetime(2025, 6, 13, 14, 57, 23, 355467), {'id': 18, 'ts': datetime.datetime(2025, 6, 13, 14, 57, 23, 355467), 'user': 'user160', 'type': 'CLICK', 'payload': {'value': 9574}})\n",
      "(datetime.datetime(2025, 6, 14, 7, 56, 57, 355467), {'id': 19, 'ts': datetime.datetime(2025, 6, 14, 7, 56, 57, 355467), 'user': 'user158', 'type': 'CLICK', 'payload': {'value': 9378}})\n",
      "(datetime.datetime(2025, 6, 14, 0, 30, 7, 355467), {'id': 20, 'ts': datetime.datetime(2025, 6, 14, 0, 30, 7, 355467), 'user': 'user199', 'type': 'VIEW', 'payload': {'value': 5626}})\n",
      "(datetime.datetime(2025, 6, 13, 21, 56, 16, 355467), {'id': 21, 'ts': datetime.datetime(2025, 6, 13, 21, 56, 16, 355467), 'user': 'user77', 'type': 'LOGOUT', 'payload': {'value': 4973}})\n",
      "(datetime.datetime(2025, 6, 14, 1, 26, 36, 355467), {'id': 22, 'ts': datetime.datetime(2025, 6, 14, 1, 26, 36, 355467), 'user': 'user79', 'type': 'LOGOUT', 'payload': {'value': 6472}})\n",
      "(datetime.datetime(2025, 6, 14, 1, 15, 47, 355467), {'id': 23, 'ts': datetime.datetime(2025, 6, 14, 1, 15, 47, 355467), 'user': 'user183', 'type': 'VIEW', 'payload': {'value': 520}})\n",
      "(datetime.datetime(2025, 6, 14, 8, 19, 32, 355467), {'id': 24, 'ts': datetime.datetime(2025, 6, 14, 8, 19, 32, 355467), 'user': 'user158', 'type': 'PURCHASE', 'payload': {'value': 1642}})\n",
      "(datetime.datetime(2025, 6, 14, 4, 51, 17, 355467), {'id': 25, 'ts': datetime.datetime(2025, 6, 14, 4, 51, 17, 355467), 'user': 'user109', 'type': 'PURCHASE', 'payload': {'value': 3757}})\n",
      "(datetime.datetime(2025, 6, 14, 5, 13, 19, 355467), {'id': 26, 'ts': datetime.datetime(2025, 6, 14, 5, 13, 19, 355467), 'user': 'user196', 'type': 'CLICK', 'payload': {'value': 3828}})\n",
      "(datetime.datetime(2025, 6, 13, 13, 5, 42, 355467), {'id': 27, 'ts': datetime.datetime(2025, 6, 13, 13, 5, 42, 355467), 'user': 'user181', 'type': 'LOGOUT', 'payload': {'value': 3008}})\n",
      "(datetime.datetime(2025, 6, 14, 3, 36, 15, 355467), {'id': 28, 'ts': datetime.datetime(2025, 6, 14, 3, 36, 15, 355467), 'user': 'user69', 'type': 'LOGOUT', 'payload': {'value': 9639}})\n",
      "(datetime.datetime(2025, 6, 14, 1, 20, 18, 355467), {'id': 29, 'ts': datetime.datetime(2025, 6, 14, 1, 20, 18, 355467), 'user': 'user66', 'type': 'PURCHASE', 'payload': {'value': 2897}})\n",
      "(datetime.datetime(2025, 6, 13, 15, 28, 33, 355467), {'id': 30, 'ts': datetime.datetime(2025, 6, 13, 15, 28, 33, 355467), 'user': 'user1', 'type': 'LOGOUT', 'payload': {'value': 4297}})\n",
      "(datetime.datetime(2025, 6, 14, 0, 21, 19, 355467), {'id': 31, 'ts': datetime.datetime(2025, 6, 14, 0, 21, 19, 355467), 'user': 'user113', 'type': 'CLICK', 'payload': {'value': 4683}})\n",
      "(datetime.datetime(2025, 6, 14, 9, 37, 31, 355467), {'id': 32, 'ts': datetime.datetime(2025, 6, 14, 9, 37, 31, 355467), 'user': 'user57', 'type': 'LOGOUT', 'payload': {'value': 7822}})\n",
      "(datetime.datetime(2025, 6, 14, 3, 15, 34, 355467), {'id': 33, 'ts': datetime.datetime(2025, 6, 14, 3, 15, 34, 355467), 'user': 'user29', 'type': 'LOGIN', 'payload': {'value': 810}})\n",
      "(datetime.datetime(2025, 6, 13, 13, 25, 38, 355467), {'id': 34, 'ts': datetime.datetime(2025, 6, 13, 13, 25, 38, 355467), 'user': 'user200', 'type': 'VIEW', 'payload': {'value': 8286}})\n",
      "(datetime.datetime(2025, 6, 14, 11, 26, 34, 355467), {'id': 35, 'ts': datetime.datetime(2025, 6, 14, 11, 26, 34, 355467), 'user': 'user68', 'type': 'LOGOUT', 'payload': {'value': 7467}})\n",
      "(datetime.datetime(2025, 6, 13, 23, 13, 4, 355467), {'id': 36, 'ts': datetime.datetime(2025, 6, 13, 23, 13, 4, 355467), 'user': 'user113', 'type': 'VIEW', 'payload': {'value': 8542}})\n",
      "(datetime.datetime(2025, 6, 13, 13, 54, 8, 355467), {'id': 37, 'ts': datetime.datetime(2025, 6, 13, 13, 54, 8, 355467), 'user': 'user172', 'type': 'LOGIN', 'payload': {'value': 7557}})\n",
      "(datetime.datetime(2025, 6, 14, 3, 38, 48, 355467), {'id': 38, 'ts': datetime.datetime(2025, 6, 14, 3, 38, 48, 355467), 'user': 'user153', 'type': 'LOGOUT', 'payload': {'value': 9504}})\n",
      "(datetime.datetime(2025, 6, 13, 14, 14, 24, 355467), {'id': 39, 'ts': datetime.datetime(2025, 6, 13, 14, 14, 24, 355467), 'user': 'user61', 'type': 'PURCHASE', 'payload': {'value': 8894}})\n",
      "(datetime.datetime(2025, 6, 13, 19, 45, 24, 355467), {'id': 40, 'ts': datetime.datetime(2025, 6, 13, 19, 45, 24, 355467), 'user': 'user123', 'type': 'LOGIN', 'payload': {'value': 4875}})\n",
      "(datetime.datetime(2025, 6, 14, 9, 54, 17, 355467), {'id': 41, 'ts': datetime.datetime(2025, 6, 14, 9, 54, 17, 355467), 'user': 'user42', 'type': 'PURCHASE', 'payload': {'value': 8733}})\n",
      "(datetime.datetime(2025, 6, 14, 0, 9, 19, 355467), {'id': 42, 'ts': datetime.datetime(2025, 6, 14, 0, 9, 19, 355467), 'user': 'user102', 'type': 'LOGOUT', 'payload': {'value': 7629}})\n",
      "(datetime.datetime(2025, 6, 14, 10, 25, 28, 355467), {'id': 43, 'ts': datetime.datetime(2025, 6, 14, 10, 25, 28, 355467), 'user': 'user142', 'type': 'LOGOUT', 'payload': {'value': 6828}})\n",
      "(datetime.datetime(2025, 6, 14, 4, 46, 8, 355467), {'id': 44, 'ts': datetime.datetime(2025, 6, 14, 4, 46, 8, 355467), 'user': 'user9', 'type': 'VIEW', 'payload': {'value': 5571}})\n",
      "(datetime.datetime(2025, 6, 13, 16, 54, 59, 355467), {'id': 45, 'ts': datetime.datetime(2025, 6, 13, 16, 54, 59, 355467), 'user': 'user158', 'type': 'PURCHASE', 'payload': {'value': 5627}})\n",
      "(datetime.datetime(2025, 6, 13, 16, 47, 52, 355467), {'id': 46, 'ts': datetime.datetime(2025, 6, 13, 16, 47, 52, 355467), 'user': 'user198', 'type': 'LOGOUT', 'payload': {'value': 4026}})\n",
      "(datetime.datetime(2025, 6, 13, 21, 13, 4, 355467), {'id': 47, 'ts': datetime.datetime(2025, 6, 13, 21, 13, 4, 355467), 'user': 'user95', 'type': 'LOGIN', 'payload': {'value': 2778}})\n",
      "(datetime.datetime(2025, 6, 14, 11, 47, 31, 355467), {'id': 48, 'ts': datetime.datetime(2025, 6, 14, 11, 47, 31, 355467), 'user': 'user114', 'type': 'VIEW', 'payload': {'value': 5429}})\n",
      "(datetime.datetime(2025, 6, 13, 16, 51, 15, 355467), {'id': 49, 'ts': datetime.datetime(2025, 6, 13, 16, 51, 15, 355467), 'user': 'user128', 'type': 'LOGIN', 'payload': {'value': 1122}})\n",
      "(datetime.datetime(2025, 6, 14, 11, 51, 13, 355467), {'id': 50, 'ts': datetime.datetime(2025, 6, 14, 11, 51, 13, 355467), 'user': 'user9', 'type': 'LOGOUT', 'payload': {'value': 1825}})\n",
      "(datetime.datetime(2025, 6, 13, 20, 43, 54, 355467), {'id': 51, 'ts': datetime.datetime(2025, 6, 13, 20, 43, 54, 355467), 'user': 'user177', 'type': 'VIEW', 'payload': {'value': 3154}})\n",
      "(datetime.datetime(2025, 6, 14, 7, 21, 4, 355467), {'id': 52, 'ts': datetime.datetime(2025, 6, 14, 7, 21, 4, 355467), 'user': 'user112', 'type': 'LOGOUT', 'payload': {'value': 6744}})\n",
      "(datetime.datetime(2025, 6, 13, 16, 24, 37, 355467), {'id': 53, 'ts': datetime.datetime(2025, 6, 13, 16, 24, 37, 355467), 'user': 'user9', 'type': 'CLICK', 'payload': {'value': 2275}})\n",
      "(datetime.datetime(2025, 6, 13, 21, 11, 24, 355467), {'id': 54, 'ts': datetime.datetime(2025, 6, 13, 21, 11, 24, 355467), 'user': 'user146', 'type': 'CLICK', 'payload': {'value': 5869}})\n",
      "(datetime.datetime(2025, 6, 14, 9, 24, 32, 355467), {'id': 55, 'ts': datetime.datetime(2025, 6, 14, 9, 24, 32, 355467), 'user': 'user126', 'type': 'LOGOUT', 'payload': {'value': 827}})\n",
      "(datetime.datetime(2025, 6, 13, 20, 13, 35, 355467), {'id': 56, 'ts': datetime.datetime(2025, 6, 13, 20, 13, 35, 355467), 'user': 'user18', 'type': 'LOGOUT', 'payload': {'value': 5326}})\n",
      "(datetime.datetime(2025, 6, 14, 7, 10, 37, 355467), {'id': 57, 'ts': datetime.datetime(2025, 6, 14, 7, 10, 37, 355467), 'user': 'user34', 'type': 'LOGIN', 'payload': {'value': 8816}})\n",
      "(datetime.datetime(2025, 6, 14, 8, 31, 47, 355467), {'id': 58, 'ts': datetime.datetime(2025, 6, 14, 8, 31, 47, 355467), 'user': 'user70', 'type': 'LOGIN', 'payload': {'value': 8858}})\n",
      "(datetime.datetime(2025, 6, 14, 5, 37, 15, 355467), {'id': 59, 'ts': datetime.datetime(2025, 6, 14, 5, 37, 15, 355467), 'user': 'user66', 'type': 'CLICK', 'payload': {'value': 7261}})\n",
      "(datetime.datetime(2025, 6, 13, 23, 20, 27, 355467), {'id': 60, 'ts': datetime.datetime(2025, 6, 13, 23, 20, 27, 355467), 'user': 'user30', 'type': 'CLICK', 'payload': {'value': 528}})\n",
      "(datetime.datetime(2025, 6, 13, 20, 19, 42, 355467), {'id': 61, 'ts': datetime.datetime(2025, 6, 13, 20, 19, 42, 355467), 'user': 'user194', 'type': 'LOGIN', 'payload': {'value': 4534}})\n",
      "(datetime.datetime(2025, 6, 13, 16, 1, 36, 355467), {'id': 62, 'ts': datetime.datetime(2025, 6, 13, 16, 1, 36, 355467), 'user': 'user172', 'type': 'VIEW', 'payload': {'value': 3724}})\n",
      "(datetime.datetime(2025, 6, 13, 18, 22, 36, 355467), {'id': 63, 'ts': datetime.datetime(2025, 6, 13, 18, 22, 36, 355467), 'user': 'user188', 'type': 'VIEW', 'payload': {'value': 1586}})\n",
      "(datetime.datetime(2025, 6, 14, 8, 13, 15, 355467), {'id': 64, 'ts': datetime.datetime(2025, 6, 14, 8, 13, 15, 355467), 'user': 'user36', 'type': 'LOGIN', 'payload': {'value': 4386}})\n",
      "(datetime.datetime(2025, 6, 13, 15, 42, 43, 355467), {'id': 65, 'ts': datetime.datetime(2025, 6, 13, 15, 42, 43, 355467), 'user': 'user43', 'type': 'LOGIN', 'payload': {'value': 8554}})\n",
      "(datetime.datetime(2025, 6, 14, 3, 49, 29, 355467), {'id': 66, 'ts': datetime.datetime(2025, 6, 14, 3, 49, 29, 355467), 'user': 'user65', 'type': 'PURCHASE', 'payload': {'value': 392}})\n",
      "(datetime.datetime(2025, 6, 14, 4, 35, 14, 355467), {'id': 67, 'ts': datetime.datetime(2025, 6, 14, 4, 35, 14, 355467), 'user': 'user178', 'type': 'VIEW', 'payload': {'value': 4518}})\n",
      "(datetime.datetime(2025, 6, 14, 7, 4, 56, 355467), {'id': 68, 'ts': datetime.datetime(2025, 6, 14, 7, 4, 56, 355467), 'user': 'user79', 'type': 'LOGIN', 'payload': {'value': 6218}})\n",
      "(datetime.datetime(2025, 6, 13, 17, 12, 40, 355467), {'id': 69, 'ts': datetime.datetime(2025, 6, 13, 17, 12, 40, 355467), 'user': 'user159', 'type': 'LOGOUT', 'payload': {'value': 8605}})\n",
      "(datetime.datetime(2025, 6, 13, 22, 19, 18, 355467), {'id': 70, 'ts': datetime.datetime(2025, 6, 13, 22, 19, 18, 355467), 'user': 'user47', 'type': 'LOGIN', 'payload': {'value': 8296}})\n",
      "(datetime.datetime(2025, 6, 14, 8, 0, 49, 355467), {'id': 71, 'ts': datetime.datetime(2025, 6, 14, 8, 0, 49, 355467), 'user': 'user86', 'type': 'PURCHASE', 'payload': {'value': 7490}})\n",
      "(datetime.datetime(2025, 6, 13, 17, 38, 23, 355467), {'id': 72, 'ts': datetime.datetime(2025, 6, 13, 17, 38, 23, 355467), 'user': 'user111', 'type': 'LOGIN', 'payload': {'value': 7188}})\n",
      "(datetime.datetime(2025, 6, 14, 12, 35, 18, 355467), {'id': 73, 'ts': datetime.datetime(2025, 6, 14, 12, 35, 18, 355467), 'user': 'user146', 'type': 'VIEW', 'payload': {'value': 8424}})\n",
      "(datetime.datetime(2025, 6, 13, 23, 23, 3, 355467), {'id': 74, 'ts': datetime.datetime(2025, 6, 13, 23, 23, 3, 355467), 'user': 'user95', 'type': 'CLICK', 'payload': {'value': 9578}})\n",
      "(datetime.datetime(2025, 6, 14, 11, 11, 21, 355467), {'id': 75, 'ts': datetime.datetime(2025, 6, 14, 11, 11, 21, 355467), 'user': 'user81', 'type': 'PURCHASE', 'payload': {'value': 1265}})\n",
      "(datetime.datetime(2025, 6, 13, 22, 40, 2, 355467), {'id': 76, 'ts': datetime.datetime(2025, 6, 13, 22, 40, 2, 355467), 'user': 'user141', 'type': 'LOGOUT', 'payload': {'value': 2325}})\n",
      "(datetime.datetime(2025, 6, 14, 0, 13, 34, 355467), {'id': 77, 'ts': datetime.datetime(2025, 6, 14, 0, 13, 34, 355467), 'user': 'user77', 'type': 'VIEW', 'payload': {'value': 4414}})\n",
      "(datetime.datetime(2025, 6, 14, 2, 43, 57, 355467), {'id': 78, 'ts': datetime.datetime(2025, 6, 14, 2, 43, 57, 355467), 'user': 'user191', 'type': 'LOGOUT', 'payload': {'value': 3029}})\n",
      "(datetime.datetime(2025, 6, 14, 11, 57, 30, 355467), {'id': 79, 'ts': datetime.datetime(2025, 6, 14, 11, 57, 30, 355467), 'user': 'user86', 'type': 'VIEW', 'payload': {'value': 5714}})\n",
      "(datetime.datetime(2025, 6, 14, 0, 40, 35, 355467), {'id': 80, 'ts': datetime.datetime(2025, 6, 14, 0, 40, 35, 355467), 'user': 'user137', 'type': 'LOGOUT', 'payload': {'value': 253}})\n",
      "(datetime.datetime(2025, 6, 14, 2, 27, 44, 355467), {'id': 81, 'ts': datetime.datetime(2025, 6, 14, 2, 27, 44, 355467), 'user': 'user116', 'type': 'VIEW', 'payload': {'value': 8614}})\n",
      "(datetime.datetime(2025, 6, 14, 1, 6, 11, 355467), {'id': 82, 'ts': datetime.datetime(2025, 6, 14, 1, 6, 11, 355467), 'user': 'user161', 'type': 'PURCHASE', 'payload': {'value': 9592}})\n",
      "(datetime.datetime(2025, 6, 14, 3, 51, 9, 355467), {'id': 83, 'ts': datetime.datetime(2025, 6, 14, 3, 51, 9, 355467), 'user': 'user60', 'type': 'VIEW', 'payload': {'value': 3765}})\n",
      "(datetime.datetime(2025, 6, 14, 1, 55, 20, 355467), {'id': 84, 'ts': datetime.datetime(2025, 6, 14, 1, 55, 20, 355467), 'user': 'user66', 'type': 'VIEW', 'payload': {'value': 2357}})\n",
      "(datetime.datetime(2025, 6, 13, 23, 50, 37, 355467), {'id': 85, 'ts': datetime.datetime(2025, 6, 13, 23, 50, 37, 355467), 'user': 'user174', 'type': 'LOGOUT', 'payload': {'value': 7871}})\n",
      "(datetime.datetime(2025, 6, 14, 3, 41, 23, 355467), {'id': 86, 'ts': datetime.datetime(2025, 6, 14, 3, 41, 23, 355467), 'user': 'user169', 'type': 'CLICK', 'payload': {'value': 4211}})\n",
      "(datetime.datetime(2025, 6, 14, 11, 57, 21, 355467), {'id': 87, 'ts': datetime.datetime(2025, 6, 14, 11, 57, 21, 355467), 'user': 'user76', 'type': 'LOGIN', 'payload': {'value': 418}})\n",
      "(datetime.datetime(2025, 6, 13, 19, 11, 30, 355467), {'id': 88, 'ts': datetime.datetime(2025, 6, 13, 19, 11, 30, 355467), 'user': 'user133', 'type': 'LOGIN', 'payload': {'value': 1975}})\n",
      "(datetime.datetime(2025, 6, 14, 0, 51, 38, 355467), {'id': 89, 'ts': datetime.datetime(2025, 6, 14, 0, 51, 38, 355467), 'user': 'user184', 'type': 'CLICK', 'payload': {'value': 2472}})\n",
      "(datetime.datetime(2025, 6, 13, 16, 14, 34, 355467), {'id': 90, 'ts': datetime.datetime(2025, 6, 13, 16, 14, 34, 355467), 'user': 'user164', 'type': 'LOGOUT', 'payload': {'value': 3430}})\n",
      "(datetime.datetime(2025, 6, 14, 7, 7, 46, 355467), {'id': 91, 'ts': datetime.datetime(2025, 6, 14, 7, 7, 46, 355467), 'user': 'user49', 'type': 'LOGOUT', 'payload': {'value': 6113}})\n",
      "(datetime.datetime(2025, 6, 14, 3, 53, 35, 355467), {'id': 92, 'ts': datetime.datetime(2025, 6, 14, 3, 53, 35, 355467), 'user': 'user44', 'type': 'VIEW', 'payload': {'value': 3489}})\n",
      "(datetime.datetime(2025, 6, 13, 21, 53, 2, 355467), {'id': 93, 'ts': datetime.datetime(2025, 6, 13, 21, 53, 2, 355467), 'user': 'user6', 'type': 'LOGOUT', 'payload': {'value': 8752}})\n",
      "(datetime.datetime(2025, 6, 14, 1, 43, 13, 355467), {'id': 94, 'ts': datetime.datetime(2025, 6, 14, 1, 43, 13, 355467), 'user': 'user48', 'type': 'LOGOUT', 'payload': {'value': 8039}})\n",
      "(datetime.datetime(2025, 6, 14, 1, 5, 58, 355467), {'id': 95, 'ts': datetime.datetime(2025, 6, 14, 1, 5, 58, 355467), 'user': 'user30', 'type': 'LOGIN', 'payload': {'value': 1810}})\n",
      "(datetime.datetime(2025, 6, 14, 9, 49, 6, 355467), {'id': 96, 'ts': datetime.datetime(2025, 6, 14, 9, 49, 6, 355467), 'user': 'user74', 'type': 'PURCHASE', 'payload': {'value': 594}})\n",
      "(datetime.datetime(2025, 6, 14, 5, 33, 42, 355467), {'id': 97, 'ts': datetime.datetime(2025, 6, 14, 5, 33, 42, 355467), 'user': 'user71', 'type': 'PURCHASE', 'payload': {'value': 6861}})\n",
      "(datetime.datetime(2025, 6, 14, 0, 29, 40, 355467), {'id': 98, 'ts': datetime.datetime(2025, 6, 14, 0, 29, 40, 355467), 'user': 'user78', 'type': 'VIEW', 'payload': {'value': 2092}})\n",
      "(datetime.datetime(2025, 6, 14, 6, 11, 1, 355467), {'id': 99, 'ts': datetime.datetime(2025, 6, 14, 6, 11, 1, 355467), 'user': 'user78', 'type': 'LOGOUT', 'payload': {'value': 6993}})\n",
      "(datetime.datetime(2025, 6, 14, 12, 47, 13, 355467), {'id': 11, 'ts': datetime.datetime(2025, 6, 14, 12, 47, 13, 355467), 'user': 'user40', 'type': 'LOGOUT', 'payload': {'value': 6348}})\n"
     ]
    }
   ],
   "source": [
    "# TODO – your code for Problem 4\n",
    "import heapq\n",
    "\n",
    "h = []\n",
    "\n",
    "for ev in generate_events_with_skew(100):\n",
    "    ts = datetime.fromisoformat(ev.get('ts'))\n",
    "    ev['ts'] = ts\n",
    "    heapq.heappush(h, (ts, ev))\n",
    "    latest_ts, latest_ev = heapq.nlargest(1, h)[0]\n",
    "    # latest_ts = latest_ev.get('ts')\n",
    "    first_ts, first_ev = heapq.nsmallest(1, h)[0]\n",
    "    while (latest_ts - first_ts) > timedelta(seconds=5):\n",
    "        print(heapq.heappop(h))\n",
    "        if h:\n",
    "            latest_ts, latest_ev = heapq.nlargest(1, h)[0]\n",
    "            first_ts, first_ev = heapq.nsmallest(1, h)[0]\n",
    "        else: \n",
    "            break\n",
    "\n",
    "while h: # flush events\n",
    "    heapq.heappop(h)    \n",
    "\n",
    "\n"
   ]
  },
  {
   "cell_type": "markdown",
   "id": "da5292a5",
   "metadata": {},
   "source": [
    "---\n",
    "\n",
    "### Problem 5 – Decile Buckets of Payload Values\n",
    "\n",
    "**Task**  \n",
    "Produce counts for ten equal‑width buckets between the min and max `payload['value']`.\n",
    "\n",
    "**Hint – stdlib tools to consider** → bisect, math\n"
   ]
  },
  {
   "cell_type": "code",
   "execution_count": 17,
   "id": "81353969",
   "metadata": {},
   "outputs": [],
   "source": [
    "# TODO – your code for Problem 5\n",
    "import bisect\n",
    "\n",
    "random.seed(1337) # Do not know why but it needs to be here\n",
    "b = []\n",
    "for ev in generate_events(500):\n",
    "    bisect.insort(b, ev.get('payload').get('value'))\n"
   ]
  },
  {
   "cell_type": "code",
   "execution_count": 14,
   "id": "10620270",
   "metadata": {},
   "outputs": [],
   "source": [
    "import math\n",
    "\n",
    "counts = []\n",
    "\n",
    "def buckets(minv, maxv):\n",
    "    bucket_value_width = math.ceil((maxv - minv) / 10)\n",
    "    edges = list(range(minv, maxv, bucket_value_width))\n",
    "    if edges[-1] < maxv:\n",
    "        edges.append(maxv + 1)  # Ensure the last bucket includes maxv\n",
    "    for i in range(len(edges) - 1):\n",
    "        left_idx = bisect.bisect_left(b, edges[i])\n",
    "        right_idx = bisect.bisect_left(b, edges[i + 1])\n",
    "        counts.append(right_idx - left_idx)      \n"
   ]
  },
  {
   "cell_type": "code",
   "execution_count": 19,
   "id": "35e5e841",
   "metadata": {},
   "outputs": [
    {
     "name": "stdout",
     "output_type": "stream",
     "text": [
      "[52, 54, 45, 53, 44, 56, 52, 34, 63, 47]\n"
     ]
    }
   ],
   "source": [
    "counts = []\n",
    "buckets(1, 10000)\n",
    "print(counts)"
   ]
  },
  {
   "cell_type": "markdown",
   "id": "d2b846b9",
   "metadata": {},
   "source": [
    "---\n",
    "\n",
    "### Problem 6 – User‑to‑Distinct‑Types Map\n",
    "\n",
    "**Task**  \n",
    "Build a mapping `user → set(event types)` as events stream in (needed for downstream access‑control logic).\n",
    "\n",
    "**Hint – stdlib tools to consider** → collections.defaultdict, set\n"
   ]
  },
  {
   "cell_type": "code",
   "execution_count": null,
   "id": "f05bded6",
   "metadata": {},
   "outputs": [],
   "source": [
    "# TODO – your code for Problem 6\n"
   ]
  },
  {
   "cell_type": "markdown",
   "id": "318197c5",
   "metadata": {},
   "source": [
    "---\n",
    "\n",
    "### Problem 7 – Reservoir Sample of 100 Events\n",
    "\n",
    "**Task**  \n",
    "Implement uniform random sampling to keep 100 representative events from an unbounded stream.\n",
    "\n",
    "**Hint – stdlib tools to consider** → random, enumerate\n"
   ]
  },
  {
   "cell_type": "code",
   "execution_count": null,
   "id": "c5a2e6b8",
   "metadata": {},
   "outputs": [],
   "source": [
    "# TODO – your code for Problem 7\n"
   ]
  },
  {
   "cell_type": "markdown",
   "id": "87512c5f",
   "metadata": {},
   "source": [
    "---\n",
    "\n",
    "### Problem 9 – Day‑of‑Week Aggregation\n",
    "\n",
    "**Task**  \n",
    "Count events for each day‑of‑week (Mon–Sun) and return an ordered list.\n",
    "\n",
    "**Hint – stdlib tools to consider** → itertools.groupby, operator.itemgetter, datetime\n"
   ]
  },
  {
   "cell_type": "code",
   "execution_count": null,
   "id": "235f3016",
   "metadata": {},
   "outputs": [
    {
     "name": "stdout",
     "output_type": "stream",
     "text": [
      "[('Thursday', 32), ('Monday', 30), ('Friday', 30), ('Sunday', 29), ('Saturday', 28), ('Wednesday', 26), ('Tuesday', 25)]\n"
     ]
    }
   ],
   "source": [
    "# TODO – your code for Problem 9\n",
    "import random\n",
    "from datetime import datetime\n",
    "from collections import Counter\n",
    "\n",
    "random.seed(1337) # Do not know why but it needs to be here\n",
    "c = Counter()\n",
    "for ev in generate_events(200):\n",
    "    c.update([datetime.fromisoformat(ev.get('ts')).strftime('%A')])\n",
    "print(c.most_common())\n"
   ]
  },
  {
   "cell_type": "code",
   "execution_count": null,
   "id": "f4769c3f",
   "metadata": {},
   "outputs": [],
   "source": [
    "# groupby version"
   ]
  },
  {
   "cell_type": "code",
   "execution_count": 38,
   "id": "c4eeeb4a",
   "metadata": {},
   "outputs": [
    {
     "name": "stdout",
     "output_type": "stream",
     "text": [
      "[('Thursday', 32), ('Friday', 30), ('Monday', 30), ('Sunday', 29), ('Saturday', 28), ('Wednesday', 26), ('Tuesday', 25)]\n"
     ]
    }
   ],
   "source": [
    "import random\n",
    "from datetime import datetime\n",
    "from itertools import groupby\n",
    "\n",
    "random.seed(1337)\n",
    "\n",
    "events = list(generate_events(200))\n",
    "# Extract weekday for each event\n",
    "events_with_day = [\n",
    "    (datetime.fromisoformat(ev.get('ts')).strftime('%A'), ev)\n",
    "    for ev in events\n",
    "]\n",
    "# Sort by weekday\n",
    "events_with_day.sort(key=lambda x: x[0])\n",
    "\n",
    "# Group by weekday and count\n",
    "result = [\n",
    "    (day, len(list(group)))\n",
    "    for day, group in groupby(events_with_day, key=lambda x: x[0])\n",
    "]\n",
    "# Sort by count descending\n",
    "result.sort(key=lambda x: x[1], reverse=True)\n",
    "print(result)"
   ]
  },
  {
   "cell_type": "markdown",
   "id": "e9686b72",
   "metadata": {},
   "source": [
    "---\n",
    "\n",
    "### Problem 10 – Longest Daily Activity Streak per User\n",
    "\n",
    "**Task**  \n",
    "Find each user's maximum streak of consecutive calendar days with at least one event.\n",
    "\n",
    "**Hint – stdlib tools to consider** → collections.defaultdict, datetime\n"
   ]
  },
  {
   "cell_type": "code",
   "execution_count": null,
   "id": "a07dd886",
   "metadata": {},
   "outputs": [],
   "source": [
    "# TODO – your code for Problem 10\n",
    "import random\n",
    "from datetime import datetime\n",
    "from itertools import groupby\n",
    "\n",
    "random.seed(1337)\n",
    "\n",
    "events = list(generate_events(200))\n",
    "\n"
   ]
  },
  {
   "cell_type": "markdown",
   "id": "7198e0e8",
   "metadata": {},
   "source": [
    "---\n",
    "\n",
    "### Problem 11 – Top‑10 Users by Spend\n",
    "\n",
    "**Task**  \n",
    "Assuming each `PURCHASE` event's `payload['value']` is dollars spent, output the top‑10 users by total spend.\n",
    "\n",
    "**Hint – stdlib tools to consider** → collections.Counter, heapq.nlargest\n"
   ]
  },
  {
   "cell_type": "code",
   "execution_count": 6,
   "id": "39b9dfef",
   "metadata": {},
   "outputs": [
    {
     "name": "stdout",
     "output_type": "stream",
     "text": [
      "[('user71', 21694), ('user165', 21115), ('user16', 19578), ('user145', 19425), ('user79', 19175), ('user184', 17899), ('user42', 17388), ('user91', 15996), ('user49', 15837), ('user113', 15280)]\n"
     ]
    }
   ],
   "source": [
    "# TODO – your code for Problem 11\n",
    "\n",
    "import random\n",
    "from collections import defaultdict\n",
    "users = defaultdict(int)\n",
    "\n",
    "\n",
    "random.seed(1337)\n",
    "\n",
    "for ev in generate_events(1000):\n",
    "    if ev[\"type\"] == \"PURCHASE\":\n",
    "        users[ev[\"user\"]] += ev[\"payload\"][\"value\"]\n",
    "\n",
    "\n",
    "top10 = heapq.nlargest(10, users.items(), key=lambda item: item[1])\n",
    "print(top10)\n"
   ]
  },
  {
   "cell_type": "markdown",
   "id": "75ef00bf",
   "metadata": {},
   "source": [
    "---\n",
    "\n",
    "### Problem 12 – Minute‑Level Surge Detection\n",
    "\n",
    "**Task**  \n",
    "Identify any minute where the event count exceeds `mean + 2*stdev` of the previous 60 minutes.\n",
    "\n",
    "**Hint – stdlib tools to consider** → collections.deque, statistics.mean, statistics.stdev\n"
   ]
  },
  {
   "cell_type": "code",
   "execution_count": null,
   "id": "9fb9a6f7",
   "metadata": {},
   "outputs": [],
   "source": [
    "# TODO – your code for Problem 12\n",
    "\n",
    "from collections import defaultdict\n",
    "from datetime import datetime, timedelta\n",
    "import statistics\n",
    "import bisect\n",
    "\n",
    "minute_counts = defaultdict(int)\n",
    "sorted_minutes = []\n",
    "\n",
    "def process_event(ev):\n",
    "    current_ts = datetime.fromisoformat(ev['ts'])\n",
    "    minute = current_ts.replace(second=0, microsecond=0)\n",
    "    minute_counts[minute] += 1\n",
    "    # Insert minute in sorted order if it's new\n",
    "    if minute not in minute_counts or minute_counts[minute] == 1:\n",
    "        bisect.insort(sorted_minutes, minute)\n",
    "    # Only process if we have at least 60 unique minutes\n",
    "    idx = bisect.bisect_left(sorted_minutes, minute)\n",
    "    if idx >= 60:\n",
    "        window_minutes = sorted_minutes[idx-60:idx]\n",
    "        counts = [minute_counts[m] for m in window_minutes]\n",
    "        mean = statistics.mean(counts)\n",
    "        stdev = statistics.stdev(counts)\n",
    "        current_count = minute_counts[minute]\n",
    "        if current_count > mean + 2 * stdev:\n",
    "            print(f\"Minute {minute} exceeded threshold with {current_count} events.\")\n",
    "\n",
    "# Example usage:\n",
    "for ev in generate_events(3000):\n",
    "    process_event(ev)"
   ]
  },
  {
   "cell_type": "markdown",
   "id": "d632e1bc",
   "metadata": {},
   "source": [
    "---\n",
    "\n",
    "### Problem 13 – Simple Bloom‑like Duplicate Filter\n",
    "\n",
    "**Task**  \n",
    "Implement a fixed‑size bit‑array to flag when an `id` is *probably* a duplicate.\n",
    "\n",
    "**Hint – stdlib tools to consider** → hashlib, bytearray\n"
   ]
  },
  {
   "cell_type": "code",
   "execution_count": null,
   "id": "4145ac46",
   "metadata": {},
   "outputs": [],
   "source": [
    "# TODO – your code for Problem 13\n"
   ]
  },
  {
   "cell_type": "markdown",
   "id": "428c4acc",
   "metadata": {},
   "source": [
    "---\n",
    "\n",
    "### Problem 14 – Sliding Window Maximum\n",
    "\n",
    "**Task**  \n",
    "For every 10‑event sliding window, output the maximum `payload['value']`.\n",
    "\n",
    "**Hint – stdlib tools to consider** → collections.deque\n"
   ]
  },
  {
   "cell_type": "code",
   "execution_count": null,
   "id": "a67c7e0d",
   "metadata": {},
   "outputs": [],
   "source": [
    "# TODO – your code for Problem 14\n"
   ]
  },
  {
   "cell_type": "markdown",
   "id": "70c0a322",
   "metadata": {},
   "source": [
    "---\n",
    "\n",
    "### Problem 15 – Temporal Join of Two Streams\n",
    "\n",
    "**Task**  \n",
    "Given two *sorted* lists A and B, output `(a, b)` pairs where `a.id == b.id` and timestamps differ by ≤2 seconds.\n",
    "\n",
    "**Hint – stdlib tools to consider** → dict, datetime\n"
   ]
  },
  {
   "cell_type": "code",
   "execution_count": null,
   "id": "fa1017bd",
   "metadata": {},
   "outputs": [],
   "source": [
    "# TODO – your code for Problem 15\n"
   ]
  },
  {
   "cell_type": "markdown",
   "id": "2db24b7f",
   "metadata": {},
   "source": [
    "---\n",
    "\n",
    "### Problem 16 – Session Duration Distribution\n",
    "\n",
    "**Task**  \n",
    "Break each user's activity into sessions separated by ≥30 min of inactivity, then compute session durations.\n",
    "\n",
    "**Hint – stdlib tools to consider** → collections.defaultdict, datetime\n"
   ]
  },
  {
   "cell_type": "code",
   "execution_count": null,
   "id": "f0213788",
   "metadata": {},
   "outputs": [],
   "source": [
    "# TODO – your code for Problem 16\n"
   ]
  },
  {
   "cell_type": "markdown",
   "id": "c5181f47",
   "metadata": {},
   "source": [
    "---\n",
    "\n",
    "### Problem 18 – Adjacent Type Pair Counts\n",
    "\n",
    "**Task**  \n",
    "Count how often each *ordered* pair of consecutive event types appears in the stream.\n",
    "\n",
    "**Hint – stdlib tools to consider** → collections.Counter\n"
   ]
  },
  {
   "cell_type": "code",
   "execution_count": null,
   "id": "a34c9a44",
   "metadata": {},
   "outputs": [],
   "source": [
    "# TODO – your code for Problem 18\n"
   ]
  },
  {
   "cell_type": "markdown",
   "id": "7d78107e",
   "metadata": {},
   "source": [
    "---\n",
    "\n",
    "### Problem 19 – Fixed‑Size Batch Averager\n",
    "\n",
    "**Task**  \n",
    "Process the stream in chunks of 500 events and print the average `payload['value']` for each chunk.\n",
    "\n",
    "**Hint – stdlib tools to consider** → itertools.islice\n"
   ]
  },
  {
   "cell_type": "code",
   "execution_count": null,
   "id": "2a178617",
   "metadata": {},
   "outputs": [],
   "source": [
    "# TODO – your code for Problem 19\n"
   ]
  },
  {
   "cell_type": "markdown",
   "id": "faa1ec80",
   "metadata": {},
   "source": [
    "---\n",
    "\n",
    "### Problem 20 – First Timestamp Ordering Violation\n",
    "\n",
    "**Task**  \n",
    "In a supposedly sorted list, find the index where `ts` becomes earlier than the previous element (return ‑1 if never).\n",
    "\n",
    "**Hint – stdlib tools to consider** → enumerate, datetime\n"
   ]
  },
  {
   "cell_type": "code",
   "execution_count": null,
   "id": "a404db51",
   "metadata": {},
   "outputs": [],
   "source": [
    "# TODO – your code for Problem 20\n"
   ]
  }
 ],
 "metadata": {
  "kernelspec": {
   "display_name": ".venv",
   "language": "python",
   "name": "python3"
  },
  "language_info": {
   "codemirror_mode": {
    "name": "ipython",
    "version": 3
   },
   "file_extension": ".py",
   "mimetype": "text/x-python",
   "name": "python",
   "nbconvert_exporter": "python",
   "pygments_lexer": "ipython3",
   "version": "3.13.3"
  }
 },
 "nbformat": 4,
 "nbformat_minor": 5
}
