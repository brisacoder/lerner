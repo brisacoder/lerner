{
 "cells": [
  {
   "cell_type": "markdown",
   "id": "f0c3a22d",
   "metadata": {},
   "source": [
    "# Python Standard‑Library Practice Problems — Complete Version\n",
    "All problems now include any required sample data so you can run and test your solutions immediately.\n",
    "\n",
    "**Instructions**\n",
    "1. Run the setup code cell (if present) before solving the problem.\n",
    "2. Write your solution in the provided code cell.\n",
    "3. Avoid duplicating library functionality unless asked.\n"
   ]
  },
  {
   "cell_type": "markdown",
   "id": "84036281",
   "metadata": {},
   "source": [
    "## Index\n",
    "- **collections — Counter** — 12 problems\n",
    "- **collections — defaultdict** — 10 problems\n",
    "- **collections — deque** — 8 problems\n",
    "- **collections — ChainMap** — 6 problems\n",
    "- **heapq — heappush/heappop** — 10 problems\n",
    "- **heapq — nlargest** — 4 problems\n",
    "- **bisect — bisect_left** — 6 problems\n",
    "- **bisect — insort** — 4 problems\n",
    "- **itertools — groupby** — 8 problems\n",
    "- **itertools — accumulate** — 8 problems\n",
    "- **itertools — starmap** — 6 problems\n",
    "- **itertools — chain** — 6 problems\n",
    "- **functools — reduce** — 6 problems\n",
    "- **functools — partial** — 6 problems\n",
    "- **datetime — arithmetic** — 12 problems\n",
    "- **datetime — floor/ceil to windows** — 10 problems\n",
    "- **operator — attrgetter** — 6 problems\n",
    "- **operator — itemgetter** — 6 problems\n",
    "- **built‑in — map** — 5 problems\n",
    "- **built‑in — sum** — 5 problems\n",
    "- **built‑in — dict** — 4 problems\n",
    "- **strings — parsing multi‑line logs** — 17 problems\n",
    "\n",
    "**Total problems: 165**"
   ]
  },
  {
   "cell_type": "markdown",
   "id": "b2c04e92",
   "metadata": {},
   "source": [
    "## collections — Counter"
   ]
  },
  {
   "cell_type": "markdown",
   "id": "66cc0369",
   "metadata": {},
   "source": [
    "### Problem 1\n",
    "Count the frequency of each letter in `\"Mississippi\"`, ignoring case and excluding non‑alphabetic characters."
   ]
  },
  {
   "cell_type": "code",
   "execution_count": null,
   "id": "b6736efa",
   "metadata": {},
   "outputs": [],
   "source": [
    "\n",
    "# Your solution here"
   ]
  },
  {
   "cell_type": "markdown",
   "id": "fc2c458b",
   "metadata": {},
   "source": [
    "### Problem 2\n",
    "Given `sentences = [\"Hello world\",\"HELLO again\",\"world world hello\"]`, build a `Counter` of **case‑insensitive** word frequencies and print the top 5."
   ]
  },
  {
   "cell_type": "code",
   "execution_count": null,
   "id": "8b81a9dc",
   "metadata": {},
   "outputs": [],
   "source": [
    "\n",
    "# Your solution here"
   ]
  },
  {
   "cell_type": "markdown",
   "id": "308356d3",
   "metadata": {},
   "source": [
    "### Problem 3\n",
    "From `logs = [{\"status\":200},{\"status\":404},{\"status\":200},{\"status\":500}]`, build a `Counter` of HTTP status codes."
   ]
  },
  {
   "cell_type": "code",
   "execution_count": null,
   "id": "78dcb424",
   "metadata": {},
   "outputs": [],
   "source": [
    "\n",
    "# Your solution here"
   ]
  },
  {
   "cell_type": "markdown",
   "id": "c1833298",
   "metadata": {},
   "source": [
    "### Problem 4\n",
    "Find the **least common** element in `nums = [3,1,4,1,5,9,2,6,5]` using `Counter`."
   ]
  },
  {
   "cell_type": "code",
   "execution_count": null,
   "id": "001c78e1",
   "metadata": {},
   "outputs": [],
   "source": [
    "\n",
    "# Your solution here"
   ]
  },
  {
   "cell_type": "markdown",
   "id": "625fa992",
   "metadata": {},
   "source": [
    "### Problem 5\n",
    "You have two inventory `Counter`s: `inv_a = Counter({\"apple\":5,\"banana\":2})` and `inv_b = Counter({\"banana\":3,\"orange\":4})`. Combine them."
   ]
  },
  {
   "cell_type": "code",
   "execution_count": null,
   "id": "8feb77e8",
   "metadata": {},
   "outputs": [],
   "source": [
    "\n",
    "# Your solution here"
   ]
  },
  {
   "cell_type": "markdown",
   "id": "b3a94ab7",
   "metadata": {},
   "source": [
    "### Problem 6\n",
    "Subtract inventory `B` from inventory `A` above to show what remains in `inv_a` after shipping."
   ]
  },
  {
   "cell_type": "code",
   "execution_count": null,
   "id": "69231975",
   "metadata": {},
   "outputs": [],
   "source": [
    "\n",
    "# Your solution here"
   ]
  },
  {
   "cell_type": "markdown",
   "id": "0dde7773",
   "metadata": {},
   "source": [
    "### Problem 7\n",
    "Simulate `dice = [randint(1,6) for _ in range(10_000)]` and use a `Counter` to produce a histogram."
   ]
  },
  {
   "cell_type": "code",
   "execution_count": null,
   "id": "8ef27c05",
   "metadata": {},
   "outputs": [],
   "source": [
    "\n",
    "# Your solution here"
   ]
  },
  {
   "cell_type": "markdown",
   "id": "8d1dbda6",
   "metadata": {},
   "source": [
    "### Problem 8\n",
    "Find the most common two‑character substring in the string `\"banana bandana\"`."
   ]
  },
  {
   "cell_type": "code",
   "execution_count": null,
   "id": "68a4e265",
   "metadata": {},
   "outputs": [],
   "source": [
    "\n",
    "# Your solution here"
   ]
  },
  {
   "cell_type": "markdown",
   "id": "9d512b53",
   "metadata": {},
   "source": [
    "### Problem 9\n",
    "Build a trigram (`length 3`) frequency `Counter` for the text `\"to be or not to be\"`."
   ]
  },
  {
   "cell_type": "code",
   "execution_count": null,
   "id": "fc77c7ee",
   "metadata": {},
   "outputs": [],
   "source": [
    "\n",
    "# Your solution here"
   ]
  },
  {
   "cell_type": "markdown",
   "id": "e5a38b34",
   "metadata": {},
   "source": [
    "### Problem 10\n",
    "Update an existing `Counter({\"a\":2,\"b\":1})` with the letters from the string `\"counterupdate\"`."
   ]
  },
  {
   "cell_type": "code",
   "execution_count": null,
   "id": "aecc32dd",
   "metadata": {},
   "outputs": [],
   "source": [
    "\n",
    "# Your solution here"
   ]
  },
  {
   "cell_type": "markdown",
   "id": "fa810786",
   "metadata": {},
   "source": [
    "### Problem 11\n",
    "Convert a `Counter` to a sorted list of `(item, count)` pairs in **descending** order of count for `Counter(\"abracadabra\")`."
   ]
  },
  {
   "cell_type": "code",
   "execution_count": null,
   "id": "9e79e8c3",
   "metadata": {},
   "outputs": [],
   "source": [
    "\n",
    "# Your solution here"
   ]
  },
  {
   "cell_type": "markdown",
   "id": "d1eeeaae",
   "metadata": {},
   "source": [
    "### Problem 12\n",
    "Determine whether `\"listen\"` and `\"Silent \"` are anagrams (ignoring case and spaces) using `Counter`."
   ]
  },
  {
   "cell_type": "code",
   "execution_count": null,
   "id": "0881335d",
   "metadata": {},
   "outputs": [],
   "source": [
    "\n",
    "# Your solution here"
   ]
  },
  {
   "cell_type": "markdown",
   "id": "060a8efb",
   "metadata": {},
   "source": [
    "## collections — defaultdict"
   ]
  },
  {
   "cell_type": "markdown",
   "id": "59582476",
   "metadata": {},
   "source": [
    "### Problem 13\n",
    "Build an **adjacency list** for the edges `edges = [(\"A\",\"B\"),(\"A\",\"C\"),(\"B\",\"D\")]` using `defaultdict(list)`."
   ]
  },
  {
   "cell_type": "code",
   "execution_count": null,
   "id": "82a2dd5f",
   "metadata": {},
   "outputs": [],
   "source": [
    "\n",
    "# Your solution here"
   ]
  },
  {
   "cell_type": "markdown",
   "id": "655d1153",
   "metadata": {},
   "source": [
    "### Problem 14\n",
    "Count word frequencies in the live text stream `stream = \"to be or not to be\".split()` using `defaultdict(int)`."
   ]
  },
  {
   "cell_type": "code",
   "execution_count": null,
   "id": "08a27146",
   "metadata": {},
   "outputs": [],
   "source": [
    "\n",
    "# Your solution here"
   ]
  },
  {
   "cell_type": "markdown",
   "id": "2b9407fb",
   "metadata": {},
   "source": [
    "### Problem 15\n",
    "Group `words = [\"apple\",\"apricot\",\"banana\",\"blackberry\"]` by their first letter."
   ]
  },
  {
   "cell_type": "code",
   "execution_count": null,
   "id": "30d5f2c3",
   "metadata": {},
   "outputs": [],
   "source": [
    "\n",
    "# Your solution here"
   ]
  },
  {
   "cell_type": "markdown",
   "id": "01065e6c",
   "metadata": {},
   "source": [
    "### Problem 16\n",
    "Aggregate exam scores by student ID given `scores = [(101, 88), (102, 92), (101, 79), (103, 85)]`."
   ]
  },
  {
   "cell_type": "code",
   "execution_count": null,
   "id": "cb8259d2",
   "metadata": {},
   "outputs": [],
   "source": [
    "\n",
    "# Your solution here"
   ]
  },
  {
   "cell_type": "markdown",
   "id": "140af9fc",
   "metadata": {},
   "source": [
    "### Problem 17\n",
    "Create a two‑level nested `defaultdict(dict)` to store `{classroom → {student → grade}}` for the data `grades = [(\"Room1\",\"Bob\",82),(\"Room1\",\"Ann\",91),(\"Room2\",\"Eve\",77)]`."
   ]
  },
  {
   "cell_type": "code",
   "execution_count": null,
   "id": "1757eb69",
   "metadata": {},
   "outputs": [],
   "source": [
    "\n",
    "# Your solution here"
   ]
  },
  {
   "cell_type": "markdown",
   "id": "ca86c818",
   "metadata": {},
   "source": [
    "### Problem 18\n",
    "Using `defaultdict(float)`, accumulate total sales amounts keyed by `\"item_id\"` from `orders = [{\"item_id\":1,\"amount\":9.99},{\"item_id\":2,\"amount\":3.50},{\"item_id\":1,\"amount\":5.00}]`."
   ]
  },
  {
   "cell_type": "code",
   "execution_count": null,
   "id": "65c2b1fc",
   "metadata": {},
   "outputs": [],
   "source": [
    "\n",
    "# Your solution here"
   ]
  },
  {
   "cell_type": "markdown",
   "id": "d76f48ef",
   "metadata": {},
   "source": [
    "### Problem 19\n",
    "Use `defaultdict(set)` to deduplicate the values in `pairs = [(1,\"a\"),(1,\"b\"),(1,\"a\")]`."
   ]
  },
  {
   "cell_type": "code",
   "execution_count": null,
   "id": "cd2052de",
   "metadata": {},
   "outputs": [],
   "source": [
    "\n",
    "# Your solution here"
   ]
  },
  {
   "cell_type": "markdown",
   "id": "17ea1696",
   "metadata": {},
   "source": [
    "### Problem 20\n",
    "Categorize `words` above by **length** with `defaultdict(list)`."
   ]
  },
  {
   "cell_type": "code",
   "execution_count": null,
   "id": "8b890be8",
   "metadata": {},
   "outputs": [],
   "source": [
    "\n",
    "# Your solution here"
   ]
  },
  {
   "cell_type": "markdown",
   "id": "68325d34",
   "metadata": {},
   "source": [
    "### Problem 21\n",
    "Implement a streaming counter that returns 0 for unseen keys with `defaultdict(lambda:0)`; demonstrate with lookups for `\"x\"` then incrementing."
   ]
  },
  {
   "cell_type": "code",
   "execution_count": null,
   "id": "0125004a",
   "metadata": {},
   "outputs": [],
   "source": [
    "\n",
    "# Your solution here"
   ]
  },
  {
   "cell_type": "markdown",
   "id": "f53dd9ad",
   "metadata": {},
   "source": [
    "### Problem 22\n",
    "Use `defaultdict` for simple memoization of the Fibonacci sequence (compute the 20th fib)."
   ]
  },
  {
   "cell_type": "code",
   "execution_count": null,
   "id": "0bf17f25",
   "metadata": {},
   "outputs": [],
   "source": [
    "\n",
    "# Your solution here"
   ]
  },
  {
   "cell_type": "markdown",
   "id": "6a21b1e2",
   "metadata": {},
   "source": [
    "## collections — deque"
   ]
  },
  {
   "cell_type": "markdown",
   "id": "75a51d23",
   "metadata": {},
   "source": [
    "### Problem 23\n",
    "Maintain a sliding window (size 3) maximum over `data = [1,3,2,5,4,6]` using a `deque`."
   ]
  },
  {
   "cell_type": "code",
   "execution_count": null,
   "id": "7f7a78a5",
   "metadata": {},
   "outputs": [],
   "source": [
    "\n",
    "# Your solution here"
   ]
  },
  {
   "cell_type": "markdown",
   "id": "4d714df3",
   "metadata": {},
   "source": [
    "### Problem 24\n",
    "Implement a fixed‑length queue (`maxlen = 5`) that overwrites the oldest items when pushing 0‑9."
   ]
  },
  {
   "cell_type": "code",
   "execution_count": null,
   "id": "94a84c86",
   "metadata": {},
   "outputs": [],
   "source": [
    "\n",
    "# Your solution here"
   ]
  },
  {
   "cell_type": "markdown",
   "id": "55fd576c",
   "metadata": {},
   "source": [
    "### Problem 25\n",
    "Rotate the deque `dq = deque([1,2,3,4,5])` two steps to the right."
   ]
  },
  {
   "cell_type": "code",
   "execution_count": null,
   "id": "a7cde214",
   "metadata": {},
   "outputs": [],
   "source": [
    "\n",
    "# Your solution here"
   ]
  },
  {
   "cell_type": "markdown",
   "id": "195e2834",
   "metadata": {},
   "source": [
    "### Problem 26\n",
    "Write a function that checks whether `\"racecar\"` is a palindrome using `deque` pops from both ends."
   ]
  },
  {
   "cell_type": "code",
   "execution_count": null,
   "id": "c12bfc74",
   "metadata": {},
   "outputs": [],
   "source": [
    "\n",
    "# Your solution here"
   ]
  },
  {
   "cell_type": "markdown",
   "id": "caa2c53d",
   "metadata": {},
   "source": [
    "### Problem 27\n",
    "Perform breadth‑first search (BFS) on `tree = {\"A\":[\"B\",\"C\"],\"B\":[\"D\"],\"C\":[], \"D\":[]}` with a `deque`."
   ]
  },
  {
   "cell_type": "code",
   "execution_count": null,
   "id": "89cafc03",
   "metadata": {},
   "outputs": [],
   "source": [
    "\n",
    "# Your solution here"
   ]
  },
  {
   "cell_type": "markdown",
   "id": "ab05fca0",
   "metadata": {},
   "source": [
    "### Problem 28\n",
    "Simulate browser history with back/forward stacks using two `deque`s when navigating to pages `[\"a.com\",\"b.com\",\"c.com\"]`, then back twice, then forward once."
   ]
  },
  {
   "cell_type": "code",
   "execution_count": null,
   "id": "377999eb",
   "metadata": {},
   "outputs": [],
   "source": [
    "\n",
    "# Your solution here"
   ]
  },
  {
   "cell_type": "markdown",
   "id": "5d25b1c8",
   "metadata": {},
   "source": [
    "### Problem 29\n",
    "Create a ring buffer log that keeps the last 10 events: push integers 0‑14 and print buffer."
   ]
  },
  {
   "cell_type": "code",
   "execution_count": null,
   "id": "2c513c68",
   "metadata": {},
   "outputs": [],
   "source": [
    "\n",
    "# Your solution here"
   ]
  },
  {
   "cell_type": "markdown",
   "id": "f50fe2e2",
   "metadata": {},
   "source": [
    "### Problem 30\n",
    "Show that a `deque` can be used as both a stack and a queue by pushing `\"x\",\"y\",\"z\"` and demonstrating `pop()` vs `popleft()`."
   ]
  },
  {
   "cell_type": "code",
   "execution_count": null,
   "id": "d016b0b1",
   "metadata": {},
   "outputs": [],
   "source": [
    "\n",
    "# Your solution here"
   ]
  },
  {
   "cell_type": "markdown",
   "id": "32822ec9",
   "metadata": {},
   "source": [
    "## collections — ChainMap"
   ]
  },
  {
   "cell_type": "markdown",
   "id": "7ab3007c",
   "metadata": {},
   "source": [
    "### Problem 31\n",
    "Combine configuration dicts `defaults={\"timeout\":30}`, `env={\"timeout\":60}`, `cli={\"log\":\"debug\"}` with `ChainMap`, giving priority to command line."
   ]
  },
  {
   "cell_type": "code",
   "execution_count": null,
   "id": "1b46e467",
   "metadata": {},
   "outputs": [],
   "source": [
    "\n",
    "# Your solution here"
   ]
  },
  {
   "cell_type": "markdown",
   "id": "23424d33",
   "metadata": {},
   "source": [
    "### Problem 32\n",
    "Override application settings with env vars while falling back on defaults using `ChainMap` above; fetch `\"timeout\"` and `\"log\"`."
   ]
  },
  {
   "cell_type": "code",
   "execution_count": null,
   "id": "22dd6936",
   "metadata": {},
   "outputs": [],
   "source": [
    "\n",
    "# Your solution here"
   ]
  },
  {
   "cell_type": "markdown",
   "id": "4eef2727",
   "metadata": {},
   "source": [
    "### Problem 33\n",
    "Demonstrate lexical variable resolution by linking `locals()` and `globals()` via nested `ChainMap`s."
   ]
  },
  {
   "cell_type": "code",
   "execution_count": null,
   "id": "271e9539",
   "metadata": {},
   "outputs": [],
   "source": [
    "\n",
    "# Your solution here"
   ]
  },
  {
   "cell_type": "markdown",
   "id": "bbaf5864",
   "metadata": {},
   "source": [
    "### Problem 34\n",
    "Confirm that updating the **first** mapping in a `ChainMap` reflects in lookups but not the underlying dicts."
   ]
  },
  {
   "cell_type": "code",
   "execution_count": null,
   "id": "bc3bff0f",
   "metadata": {},
   "outputs": [],
   "source": [
    "\n",
    "# Your solution here"
   ]
  },
  {
   "cell_type": "markdown",
   "id": "0972ef77",
   "metadata": {},
   "source": [
    "### Problem 35\n",
    "Layer three configuration files with `ChainMap` and query a setting named `\"timeout\"` from `[{\"timeout\":10},{\"retry\":3},{\"timeout\":20}]`."
   ]
  },
  {
   "cell_type": "code",
   "execution_count": null,
   "id": "30e75430",
   "metadata": {},
   "outputs": [],
   "source": [
    "\n",
    "# Your solution here"
   ]
  },
  {
   "cell_type": "markdown",
   "id": "71487014",
   "metadata": {},
   "source": [
    "### Problem 36\n",
    "Flatten a `ChainMap` to a regular dict in one line."
   ]
  },
  {
   "cell_type": "code",
   "execution_count": null,
   "id": "9c964a48",
   "metadata": {},
   "outputs": [],
   "source": [
    "\n",
    "# Your solution here"
   ]
  },
  {
   "cell_type": "markdown",
   "id": "25734f5f",
   "metadata": {},
   "source": [
    "## heapq — heappush/heappop"
   ]
  },
  {
   "cell_type": "markdown",
   "id": "69c597da",
   "metadata": {},
   "source": [
    "### Problem 37\n",
    "Maintain the running **median** of the stream `stream = [5, 15, 1, 3]` using two heaps."
   ]
  },
  {
   "cell_type": "code",
   "execution_count": null,
   "id": "6b5d115c",
   "metadata": {},
   "outputs": [],
   "source": [
    "\n",
    "# Your solution here"
   ]
  },
  {
   "cell_type": "markdown",
   "id": "855ce926",
   "metadata": {},
   "source": [
    "### Problem 38\n",
    "Merge k sorted lists `lists = [[1,4,7],[2,5,8],[0,6,9]]` into a single sorted list with a heap."
   ]
  },
  {
   "cell_type": "code",
   "execution_count": null,
   "id": "91f5264b",
   "metadata": {},
   "outputs": [],
   "source": [
    "\n",
    "# Your solution here"
   ]
  },
  {
   "cell_type": "markdown",
   "id": "8aeecd5d",
   "metadata": {},
   "source": [
    "### Problem 39\n",
    "Keep the smallest 10 numbers from `data = list(range(1000,0,-1))` while iterating."
   ]
  },
  {
   "cell_type": "code",
   "execution_count": null,
   "id": "16c613ab",
   "metadata": {},
   "outputs": [],
   "source": [
    "\n",
    "# Your solution here"
   ]
  },
  {
   "cell_type": "markdown",
   "id": "9d1d399d",
   "metadata": {},
   "source": [
    "### Problem 40\n",
    "Implement a priority queue of tasks `tasks = [(3,\"low\"),(1,\"high\"),(2,\"medium\")]` that executes lowest numbers first."
   ]
  },
  {
   "cell_type": "code",
   "execution_count": null,
   "id": "abf1efa6",
   "metadata": {},
   "outputs": [],
   "source": [
    "\n",
    "# Your solution here"
   ]
  },
  {
   "cell_type": "markdown",
   "id": "7e69c278",
   "metadata": {},
   "source": [
    "### Problem 41\n",
    "Schedule tasks by earliest `deadline` timestamp using `heapq` with `jobs=[(1670000000,\"jobA\"),(1660000000,\"jobB\")]`."
   ]
  },
  {
   "cell_type": "code",
   "execution_count": null,
   "id": "46b9a396",
   "metadata": {},
   "outputs": [],
   "source": [
    "\n",
    "# Your solution here"
   ]
  },
  {
   "cell_type": "markdown",
   "id": "66f46937",
   "metadata": {},
   "source": [
    "### Problem 42\n",
    "Given `timestamps=[3,1,4,2]`, pop events in chronological order using a min‑heap."
   ]
  },
  {
   "cell_type": "code",
   "execution_count": null,
   "id": "740344bd",
   "metadata": {},
   "outputs": [],
   "source": [
    "\n",
    "# Your solution here"
   ]
  },
  {
   "cell_type": "markdown",
   "id": "d7354ad4",
   "metadata": {},
   "source": [
    "### Problem 43\n",
    "Use `heapq.heappushpop` to keep the heap size at most 3 while processing 0‑9."
   ]
  },
  {
   "cell_type": "code",
   "execution_count": null,
   "id": "22b157ba",
   "metadata": {},
   "outputs": [],
   "source": [
    "\n",
    "# Your solution here"
   ]
  },
  {
   "cell_type": "markdown",
   "id": "1f859a8d",
   "metadata": {},
   "source": [
    "### Problem 44\n",
    "Apply a heap in Dijkstra’s shortest‑path algorithm skeleton on a simple graph `{'A':[('B',1)],'B':[]}`."
   ]
  },
  {
   "cell_type": "code",
   "execution_count": null,
   "id": "bbe60c00",
   "metadata": {},
   "outputs": [],
   "source": [
    "\n",
    "# Your solution here"
   ]
  },
  {
   "cell_type": "markdown",
   "id": "38721d23",
   "metadata": {},
   "source": [
    "### Problem 45\n",
    "Simulate an **event queue** that orders events by `(time, seq)` to avoid tie collisions for `events=[(10,0,\"A\"),(10,1,\"B\"),(5,0,\"C\")]`."
   ]
  },
  {
   "cell_type": "code",
   "execution_count": null,
   "id": "31c7f248",
   "metadata": {},
   "outputs": [],
   "source": [
    "\n",
    "# Your solution here"
   ]
  },
  {
   "cell_type": "markdown",
   "id": "7fd7d782",
   "metadata": {},
   "source": [
    "### Problem 46\n",
    "Turn `nums = [3,1,4,1,5]` into a heap in‑place and then repeatedly pop to sort ascending."
   ]
  },
  {
   "cell_type": "code",
   "execution_count": null,
   "id": "51f58e56",
   "metadata": {},
   "outputs": [],
   "source": [
    "\n",
    "# Your solution here"
   ]
  },
  {
   "cell_type": "markdown",
   "id": "6293d0f4",
   "metadata": {},
   "source": [
    "## heapq — nlargest"
   ]
  },
  {
   "cell_type": "markdown",
   "id": "24539206",
   "metadata": {},
   "source": [
    "### Problem 47\n",
    "Find the three **longest** words in `animals = [\"ant\",\"hippopotamus\",\"giraffe\",\"chimpanzee\",\"lion\"]`."
   ]
  },
  {
   "cell_type": "code",
   "execution_count": null,
   "id": "0e444435",
   "metadata": {},
   "outputs": [],
   "source": [
    "\n",
    "# Your solution here"
   ]
  },
  {
   "cell_type": "markdown",
   "id": "35c9e612",
   "metadata": {},
   "source": [
    "### Problem 48\n",
    "Select the top 5 most expensive items from `items = [(19.99,\"book\"),(5.99,\"pen\"),(299.0,\"laptop\"),(49.5,\"chair\"),(120.0,\"desk\")]`."
   ]
  },
  {
   "cell_type": "code",
   "execution_count": null,
   "id": "f1718365",
   "metadata": {},
   "outputs": [],
   "source": [
    "\n",
    "# Your solution here"
   ]
  },
  {
   "cell_type": "markdown",
   "id": "8fd58456",
   "metadata": {},
   "source": [
    "### Problem 49\n",
    "Given `cars=[{\"model\":\"A\",\"speed\":120},{\"model\":\"B\",\"speed\":150},{\"model\":\"C\",\"speed\":130}]`, get the 2 fastest using `nlargest` with a key."
   ]
  },
  {
   "cell_type": "code",
   "execution_count": null,
   "id": "ccb6266a",
   "metadata": {},
   "outputs": [],
   "source": [
    "\n",
    "# Your solution here"
   ]
  },
  {
   "cell_type": "markdown",
   "id": "829c7920",
   "metadata": {},
   "source": [
    "### Problem 50\n",
    "Use `nlargest` to retrieve the top 3 most frequent words from `Counter(\"to be or not to be or to be\")`."
   ]
  },
  {
   "cell_type": "code",
   "execution_count": null,
   "id": "3657bcb1",
   "metadata": {},
   "outputs": [],
   "source": [
    "\n",
    "# Your solution here"
   ]
  },
  {
   "cell_type": "markdown",
   "id": "918bca17",
   "metadata": {},
   "source": [
    "## bisect — bisect_left"
   ]
  },
  {
   "cell_type": "markdown",
   "id": "c129b972",
   "metadata": {},
   "source": [
    "### Problem 51\n",
    "Find the insertion position for 42 in `data=[1,10,20,30,50]` using `bisect_left`."
   ]
  },
  {
   "cell_type": "code",
   "execution_count": null,
   "id": "f271b00e",
   "metadata": {},
   "outputs": [],
   "source": [
    "\n",
    "# Your solution here"
   ]
  },
  {
   "cell_type": "markdown",
   "id": "1b35378e",
   "metadata": {},
   "source": [
    "### Problem 52\n",
    "Count how many numbers in `data` are `<= 25` using `bisect_left`."
   ]
  },
  {
   "cell_type": "code",
   "execution_count": null,
   "id": "77d4ffa9",
   "metadata": {},
   "outputs": [],
   "source": [
    "\n",
    "# Your solution here"
   ]
  },
  {
   "cell_type": "markdown",
   "id": "a0750719",
   "metadata": {},
   "source": [
    "### Problem 53\n",
    "Given sorted `data`, find the element **closest** to `target = 26` with `bisect`."
   ]
  },
  {
   "cell_type": "code",
   "execution_count": null,
   "id": "76ea6f1f",
   "metadata": {},
   "outputs": [],
   "source": [
    "\n",
    "# Your solution here"
   ]
  },
  {
   "cell_type": "markdown",
   "id": "c45749b1",
   "metadata": {},
   "source": [
    "### Problem 54\n",
    "Implement a generic binary search that returns index or `-1` for `key=20` in `data`."
   ]
  },
  {
   "cell_type": "code",
   "execution_count": null,
   "id": "3a3634cc",
   "metadata": {},
   "outputs": [],
   "source": [
    "\n",
    "# Your solution here"
   ]
  },
  {
   "cell_type": "markdown",
   "id": "714ced78",
   "metadata": {},
   "source": [
    "### Problem 55\n",
    "Insert ISO timestamp `\"2025-06-14T10:00:00\"` into sorted list `ts=[\"2025-06-14T09:00:00\",\"2025-06-14T11:00:00\"]` preserving order."
   ]
  },
  {
   "cell_type": "code",
   "execution_count": null,
   "id": "e30b6e2e",
   "metadata": {},
   "outputs": [],
   "source": [
    "\n",
    "# Your solution here"
   ]
  },
  {
   "cell_type": "markdown",
   "id": "8eebfa96",
   "metadata": {},
   "source": [
    "### Problem 56\n",
    "Compute the length of the longest non‑decreasing subsequence for `nums=[3,4,1,2,8,5]` using `bisect_left`."
   ]
  },
  {
   "cell_type": "code",
   "execution_count": null,
   "id": "54c500ec",
   "metadata": {},
   "outputs": [],
   "source": [
    "\n",
    "# Your solution here"
   ]
  },
  {
   "cell_type": "markdown",
   "id": "a1f3c38e",
   "metadata": {},
   "source": [
    "## bisect — insort"
   ]
  },
  {
   "cell_type": "markdown",
   "id": "e33b51dd",
   "metadata": {},
   "source": [
    "### Problem 57\n",
    "Maintain a real‑time **leaderboard** of `scores=[50,70,65,85,90]` inserting each with `insort`."
   ]
  },
  {
   "cell_type": "code",
   "execution_count": null,
   "id": "e89367ef",
   "metadata": {},
   "outputs": [],
   "source": [
    "\n",
    "# Your solution here"
   ]
  },
  {
   "cell_type": "markdown",
   "id": "80df3b90",
   "metadata": {},
   "source": [
    "### Problem 58\n",
    "Insert value 42 into `data=[10,20,30,50]` and keep it sorted with `insort`."
   ]
  },
  {
   "cell_type": "code",
   "execution_count": null,
   "id": "62277727",
   "metadata": {},
   "outputs": [],
   "source": [
    "\n",
    "# Your solution here"
   ]
  },
  {
   "cell_type": "markdown",
   "id": "aa43fbf7",
   "metadata": {},
   "source": [
    "### Problem 59\n",
    "Maintain the sliding‑window median (window 3) with `insort` on `stream=[1,3,2,5,4]`."
   ]
  },
  {
   "cell_type": "code",
   "execution_count": null,
   "id": "befc6d96",
   "metadata": {},
   "outputs": [],
   "source": [
    "\n",
    "# Your solution here"
   ]
  },
  {
   "cell_type": "markdown",
   "id": "b1af2072",
   "metadata": {},
   "source": [
    "### Problem 60\n",
    "Build a **sorted unique** list by combining `insort` and `bisect` checks for inputs `[3,1,4,1,5,9,2]`."
   ]
  },
  {
   "cell_type": "code",
   "execution_count": null,
   "id": "df102723",
   "metadata": {},
   "outputs": [],
   "source": [
    "\n",
    "# Your solution here"
   ]
  },
  {
   "cell_type": "markdown",
   "id": "f090c759",
   "metadata": {},
   "source": [
    "## itertools — groupby"
   ]
  },
  {
   "cell_type": "markdown",
   "id": "b8bdb7d8",
   "metadata": {},
   "source": [
    "### Problem 61\n",
    "Collapse consecutive duplicate letters in `s='AAAABBBCCDAABBB'`."
   ]
  },
  {
   "cell_type": "code",
   "execution_count": null,
   "id": "7991815b",
   "metadata": {},
   "outputs": [],
   "source": [
    "\n",
    "# Your solution here"
   ]
  },
  {
   "cell_type": "markdown",
   "id": "f8d3bcfc",
   "metadata": {},
   "source": [
    "### Problem 62\n",
    "Group `[\"ant\",\"bear\",\"bee\",\"cat\"]` by word length."
   ]
  },
  {
   "cell_type": "code",
   "execution_count": null,
   "id": "eeb47a27",
   "metadata": {},
   "outputs": [],
   "source": [
    "\n",
    "# Your solution here"
   ]
  },
  {
   "cell_type": "markdown",
   "id": "2ef4d977",
   "metadata": {},
   "source": [
    "### Problem 63\n",
    "Group ISO timestamps `[\"2025-06-14T10:00:00\",\"2025-06-14T11:05:00\",\"2025-06-15T09:00:00\"]` by **date**."
   ]
  },
  {
   "cell_type": "code",
   "execution_count": null,
   "id": "5dfd1695",
   "metadata": {},
   "outputs": [],
   "source": [
    "\n",
    "# Your solution here"
   ]
  },
  {
   "cell_type": "markdown",
   "id": "6842fd4b",
   "metadata": {},
   "source": [
    "### Problem 64\n",
    "Group objects `products=[{\"cat\":\"A\",\"id\":1},{\"cat\":\"B\",\"id\":2},{\"cat\":\"A\",\"id\":3}]` with attribute/field `cat` using `groupby` after sorting."
   ]
  },
  {
   "cell_type": "code",
   "execution_count": null,
   "id": "1f4d0653",
   "metadata": {},
   "outputs": [],
   "source": [
    "\n",
    "# Your solution here"
   ]
  },
  {
   "cell_type": "markdown",
   "id": "50a3bf49",
   "metadata": {},
   "source": [
    "### Problem 65\n",
    "Split text `paragraphs = [\"line1\",\"\",\"line2\",\"line3\",\"\",\"\",\"line4\"]` into paragraphs separated by blank lines using `groupby`."
   ]
  },
  {
   "cell_type": "code",
   "execution_count": null,
   "id": "eb2ebaf5",
   "metadata": {},
   "outputs": [],
   "source": [
    "\n",
    "# Your solution here"
   ]
  },
  {
   "cell_type": "markdown",
   "id": "68b7c93b",
   "metadata": {},
   "source": [
    "### Problem 66\n",
    "Implement run‑length encoding of list `data=[1,1,2,2,2,3]`."
   ]
  },
  {
   "cell_type": "code",
   "execution_count": null,
   "id": "ade80160",
   "metadata": {},
   "outputs": [],
   "source": [
    "\n",
    "# Your solution here"
   ]
  },
  {
   "cell_type": "markdown",
   "id": "f1a3f402",
   "metadata": {},
   "source": [
    "### Problem 67\n",
    "Given `rainfall=[(\"2025-01-03\",5),(\"2025-01-05\",3),(\"2025-02-02\",7)]`, group by month and sum totals."
   ]
  },
  {
   "cell_type": "code",
   "execution_count": null,
   "id": "7859a4c0",
   "metadata": {},
   "outputs": [],
   "source": [
    "\n",
    "# Your solution here"
   ]
  },
  {
   "cell_type": "markdown",
   "id": "91ed48c5",
   "metadata": {},
   "source": [
    "### Problem 68\n",
    "Detect runs of identical numbers in `nums=[1,1,2,2,2,3]`."
   ]
  },
  {
   "cell_type": "code",
   "execution_count": null,
   "id": "d033ea9d",
   "metadata": {},
   "outputs": [],
   "source": [
    "\n",
    "# Your solution here"
   ]
  },
  {
   "cell_type": "markdown",
   "id": "cd4e2141",
   "metadata": {},
   "source": [
    "## itertools — accumulate"
   ]
  },
  {
   "cell_type": "markdown",
   "id": "0a5f3cee",
   "metadata": {},
   "source": [
    "### Problem 69\n",
    "Generate the cumulative sum of `nums=[1,2,3,4]`."
   ]
  },
  {
   "cell_type": "code",
   "execution_count": null,
   "id": "4fb9a692",
   "metadata": {},
   "outputs": [],
   "source": [
    "\n",
    "# Your solution here"
   ]
  },
  {
   "cell_type": "markdown",
   "id": "aa8d7527",
   "metadata": {},
   "source": [
    "### Problem 70\n",
    "Compute cumulative **product** of `nums`."
   ]
  },
  {
   "cell_type": "code",
   "execution_count": null,
   "id": "9c71ffab",
   "metadata": {},
   "outputs": [],
   "source": [
    "\n",
    "# Your solution here"
   ]
  },
  {
   "cell_type": "markdown",
   "id": "97aa0019",
   "metadata": {},
   "source": [
    "### Problem 71\n",
    "Produce the running **maximum** of `nums=[3,1,4,1,5,9]`."
   ]
  },
  {
   "cell_type": "code",
   "execution_count": null,
   "id": "4aa27415",
   "metadata": {},
   "outputs": [],
   "source": [
    "\n",
    "# Your solution here"
   ]
  },
  {
   "cell_type": "markdown",
   "id": "c4266ec6",
   "metadata": {},
   "source": [
    "### Problem 72\n",
    "Calculate cumulative distance from `legs=[2.0,3.5,4.2]`."
   ]
  },
  {
   "cell_type": "code",
   "execution_count": null,
   "id": "c1483459",
   "metadata": {},
   "outputs": [],
   "source": [
    "\n",
    "# Your solution here"
   ]
  },
  {
   "cell_type": "markdown",
   "id": "260999f8",
   "metadata": {},
   "source": [
    "### Problem 73\n",
    "Create a simple moving **average** (window 3) using `accumulate` on `data=[10,20,30,40,50]` and `islice`."
   ]
  },
  {
   "cell_type": "code",
   "execution_count": null,
   "id": "05b8cff6",
   "metadata": {},
   "outputs": [],
   "source": [
    "\n",
    "# Your solution here"
   ]
  },
  {
   "cell_type": "markdown",
   "id": "84d7f40d",
   "metadata": {},
   "source": [
    "### Problem 74\n",
    "Compute prefix XOR of `nums=[7,3,5]`."
   ]
  },
  {
   "cell_type": "code",
   "execution_count": null,
   "id": "4bc870b5",
   "metadata": {},
   "outputs": [],
   "source": [
    "\n",
    "# Your solution here"
   ]
  },
  {
   "cell_type": "markdown",
   "id": "1d9e7a0a",
   "metadata": {},
   "source": [
    "### Problem 75\n",
    "Generate an infinite Fibonacci sequence with `accumulate`; print first 10."
   ]
  },
  {
   "cell_type": "code",
   "execution_count": null,
   "id": "91f72580",
   "metadata": {},
   "outputs": [],
   "source": [
    "\n",
    "# Your solution here"
   ]
  },
  {
   "cell_type": "markdown",
   "id": "c8359ad5",
   "metadata": {},
   "source": [
    "### Problem 76\n",
    "Create cumulative word counts across chapters `words=[1000,1500,800,1200]`."
   ]
  },
  {
   "cell_type": "code",
   "execution_count": null,
   "id": "8b337cc1",
   "metadata": {},
   "outputs": [],
   "source": [
    "\n",
    "# Your solution here"
   ]
  },
  {
   "cell_type": "markdown",
   "id": "cd6539c6",
   "metadata": {},
   "source": [
    "## itertools — starmap"
   ]
  },
  {
   "cell_type": "markdown",
   "id": "642d44a0",
   "metadata": {},
   "source": [
    "### Problem 77\n",
    "Compute rectangle areas from `dims=[(3,4),(5,2),(9,6)]`."
   ]
  },
  {
   "cell_type": "code",
   "execution_count": null,
   "id": "27567262",
   "metadata": {},
   "outputs": [],
   "source": [
    "\n",
    "# Your solution here"
   ]
  },
  {
   "cell_type": "markdown",
   "id": "65c9f01f",
   "metadata": {},
   "source": [
    "### Problem 78\n",
    "Raise numbers to powers from `pairs=[(2,3),(3,2),(10,3)]`."
   ]
  },
  {
   "cell_type": "code",
   "execution_count": null,
   "id": "32847733",
   "metadata": {},
   "outputs": [],
   "source": [
    "\n",
    "# Your solution here"
   ]
  },
  {
   "cell_type": "markdown",
   "id": "00b167b3",
   "metadata": {},
   "source": [
    "### Problem 79\n",
    "Compute Euclidean distance of `points=[(0,0),(3,4)]` from origin."
   ]
  },
  {
   "cell_type": "code",
   "execution_count": null,
   "id": "7e3cf13d",
   "metadata": {},
   "outputs": [],
   "source": [
    "\n",
    "# Your solution here"
   ]
  },
  {
   "cell_type": "markdown",
   "id": "8990883f",
   "metadata": {},
   "source": [
    "### Problem 80\n",
    "Multiply corresponding elements of two lists using `starmap` and `operator.mul` given `pairs=list(zip([1,2,3],[4,5,6]))`."
   ]
  },
  {
   "cell_type": "code",
   "execution_count": null,
   "id": "75403792",
   "metadata": {},
   "outputs": [],
   "source": [
    "\n",
    "# Your solution here"
   ]
  },
  {
   "cell_type": "markdown",
   "id": "a268e504",
   "metadata": {},
   "source": [
    "### Problem 81\n",
    "Format `\"host:port\"` strings from `(host, port)` tuples `hosts=[(\"localhost\",8080),(\"example.com\",80)]`."
   ]
  },
  {
   "cell_type": "code",
   "execution_count": null,
   "id": "8190bed5",
   "metadata": {},
   "outputs": [],
   "source": [
    "\n",
    "# Your solution here"
   ]
  },
  {
   "cell_type": "markdown",
   "id": "e2967315",
   "metadata": {},
   "source": [
    "### Problem 82\n",
    "Build `datetime` objects from `dates=[(2025,6,14),(2025,12,25)]` tuples."
   ]
  },
  {
   "cell_type": "code",
   "execution_count": null,
   "id": "b7d9b200",
   "metadata": {},
   "outputs": [],
   "source": [
    "\n",
    "# Your solution here"
   ]
  },
  {
   "cell_type": "markdown",
   "id": "b55bfabb",
   "metadata": {},
   "source": [
    "## itertools — chain"
   ]
  },
  {
   "cell_type": "markdown",
   "id": "a3b56ddc",
   "metadata": {},
   "source": [
    "### Problem 83\n",
    "Flatten `nested=[[1,2],[3,4],[5]]` into a single list."
   ]
  },
  {
   "cell_type": "code",
   "execution_count": null,
   "id": "feba1709",
   "metadata": {},
   "outputs": [],
   "source": [
    "\n",
    "# Your solution here"
   ]
  },
  {
   "cell_type": "markdown",
   "id": "12fedb12",
   "metadata": {},
   "source": [
    "### Problem 84\n",
    "Iterate over `range(3)`, `\"ABC\"`, and `[True, False]` in sequence."
   ]
  },
  {
   "cell_type": "code",
   "execution_count": null,
   "id": "0394231c",
   "metadata": {},
   "outputs": [],
   "source": [
    "\n",
    "# Your solution here"
   ]
  },
  {
   "cell_type": "markdown",
   "id": "807b6858",
   "metadata": {},
   "source": [
    "### Problem 85\n",
    "Use `chain.from_iterable` to flatten `list_of_sets=[{1,2},{3,4},{5}]`."
   ]
  },
  {
   "cell_type": "code",
   "execution_count": null,
   "id": "6f638df2",
   "metadata": {},
   "outputs": [],
   "source": [
    "\n",
    "# Your solution here"
   ]
  },
  {
   "cell_type": "markdown",
   "id": "0023e12d",
   "metadata": {},
   "source": [
    "### Problem 86\n",
    "Concatenate generator outputs from two APIs `api1=(x for x in \"ABC\")`, `api2=(x for x in \"123\")`."
   ]
  },
  {
   "cell_type": "code",
   "execution_count": null,
   "id": "145583ca",
   "metadata": {},
   "outputs": [],
   "source": [
    "\n",
    "# Your solution here"
   ]
  },
  {
   "cell_type": "markdown",
   "id": "80b87890",
   "metadata": {},
   "source": [
    "### Problem 87\n",
    "Collect log lines from files `files=[\"log1.txt\",\"log2.txt\"]` by chaining file iterators (use sample strings)."
   ]
  },
  {
   "cell_type": "code",
   "execution_count": null,
   "id": "0ecfbf20",
   "metadata": {},
   "outputs": [],
   "source": [
    "\n",
    "# Your solution here"
   ]
  },
  {
   "cell_type": "markdown",
   "id": "3b176e17",
   "metadata": {},
   "source": [
    "### Problem 88\n",
    "Join `chunks=[b\"ab\",b\"cd\",b\"ef\"]` into a single `bytes` object."
   ]
  },
  {
   "cell_type": "code",
   "execution_count": null,
   "id": "f9bb9d13",
   "metadata": {},
   "outputs": [],
   "source": [
    "\n",
    "# Your solution here"
   ]
  },
  {
   "cell_type": "markdown",
   "id": "6a2dc321",
   "metadata": {},
   "source": [
    "## functools — reduce"
   ]
  },
  {
   "cell_type": "markdown",
   "id": "a10cb270",
   "metadata": {},
   "source": [
    "### Problem 89\n",
    "Compute the **product** of `nums=[1,2,3,4]` with `reduce`."
   ]
  },
  {
   "cell_type": "code",
   "execution_count": null,
   "id": "d61cb709",
   "metadata": {},
   "outputs": [],
   "source": [
    "\n",
    "# Your solution here"
   ]
  },
  {
   "cell_type": "markdown",
   "id": "6900b5a4",
   "metadata": {},
   "source": [
    "### Problem 90\n",
    "Find the maximum value in `nums=[3,7,2,5]` using `reduce`."
   ]
  },
  {
   "cell_type": "code",
   "execution_count": null,
   "id": "29af15ce",
   "metadata": {},
   "outputs": [],
   "source": [
    "\n",
    "# Your solution here"
   ]
  },
  {
   "cell_type": "markdown",
   "id": "9cd172f3",
   "metadata": {},
   "source": [
    "### Problem 91\n",
    "Flatten `nested=[[1,2],[3,4],[5]]` to `[1,2,3,4,5]`."
   ]
  },
  {
   "cell_type": "code",
   "execution_count": null,
   "id": "9c2b294b",
   "metadata": {},
   "outputs": [],
   "source": [
    "\n",
    "# Your solution here"
   ]
  },
  {
   "cell_type": "markdown",
   "id": "8fa2c341",
   "metadata": {},
   "source": [
    "### Problem 92\n",
    "Compute the greatest common divisor of `nums=[48,64,80]`."
   ]
  },
  {
   "cell_type": "code",
   "execution_count": null,
   "id": "620cb41c",
   "metadata": {},
   "outputs": [],
   "source": [
    "\n",
    "# Your solution here"
   ]
  },
  {
   "cell_type": "markdown",
   "id": "c84866d6",
   "metadata": {},
   "source": [
    "### Problem 93\n",
    "Evaluate the polynomial `3x² + 2x + 1` at `x=5` using `reduce`."
   ]
  },
  {
   "cell_type": "code",
   "execution_count": null,
   "id": "579a7b2e",
   "metadata": {},
   "outputs": [],
   "source": [
    "\n",
    "# Your solution here"
   ]
  },
  {
   "cell_type": "markdown",
   "id": "fb40ca4c",
   "metadata": {},
   "source": [
    "### Problem 94\n",
    "Sum all numeric values in `data={\"a\":1,\"b\":{\"c\":2,\"d\":3}}`."
   ]
  },
  {
   "cell_type": "code",
   "execution_count": null,
   "id": "08ef5ce8",
   "metadata": {},
   "outputs": [],
   "source": [
    "\n",
    "# Your solution here"
   ]
  },
  {
   "cell_type": "markdown",
   "id": "48510b02",
   "metadata": {},
   "source": [
    "## functools — partial"
   ]
  },
  {
   "cell_type": "markdown",
   "id": "b51bbccf",
   "metadata": {},
   "source": [
    "### Problem 95\n",
    "Create `multiply_by_5` from `operator.mul` using `partial`."
   ]
  },
  {
   "cell_type": "code",
   "execution_count": null,
   "id": "466b285f",
   "metadata": {},
   "outputs": [],
   "source": [
    "\n",
    "# Your solution here"
   ]
  },
  {
   "cell_type": "markdown",
   "id": "17e1b7f8",
   "metadata": {},
   "source": [
    "### Problem 96\n",
    "Build a case‑insensitive `sorted` key with `partial(str.lower)` for `names=[\"Bob\",\"alice\",\"Carol\"]`."
   ]
  },
  {
   "cell_type": "code",
   "execution_count": null,
   "id": "84deac44",
   "metadata": {},
   "outputs": [],
   "source": [
    "\n",
    "# Your solution here"
   ]
  },
  {
   "cell_type": "markdown",
   "id": "e851f79e",
   "metadata": {},
   "source": [
    "### Problem 97\n",
    "Make a `urlopen_with_timeout` function that sets `timeout=10` by default (no network call needed)."
   ]
  },
  {
   "cell_type": "code",
   "execution_count": null,
   "id": "60492b88",
   "metadata": {},
   "outputs": [],
   "source": [
    "\n",
    "# Your solution here"
   ]
  },
  {
   "cell_type": "markdown",
   "id": "72fef438",
   "metadata": {},
   "source": [
    "### Problem 98\n",
    "Use `partial` to pre‑bind a `logger` with a fixed log level; demonstrate logging `\"Hello\"`."
   ]
  },
  {
   "cell_type": "code",
   "execution_count": null,
   "id": "b107ad24",
   "metadata": {},
   "outputs": [],
   "source": [
    "\n",
    "# Your solution here"
   ]
  },
  {
   "cell_type": "markdown",
   "id": "d53932fe",
   "metadata": {},
   "source": [
    "### Problem 99\n",
    "Create an `exp` function as `partial(pow, math.e)`; compute `exp(2)`."
   ]
  },
  {
   "cell_type": "code",
   "execution_count": null,
   "id": "a7999864",
   "metadata": {},
   "outputs": [],
   "source": [
    "\n",
    "# Your solution here"
   ]
  },
  {
   "cell_type": "markdown",
   "id": "337faf05",
   "metadata": {},
   "source": [
    "### Problem 100\n",
    "Adapt `int` to base‑2 default conversion with `partial(int, base=2)`; parse `\"1101\"`."
   ]
  },
  {
   "cell_type": "code",
   "execution_count": null,
   "id": "269dff6f",
   "metadata": {},
   "outputs": [],
   "source": [
    "\n",
    "# Your solution here"
   ]
  },
  {
   "cell_type": "markdown",
   "id": "531a2fe4",
   "metadata": {},
   "source": [
    "## datetime — arithmetic"
   ]
  },
  {
   "cell_type": "markdown",
   "id": "8963518d",
   "metadata": {},
   "source": [
    "### Problem 101\n",
    "Calculate the number of **days** between `2025-01-01` and `2025-12-31`."
   ]
  },
  {
   "cell_type": "code",
   "execution_count": null,
   "id": "23d884a9",
   "metadata": {},
   "outputs": [],
   "source": [
    "\n",
    "# Your solution here"
   ]
  },
  {
   "cell_type": "markdown",
   "id": "aa610730",
   "metadata": {},
   "source": [
    "### Problem 102\n",
    "Add 90 minutes to `dt=datetime(2025,6,14,12,0,0)`."
   ]
  },
  {
   "cell_type": "code",
   "execution_count": null,
   "id": "09b1d709",
   "metadata": {},
   "outputs": [],
   "source": [
    "\n",
    "# Your solution here"
   ]
  },
  {
   "cell_type": "markdown",
   "id": "dd3f8837",
   "metadata": {},
   "source": [
    "### Problem 103\n",
    "Convert Unix epoch `172800` to a UTC datetime."
   ]
  },
  {
   "cell_type": "code",
   "execution_count": null,
   "id": "947a9e79",
   "metadata": {},
   "outputs": [],
   "source": [
    "\n",
    "# Your solution here"
   ]
  },
  {
   "cell_type": "markdown",
   "id": "3e13d7ab",
   "metadata": {},
   "source": [
    "### Problem 104\n",
    "Given `birthdate=datetime(1990,3,15)`, compute exact age in years as of today."
   ]
  },
  {
   "cell_type": "code",
   "execution_count": null,
   "id": "72d93af7",
   "metadata": {},
   "outputs": [],
   "source": [
    "\n",
    "# Your solution here"
   ]
  },
  {
   "cell_type": "markdown",
   "id": "da12e790",
   "metadata": {},
   "source": [
    "### Problem 105\n",
    "Find the first Monday **after** `start=datetime(2025,2,13)`."
   ]
  },
  {
   "cell_type": "code",
   "execution_count": null,
   "id": "b5147970",
   "metadata": {},
   "outputs": [],
   "source": [
    "\n",
    "# Your solution here"
   ]
  },
  {
   "cell_type": "markdown",
   "id": "a456541e",
   "metadata": {},
   "source": [
    "### Problem 106\n",
    "Compute the hour difference between `US/Eastern` and `Europe/Paris` on `2025-06-14 09:00` local times (pytz/zoneinfo)."
   ]
  },
  {
   "cell_type": "code",
   "execution_count": null,
   "id": "916691ff",
   "metadata": {},
   "outputs": [],
   "source": [
    "\n",
    "# Your solution here"
   ]
  },
  {
   "cell_type": "markdown",
   "id": "356ff37c",
   "metadata": {},
   "source": [
    "### Problem 107\n",
    "Add 7 business days to `date=datetime(2025,6,14)` skipping weekends."
   ]
  },
  {
   "cell_type": "code",
   "execution_count": null,
   "id": "df83723b",
   "metadata": {},
   "outputs": [],
   "source": [
    "\n",
    "# Your solution here"
   ]
  },
  {
   "cell_type": "markdown",
   "id": "6f6d7a02",
   "metadata": {},
   "source": [
    "### Problem 108\n",
    "Generate a list of month‑start dates for year 2025."
   ]
  },
  {
   "cell_type": "code",
   "execution_count": null,
   "id": "d8c16295",
   "metadata": {},
   "outputs": [],
   "source": [
    "\n",
    "# Your solution here"
   ]
  },
  {
   "cell_type": "markdown",
   "id": "ff640e94",
   "metadata": {},
   "source": [
    "### Problem 109\n",
    "Calculate seconds elapsed since the start of 2025 for `dt=datetime(2025,3,10,5,4,3)`."
   ]
  },
  {
   "cell_type": "code",
   "execution_count": null,
   "id": "101eda3e",
   "metadata": {},
   "outputs": [],
   "source": [
    "\n",
    "# Your solution here"
   ]
  },
  {
   "cell_type": "markdown",
   "id": "abd837d0",
   "metadata": {},
   "source": [
    "### Problem 110\n",
    "Parse ISO string `\"2025-06-11T20:41:13.806890\"` and add 30 seconds."
   ]
  },
  {
   "cell_type": "code",
   "execution_count": null,
   "id": "ac24a707",
   "metadata": {},
   "outputs": [],
   "source": [
    "\n",
    "# Your solution here"
   ]
  },
  {
   "cell_type": "markdown",
   "id": "449f8b99",
   "metadata": {},
   "source": [
    "### Problem 111\n",
    "Find the average of list `ts=[datetime(2025,1,1,0), datetime(2025,1,2,12)]`."
   ]
  },
  {
   "cell_type": "code",
   "execution_count": null,
   "id": "3a683b62",
   "metadata": {},
   "outputs": [],
   "source": [
    "\n",
    "# Your solution here"
   ]
  },
  {
   "cell_type": "markdown",
   "id": "0406e7ba",
   "metadata": {},
   "source": [
    "### Problem 112\n",
    "Determine whether intervals `(1,5)` and `(4,10)` overlap."
   ]
  },
  {
   "cell_type": "code",
   "execution_count": null,
   "id": "605f0515",
   "metadata": {},
   "outputs": [],
   "source": [
    "\n",
    "# Your solution here"
   ]
  },
  {
   "cell_type": "markdown",
   "id": "28fa0101",
   "metadata": {},
   "source": [
    "## datetime — floor/ceil to windows"
   ]
  },
  {
   "cell_type": "markdown",
   "id": "681b7c5c",
   "metadata": {},
   "source": [
    "### Problem 113\n",
    "Round `dt=datetime(2025,6,14,10,7,23)` **down** to the nearest 15‑minute mark."
   ]
  },
  {
   "cell_type": "code",
   "execution_count": null,
   "id": "2ca8568e",
   "metadata": {},
   "outputs": [],
   "source": [
    "\n",
    "# Your solution here"
   ]
  },
  {
   "cell_type": "markdown",
   "id": "f7d2c39d",
   "metadata": {},
   "source": [
    "### Problem 114\n",
    "Round `dt` **up** to the next hour."
   ]
  },
  {
   "cell_type": "code",
   "execution_count": null,
   "id": "58d5dc2d",
   "metadata": {},
   "outputs": [],
   "source": [
    "\n",
    "# Your solution here"
   ]
  },
  {
   "cell_type": "markdown",
   "id": "cd4c4f72",
   "metadata": {},
   "source": [
    "### Problem 115\n",
    "Floor `dt` to midnight (start of day)."
   ]
  },
  {
   "cell_type": "code",
   "execution_count": null,
   "id": "b0f83065",
   "metadata": {},
   "outputs": [],
   "source": [
    "\n",
    "# Your solution here"
   ]
  },
  {
   "cell_type": "markdown",
   "id": "2b65b6b4",
   "metadata": {},
   "source": [
    "### Problem 116\n",
    "Ceil `dt` to the next Monday (start‑of‑week)."
   ]
  },
  {
   "cell_type": "code",
   "execution_count": null,
   "id": "0f6390ae",
   "metadata": {},
   "outputs": [],
   "source": [
    "\n",
    "# Your solution here"
   ]
  },
  {
   "cell_type": "markdown",
   "id": "d7cc0066",
   "metadata": {},
   "source": [
    "### Problem 117\n",
    "Floor `dt` to the first day of its month."
   ]
  },
  {
   "cell_type": "code",
   "execution_count": null,
   "id": "e7276b6e",
   "metadata": {},
   "outputs": [],
   "source": [
    "\n",
    "# Your solution here"
   ]
  },
  {
   "cell_type": "markdown",
   "id": "440afd26",
   "metadata": {},
   "source": [
    "### Problem 118\n",
    "Round `dt` to the nearest 5‑second window."
   ]
  },
  {
   "cell_type": "code",
   "execution_count": null,
   "id": "91f38a0b",
   "metadata": {},
   "outputs": [],
   "source": [
    "\n",
    "# Your solution here"
   ]
  },
  {
   "cell_type": "markdown",
   "id": "1c65843b",
   "metadata": {},
   "source": [
    "### Problem 119\n",
    "Floor `dt` to the previous quarter‑hour."
   ]
  },
  {
   "cell_type": "code",
   "execution_count": null,
   "id": "86acfc75",
   "metadata": {},
   "outputs": [],
   "source": [
    "\n",
    "# Your solution here"
   ]
  },
  {
   "cell_type": "markdown",
   "id": "7e470ef0",
   "metadata": {},
   "source": [
    "### Problem 120\n",
    "Ceil `date=datetime(2025,6,14)` to the next business day at 09:00."
   ]
  },
  {
   "cell_type": "code",
   "execution_count": null,
   "id": "58a9d192",
   "metadata": {},
   "outputs": [],
   "source": [
    "\n",
    "# Your solution here"
   ]
  },
  {
   "cell_type": "markdown",
   "id": "c75e75bd",
   "metadata": {},
   "source": [
    "### Problem 121\n",
    "Floor `date` to the start of its calendar quarter."
   ]
  },
  {
   "cell_type": "code",
   "execution_count": null,
   "id": "a1e79ee3",
   "metadata": {},
   "outputs": [],
   "source": [
    "\n",
    "# Your solution here"
   ]
  },
  {
   "cell_type": "markdown",
   "id": "2d2931a1",
   "metadata": {},
   "source": [
    "### Problem 122\n",
    "Ceil `date` to the next 10‑day period (1st, 11th, 21st)."
   ]
  },
  {
   "cell_type": "code",
   "execution_count": null,
   "id": "e2b754be",
   "metadata": {},
   "outputs": [],
   "source": [
    "\n",
    "# Your solution here"
   ]
  },
  {
   "cell_type": "markdown",
   "id": "dc310e40",
   "metadata": {},
   "source": [
    "## operator — attrgetter"
   ]
  },
  {
   "cell_type": "markdown",
   "id": "d6349914",
   "metadata": {},
   "source": [
    "### Problem 123\n",
    "Sort a list `people=[Person(\"Bob\",30),Person(\"Ann\",25)]` by the `age` attribute."
   ]
  },
  {
   "cell_type": "code",
   "execution_count": null,
   "id": "d0b166da",
   "metadata": {},
   "outputs": [],
   "source": [
    "\n",
    "# Your solution here"
   ]
  },
  {
   "cell_type": "markdown",
   "id": "fe786a3c",
   "metadata": {},
   "source": [
    "### Problem 124\n",
    "Sort `pairs=[(1,\"b\"),(2,\"a\"),(3,\"c\")]` by the alphabetic element descending using `attrgetter`/`itemgetter`."
   ]
  },
  {
   "cell_type": "code",
   "execution_count": null,
   "id": "34bb7f22",
   "metadata": {},
   "outputs": [],
   "source": [
    "\n",
    "# Your solution here"
   ]
  },
  {
   "cell_type": "markdown",
   "id": "a2b70755",
   "metadata": {},
   "source": [
    "### Problem 125\n",
    "Extract `\"address.city\"` from list `users=[User(\"Bob\",Address(\"NY\")),User(\"Ann\",Address(\"SF\"))]` with `attrgetter`."
   ]
  },
  {
   "cell_type": "code",
   "execution_count": null,
   "id": "2a7a332d",
   "metadata": {},
   "outputs": [],
   "source": [
    "\n",
    "# Your solution here"
   ]
  },
  {
   "cell_type": "markdown",
   "id": "2703c1ae",
   "metadata": {},
   "source": [
    "### Problem 126\n",
    "Use `max()` with `attrgetter(\"score\")` on `students=[Student(\"A\",90),Student(\"B\",85)]` to find the top student."
   ]
  },
  {
   "cell_type": "code",
   "execution_count": null,
   "id": "b1d9aeaf",
   "metadata": {},
   "outputs": [],
   "source": [
    "\n",
    "# Your solution here"
   ]
  },
  {
   "cell_type": "markdown",
   "id": "24b6f8ae",
   "metadata": {},
   "source": [
    "### Problem 127\n",
    "Sort employees `emps=[Emp(\"Dev\", \"Sales\", 70000),Emp(\"Alex\",\"Sales\",60000),Emp(\"Jane\",\"HR\",65000)]` by `(department, salary)`."
   ]
  },
  {
   "cell_type": "code",
   "execution_count": null,
   "id": "16f3dd1a",
   "metadata": {},
   "outputs": [],
   "source": [
    "\n",
    "# Your solution here"
   ]
  },
  {
   "cell_type": "markdown",
   "id": "bdc2b5f0",
   "metadata": {},
   "source": [
    "### Problem 128\n",
    "Group `products` above by attribute `cat` retrieved via `attrgetter`; print groups."
   ]
  },
  {
   "cell_type": "code",
   "execution_count": null,
   "id": "e9249024",
   "metadata": {},
   "outputs": [],
   "source": [
    "\n",
    "# Your solution here"
   ]
  },
  {
   "cell_type": "markdown",
   "id": "0ab5503f",
   "metadata": {},
   "source": [
    "## operator — itemgetter"
   ]
  },
  {
   "cell_type": "markdown",
   "id": "fbd1caed",
   "metadata": {},
   "source": [
    "### Problem 129\n",
    "Sort `records=[{\"score\":90},{\"score\":75}]` by `\"score\"` descending."
   ]
  },
  {
   "cell_type": "code",
   "execution_count": null,
   "id": "54e6e124",
   "metadata": {},
   "outputs": [],
   "source": [
    "\n",
    "# Your solution here"
   ]
  },
  {
   "cell_type": "markdown",
   "id": "d268489c",
   "metadata": {},
   "source": [
    "### Problem 130\n",
    "Unpack the two highest values from `nums=(10,2,30,4)` using `itemgetter`."
   ]
  },
  {
   "cell_type": "code",
   "execution_count": null,
   "id": "c716eeae",
   "metadata": {},
   "outputs": [],
   "source": [
    "\n",
    "# Your solution here"
   ]
  },
  {
   "cell_type": "markdown",
   "id": "e1f5c19b",
   "metadata": {},
   "source": [
    "### Problem 131\n",
    "Map `itemgetter(1)` over `rows=[(0,\"a\"),(1,\"b\"),(2,\"c\")]` to extract second column."
   ]
  },
  {
   "cell_type": "code",
   "execution_count": null,
   "id": "119d247a",
   "metadata": {},
   "outputs": [],
   "source": [
    "\n",
    "# Your solution here"
   ]
  },
  {
   "cell_type": "markdown",
   "id": "0906f7b4",
   "metadata": {},
   "source": [
    "### Problem 132\n",
    "Find tuple with minimum second element in `rows`."
   ]
  },
  {
   "cell_type": "code",
   "execution_count": null,
   "id": "df837f42",
   "metadata": {},
   "outputs": [],
   "source": [
    "\n",
    "# Your solution here"
   ]
  },
  {
   "cell_type": "markdown",
   "id": "35958361",
   "metadata": {},
   "source": [
    "### Problem 133\n",
    "Use `itemgetter(1)` inside `nlargest` to get top 3 tuples by second value from `rows=[(1,5),(2,3),(3,8),(4,2)]`."
   ]
  },
  {
   "cell_type": "code",
   "execution_count": null,
   "id": "2f8073e4",
   "metadata": {},
   "outputs": [],
   "source": [
    "\n",
    "# Your solution here"
   ]
  },
  {
   "cell_type": "markdown",
   "id": "a2fa5f78",
   "metadata": {},
   "source": [
    "### Problem 134\n",
    "Sort `triplets=[(2,1,3),(1,2,2),(1,1,5)]` by indices 2 then 0 using compound `itemgetter`."
   ]
  },
  {
   "cell_type": "code",
   "execution_count": null,
   "id": "6957e331",
   "metadata": {},
   "outputs": [
    {
     "data": {
      "text/plain": [
       "[(1, 2, 2), (2, 1, 3), (1, 1, 5)]"
      ]
     },
     "execution_count": 47,
     "metadata": {},
     "output_type": "execute_result"
    }
   ],
   "source": [
    "# Your solution here\n",
    "from operator import itemgetter\n",
    "\n",
    "# Return a callable object that fetches the given item(s) from its operand\n",
    "\n",
    "triplets = [(2, 1, 3), (1, 2, 2), (1, 1, 5)]\n",
    "sorted(triplets, key=itemgetter(2, 0))"
   ]
  },
  {
   "cell_type": "markdown",
   "id": "61ddd5ac",
   "metadata": {},
   "source": [
    "## built‑in — map"
   ]
  },
  {
   "cell_type": "markdown",
   "id": "31d61846",
   "metadata": {},
   "source": [
    "### Problem 135\n",
    "Convert `[\"1\",\"2\",\"3\"]` to integers with `map(int, ...)`."
   ]
  },
  {
   "cell_type": "code",
   "execution_count": null,
   "id": "414e90ec",
   "metadata": {},
   "outputs": [],
   "source": [
    "\n",
    "# Your solution here"
   ]
  },
  {
   "cell_type": "markdown",
   "id": "52cfb1dd",
   "metadata": {},
   "source": [
    "### Problem 136\n",
    "Strip whitespace from `[\"  a\",\"b  \",\" c \"]` using `map(str.strip, ...)`."
   ]
  },
  {
   "cell_type": "code",
   "execution_count": null,
   "id": "c0bd966b",
   "metadata": {},
   "outputs": [],
   "source": [
    "\n",
    "# Your solution here"
   ]
  },
  {
   "cell_type": "markdown",
   "id": "a0e9a57d",
   "metadata": {},
   "source": [
    "### Problem 137\n",
    "Upper‑case `[\"cat\",\"dog\"]` with `map(str.upper, ...)`."
   ]
  },
  {
   "cell_type": "code",
   "execution_count": null,
   "id": "331765ec",
   "metadata": {},
   "outputs": [],
   "source": [
    "\n",
    "# Your solution here"
   ]
  },
  {
   "cell_type": "markdown",
   "id": "1c852787",
   "metadata": {},
   "source": [
    "### Problem 138\n",
    "Square numbers 0‑9 with `map(lambda x: x*x, ...)`."
   ]
  },
  {
   "cell_type": "code",
   "execution_count": 44,
   "id": "aa553413",
   "metadata": {},
   "outputs": [
    {
     "data": {
      "text/plain": [
       "[0, 1, 4, 9, 16, 25, 36, 49, 64, 81]"
      ]
     },
     "execution_count": 44,
     "metadata": {},
     "output_type": "execute_result"
    }
   ],
   "source": [
    "# Your solution here\n",
    "list(map(lambda x: x*x, range(10)))"
   ]
  },
  {
   "cell_type": "markdown",
   "id": "f039ee30",
   "metadata": {},
   "source": [
    "### Problem 139\n",
    "Encode `[\"α\",\"β\"]` to UTF‑8 bytes with `map(str.encode, ...)`."
   ]
  },
  {
   "cell_type": "code",
   "execution_count": null,
   "id": "8d7cd64b",
   "metadata": {},
   "outputs": [
    {
     "data": {
      "text/plain": [
       "[b'\\xce\\xb1', b'\\xce\\xb2']"
      ]
     },
     "execution_count": 43,
     "metadata": {},
     "output_type": "execute_result"
    }
   ],
   "source": [
    "greek = [\"α\",\"β\"]\n",
    "list(map(lambda x: str.encode(x, \"utf-8\"), greek))"
   ]
  },
  {
   "cell_type": "markdown",
   "id": "32b94189",
   "metadata": {},
   "source": [
    "## built‑in — sum"
   ]
  },
  {
   "cell_type": "markdown",
   "id": "fd62899b",
   "metadata": {},
   "source": [
    "### Problem 140\n",
    "Sum the fractions `[Fraction(1,2),Fraction(1,3),Fraction(1,6)]`."
   ]
  },
  {
   "cell_type": "code",
   "execution_count": 41,
   "id": "7fb404de",
   "metadata": {},
   "outputs": [
    {
     "data": {
      "text/plain": [
       "Fraction(1, 1)"
      ]
     },
     "execution_count": 41,
     "metadata": {},
     "output_type": "execute_result"
    }
   ],
   "source": [
    "from fractions import Fraction\n",
    "f = [Fraction(1,2),Fraction(1,3),Fraction(1,6)]\n",
    "sum(f)\n",
    "# Your solution here"
   ]
  },
  {
   "cell_type": "markdown",
   "id": "6fe356df",
   "metadata": {},
   "source": [
    "### Problem 141\n",
    "Add list `deltas=[timedelta(hours=1),timedelta(minutes=30)]`."
   ]
  },
  {
   "cell_type": "code",
   "execution_count": 35,
   "id": "d541ca5d",
   "metadata": {},
   "outputs": [
    {
     "data": {
      "text/plain": [
       "[datetime.timedelta(seconds=3600), datetime.timedelta(seconds=5400)]"
      ]
     },
     "execution_count": 35,
     "metadata": {},
     "output_type": "execute_result"
    }
   ],
   "source": [
    "from datetime import timedelta\n",
    "from itertools import accumulate\n",
    "\n",
    "deltas=[timedelta(hours=1),timedelta(minutes=30)]\n",
    "list(accumulate(deltas))\n",
    "\n",
    "# Your solution here"
   ]
  },
  {
   "cell_type": "code",
   "execution_count": 40,
   "id": "ee8304f3",
   "metadata": {},
   "outputs": [
    {
     "data": {
      "text/plain": [
       "datetime.timedelta(seconds=5400)"
      ]
     },
     "execution_count": 40,
     "metadata": {},
     "output_type": "execute_result"
    }
   ],
   "source": [
    "# The start is normally zero, so need to set the start to a timedelta\n",
    "\n",
    "sum(deltas, start=timedelta(seconds=0))"
   ]
  },
  {
   "cell_type": "markdown",
   "id": "c48d1770",
   "metadata": {},
   "source": [
    "### Problem 142\n",
    "Compute total number of characters in `words=[\"foo\",\"bar\",\"baz\"]`."
   ]
  },
  {
   "cell_type": "code",
   "execution_count": 32,
   "id": "00fe797d",
   "metadata": {},
   "outputs": [
    {
     "data": {
      "text/plain": [
       "9"
      ]
     },
     "execution_count": 32,
     "metadata": {},
     "output_type": "execute_result"
    }
   ],
   "source": [
    "from functools import reduce\n",
    "# Your solution here\n",
    "words=[\"foo\",\"bar\",\"baz\"]\n",
    "number_chars = reduce(lambda acc, w: acc + len(w), words, 0)\n",
    "number_chars"
   ]
  },
  {
   "cell_type": "code",
   "execution_count": null,
   "id": "35987326",
   "metadata": {},
   "outputs": [],
   "source": [
    "# Pythonic\n",
    "\n",
    "words = [\"foo\", \"bar\", \"baz\"]\n",
    "number_chars = sum(len(w) for w in words)"
   ]
  },
  {
   "cell_type": "markdown",
   "id": "0d97a1e7",
   "metadata": {},
   "source": [
    "### Problem 143\n",
    "Sum squares up to 10 with a generator expression and `sum`."
   ]
  },
  {
   "cell_type": "code",
   "execution_count": null,
   "id": "9ce2e666",
   "metadata": {},
   "outputs": [],
   "source": [
    "\n",
    "# Sum of squares from 1 to 10 using a generator expression\n",
    "result = sum(x**2 for x in range(1, 11))\n",
    "print(result)  # Output: 385"
   ]
  },
  {
   "cell_type": "markdown",
   "id": "91dc06d8",
   "metadata": {},
   "source": [
    "### Problem 144\n",
    "Aggregate file sizes from `files={\"a.txt\":1234,\"b.txt\":456}` using `sum(files.values())`."
   ]
  },
  {
   "cell_type": "code",
   "execution_count": null,
   "id": "f46c688e",
   "metadata": {},
   "outputs": [],
   "source": [
    "\n",
    "# Your solution here"
   ]
  },
  {
   "cell_type": "markdown",
   "id": "be4513fa",
   "metadata": {},
   "source": [
    "## built‑in — dict"
   ]
  },
  {
   "cell_type": "markdown",
   "id": "dd0ca959",
   "metadata": {},
   "source": [
    "### Problem 145\n",
    "Invert `d={\"a\":1,\"b\":2}` to `{1:\"a\",2:\"b\"}`."
   ]
  },
  {
   "cell_type": "code",
   "execution_count": 28,
   "id": "031e453a",
   "metadata": {},
   "outputs": [
    {
     "data": {
      "text/plain": [
       "{1: 'a', 2: 'b'}"
      ]
     },
     "execution_count": 28,
     "metadata": {},
     "output_type": "execute_result"
    }
   ],
   "source": [
    "\n",
    "# Your solution here\n",
    "d={\"a\":1,\"b\":2}\n",
    "{v: k for k,v in d.items()}"
   ]
  },
  {
   "cell_type": "markdown",
   "id": "41305ca5",
   "metadata": {},
   "source": [
    "### Problem 146\n",
    "Merge pairs `[(\"a\",1),(\"b\",2)]` into a dict."
   ]
  },
  {
   "cell_type": "code",
   "execution_count": 26,
   "id": "9a78c4f9",
   "metadata": {},
   "outputs": [
    {
     "data": {
      "text/plain": [
       "{'a': 1, 'b': 2}"
      ]
     },
     "execution_count": 26,
     "metadata": {},
     "output_type": "execute_result"
    }
   ],
   "source": [
    "d= dict([(\"a\",1),(\"b\",2)])\n",
    "d\n",
    "# Your solution here"
   ]
  },
  {
   "cell_type": "markdown",
   "id": "4b3a93d3",
   "metadata": {},
   "source": [
    "### Problem 147\n",
    "Keep only keys with even values from `d={\"a\":1,\"b\":2,\"c\":3}` using dict comprehension."
   ]
  },
  {
   "cell_type": "code",
   "execution_count": 27,
   "id": "99b4db89",
   "metadata": {},
   "outputs": [
    {
     "data": {
      "text/plain": [
       "{'b': 2}"
      ]
     },
     "execution_count": 27,
     "metadata": {},
     "output_type": "execute_result"
    }
   ],
   "source": [
    "{k:v for k,v in d.items() if v%2 == 0}\n",
    "# Your solution here"
   ]
  },
  {
   "cell_type": "markdown",
   "id": "9ba795b1",
   "metadata": {},
   "source": [
    "### Problem 148\n",
    "Build dict from lists `keys=[\"x\",\"y\"]` and `vals=[10,20]` using `zip`."
   ]
  },
  {
   "cell_type": "code",
   "execution_count": 25,
   "id": "11714ac2",
   "metadata": {},
   "outputs": [
    {
     "data": {
      "text/plain": [
       "{'x': 10, 'y': 20}"
      ]
     },
     "execution_count": 25,
     "metadata": {},
     "output_type": "execute_result"
    }
   ],
   "source": [
    "keys=[\"x\",\"y\"]\n",
    "vals=[10,20]\n",
    "{k: v for k,v in zip(keys, vals)}\n",
    "# Your solution here"
   ]
  },
  {
   "cell_type": "markdown",
   "id": "471138c8",
   "metadata": {},
   "source": [
    "## strings — parsing multi‑line logs"
   ]
  },
  {
   "cell_type": "markdown",
   "id": "9a46c6d3",
   "metadata": {},
   "source": [
    "### Problem 149\n",
    "**Setup:**\n",
    "```python\n",
    "sample_log = \"\"\"\\\n",
    "2025-06-14 10:05:07 INFO  User uid=ABC123 logged in from 192.168.1.10\\n2025-06-14 10:05:12 WARN  Disk usage at 85% on server1\\n2025-06-14 10:05:17 ERROR Timeout processing request id=xyz123 t=123ms\\n2025-06-15 11:15:00 INFO  {\"event\":\"purchase\",\"amount\":19.99,\"user\":\"uid=XYZ789\"}\\n2025-06-15 11:16:42 ERROR Failed to connect to 10.0.0.5\\n\"\"\"\n",
    "```"
   ]
  },
  {
   "cell_type": "code",
   "execution_count": 18,
   "id": "cf75721e",
   "metadata": {},
   "outputs": [],
   "source": [
    "sample_log = \"\"\"2025-06-14 10:05:07 INFO  User uid=ABC123 logged in from 192.168.1.10\n",
    "2025-06-14 10:05:12 WARN  Disk usage at 85% on server1\n",
    "2025-06-14 10:05:17 ERROR Timeout processing request id=xyz123 t=123ms\n",
    "2025-06-15 11:15:00 INFO  {\"event\":\"purchase\",\"amount\":19.99,\"user\":\"uid=XYZ789\"}\n",
    "2025-06-15 11:16:42 ERROR Failed to connect to 10.0.0.5\n",
    "\"\"\"\n",
    "# Your solution here"
   ]
  },
  {
   "cell_type": "code",
   "execution_count": null,
   "id": "1e73929e",
   "metadata": {},
   "outputs": [
    {
     "data": {
      "text/plain": [
       "('2025-06-14',\n",
       " '10:05:12',\n",
       " 'WARN',\n",
       " ['', 'Disk', 'usage', 'at', '85%', 'on', 'server1'])"
      ]
     },
     "execution_count": 2,
     "metadata": {},
     "output_type": "execute_result"
    }
   ],
   "source": [
    "[log_line.split() for log_line in sample_log.split('\\n') if log_line.strip()]\n",
    "\n",
    "a,b,c,*d = \"2025-06-14 10:05:12 WARN  Disk usage at 85% on server1\".split(' ')\n",
    "a,b,c,d\n",
    "\n"
   ]
  },
  {
   "cell_type": "markdown",
   "id": "f22c5e9e",
   "metadata": {},
   "source": [
    "### Problem 150\n",
    "Extract ISO timestamps from `sample_log`."
   ]
  },
  {
   "cell_type": "code",
   "execution_count": 13,
   "id": "e5b1a259",
   "metadata": {},
   "outputs": [
    {
     "name": "stdout",
     "output_type": "stream",
     "text": [
      "[datetime.datetime(2025, 6, 14, 10, 5, 7), datetime.datetime(2025, 6, 14, 10, 5, 12), datetime.datetime(2025, 6, 14, 10, 5, 17), datetime.datetime(2025, 6, 15, 11, 15), datetime.datetime(2025, 6, 15, 11, 16, 42)]\n"
     ]
    }
   ],
   "source": [
    "# Your solution here\n",
    "from datetime import datetime\n",
    "\n",
    "timestamps = []\n",
    "split_lines = [line.split(' ') for line in sample_log.split('\\n') if line.strip()]\n",
    "for line in split_lines:\n",
    "    a,b,c, *d = line \n",
    "    timestamps.append(datetime.fromisoformat(a + ' ' + b))\n",
    "print(timestamps)"
   ]
  },
  {
   "cell_type": "code",
   "execution_count": null,
   "id": "044c9444",
   "metadata": {},
   "outputs": [],
   "source": [
    "# Regex alternative\n",
    "import re\n",
    "# Regular expression to match ISO timestamps at the start of each line\n",
    "iso_pattern = re.compile(r'^(\\d{4}-\\d{2}-\\d{2} \\d{2}:\\d{2}:\\d{2})', re.MULTILINE)\n",
    "\n",
    "timestamps = [\n",
    "    datetime.fromisoformat(match.group(1))\n",
    "    for match in iso_pattern.finditer(sample_log)\n",
    "]"
   ]
  },
  {
   "cell_type": "markdown",
   "id": "d5f984d6",
   "metadata": {},
   "source": [
    "### Problem 151\n",
    "Parse Apache‑style lines into dicts with keys `ip`, `datetime`, `method`, `url`, `status` (use mock lines list)."
   ]
  },
  {
   "cell_type": "code",
   "execution_count": null,
   "id": "fa3f4123",
   "metadata": {},
   "outputs": [],
   "source": [
    "apache_logs = [\n",
    "    '127.0.0.1 - - [14/Jun/2025:10:00:01 -0700] \"GET / HTTP/1.1\" 200 1024 \"-\" \"Mozilla/5.0 (Macintosh; Intel Mac OS X 14_5)\"',\n",
    "    '203.0.113.5 - - [14/Jun/2025:10:00:15 -0700] \"GET /favicon.ico HTTP/1.1\" 404 209 \"-\" \"curl/8.7.1\"',\n",
    "    '198.51.100.23 - - [14/Jun/2025:10:00:29 -0700] \"POST /api/v1/login HTTP/1.1\" 200 512 \"-\" \"Python-urllib/3.12\"',\n",
    "    '192.0.2.17 - alice [14/Jun/2025:10:01:03 -0700] \"GET /img/logo.png HTTP/1.1\" 200 24567 \"https://example.com/\" \"Mozilla/5.0 (Windows NT 10.0; Win64)\"',\n",
    "    '203.0.113.77 - bob [14/Jun/2025:10:01:17 -0700] \"GET /docs/intro.html HTTP/1.1\" 301 237 \"-\" \"Mozilla/5.0 (X11; Linux x86_64)\"',\n",
    "    '198.51.100.44 - - [14/Jun/2025:10:01:24 -0700] \"GET /docs/ HTTP/1.1\" 200 1398 \"https://example.com/docs/intro.html\" \"Mozilla/5.0 (X11; Linux x86_64)\"',\n",
    "    '192.0.2.31 - - [14/Jun/2025:10:01:45 -0700] \"GET /robots.txt HTTP/1.1\" 200 68 \"-\" \"Googlebot/2.1 (+http://www.google.com/bot.html)\"',\n",
    "    '203.0.113.9 - - [14/Jun/2025:10:02:02 -0700] \"HEAD /status HTTP/1.1\" 200 0 \"-\" \"curl/8.7.1\"',\n",
    "    '198.51.100.61 - - [14/Jun/2025:10:02:19 -0700] \"GET /css/main.css HTTP/1.1\" 200 4321 \"https://example.com/\" \"Mozilla/5.0 (Macintosh)\"',\n",
    "    '192.0.2.99 - charlie [14/Jun/2025:10:02:32 -0700] \"GET /js/app.js HTTP/1.1\" 200 8192 \"https://example.com/\" \"Mozilla/5.0 (Macintosh)\"',\n",
    "    '127.0.0.1 - - [14/Jun/2025:10:02:57 -0700] \"GET /admin HTTP/1.1\" 403 560 \"-\" \"Mozilla/5.0 (Windows NT 10.0)\"',\n",
    "    '203.0.113.12 - - [14/Jun/2025:10:03:11 -0700] \"POST /api/v1/purchase HTTP/1.1\" 500 102 \"-\" \"python-requests/2.32\"',\n",
    "    '198.51.100.84 - - [14/Jun/2025:10:03:37 -0700] \"GET /nonexistent HTTP/1.1\" 404 223 \"-\" \"Mozilla/5.0 (iPhone; CPU iPhone OS 17_5 like Mac OS X)\"',\n",
    "    '192.0.2.63 - - [14/Jun/2025:10:03:51 -0700] \"GET /blog/ HTTP/1.1\" 200 4096 \"-\" \"Mozilla/5.0 (Windows NT 10.0; Win64)\"',\n",
    "    '203.0.113.28 - dan [14/Jun/2025:10:04:05 -0700] \"GET /blog/post-1 HTTP/1.1\" 200 15987 \"https://example.com/blog/\" \"Mozilla/5.0 (iPad; CPU OS 17_5 like Mac OS X)\"',\n",
    "    '198.51.100.111 - - [14/Jun/2025:10:04:22 -0700] \"PUT /api/v1/profile HTTP/1.1\" 204 0 \"-\" \"Go-http-client/2.0\"',\n",
    "    '192.0.2.175 - - [14/Jun/2025:10:04:46 -0700] \"GET /stream.m3u8 HTTP/1.1\" 200 1221 \"-\" \"VLC/3.0.20 LibVLC/3.0.20\"',\n",
    "    '203.0.113.41 - - [14/Jun/2025:10:05:10 -0700] \"DELETE /api/v1/cart HTTP/1.1\" 401 333 \"-\" \"HTTPie/3.3.0\"',\n",
    "    '198.51.100.5 - - [14/Jun/2025:10:05:25 -0700] \"GET /static/fonts/font.woff2 HTTP/1.1\" 200 14876 \"https://example.com/\" \"Mozilla/5.0 (Macintosh)\"',\n",
    "    '192.0.2.188 - - [14/Jun/2025:10:05:41 -0700] \"OPTIONS /api/ HTTP/1.1\" 200 0 \"-\" \"curl/8.7.1\"',\n",
    "    '127.0.0.1 - eve [14/Jun/2025:10:05:59 -0700] \"GET /dashboard HTTP/1.1\" 200 9210 \"https://example.com/login\" \"Mozilla/5.0 (Windows NT 10.0)\"',\n",
    "    '203.0.113.54 - - [14/Jun/2025:10:06:17 -0700] \"GET /sitemap.xml HTTP/1.1\" 200 4523 \"-\" \"Bingbot/2.0 (+http://www.bing.com/bingbot.htm)\"',\n",
    "    '198.51.100.137 - - [14/Jun/2025:10:06:39 -0700] \"PATCH /api/v1/order/123 HTTP/1.1\" 200 640 \"-\" \"python-requests/2.32\"',\n",
    "    '192.0.2.200 - - [14/Jun/2025:10:06:52 -0700] \"GET /ads.js HTTP/1.1\" 200 1823 \"https://example.com/\" \"Mozilla/5.0 (Linux; Android 15)\"',\n",
    "    '203.0.113.66 - - [14/Jun/2025:10:07:05 -0700] \"GET /img/banner.jpg HTTP/1.1\" 200 734562 \"https://example.com/\" \"Mozilla/5.0 (Macintosh)\"',\n",
    "    '198.51.100.152 - - [14/Jun/2025:10:07:21 -0700] \"GET /download/file.zip HTTP/1.1\" 206 524288 \"-\" \"Wget/1.21.2\"',\n",
    "    '192.0.2.234 - - [14/Jun/2025:10:07:45 -0700] \"GET /old-page HTTP/1.1\" 301 238 \"-\" \"Mozilla/5.0 (Windows NT 10.0)\"',\n",
    "    '203.0.113.79 - - [14/Jun/2025:10:08:07 -0700] \"GET /new-page HTTP/1.1\" 200 1987 \"https://example.com/old-page\" \"Mozilla/5.0 (Windows NT 10.0)\"',\n",
    "    '198.51.100.168 - frank [14/Jun/2025:10:08:29 -0700] \"GET /api/v1/reports?range=today HTTP/1.1\" 200 2990 \"-\" \"Insomnia/2025.3.0\"',\n",
    "    '192.0.2.59 - - [14/Jun/2025:10:08:46 -0700] \"GET /health HTTP/1.1\" 200 2 \"-\" \"kube-probe/1.30\"'\n",
    "]\n",
    "# Your solution here\n",
    "\n",
    "list_of_splits = [log_line.split(' - - ') for log_line in apache_logs if log_line.strip()]\n",
    "list_of_splits\n"
   ]
  },
  {
   "cell_type": "markdown",
   "id": "889be4f0",
   "metadata": {},
   "source": [
    "### Problem 152\n",
    "Count occurrences of each log level (`INFO`, `WARN`, `ERROR`) in `sample_log`."
   ]
  },
  {
   "cell_type": "code",
   "execution_count": 24,
   "id": "00b25d7f",
   "metadata": {},
   "outputs": [
    {
     "data": {
      "text/plain": [
       "'2, 1, 2'"
      ]
     },
     "execution_count": 24,
     "metadata": {},
     "output_type": "execute_result"
    }
   ],
   "source": [
    "# \"2025-06-14 10:05:12 WARN  Disk usage at 85% on server1\"\n",
    "# Your solution here\n",
    "from collections import Counter\n",
    "c = Counter(sample_log.split(' '))\n",
    "f\"{c['INFO']}, {c['WARN']}, {c['ERROR']}\""
   ]
  },
  {
   "cell_type": "markdown",
   "id": "0401ff33",
   "metadata": {},
   "source": [
    "### Problem 153\n",
    "Extract the JSON blob from third line of `sample_log` and load it as dict."
   ]
  },
  {
   "cell_type": "code",
   "execution_count": null,
   "id": "9f78430f",
   "metadata": {},
   "outputs": [],
   "source": [
    "# \"2025-06-14 10:05:12 WARN  Disk usage at 85% on server1\"\n",
    "# Your solution here\n",
    "\n",
    "import json\n",
    "\n",
    "a, b, c, *d = \"2025-06-14 10:05:12 WARN  Disk usage at 85% on server1\"\n",
    "# Create a JSON blob (Python dict)\n",
    "data = {\n",
    "    \"date\": a,\n",
    "    \"time\": b,\n",
    "    \"level\": c,\n",
    "    \"message\": \" \".join(d)\n",
    "}\n",
    "json_blob = json.dumps(data)\n",
    "print(json_blob)"
   ]
  },
  {
   "cell_type": "markdown",
   "id": "fb07692a",
   "metadata": {},
   "source": [
    "### Problem 154\n",
    "Remove ANSI escape sequences from `colored=\"\\u001b[31mERROR\\u001b[0m\"` string."
   ]
  },
  {
   "cell_type": "code",
   "execution_count": null,
   "id": "a78b6ae5",
   "metadata": {},
   "outputs": [],
   "source": [
    "\n",
    "# Your solution here"
   ]
  },
  {
   "cell_type": "markdown",
   "id": "26681dfd",
   "metadata": {},
   "source": [
    "### Problem 155\n",
    "Split a Python stack trace stored in variable `trace` (provide small sample) into individual frame dicts."
   ]
  },
  {
   "cell_type": "code",
   "execution_count": null,
   "id": "fcf90655",
   "metadata": {},
   "outputs": [],
   "source": [
    "trace = \"Traceback...\\n File \\\"a.py\\\", line 1\\n    1/0\\nZeroDivisionError\"\n",
    "# Your solution here"
   ]
  },
  {
   "cell_type": "markdown",
   "id": "fc5a31d8",
   "metadata": {},
   "source": [
    "### Problem 156\n",
    "Replace all IP addresses in `sample_log` with `<IP>` placeholders."
   ]
  },
  {
   "cell_type": "code",
   "execution_count": null,
   "id": "a67244a3",
   "metadata": {},
   "outputs": [],
   "source": [
    "\n",
    "# Your solution here"
   ]
  },
  {
   "cell_type": "markdown",
   "id": "9be517bf",
   "metadata": {},
   "source": [
    "### Problem 157\n",
    "Extract unique user IDs matching pattern `uid=XYZ123` in `sample_log`."
   ]
  },
  {
   "cell_type": "code",
   "execution_count": null,
   "id": "bb55dba8",
   "metadata": {},
   "outputs": [],
   "source": [
    "\n",
    "# Your solution here"
   ]
  },
  {
   "cell_type": "markdown",
   "id": "6504eea0",
   "metadata": {},
   "source": [
    "### Problem 158\n",
    "Parse CSV‑like lines `csv_text=\"1,\\\"two, too\\\",3\\n4,5,6\"` into lists correctly handling quotes."
   ]
  },
  {
   "cell_type": "code",
   "execution_count": null,
   "id": "9c39876c",
   "metadata": {},
   "outputs": [],
   "source": [
    "\n",
    "# Your solution here"
   ]
  },
  {
   "cell_type": "markdown",
   "id": "4fae07b9",
   "metadata": {},
   "source": [
    "### Problem 159\n",
    "Extract text between `\"=== START\"` and `\"=== END\"` markers from `text=\"foo\\n=== START\\nbar\\n=== END\\n\"`."
   ]
  },
  {
   "cell_type": "code",
   "execution_count": null,
   "id": "25982366",
   "metadata": {},
   "outputs": [],
   "source": [
    "\n",
    "# Your solution here"
   ]
  },
  {
   "cell_type": "markdown",
   "id": "a8a48720",
   "metadata": {},
   "source": [
    "### Problem 160\n",
    "Detect lines with unbalanced brackets in `lines=[\"[[]\",\"[]]\",\"[[]\"]` and return their indices."
   ]
  },
  {
   "cell_type": "code",
   "execution_count": null,
   "id": "d5b5af65",
   "metadata": {},
   "outputs": [],
   "source": [
    "\n",
    "# Your solution here"
   ]
  },
  {
   "cell_type": "markdown",
   "id": "a6c978b3",
   "metadata": {},
   "source": [
    "### Problem 161\n",
    "Parse `config=\"key1=val1\\nkey2=val2\"` into dict."
   ]
  },
  {
   "cell_type": "code",
   "execution_count": null,
   "id": "53dcabba",
   "metadata": {},
   "outputs": [],
   "source": [
    "\n",
    "# Your solution here"
   ]
  },
  {
   "cell_type": "markdown",
   "id": "c51453b0",
   "metadata": {},
   "source": [
    "### Problem 162\n",
    "Normalize whitespace by collapsing multiple spaces to one in `messy=\"a   b    c\"`."
   ]
  },
  {
   "cell_type": "code",
   "execution_count": null,
   "id": "4df5bc1c",
   "metadata": {},
   "outputs": [],
   "source": [
    "\n",
    "# Your solution here"
   ]
  },
  {
   "cell_type": "markdown",
   "id": "863e3537",
   "metadata": {},
   "source": [
    "### Problem 163\n",
    "Find the longest line and its length in `sample_log`."
   ]
  },
  {
   "cell_type": "code",
   "execution_count": null,
   "id": "1a162a94",
   "metadata": {},
   "outputs": [],
   "source": [
    "\n",
    "# Your solution here"
   ]
  },
  {
   "cell_type": "markdown",
   "id": "28d5aa6f",
   "metadata": {},
   "source": [
    "### Problem 164\n",
    "Compute average response time from log lines like `\"t=123ms\"` in `sample_log`."
   ]
  },
  {
   "cell_type": "code",
   "execution_count": null,
   "id": "7de164d8",
   "metadata": {},
   "outputs": [],
   "source": [
    "\n",
    "# Your solution here"
   ]
  },
  {
   "cell_type": "markdown",
   "id": "90405744",
   "metadata": {},
   "source": [
    "### Problem 165\n",
    "Build dict mapping date (YYYY‑MM‑DD) to count of `ERROR` lines in `sample_log`."
   ]
  },
  {
   "cell_type": "code",
   "execution_count": null,
   "id": "d2d57e81",
   "metadata": {},
   "outputs": [],
   "source": [
    "\n",
    "# Your solution here"
   ]
  }
 ],
 "metadata": {
  "kernelspec": {
   "display_name": ".venv",
   "language": "python",
   "name": "python3"
  },
  "language_info": {
   "codemirror_mode": {
    "name": "ipython",
    "version": 3
   },
   "file_extension": ".py",
   "mimetype": "text/x-python",
   "name": "python",
   "nbconvert_exporter": "python",
   "pygments_lexer": "ipython3",
   "version": "3.13.3"
  }
 },
 "nbformat": 4,
 "nbformat_minor": 5
}
