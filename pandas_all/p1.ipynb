{
 "cells": [
  {
   "cell_type": "code",
   "execution_count": 1,
   "id": "9d649173",
   "metadata": {},
   "outputs": [],
   "source": [
    "import pandas as pd\n",
    "import numpy as np"
   ]
  },
  {
   "cell_type": "code",
   "execution_count": 2,
   "id": "9ac75a0b",
   "metadata": {},
   "outputs": [],
   "source": [
    "from pandas import Series, DataFrame"
   ]
  },
  {
   "cell_type": "code",
   "execution_count": 4,
   "id": "27d51bcc",
   "metadata": {},
   "outputs": [
    {
     "data": {
      "text/plain": [
       "pandas.core.series.Series"
      ]
     },
     "execution_count": 4,
     "metadata": {},
     "output_type": "execute_result"
    }
   ],
   "source": [
    "s = Series([10, 20, 30, 40, 50])\n",
    "type(s)"
   ]
  },
  {
   "cell_type": "code",
   "execution_count": 5,
   "id": "c4c96122",
   "metadata": {},
   "outputs": [
    {
     "data": {
      "application/vnd.microsoft.datawrangler.viewer.v0+json": {
       "columns": [
        {
         "name": "index",
         "rawType": "int64",
         "type": "integer"
        },
        {
         "name": "0",
         "rawType": "int64",
         "type": "integer"
        }
       ],
       "ref": "cb793dfd-a4ce-42ee-8ee5-d1922d2d1041",
       "rows": [
        [
         "0",
         "10"
        ],
        [
         "1",
         "20"
        ],
        [
         "2",
         "30"
        ],
        [
         "3",
         "40"
        ],
        [
         "4",
         "50"
        ]
       ],
       "shape": {
        "columns": 1,
        "rows": 5
       }
      },
      "text/plain": [
       "0    10\n",
       "1    20\n",
       "2    30\n",
       "3    40\n",
       "4    50\n",
       "dtype: int64"
      ]
     },
     "execution_count": 5,
     "metadata": {},
     "output_type": "execute_result"
    }
   ],
   "source": [
    "s"
   ]
  },
  {
   "cell_type": "code",
   "execution_count": 6,
   "id": "a7427ffc",
   "metadata": {},
   "outputs": [
    {
     "data": {
      "text/plain": [
       "dtype('int64')"
      ]
     },
     "execution_count": 6,
     "metadata": {},
     "output_type": "execute_result"
    }
   ],
   "source": [
    "s.dtype"
   ]
  },
  {
   "cell_type": "code",
   "execution_count": 7,
   "id": "09a2470a",
   "metadata": {},
   "outputs": [
    {
     "data": {
      "text/plain": [
       "array([10, 20, 30, 40, 50])"
      ]
     },
     "execution_count": 7,
     "metadata": {},
     "output_type": "execute_result"
    }
   ],
   "source": [
    "s.values"
   ]
  },
  {
   "cell_type": "code",
   "execution_count": 10,
   "id": "04dcf8b6",
   "metadata": {},
   "outputs": [
    {
     "data": {
      "text/plain": [
       "RangeIndex(start=0, stop=5, step=1)"
      ]
     },
     "execution_count": 10,
     "metadata": {},
     "output_type": "execute_result"
    }
   ],
   "source": [
    "s.index"
   ]
  },
  {
   "cell_type": "code",
   "execution_count": 8,
   "id": "31d5db82",
   "metadata": {},
   "outputs": [
    {
     "data": {
      "application/vnd.microsoft.datawrangler.viewer.v0+json": {
       "columns": [
        {
         "name": "index",
         "rawType": "object",
         "type": "string"
        },
        {
         "name": "0",
         "rawType": "int64",
         "type": "integer"
        }
       ],
       "ref": "48baec7b-3f22-4310-bcbc-9db767dd5617",
       "rows": [
        [
         "a",
         "10"
        ],
        [
         "b",
         "20"
        ],
        [
         "c",
         "30"
        ]
       ],
       "shape": {
        "columns": 1,
        "rows": 3
       }
      },
      "text/plain": [
       "a    10\n",
       "b    20\n",
       "c    30\n",
       "dtype: int64"
      ]
     },
     "execution_count": 8,
     "metadata": {},
     "output_type": "execute_result"
    }
   ],
   "source": [
    "d = {'a': 10, 'b': 20, 'c': 30}\n",
    "s2 = Series(d)\n",
    "s2"
   ]
  },
  {
   "cell_type": "code",
   "execution_count": 9,
   "id": "233b2477",
   "metadata": {},
   "outputs": [
    {
     "data": {
      "text/plain": [
       "Index(['a', 'b', 'c'], dtype='object')"
      ]
     },
     "execution_count": 9,
     "metadata": {},
     "output_type": "execute_result"
    }
   ],
   "source": [
    "s2.index"
   ]
  },
  {
   "cell_type": "code",
   "execution_count": 12,
   "id": "d07d6398",
   "metadata": {},
   "outputs": [],
   "source": [
    "a = np.random.randint(0, 100, 5)\n",
    "s3 = Series(a)"
   ]
  },
  {
   "cell_type": "code",
   "execution_count": 13,
   "id": "8fb9f1fe",
   "metadata": {},
   "outputs": [
    {
     "data": {
      "application/vnd.microsoft.datawrangler.viewer.v0+json": {
       "columns": [
        {
         "name": "index",
         "rawType": "int64",
         "type": "integer"
        },
        {
         "name": "0",
         "rawType": "int32",
         "type": "integer"
        }
       ],
       "ref": "a11b024c-5e06-40c2-9893-5e9ca66df6c7",
       "rows": [
        [
         "0",
         "18"
        ],
        [
         "1",
         "3"
        ],
        [
         "2",
         "1"
        ],
        [
         "3",
         "70"
        ],
        [
         "4",
         "5"
        ]
       ],
       "shape": {
        "columns": 1,
        "rows": 5
       }
      },
      "text/plain": [
       "0    18\n",
       "1     3\n",
       "2     1\n",
       "3    70\n",
       "4     5\n",
       "dtype: int32"
      ]
     },
     "execution_count": 13,
     "metadata": {},
     "output_type": "execute_result"
    }
   ],
   "source": [
    "s3"
   ]
  },
  {
   "cell_type": "code",
   "execution_count": 15,
   "id": "1c9b59db",
   "metadata": {},
   "outputs": [
    {
     "data": {
      "text/plain": [
       "[74, 58, 25, 73, 42, 44, 31, 3, 41, 65]"
      ]
     },
     "execution_count": 15,
     "metadata": {},
     "output_type": "execute_result"
    }
   ],
   "source": [
    "import random\n",
    "\n",
    "random_numbers = random.sample(range(0, 101), 10)\n",
    "random_numbers"
   ]
  },
  {
   "cell_type": "code",
   "execution_count": null,
   "id": "d4058914",
   "metadata": {},
   "outputs": [
    {
     "data": {
      "application/vnd.microsoft.datawrangler.viewer.v0+json": {
       "columns": [
        {
         "name": "index",
         "rawType": "int64",
         "type": "integer"
        },
        {
         "name": "0",
         "rawType": "int64",
         "type": "integer"
        }
       ],
       "ref": "e5217e11-cc0b-4b8e-9f9a-f1a09aefc417",
       "rows": [
        [
         "0",
         "10"
        ],
        [
         "1",
         "13"
        ],
        [
         "2",
         "16"
        ],
        [
         "3",
         "19"
        ]
       ],
       "shape": {
        "columns": 1,
        "rows": 4
       }
      },
      "text/plain": [
       "0    10\n",
       "1    13\n",
       "2    16\n",
       "3    19\n",
       "dtype: int64"
      ]
     },
     "execution_count": 17,
     "metadata": {},
     "output_type": "execute_result"
    }
   ],
   "source": [
    "# np.arange(10, 21, 3) creates values starting from 10 up to (but not including) 21, with a step of 3.\n",
    "# The sequence is: 10, 13, 16, 19. 22 would be next, but it's >= 21, so it's excluded.\n",
    "# That's why there are 4 numbers, not 3.\n",
    "s4 = Series(np.arange(10, 21, 3))\n",
    "s4"
   ]
  },
  {
   "cell_type": "code",
   "execution_count": 18,
   "id": "345a828c",
   "metadata": {},
   "outputs": [],
   "source": [
    "s = Series(np.random.randint(0, 100, 10))"
   ]
  },
  {
   "cell_type": "code",
   "execution_count": 20,
   "id": "c9b11e52",
   "metadata": {},
   "outputs": [
    {
     "data": {
      "text/plain": [
       "array([73, 19, 54, 91, 14, 69, 88, 45, 90, 26], dtype=int32)"
      ]
     },
     "execution_count": 20,
     "metadata": {},
     "output_type": "execute_result"
    }
   ],
   "source": [
    "s.dtype\n",
    "s.values"
   ]
  },
  {
   "cell_type": "code",
   "execution_count": 21,
   "id": "b6d8ba46",
   "metadata": {},
   "outputs": [
    {
     "data": {
      "text/plain": [
       "np.int32(54)"
      ]
     },
     "execution_count": 21,
     "metadata": {},
     "output_type": "execute_result"
    }
   ],
   "source": [
    "s[2]"
   ]
  },
  {
   "cell_type": "code",
   "execution_count": 22,
   "id": "05eee156",
   "metadata": {},
   "outputs": [],
   "source": [
    "s[2] = 222"
   ]
  },
  {
   "cell_type": "code",
   "execution_count": 23,
   "id": "f2a8998e",
   "metadata": {},
   "outputs": [
    {
     "data": {
      "application/vnd.microsoft.datawrangler.viewer.v0+json": {
       "columns": [
        {
         "name": "index",
         "rawType": "int64",
         "type": "integer"
        },
        {
         "name": "0",
         "rawType": "int32",
         "type": "integer"
        }
       ],
       "ref": "4028355d-50b6-4507-8f67-dc56af88cca1",
       "rows": [
        [
         "0",
         "73"
        ],
        [
         "1",
         "19"
        ],
        [
         "2",
         "222"
        ],
        [
         "3",
         "91"
        ],
        [
         "4",
         "14"
        ],
        [
         "5",
         "69"
        ],
        [
         "6",
         "88"
        ],
        [
         "7",
         "45"
        ],
        [
         "8",
         "90"
        ],
        [
         "9",
         "26"
        ]
       ],
       "shape": {
        "columns": 1,
        "rows": 10
       }
      },
      "text/plain": [
       "0     73\n",
       "1     19\n",
       "2    222\n",
       "3     91\n",
       "4     14\n",
       "5     69\n",
       "6     88\n",
       "7     45\n",
       "8     90\n",
       "9     26\n",
       "dtype: int32"
      ]
     },
     "execution_count": 23,
     "metadata": {},
     "output_type": "execute_result"
    }
   ],
   "source": [
    "s"
   ]
  },
  {
   "cell_type": "code",
   "execution_count": 24,
   "id": "15d96e80",
   "metadata": {},
   "outputs": [
    {
     "data": {
      "application/vnd.microsoft.datawrangler.viewer.v0+json": {
       "columns": [
        {
         "name": "index",
         "rawType": "int64",
         "type": "integer"
        },
        {
         "name": "0",
         "rawType": "int32",
         "type": "integer"
        }
       ],
       "ref": "b3a4d9f9-6e7d-4994-a3fa-9e1610536044",
       "rows": [
        [
         "2",
         "222"
        ],
        [
         "3",
         "91"
        ],
        [
         "4",
         "14"
        ]
       ],
       "shape": {
        "columns": 1,
        "rows": 3
       }
      },
      "text/plain": [
       "2    222\n",
       "3     91\n",
       "4     14\n",
       "dtype: int32"
      ]
     },
     "execution_count": 24,
     "metadata": {},
     "output_type": "execute_result"
    }
   ],
   "source": [
    "s[2:5]"
   ]
  },
  {
   "cell_type": "code",
   "execution_count": 29,
   "id": "d15a3b94",
   "metadata": {},
   "outputs": [
    {
     "data": {
      "text/plain": [
       "True"
      ]
     },
     "execution_count": 29,
     "metadata": {},
     "output_type": "execute_result"
    }
   ],
   "source": [
    "91 in s.values"
   ]
  },
  {
   "cell_type": "code",
   "execution_count": 33,
   "id": "12935817",
   "metadata": {},
   "outputs": [
    {
     "data": {
      "text/plain": [
       "np.int32(26)"
      ]
     },
     "execution_count": 33,
     "metadata": {},
     "output_type": "execute_result"
    }
   ],
   "source": [
    "s.iloc[-1] # Positional indexer for the last element"
   ]
  },
  {
   "cell_type": "code",
   "execution_count": 34,
   "id": "57a7f991",
   "metadata": {},
   "outputs": [
    {
     "data": {
      "text/plain": [
       "np.int32(73)"
      ]
     },
     "execution_count": 34,
     "metadata": {},
     "output_type": "execute_result"
    }
   ],
   "source": [
    "s.loc[0]"
   ]
  },
  {
   "cell_type": "code",
   "execution_count": null,
   "id": "687d106f",
   "metadata": {},
   "outputs": [],
   "source": [
    "#mysql on port 3306 X protocol port 33060"
   ]
  },
  {
   "cell_type": "code",
   "execution_count": null,
   "id": "a2fc8f87",
   "metadata": {},
   "outputs": [],
   "source": []
  },
  {
   "cell_type": "code",
   "execution_count": 41,
   "id": "698a5166",
   "metadata": {},
   "outputs": [],
   "source": [
    "s = Series([10, 20, 30], index=[i * 10 for i in range(3)])"
   ]
  },
  {
   "cell_type": "code",
   "execution_count": 42,
   "id": "c20cbf7f",
   "metadata": {},
   "outputs": [
    {
     "data": {
      "application/vnd.microsoft.datawrangler.viewer.v0+json": {
       "columns": [
        {
         "name": "index",
         "rawType": "int64",
         "type": "integer"
        },
        {
         "name": "0",
         "rawType": "int64",
         "type": "integer"
        }
       ],
       "ref": "77754d41-6a19-412f-b0d4-d3cfd379d25f",
       "rows": [
        [
         "0",
         "10"
        ],
        [
         "10",
         "20"
        ],
        [
         "20",
         "30"
        ]
       ],
       "shape": {
        "columns": 1,
        "rows": 3
       }
      },
      "text/plain": [
       "0     10\n",
       "10    20\n",
       "20    30\n",
       "dtype: int64"
      ]
     },
     "execution_count": 42,
     "metadata": {},
     "output_type": "execute_result"
    }
   ],
   "source": [
    "s"
   ]
  },
  {
   "cell_type": "code",
   "execution_count": 43,
   "id": "9ce5df92",
   "metadata": {},
   "outputs": [
    {
     "data": {
      "text/plain": [
       "np.int64(30)"
      ]
     },
     "execution_count": 43,
     "metadata": {},
     "output_type": "execute_result"
    }
   ],
   "source": [
    "s[20]"
   ]
  },
  {
   "cell_type": "code",
   "execution_count": 45,
   "id": "9612a081",
   "metadata": {},
   "outputs": [
    {
     "data": {
      "text/plain": [
       "np.int64(20)"
      ]
     },
     "execution_count": 45,
     "metadata": {},
     "output_type": "execute_result"
    }
   ],
   "source": [
    "s.iloc[1]"
   ]
  },
  {
   "cell_type": "code",
   "execution_count": 46,
   "id": "9d0d86f1",
   "metadata": {},
   "outputs": [
    {
     "data": {
      "text/plain": [
       "np.int64(30)"
      ]
     },
     "execution_count": 46,
     "metadata": {},
     "output_type": "execute_result"
    }
   ],
   "source": [
    "s.loc[20]"
   ]
  },
  {
   "cell_type": "code",
   "execution_count": 49,
   "id": "ee0ade4d",
   "metadata": {},
   "outputs": [
    {
     "data": {
      "application/vnd.microsoft.datawrangler.viewer.v0+json": {
       "columns": [
        {
         "name": "index",
         "rawType": "int64",
         "type": "integer"
        },
        {
         "name": "0",
         "rawType": "int64",
         "type": "integer"
        }
       ],
       "ref": "2aaf11f7-3c3f-4a7f-b37c-a6b46e1d91ef",
       "rows": [
        [
         "0",
         "10"
        ],
        [
         "1",
         "20"
        ],
        [
         "2",
         "30"
        ],
        [
         "3",
         "40"
        ],
        [
         "4",
         "50"
        ]
       ],
       "shape": {
        "columns": 1,
        "rows": 5
       }
      },
      "text/plain": [
       "0    10\n",
       "1    20\n",
       "2    30\n",
       "3    40\n",
       "4    50\n",
       "dtype: int64"
      ]
     },
     "execution_count": 49,
     "metadata": {},
     "output_type": "execute_result"
    }
   ],
   "source": [
    "mylist = [10, 20, 30, 40, 50]\n",
    "s2 = Series(mylist)\n",
    "s2"
   ]
  },
  {
   "cell_type": "code",
   "execution_count": 50,
   "id": "26bec66d",
   "metadata": {},
   "outputs": [],
   "source": [
    "s2.index = [\"a\", \"b\", \"c\", \"d\", \"e\"]"
   ]
  },
  {
   "cell_type": "code",
   "execution_count": 51,
   "id": "53dd7787",
   "metadata": {},
   "outputs": [
    {
     "data": {
      "text/plain": [
       "np.int64(30)"
      ]
     },
     "execution_count": 51,
     "metadata": {},
     "output_type": "execute_result"
    }
   ],
   "source": [
    "s2.loc[\"c\"]"
   ]
  },
  {
   "cell_type": "code",
   "execution_count": 52,
   "id": "c712c334",
   "metadata": {},
   "outputs": [],
   "source": [
    "s2[\"c\"] = 222"
   ]
  },
  {
   "cell_type": "code",
   "execution_count": 53,
   "id": "a99654b1",
   "metadata": {},
   "outputs": [
    {
     "data": {
      "application/vnd.microsoft.datawrangler.viewer.v0+json": {
       "columns": [
        {
         "name": "index",
         "rawType": "object",
         "type": "string"
        },
        {
         "name": "0",
         "rawType": "int64",
         "type": "integer"
        }
       ],
       "ref": "665f3373-9e93-45f8-996d-a0322bec7786",
       "rows": [
        [
         "a",
         "10"
        ],
        [
         "b",
         "20"
        ],
        [
         "c",
         "222"
        ],
        [
         "d",
         "40"
        ],
        [
         "e",
         "50"
        ]
       ],
       "shape": {
        "columns": 1,
        "rows": 5
       }
      },
      "text/plain": [
       "a     10\n",
       "b     20\n",
       "c    222\n",
       "d     40\n",
       "e     50\n",
       "dtype: int64"
      ]
     },
     "execution_count": 53,
     "metadata": {},
     "output_type": "execute_result"
    }
   ],
   "source": [
    "s2"
   ]
  },
  {
   "cell_type": "code",
   "execution_count": 58,
   "id": "ac44ff95",
   "metadata": {},
   "outputs": [
    {
     "data": {
      "application/vnd.microsoft.datawrangler.viewer.v0+json": {
       "columns": [
        {
         "name": "index",
         "rawType": "object",
         "type": "string"
        },
        {
         "name": "0",
         "rawType": "int64",
         "type": "integer"
        }
       ],
       "ref": "af01c267-a1f2-4ee2-b57b-f45eea573289",
       "rows": [
        [
         "a",
         "10"
        ],
        [
         "b",
         "20"
        ],
        [
         "c",
         "222"
        ]
       ],
       "shape": {
        "columns": 1,
        "rows": 3
       }
      },
      "text/plain": [
       "a     10\n",
       "b     20\n",
       "c    222\n",
       "dtype: int64"
      ]
     },
     "execution_count": 58,
     "metadata": {},
     "output_type": "execute_result"
    }
   ],
   "source": [
    "s2.loc[\"a\": \"c\"]"
   ]
  },
  {
   "cell_type": "code",
   "execution_count": null,
   "id": "ea6b9629",
   "metadata": {},
   "outputs": [
    {
     "data": {
      "application/vnd.microsoft.datawrangler.viewer.v0+json": {
       "columns": [
        {
         "name": "index",
         "rawType": "object",
         "type": "string"
        },
        {
         "name": "0",
         "rawType": "int64",
         "type": "integer"
        }
       ],
       "ref": "c51cf10c-dcd3-4037-b669-70f3af1b076a",
       "rows": [
        [
         "a",
         "10"
        ],
        [
         "b",
         "20"
        ],
        [
         "a",
         "30"
        ],
        [
         "d",
         "40"
        ],
        [
         "e",
         "50"
        ]
       ],
       "shape": {
        "columns": 1,
        "rows": 5
       }
      },
      "text/plain": [
       "a    10\n",
       "b    20\n",
       "a    30\n",
       "d    40\n",
       "e    50\n",
       "dtype: int64"
      ]
     },
     "execution_count": 59,
     "metadata": {},
     "output_type": "execute_result"
    }
   ],
   "source": [
    "mylist = [10, 20, 30, 40, 50]\n",
    "# Duplicated indexes are allowed in Series.\n",
    "s2 = Series(mylist, index=[\"a\", \"b\", \"a\", \"d\", \"e\"])\n",
    "s2"
   ]
  },
  {
   "cell_type": "code",
   "execution_count": 61,
   "id": "dfff735b",
   "metadata": {},
   "outputs": [
    {
     "data": {
      "application/vnd.microsoft.datawrangler.viewer.v0+json": {
       "columns": [
        {
         "name": "index",
         "rawType": "object",
         "type": "string"
        },
        {
         "name": "0",
         "rawType": "int64",
         "type": "integer"
        }
       ],
       "ref": "97a3a95b-d359-4571-865c-57ad960a9d51",
       "rows": [
        [
         "a",
         "10"
        ],
        [
         "a",
         "30"
        ]
       ],
       "shape": {
        "columns": 1,
        "rows": 2
       }
      },
      "text/plain": [
       "a    10\n",
       "a    30\n",
       "dtype: int64"
      ]
     },
     "execution_count": 61,
     "metadata": {},
     "output_type": "execute_result"
    }
   ],
   "source": [
    "s2.loc[\"a\"]"
   ]
  },
  {
   "cell_type": "code",
   "execution_count": 64,
   "id": "37cda285",
   "metadata": {},
   "outputs": [],
   "source": [
    "np.random.seed(42)  # For reproducibility\n",
    "s = Series(np.random.randint(0, 1000, 15))"
   ]
  },
  {
   "cell_type": "code",
   "execution_count": 65,
   "id": "dbf255de",
   "metadata": {},
   "outputs": [
    {
     "data": {
      "application/vnd.microsoft.datawrangler.viewer.v0+json": {
       "columns": [
        {
         "name": "index",
         "rawType": "int64",
         "type": "integer"
        },
        {
         "name": "0",
         "rawType": "int32",
         "type": "integer"
        }
       ],
       "ref": "c9f20254-f55c-478e-bf2c-86b94c01eb59",
       "rows": [
        [
         "0",
         "102"
        ],
        [
         "1",
         "435"
        ],
        [
         "2",
         "860"
        ],
        [
         "3",
         "270"
        ],
        [
         "4",
         "106"
        ]
       ],
       "shape": {
        "columns": 1,
        "rows": 5
       }
      },
      "text/plain": [
       "0    102\n",
       "1    435\n",
       "2    860\n",
       "3    270\n",
       "4    106\n",
       "dtype: int32"
      ]
     },
     "execution_count": 65,
     "metadata": {},
     "output_type": "execute_result"
    }
   ],
   "source": [
    "s.head()"
   ]
  },
  {
   "cell_type": "code",
   "execution_count": 66,
   "id": "4dcbfe6d",
   "metadata": {},
   "outputs": [
    {
     "data": {
      "text/plain": [
       "np.int64(4854)"
      ]
     },
     "execution_count": 66,
     "metadata": {},
     "output_type": "execute_result"
    }
   ],
   "source": [
    "s.sum()"
   ]
  },
  {
   "cell_type": "code",
   "execution_count": 67,
   "id": "d07f9190",
   "metadata": {},
   "outputs": [
    {
     "data": {
      "text/plain": [
       "np.int32(860)"
      ]
     },
     "execution_count": 67,
     "metadata": {},
     "output_type": "execute_result"
    }
   ],
   "source": [
    "s.max()"
   ]
  },
  {
   "cell_type": "code",
   "execution_count": 68,
   "id": "5b1a603a",
   "metadata": {},
   "outputs": [
    {
     "data": {
      "text/plain": [
       "np.float64(323.6)"
      ]
     },
     "execution_count": 68,
     "metadata": {},
     "output_type": "execute_result"
    }
   ],
   "source": [
    "s.mean()"
   ]
  },
  {
   "cell_type": "code",
   "execution_count": 70,
   "id": "99b5e6bf",
   "metadata": {},
   "outputs": [
    {
     "data": {
      "text/plain": [
       "np.float64(257.5812770480694)"
      ]
     },
     "execution_count": 70,
     "metadata": {},
     "output_type": "execute_result"
    }
   ],
   "source": [
    "s.std()"
   ]
  },
  {
   "cell_type": "code",
   "execution_count": 3,
   "id": "af3f7608",
   "metadata": {},
   "outputs": [
    {
     "data": {
      "application/vnd.microsoft.datawrangler.viewer.v0+json": {
       "columns": [
        {
         "name": "index",
         "rawType": "int64",
         "type": "integer"
        },
        {
         "name": "0",
         "rawType": "int64",
         "type": "integer"
        }
       ],
       "ref": "2c4e48be-e899-43f6-975d-850f9e72ce59",
       "rows": [
        [
         "0",
         "110"
        ],
        [
         "1",
         "220"
        ],
        [
         "2",
         "330"
        ],
        [
         "3",
         "440"
        ],
        [
         "4",
         "550"
        ]
       ],
       "shape": {
        "columns": 1,
        "rows": 5
       }
      },
      "text/plain": [
       "0    110\n",
       "1    220\n",
       "2    330\n",
       "3    440\n",
       "4    550\n",
       "dtype: int64"
      ]
     },
     "execution_count": 3,
     "metadata": {},
     "output_type": "execute_result"
    }
   ],
   "source": [
    "s1 = Series([10, 20, 30, 40, 50])\n",
    "s2 = Series([100, 200, 300, 400, 500])\n",
    "\n",
    "s3 = s1 + s2\n",
    "s3"
   ]
  },
  {
   "cell_type": "code",
   "execution_count": 25,
   "id": "d701e61f",
   "metadata": {},
   "outputs": [
    {
     "data": {
      "application/vnd.microsoft.datawrangler.viewer.v0+json": {
       "columns": [
        {
         "name": "index",
         "rawType": "object",
         "type": "string"
        },
        {
         "name": "0",
         "rawType": "int32",
         "type": "integer"
        }
       ],
       "ref": "9f9374e0-7d95-4272-bef5-05c48037d311",
       "rows": [
        [
         "a",
         "37"
        ],
        [
         "b",
         "12"
        ],
        [
         "c",
         "72"
        ],
        [
         "d",
         "9"
        ],
        [
         "e",
         "75"
        ],
        [
         "f",
         "5"
        ],
        [
         "g",
         "79"
        ],
        [
         "h",
         "64"
        ],
        [
         "i",
         "16"
        ],
        [
         "j",
         "1"
        ]
       ],
       "shape": {
        "columns": 1,
        "rows": 10
       }
      },
      "text/plain": [
       "a    37\n",
       "b    12\n",
       "c    72\n",
       "d     9\n",
       "e    75\n",
       "f     5\n",
       "g    79\n",
       "h    64\n",
       "i    16\n",
       "j     1\n",
       "dtype: int32"
      ]
     },
     "execution_count": 25,
     "metadata": {},
     "output_type": "execute_result"
    }
   ],
   "source": [
    "np.random.seed(1)  # For reproducibility\n",
    "index = [chr(i) for i in range(ord('a'), ord('j')+1)]\n",
    "s = Series(np.random.randint(0, 100, 10), index=index)\n",
    "s"
   ]
  },
  {
   "cell_type": "code",
   "execution_count": 26,
   "id": "bf42303a",
   "metadata": {},
   "outputs": [
    {
     "data": {
      "text/plain": [
       "np.int32(12)"
      ]
     },
     "execution_count": 26,
     "metadata": {},
     "output_type": "execute_result"
    }
   ],
   "source": [
    "s[\"b\"]\n",
    "s.iloc[1]  # Both return the value at index 'b' or position 1"
   ]
  },
  {
   "cell_type": "code",
   "execution_count": 27,
   "id": "113743d9",
   "metadata": {},
   "outputs": [
    {
     "data": {
      "application/vnd.microsoft.datawrangler.viewer.v0+json": {
       "columns": [
        {
         "name": "index",
         "rawType": "object",
         "type": "string"
        },
        {
         "name": "0",
         "rawType": "int32",
         "type": "integer"
        }
       ],
       "ref": "c7154218-52c5-498e-bbdc-f767838fcc8f",
       "rows": [
        [
         "c",
         "72"
        ],
        [
         "d",
         "9"
        ],
        [
         "f",
         "5"
        ]
       ],
       "shape": {
        "columns": 1,
        "rows": 3
       }
      },
      "text/plain": [
       "c    72\n",
       "d     9\n",
       "f     5\n",
       "dtype: int32"
      ]
     },
     "execution_count": 27,
     "metadata": {},
     "output_type": "execute_result"
    }
   ],
   "source": [
    "pd.concat([s[\"c\":\"d\"], s[[\"f\"]]])"
   ]
  },
  {
   "cell_type": "code",
   "execution_count": 28,
   "id": "4f722951",
   "metadata": {},
   "outputs": [],
   "source": [
    "s2 = pd.concat([s[\"a\":\"a\"], s[\"e\":\"e\"], s[\"g\":\"h\"]])"
   ]
  },
  {
   "cell_type": "code",
   "execution_count": 29,
   "id": "b8b6ecf2",
   "metadata": {},
   "outputs": [
    {
     "data": {
      "application/vnd.microsoft.datawrangler.viewer.v0+json": {
       "columns": [
        {
         "name": "index",
         "rawType": "object",
         "type": "string"
        },
        {
         "name": "0",
         "rawType": "int32",
         "type": "integer"
        }
       ],
       "ref": "8b2e2a8c-bc58-4784-bda5-732a835fd519",
       "rows": [
        [
         "a",
         "37"
        ],
        [
         "e",
         "75"
        ],
        [
         "g",
         "79"
        ],
        [
         "h",
         "64"
        ]
       ],
       "shape": {
        "columns": 1,
        "rows": 4
       }
      },
      "text/plain": [
       "a    37\n",
       "e    75\n",
       "g    79\n",
       "h    64\n",
       "dtype: int32"
      ]
     },
     "execution_count": 29,
     "metadata": {},
     "output_type": "execute_result"
    }
   ],
   "source": [
    "s2"
   ]
  },
  {
   "cell_type": "code",
   "execution_count": 30,
   "id": "f5f914a9",
   "metadata": {},
   "outputs": [
    {
     "data": {
      "text/plain": [
       "np.float64(63.75)"
      ]
     },
     "execution_count": 30,
     "metadata": {},
     "output_type": "execute_result"
    }
   ],
   "source": [
    "s2.mean()"
   ]
  },
  {
   "cell_type": "code",
   "execution_count": 31,
   "id": "6de578a2",
   "metadata": {},
   "outputs": [
    {
     "data": {
      "text/plain": [
       "np.float64(55.8)"
      ]
     },
     "execution_count": 31,
     "metadata": {},
     "output_type": "execute_result"
    }
   ],
   "source": [
    "s.iloc[0:10:2].mean()"
   ]
  },
  {
   "cell_type": "code",
   "execution_count": 19,
   "id": "7caa16c1",
   "metadata": {},
   "outputs": [
    {
     "data": {
      "text/plain": [
       "np.float64(61.285714285714285)"
      ]
     },
     "execution_count": 19,
     "metadata": {},
     "output_type": "execute_result"
    }
   ],
   "source": [
    "s[s%2 != 0].mean()"
   ]
  },
  {
   "cell_type": "code",
   "execution_count": 23,
   "id": "1a420026",
   "metadata": {},
   "outputs": [
    {
     "data": {
      "application/vnd.microsoft.datawrangler.viewer.v0+json": {
       "columns": [
        {
         "name": "index",
         "rawType": "object",
         "type": "string"
        },
        {
         "name": "0",
         "rawType": "int32",
         "type": "integer"
        }
       ],
       "ref": "7afaa4d9-3188-4f24-b1a0-badef26d55df",
       "rows": [
        [
         "a",
         "70"
        ],
        [
         "b",
         "53"
        ],
        [
         "c",
         "42"
        ],
        [
         "d",
         "85"
        ],
        [
         "e",
         "77"
        ]
       ],
       "shape": {
        "columns": 1,
        "rows": 5
       }
      },
      "text/plain": [
       "a    70\n",
       "b    53\n",
       "c    42\n",
       "d    85\n",
       "e    77\n",
       "dtype: int32"
      ]
     },
     "execution_count": 23,
     "metadata": {},
     "output_type": "execute_result"
    }
   ],
   "source": [
    "s3, s4 = s.loc[\"a\": \"e\"], s.loc[\"f\": \"j\"]\n",
    "s4.index = list(\"abcde\")\n",
    "s4"
   ]
  },
  {
   "cell_type": "code",
   "execution_count": 24,
   "id": "5a6cf796",
   "metadata": {},
   "outputs": [
    {
     "data": {
      "application/vnd.microsoft.datawrangler.viewer.v0+json": {
       "columns": [
        {
         "name": "index",
         "rawType": "object",
         "type": "string"
        },
        {
         "name": "0",
         "rawType": "int32",
         "type": "integer"
        }
       ],
       "ref": "7de8bf92-a061-4863-8296-f4d6b517bc7c",
       "rows": [
        [
         "a",
         "104"
        ],
        [
         "b",
         "94"
        ],
        [
         "c",
         "107"
        ],
        [
         "d",
         "160"
        ],
        [
         "e",
         "110"
        ]
       ],
       "shape": {
        "columns": 1,
        "rows": 5
       }
      },
      "text/plain": [
       "a    104\n",
       "b     94\n",
       "c    107\n",
       "d    160\n",
       "e    110\n",
       "dtype: int32"
      ]
     },
     "execution_count": 24,
     "metadata": {},
     "output_type": "execute_result"
    }
   ],
   "source": [
    "s3 + s4"
   ]
  },
  {
   "cell_type": "code",
   "execution_count": 33,
   "id": "45c9764a",
   "metadata": {},
   "outputs": [],
   "source": [
    "np.random.seed(42)  # For reproducibility\n",
    "s = Series(np.random.uniform(0, 1000, 10))"
   ]
  },
  {
   "cell_type": "code",
   "execution_count": 35,
   "id": "3d59a6e8",
   "metadata": {},
   "outputs": [
    {
     "data": {
      "application/vnd.microsoft.datawrangler.viewer.v0+json": {
       "columns": [
        {
         "name": "index",
         "rawType": "int64",
         "type": "integer"
        },
        {
         "name": "0",
         "rawType": "float64",
         "type": "float"
        }
       ],
       "ref": "bb30dbcd-8065-4929-b5e0-030fa1dea5b8",
       "rows": [
        [
         "0",
         "374.54011884736246"
        ],
        [
         "1",
         "950.7143064099162"
        ],
        [
         "2",
         "731.9939418114051"
        ],
        [
         "3",
         "598.6584841970366"
        ],
        [
         "4",
         "156.01864044243652"
        ],
        [
         "5",
         "155.99452033620264"
        ],
        [
         "6",
         "58.08361216819946"
        ],
        [
         "7",
         "866.1761457749352"
        ],
        [
         "8",
         "601.1150117432088"
        ],
        [
         "9",
         "708.0725777960455"
        ]
       ],
       "shape": {
        "columns": 1,
        "rows": 10
       }
      },
      "text/plain": [
       "0    374.540119\n",
       "1    950.714306\n",
       "2    731.993942\n",
       "3    598.658484\n",
       "4    156.018640\n",
       "5    155.994520\n",
       "6     58.083612\n",
       "7    866.176146\n",
       "8    601.115012\n",
       "9    708.072578\n",
       "dtype: float64"
      ]
     },
     "execution_count": 35,
     "metadata": {},
     "output_type": "execute_result"
    }
   ],
   "source": [
    "s"
   ]
  },
  {
   "cell_type": "code",
   "execution_count": 37,
   "id": "78dd9325",
   "metadata": {},
   "outputs": [],
   "source": [
    "from numpy import int64\n",
    "\n",
    "\n",
    "s[s.astype(int64)%2 == 0] = np.nan  # Set even indexed values to NaN"
   ]
  },
  {
   "cell_type": "code",
   "execution_count": 38,
   "id": "19e56367",
   "metadata": {},
   "outputs": [
    {
     "data": {
      "application/vnd.microsoft.datawrangler.viewer.v0+json": {
       "columns": [
        {
         "name": "index",
         "rawType": "int64",
         "type": "integer"
        },
        {
         "name": "0",
         "rawType": "float64",
         "type": "float"
        }
       ],
       "ref": "90987169-36d9-46c1-90f2-c43303d11695",
       "rows": [
        [
         "0",
         null
        ],
        [
         "1",
         null
        ],
        [
         "2",
         "731.9939418114051"
        ],
        [
         "3",
         null
        ],
        [
         "4",
         null
        ],
        [
         "5",
         "155.99452033620264"
        ],
        [
         "6",
         null
        ],
        [
         "7",
         null
        ],
        [
         "8",
         "601.1150117432088"
        ],
        [
         "9",
         null
        ]
       ],
       "shape": {
        "columns": 1,
        "rows": 10
       }
      },
      "text/plain": [
       "0           NaN\n",
       "1           NaN\n",
       "2    731.993942\n",
       "3           NaN\n",
       "4           NaN\n",
       "5    155.994520\n",
       "6           NaN\n",
       "7           NaN\n",
       "8    601.115012\n",
       "9           NaN\n",
       "dtype: float64"
      ]
     },
     "execution_count": 38,
     "metadata": {},
     "output_type": "execute_result"
    }
   ],
   "source": [
    "s"
   ]
  },
  {
   "cell_type": "code",
   "execution_count": 39,
   "id": "c8365053",
   "metadata": {},
   "outputs": [
    {
     "data": {
      "text/plain": [
       "np.float64(496.3678246302722)"
      ]
     },
     "execution_count": 39,
     "metadata": {},
     "output_type": "execute_result"
    }
   ],
   "source": [
    "s.mean()"
   ]
  },
  {
   "cell_type": "code",
   "execution_count": 40,
   "id": "a4842016",
   "metadata": {},
   "outputs": [],
   "source": [
    "s[s.isna()] = s.mean()  # Replace NaN values with 0"
   ]
  },
  {
   "cell_type": "code",
   "execution_count": 42,
   "id": "5c593607",
   "metadata": {},
   "outputs": [
    {
     "data": {
      "application/vnd.microsoft.datawrangler.viewer.v0+json": {
       "columns": [
        {
         "name": "index",
         "rawType": "int64",
         "type": "integer"
        },
        {
         "name": "0",
         "rawType": "float64",
         "type": "float"
        }
       ],
       "ref": "cc86eb74-d2d5-4438-98f3-c4a3e9e34dc1",
       "rows": [
        [
         "0",
         "496.3678246302722"
        ],
        [
         "1",
         "496.3678246302722"
        ],
        [
         "2",
         "731.9939418114051"
        ],
        [
         "3",
         "496.3678246302722"
        ],
        [
         "4",
         "496.3678246302722"
        ],
        [
         "5",
         "155.99452033620264"
        ],
        [
         "6",
         "496.3678246302722"
        ],
        [
         "7",
         "496.3678246302722"
        ],
        [
         "8",
         "601.1150117432088"
        ],
        [
         "9",
         "496.3678246302722"
        ]
       ],
       "shape": {
        "columns": 1,
        "rows": 10
       }
      },
      "text/plain": [
       "0    496.367825\n",
       "1    496.367825\n",
       "2    731.993942\n",
       "3    496.367825\n",
       "4    496.367825\n",
       "5    155.994520\n",
       "6    496.367825\n",
       "7    496.367825\n",
       "8    601.115012\n",
       "9    496.367825\n",
       "dtype: float64"
      ]
     },
     "execution_count": 42,
     "metadata": {},
     "output_type": "execute_result"
    }
   ],
   "source": [
    "s"
   ]
  },
  {
   "cell_type": "code",
   "execution_count": 41,
   "id": "1068bf73",
   "metadata": {},
   "outputs": [
    {
     "data": {
      "text/plain": [
       "np.float64(496.3678246302722)"
      ]
     },
     "execution_count": 41,
     "metadata": {},
     "output_type": "execute_result"
    }
   ],
   "source": [
    "s.mean()"
   ]
  },
  {
   "cell_type": "code",
   "execution_count": 43,
   "id": "47b43e33",
   "metadata": {},
   "outputs": [
    {
     "data": {
      "application/vnd.microsoft.datawrangler.viewer.v0+json": {
       "columns": [
        {
         "name": "index",
         "rawType": "object",
         "type": "string"
        },
        {
         "name": "0",
         "rawType": "object",
         "type": "string"
        }
       ],
       "ref": "a027b450-8bd6-4310-b976-329a6e26f93c",
       "rows": [
        [
         "a",
         "123"
        ],
        [
         "b",
         "456"
        ],
        [
         "c",
         "789"
        ],
        [
         "d",
         "111"
        ],
        [
         "e",
         "222"
        ],
        [
         "f",
         "333"
        ],
        [
         "g",
         "444"
        ],
        [
         "h",
         "555"
        ],
        [
         "i",
         "666"
        ],
        [
         "j",
         "777"
        ]
       ],
       "shape": {
        "columns": 1,
        "rows": 10
       }
      },
      "text/plain": [
       "a    123\n",
       "b    456\n",
       "c    789\n",
       "d    111\n",
       "e    222\n",
       "f    333\n",
       "g    444\n",
       "h    555\n",
       "i    666\n",
       "j    777\n",
       "dtype: object"
      ]
     },
     "execution_count": 43,
     "metadata": {},
     "output_type": "execute_result"
    }
   ],
   "source": [
    "s1 = Series((\"123 456 789 111 222 333 444 555 666 777\").split(), \n",
    "            index=list(\"abcdefghij\"))\n",
    "s1"
   ]
  },
  {
   "cell_type": "code",
   "execution_count": 45,
   "id": "719fe503",
   "metadata": {},
   "outputs": [],
   "source": [
    "s.index = list(\"abcdeabcde\")"
   ]
  },
  {
   "cell_type": "code",
   "execution_count": 46,
   "id": "81245dd6",
   "metadata": {},
   "outputs": [
    {
     "data": {
      "application/vnd.microsoft.datawrangler.viewer.v0+json": {
       "columns": [
        {
         "name": "index",
         "rawType": "object",
         "type": "string"
        },
        {
         "name": "0",
         "rawType": "float64",
         "type": "float"
        }
       ],
       "ref": "2d3aedff-39ff-4a9f-969c-29956b73191a",
       "rows": [
        [
         "a",
         "496.3678246302722"
        ],
        [
         "b",
         "496.3678246302722"
        ],
        [
         "c",
         "731.9939418114051"
        ],
        [
         "d",
         "496.3678246302722"
        ],
        [
         "e",
         "496.3678246302722"
        ],
        [
         "a",
         "155.99452033620264"
        ],
        [
         "b",
         "496.3678246302722"
        ],
        [
         "c",
         "496.3678246302722"
        ],
        [
         "d",
         "601.1150117432088"
        ],
        [
         "e",
         "496.3678246302722"
        ]
       ],
       "shape": {
        "columns": 1,
        "rows": 10
       }
      },
      "text/plain": [
       "a    496.367825\n",
       "b    496.367825\n",
       "c    731.993942\n",
       "d    496.367825\n",
       "e    496.367825\n",
       "a    155.994520\n",
       "b    496.367825\n",
       "c    496.367825\n",
       "d    601.115012\n",
       "e    496.367825\n",
       "dtype: float64"
      ]
     },
     "execution_count": 46,
     "metadata": {},
     "output_type": "execute_result"
    }
   ],
   "source": [
    "s"
   ]
  },
  {
   "cell_type": "code",
   "execution_count": 47,
   "id": "82c27f94",
   "metadata": {},
   "outputs": [
    {
     "ename": "TypeError",
     "evalue": "unsupported operand type(s) for +: 'float' and 'str'",
     "output_type": "error",
     "traceback": [
      "\u001b[31m---------------------------------------------------------------------------\u001b[39m",
      "\u001b[31mTypeError\u001b[39m                                 Traceback (most recent call last)",
      "\u001b[36mCell\u001b[39m\u001b[36m \u001b[39m\u001b[32mIn[47]\u001b[39m\u001b[32m, line 1\u001b[39m\n\u001b[32m----> \u001b[39m\u001b[32m1\u001b[39m s3 = \u001b[43ms\u001b[49m\u001b[43m.\u001b[49m\u001b[43madd\u001b[49m\u001b[43m(\u001b[49m\u001b[43ms1\u001b[49m\u001b[43m,\u001b[49m\u001b[43m \u001b[49m\u001b[43mfill_value\u001b[49m\u001b[43m=\u001b[49m\u001b[32;43m0\u001b[39;49m\u001b[43m)\u001b[49m  \u001b[38;5;66;03m# Add s1 to s, filling missing values with 0\u001b[39;00m\n",
      "\u001b[36mFile \u001b[39m\u001b[32mc:\\Users\\dev\\Dropbox\\GitHub\\lerner\\.venv\\Lib\\site-packages\\pandas\\core\\series.py:6306\u001b[39m, in \u001b[36mSeries.add\u001b[39m\u001b[34m(self, other, level, fill_value, axis)\u001b[39m\n\u001b[32m   6304\u001b[39m \u001b[38;5;129m@Appender\u001b[39m(ops.make_flex_doc(\u001b[33m\"\u001b[39m\u001b[33madd\u001b[39m\u001b[33m\"\u001b[39m, \u001b[33m\"\u001b[39m\u001b[33mseries\u001b[39m\u001b[33m\"\u001b[39m))\n\u001b[32m   6305\u001b[39m \u001b[38;5;28;01mdef\u001b[39;00m\u001b[38;5;250m \u001b[39m\u001b[34madd\u001b[39m(\u001b[38;5;28mself\u001b[39m, other, level=\u001b[38;5;28;01mNone\u001b[39;00m, fill_value=\u001b[38;5;28;01mNone\u001b[39;00m, axis: Axis = \u001b[32m0\u001b[39m) -> Series:\n\u001b[32m-> \u001b[39m\u001b[32m6306\u001b[39m     \u001b[38;5;28;01mreturn\u001b[39;00m \u001b[38;5;28;43mself\u001b[39;49m\u001b[43m.\u001b[49m\u001b[43m_flex_method\u001b[49m\u001b[43m(\u001b[49m\n\u001b[32m   6307\u001b[39m \u001b[43m        \u001b[49m\u001b[43mother\u001b[49m\u001b[43m,\u001b[49m\u001b[43m \u001b[49m\u001b[43moperator\u001b[49m\u001b[43m.\u001b[49m\u001b[43madd\u001b[49m\u001b[43m,\u001b[49m\u001b[43m \u001b[49m\u001b[43mlevel\u001b[49m\u001b[43m=\u001b[49m\u001b[43mlevel\u001b[49m\u001b[43m,\u001b[49m\u001b[43m \u001b[49m\u001b[43mfill_value\u001b[49m\u001b[43m=\u001b[49m\u001b[43mfill_value\u001b[49m\u001b[43m,\u001b[49m\u001b[43m \u001b[49m\u001b[43maxis\u001b[49m\u001b[43m=\u001b[49m\u001b[43maxis\u001b[49m\n\u001b[32m   6308\u001b[39m \u001b[43m    \u001b[49m\u001b[43m)\u001b[49m\n",
      "\u001b[36mFile \u001b[39m\u001b[32mc:\\Users\\dev\\Dropbox\\GitHub\\lerner\\.venv\\Lib\\site-packages\\pandas\\core\\series.py:6246\u001b[39m, in \u001b[36mSeries._flex_method\u001b[39m\u001b[34m(self, other, op, level, fill_value, axis)\u001b[39m\n\u001b[32m   6243\u001b[39m res_name = ops.get_op_result_name(\u001b[38;5;28mself\u001b[39m, other)\n\u001b[32m   6245\u001b[39m \u001b[38;5;28;01mif\u001b[39;00m \u001b[38;5;28misinstance\u001b[39m(other, Series):\n\u001b[32m-> \u001b[39m\u001b[32m6246\u001b[39m     \u001b[38;5;28;01mreturn\u001b[39;00m \u001b[38;5;28;43mself\u001b[39;49m\u001b[43m.\u001b[49m\u001b[43m_binop\u001b[49m\u001b[43m(\u001b[49m\u001b[43mother\u001b[49m\u001b[43m,\u001b[49m\u001b[43m \u001b[49m\u001b[43mop\u001b[49m\u001b[43m,\u001b[49m\u001b[43m \u001b[49m\u001b[43mlevel\u001b[49m\u001b[43m=\u001b[49m\u001b[43mlevel\u001b[49m\u001b[43m,\u001b[49m\u001b[43m \u001b[49m\u001b[43mfill_value\u001b[49m\u001b[43m=\u001b[49m\u001b[43mfill_value\u001b[49m\u001b[43m)\u001b[49m\n\u001b[32m   6247\u001b[39m \u001b[38;5;28;01melif\u001b[39;00m \u001b[38;5;28misinstance\u001b[39m(other, (np.ndarray, \u001b[38;5;28mlist\u001b[39m, \u001b[38;5;28mtuple\u001b[39m)):\n\u001b[32m   6248\u001b[39m     \u001b[38;5;28;01mif\u001b[39;00m \u001b[38;5;28mlen\u001b[39m(other) != \u001b[38;5;28mlen\u001b[39m(\u001b[38;5;28mself\u001b[39m):\n",
      "\u001b[36mFile \u001b[39m\u001b[32mc:\\Users\\dev\\Dropbox\\GitHub\\lerner\\.venv\\Lib\\site-packages\\pandas\\core\\series.py:6195\u001b[39m, in \u001b[36mSeries._binop\u001b[39m\u001b[34m(self, other, func, level, fill_value)\u001b[39m\n\u001b[32m   6192\u001b[39m this_vals, other_vals = ops.fill_binop(this._values, other._values, fill_value)\n\u001b[32m   6194\u001b[39m \u001b[38;5;28;01mwith\u001b[39;00m np.errstate(\u001b[38;5;28mall\u001b[39m=\u001b[33m\"\u001b[39m\u001b[33mignore\u001b[39m\u001b[33m\"\u001b[39m):\n\u001b[32m-> \u001b[39m\u001b[32m6195\u001b[39m     result = \u001b[43mfunc\u001b[49m\u001b[43m(\u001b[49m\u001b[43mthis_vals\u001b[49m\u001b[43m,\u001b[49m\u001b[43m \u001b[49m\u001b[43mother_vals\u001b[49m\u001b[43m)\u001b[49m\n\u001b[32m   6197\u001b[39m name = ops.get_op_result_name(\u001b[38;5;28mself\u001b[39m, other)\n\u001b[32m   6198\u001b[39m out = this._construct_result(result, name)\n",
      "\u001b[31mTypeError\u001b[39m: unsupported operand type(s) for +: 'float' and 'str'"
     ]
    }
   ],
   "source": [
    "s3 = s.add(s1, fill_value=0)  # Add s1 to s, filling missing values with 0"
   ]
  },
  {
   "cell_type": "code",
   "execution_count": 48,
   "id": "cb354338",
   "metadata": {},
   "outputs": [
    {
     "data": {
      "application/vnd.microsoft.datawrangler.viewer.v0+json": {
       "columns": [
        {
         "name": "index",
         "rawType": "object",
         "type": "string"
        },
        {
         "name": "0",
         "rawType": "int64",
         "type": "integer"
        }
       ],
       "ref": "bf7a5d3e-25c0-47c2-9e6a-d7cf53585ab4",
       "rows": [
        [
         "a",
         "123"
        ],
        [
         "b",
         "456"
        ],
        [
         "c",
         "789"
        ],
        [
         "d",
         "111"
        ],
        [
         "e",
         "222"
        ],
        [
         "f",
         "333"
        ],
        [
         "g",
         "444"
        ],
        [
         "h",
         "555"
        ],
        [
         "i",
         "666"
        ],
        [
         "j",
         "777"
        ]
       ],
       "shape": {
        "columns": 1,
        "rows": 10
       }
      },
      "text/plain": [
       "a    123\n",
       "b    456\n",
       "c    789\n",
       "d    111\n",
       "e    222\n",
       "f    333\n",
       "g    444\n",
       "h    555\n",
       "i    666\n",
       "j    777\n",
       "dtype: int64"
      ]
     },
     "execution_count": 48,
     "metadata": {},
     "output_type": "execute_result"
    }
   ],
   "source": [
    "s1 = Series((\"123 456 789 111 222 333 444 555 666 777\").split(), \n",
    "            index=list(\"abcdefghij\"), dtype=int64)\n",
    "s1"
   ]
  },
  {
   "cell_type": "code",
   "execution_count": 49,
   "id": "aa8d3264",
   "metadata": {},
   "outputs": [],
   "source": [
    "s3 = s.add(s1, fill_value=0)  # Add s1 to s, filling missing values with 0"
   ]
  },
  {
   "cell_type": "code",
   "execution_count": 50,
   "id": "976eb81e",
   "metadata": {},
   "outputs": [
    {
     "data": {
      "application/vnd.microsoft.datawrangler.viewer.v0+json": {
       "columns": [
        {
         "name": "index",
         "rawType": "object",
         "type": "string"
        },
        {
         "name": "0",
         "rawType": "float64",
         "type": "float"
        }
       ],
       "ref": "fef17d95-535a-4bd1-a7dd-3b3baec8a3e7",
       "rows": [
        [
         "a",
         "619.3678246302723"
        ],
        [
         "a",
         "278.99452033620264"
        ],
        [
         "b",
         "952.3678246302723"
        ],
        [
         "b",
         "952.3678246302723"
        ],
        [
         "c",
         "1520.993941811405"
        ],
        [
         "c",
         "1285.3678246302723"
        ],
        [
         "d",
         "607.3678246302723"
        ],
        [
         "d",
         "712.1150117432088"
        ],
        [
         "e",
         "718.3678246302723"
        ],
        [
         "e",
         "718.3678246302723"
        ],
        [
         "f",
         "333.0"
        ],
        [
         "g",
         "444.0"
        ],
        [
         "h",
         "555.0"
        ],
        [
         "i",
         "666.0"
        ],
        [
         "j",
         "777.0"
        ]
       ],
       "shape": {
        "columns": 1,
        "rows": 15
       }
      },
      "text/plain": [
       "a     619.367825\n",
       "a     278.994520\n",
       "b     952.367825\n",
       "b     952.367825\n",
       "c    1520.993942\n",
       "c    1285.367825\n",
       "d     607.367825\n",
       "d     712.115012\n",
       "e     718.367825\n",
       "e     718.367825\n",
       "f     333.000000\n",
       "g     444.000000\n",
       "h     555.000000\n",
       "i     666.000000\n",
       "j     777.000000\n",
       "dtype: float64"
      ]
     },
     "execution_count": 50,
     "metadata": {},
     "output_type": "execute_result"
    }
   ],
   "source": [
    "s3"
   ]
  },
  {
   "cell_type": "code",
   "execution_count": 5,
   "id": "aee41e28",
   "metadata": {},
   "outputs": [],
   "source": [
    "np.random.seed(1)  # For reproducibility\n",
    "s = Series(np.random.randint(0, 100, 50))"
   ]
  },
  {
   "cell_type": "code",
   "execution_count": 6,
   "id": "9b558406",
   "metadata": {},
   "outputs": [
    {
     "data": {
      "application/vnd.microsoft.datawrangler.viewer.v0+json": {
       "columns": [
        {
         "name": "index",
         "rawType": "object",
         "type": "string"
        },
        {
         "name": "0",
         "rawType": "float64",
         "type": "float"
        }
       ],
       "ref": "c20ddf11-7f98-4537-aabb-66fddc51444e",
       "rows": [
        [
         "count",
         "50.0"
        ],
        [
         "mean",
         "43.34"
        ],
        [
         "std",
         "31.64188002361066"
        ],
        [
         "min",
         "0.0"
        ],
        [
         "25%",
         "13.0"
        ],
        [
         "50%",
         "42.0"
        ],
        [
         "75%",
         "71.75"
        ],
        [
         "max",
         "96.0"
        ]
       ],
       "shape": {
        "columns": 1,
        "rows": 8
       }
      },
      "text/plain": [
       "count    50.00000\n",
       "mean     43.34000\n",
       "std      31.64188\n",
       "min       0.00000\n",
       "25%      13.00000\n",
       "50%      42.00000\n",
       "75%      71.75000\n",
       "max      96.00000\n",
       "dtype: float64"
      ]
     },
     "execution_count": 6,
     "metadata": {},
     "output_type": "execute_result"
    }
   ],
   "source": [
    "s.describe()  # Get descriptive statistics of the Series"
   ]
  },
  {
   "cell_type": "code",
   "execution_count": 7,
   "id": "17556f95",
   "metadata": {},
   "outputs": [
    {
     "data": {
      "application/vnd.microsoft.datawrangler.viewer.v0+json": {
       "columns": [
        {
         "name": "index",
         "rawType": "int32",
         "type": "integer"
        },
        {
         "name": "count",
         "rawType": "int64",
         "type": "integer"
        }
       ],
       "ref": "303646db-b319-48c3-ae7c-1a968f07dfeb",
       "rows": [
        [
         "72",
         "2"
        ],
        [
         "1",
         "2"
        ],
        [
         "9",
         "2"
        ],
        [
         "13",
         "2"
        ],
        [
         "87",
         "2"
        ],
        [
         "50",
         "2"
        ],
        [
         "71",
         "2"
        ],
        [
         "12",
         "1"
        ],
        [
         "37",
         "1"
        ],
        [
         "5",
         "1"
        ],
        [
         "75",
         "1"
        ],
        [
         "76",
         "1"
        ],
        [
         "16",
         "1"
        ],
        [
         "64",
         "1"
        ],
        [
         "79",
         "1"
        ],
        [
         "20",
         "1"
        ],
        [
         "18",
         "1"
        ],
        [
         "84",
         "1"
        ],
        [
         "6",
         "1"
        ],
        [
         "11",
         "1"
        ],
        [
         "28",
         "1"
        ],
        [
         "14",
         "1"
        ],
        [
         "29",
         "1"
        ],
        [
         "68",
         "1"
        ],
        [
         "94",
         "1"
        ],
        [
         "96",
         "1"
        ],
        [
         "25",
         "1"
        ],
        [
         "86",
         "1"
        ],
        [
         "7",
         "1"
        ],
        [
         "63",
         "1"
        ],
        [
         "61",
         "1"
        ],
        [
         "22",
         "1"
        ],
        [
         "57",
         "1"
        ],
        [
         "0",
         "1"
        ],
        [
         "60",
         "1"
        ],
        [
         "81",
         "1"
        ],
        [
         "8",
         "1"
        ],
        [
         "88",
         "1"
        ],
        [
         "47",
         "1"
        ],
        [
         "30",
         "1"
        ],
        [
         "3",
         "1"
        ],
        [
         "70",
         "1"
        ],
        [
         "21",
         "1"
        ]
       ],
       "shape": {
        "columns": 1,
        "rows": 43
       }
      },
      "text/plain": [
       "72    2\n",
       "1     2\n",
       "9     2\n",
       "13    2\n",
       "87    2\n",
       "50    2\n",
       "71    2\n",
       "12    1\n",
       "37    1\n",
       "5     1\n",
       "75    1\n",
       "76    1\n",
       "16    1\n",
       "64    1\n",
       "79    1\n",
       "20    1\n",
       "18    1\n",
       "84    1\n",
       "6     1\n",
       "11    1\n",
       "28    1\n",
       "14    1\n",
       "29    1\n",
       "68    1\n",
       "94    1\n",
       "96    1\n",
       "25    1\n",
       "86    1\n",
       "7     1\n",
       "63    1\n",
       "61    1\n",
       "22    1\n",
       "57    1\n",
       "0     1\n",
       "60    1\n",
       "81    1\n",
       "8     1\n",
       "88    1\n",
       "47    1\n",
       "30    1\n",
       "3     1\n",
       "70    1\n",
       "21    1\n",
       "Name: count, dtype: int64"
      ]
     },
     "execution_count": 7,
     "metadata": {},
     "output_type": "execute_result"
    }
   ],
   "source": [
    "s.value_counts()"
   ]
  },
  {
   "cell_type": "code",
   "execution_count": 8,
   "id": "54bfdfae",
   "metadata": {},
   "outputs": [
    {
     "data": {
      "application/vnd.microsoft.datawrangler.viewer.v0+json": {
       "columns": [
        {
         "name": "index",
         "rawType": "int32",
         "type": "integer"
        },
        {
         "name": "count",
         "rawType": "int64",
         "type": "integer"
        }
       ],
       "ref": "5f40cd0a-0cf3-46ad-a0b7-02faace5cbc7",
       "rows": [
        [
         "50",
         "2"
        ],
        [
         "20",
         "1"
        ],
        [
         "0",
         "1"
        ],
        [
         "60",
         "1"
        ],
        [
         "30",
         "1"
        ],
        [
         "70",
         "1"
        ]
       ],
       "shape": {
        "columns": 1,
        "rows": 6
       }
      },
      "text/plain": [
       "50    2\n",
       "20    1\n",
       "0     1\n",
       "60    1\n",
       "30    1\n",
       "70    1\n",
       "Name: count, dtype: int64"
      ]
     },
     "execution_count": 8,
     "metadata": {},
     "output_type": "execute_result"
    }
   ],
   "source": [
    "s[s%10 == 0].value_counts()  # Count occurrences of even numbers"
   ]
  },
  {
   "cell_type": "code",
   "execution_count": 27,
   "id": "281ae372",
   "metadata": {},
   "outputs": [],
   "source": [
    "def change_std(x):\n",
    "    if x and x < s.mean():\n",
    "        return x - 50\n",
    "    return x + 50  # Square the values"
   ]
  },
  {
   "cell_type": "code",
   "execution_count": 24,
   "id": "ffb28a6a",
   "metadata": {},
   "outputs": [
    {
     "data": {
      "application/vnd.microsoft.datawrangler.viewer.v0+json": {
       "columns": [
        {
         "name": "index",
         "rawType": "object",
         "type": "string"
        },
        {
         "name": "0",
         "rawType": "float64",
         "type": "float"
        }
       ],
       "ref": "22fffad5-cd24-4662-9222-78208142eaec",
       "rows": [
        [
         "count",
         "50.0"
        ],
        [
         "mean",
         "43.34"
        ],
        [
         "std",
         "31.64188002361066"
        ],
        [
         "min",
         "0.0"
        ],
        [
         "25%",
         "13.0"
        ],
        [
         "50%",
         "42.0"
        ],
        [
         "75%",
         "71.75"
        ],
        [
         "max",
         "96.0"
        ]
       ],
       "shape": {
        "columns": 1,
        "rows": 8
       }
      },
      "text/plain": [
       "count    50.00000\n",
       "mean     43.34000\n",
       "std      31.64188\n",
       "min       0.00000\n",
       "25%      13.00000\n",
       "50%      42.00000\n",
       "75%      71.75000\n",
       "max      96.00000\n",
       "dtype: float64"
      ]
     },
     "execution_count": 24,
     "metadata": {},
     "output_type": "execute_result"
    }
   ],
   "source": [
    "s.describe()  # Get descriptive statistics of the Series"
   ]
  },
  {
   "cell_type": "code",
   "execution_count": 28,
   "id": "1f7a31c4",
   "metadata": {},
   "outputs": [],
   "source": [
    "s1 = s.apply(change_std)  # Apply the change_std function to each element"
   ]
  },
  {
   "cell_type": "code",
   "execution_count": 29,
   "id": "8ae6f792",
   "metadata": {},
   "outputs": [
    {
     "data": {
      "application/vnd.microsoft.datawrangler.viewer.v0+json": {
       "columns": [
        {
         "name": "index",
         "rawType": "object",
         "type": "string"
        },
        {
         "name": "0",
         "rawType": "float64",
         "type": "float"
        }
       ],
       "ref": "a55d2941-faab-4f09-b26a-87aa8711b32d",
       "rows": [
        [
         "count",
         "50.0"
        ],
        [
         "mean",
         "45.34"
        ],
        [
         "std",
         "79.57684259601547"
        ],
        [
         "min",
         "-49.0"
        ],
        [
         "25%",
         "-36.75"
        ],
        [
         "50%",
         "73.5"
        ],
        [
         "75%",
         "121.75"
        ],
        [
         "max",
         "146.0"
        ]
       ],
       "shape": {
        "columns": 1,
        "rows": 8
       }
      },
      "text/plain": [
       "count     50.000000\n",
       "mean      45.340000\n",
       "std       79.576843\n",
       "min      -49.000000\n",
       "25%      -36.750000\n",
       "50%       73.500000\n",
       "75%      121.750000\n",
       "max      146.000000\n",
       "dtype: float64"
      ]
     },
     "execution_count": 29,
     "metadata": {},
     "output_type": "execute_result"
    }
   ],
   "source": [
    "s1.describe()  # Get descriptive statistics of the modified Series"
   ]
  }
 ],
 "metadata": {
  "kernelspec": {
   "display_name": ".venv",
   "language": "python",
   "name": "python3"
  },
  "language_info": {
   "codemirror_mode": {
    "name": "ipython",
    "version": 3
   },
   "file_extension": ".py",
   "mimetype": "text/x-python",
   "name": "python",
   "nbconvert_exporter": "python",
   "pygments_lexer": "ipython3",
   "version": "3.13.3"
  }
 },
 "nbformat": 4,
 "nbformat_minor": 5
}
