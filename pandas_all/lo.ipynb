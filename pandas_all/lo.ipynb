{
 "cells": [
  {
   "cell_type": "code",
   "execution_count": 2,
   "id": "8f35cd8d",
   "metadata": {},
   "outputs": [],
   "source": [
    "from dotenv import load_dotenv\n",
    "from typing import TypedDict\n",
    "from langchain_core.messages import (\n",
    "    AIMessage,\n",
    "    AnyMessage,\n",
    "    HumanMessage,\n",
    "    SystemMessage,\n",
    "    ToolMessage,\n",
    ")\n",
    "from langgraph.graph import StateGraph, START, END\n",
    "from operator import add\n",
    "from typing import Annotated\n",
    "from langchain_core.messages import AnyMessage\n",
    "from langgraph.graph.message import add_messages\n",
    "from pydantic import BaseModel, field_validator, ValidationError\n"
   ]
  },
  {
   "cell_type": "code",
   "execution_count": 11,
   "id": "11caf9fe",
   "metadata": {},
   "outputs": [],
   "source": [
    "load_dotenv(override=True)\n",
    "\n",
    "# class CustomMessagesState(TypedDict):\n",
    "#     messages: Annotated[list[AnyMessage], add_messages]\n",
    "#     added_key_1: str\n",
    "#     added_key_2: str\n",
    "\n",
    "class CustomMessagesState(BaseModel):\n",
    "    messages: Annotated[list[AnyMessage], add_messages]\n",
    "    added_key_1: str\n",
    "    added_key_2: str"
   ]
  },
  {
   "cell_type": "code",
   "execution_count": 12,
   "id": "87d1cf66",
   "metadata": {},
   "outputs": [],
   "source": [
    "from langchain_openai import ChatOpenAI\n",
    "\n",
    "\n",
    "llm_stream = ChatOpenAI(model=\"gpt-4.1\", temperature=0.7, streaming=True)\n"
   ]
  },
  {
   "cell_type": "code",
   "execution_count": null,
   "id": "01547a40",
   "metadata": {},
   "outputs": [],
   "source": [
    "for chunk in llm_stream.stream(\"Tell about the history of france.\"):\n",
    "    print(chunk.content, flush=True)\n",
    "print(\"\\nDone streaming.\")"
   ]
  },
  {
   "cell_type": "code",
   "execution_count": 13,
   "id": "8412b7cc",
   "metadata": {},
   "outputs": [],
   "source": [
    "tool = {\"type\": \"web_search_preview\"}\n",
    "llm_responses = ChatOpenAI(model=\"gpt-4.1\", temperature=0.7, use_responses_api=True)\n",
    "llm_with_tools = llm_responses.bind_tools([tool])"
   ]
  },
  {
   "cell_type": "code",
   "execution_count": 17,
   "id": "c79c9e21",
   "metadata": {},
   "outputs": [],
   "source": [
    "ai_resp = llm_with_tools.invoke([SystemMessage(content=\"Be very thorough\"), HumanMessage(content=\"What was a positive US news human story from today?\")])"
   ]
  },
  {
   "cell_type": "code",
   "execution_count": 7,
   "id": "5d920f49",
   "metadata": {},
   "outputs": [
    {
     "data": {
      "text/plain": [
       "'As of June 5, 2025, one uplifting human interest story from the United States is the recent graduation of the inaugural class from the Oklahoma State University College of Osteopathic Medicine at the Cherokee Nation. This first-of-its-kind medical school, located on a Native American reservation and affiliated with a tribal government, celebrated the achievement of 46 students, including nine Native individuals representing 14 different tribes such as Cherokee, Choctaw, Alaska Native, and Seminole. This milestone is significant in addressing the nationwide shortage of Indigenous doctors, as Native Americans currently comprise only 0.3% of active physicians in the U.S. The new graduates are poised to enhance healthcare access and quality within their communities. ([goodgoodgood.co](https://www.goodgoodgood.co/articles/good-news-this-week-june-1-2024?utm_source=openai)) '"
      ]
     },
     "execution_count": 7,
     "metadata": {},
     "output_type": "execute_result"
    }
   ],
   "source": [
    "ai_resp.text()"
   ]
  },
  {
   "cell_type": "code",
   "execution_count": null,
   "id": "df2a6ac1",
   "metadata": {},
   "outputs": [],
   "source": [
    "tool = {\"type\": \"web_search_preview\"}\n",
    "llm_responses = ChatOpenAI(model=\"gpt-4.1\", temperature=0.7, streaming=True, use_responses_api=True)\n",
    "llm_with_tools_and_streaming = llm_responses.bind_tools([tool])"
   ]
  },
  {
   "cell_type": "code",
   "execution_count": null,
   "id": "32d79382",
   "metadata": {},
   "outputs": [],
   "source": [
    "for chunk in llm_with_tools_and_streaming.stream(\"Tell me the latest US politics news\"):\n",
    "    if chunk.content:\n",
    "        print(chunk.text())\n",
    "print(\"\\nDone streaming.\")"
   ]
  },
  {
   "cell_type": "code",
   "execution_count": null,
   "id": "543a4b98",
   "metadata": {},
   "outputs": [],
   "source": [
    "print(ai_resp.text())\n"
   ]
  }
 ],
 "metadata": {
  "kernelspec": {
   "display_name": ".venv",
   "language": "python",
   "name": "python3"
  },
  "language_info": {
   "codemirror_mode": {
    "name": "ipython",
    "version": 3
   },
   "file_extension": ".py",
   "mimetype": "text/x-python",
   "name": "python",
   "nbconvert_exporter": "python",
   "pygments_lexer": "ipython3",
   "version": "3.13.3"
  }
 },
 "nbformat": 4,
 "nbformat_minor": 5
}
