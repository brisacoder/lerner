{
 "cells": [
  {
   "cell_type": "code",
   "execution_count": null,
   "id": "d48a6f91",
   "metadata": {},
   "outputs": [],
   "source": [
    "import asyncio\n",
    "from typing import AsyncGenerator\n",
    "\n",
    "async def echo_generator() -> AsyncGenerator[str, str]:\n",
    "    \"\"\"\n",
    "    An async generator that:\n",
    "      1. Yields a “ready” message when first started.\n",
    "      2. Then for each value sent in, yields back “echo: {value}”.\n",
    "    \"\"\"\n",
    "    # First yield – no value comes in yet\n",
    "    received = yield \"ready\"\n",
    "    # Now loop forever, echoing back whatever we receive next\n",
    "    while True:\n",
    "        received = yield f\"echo: {received}\"\n",
    "\n",
    "async def main():\n",
    "    # Create the generator\n",
    "    agen = echo_generator()\n",
    "\n",
    "    # 1) “Prime” the generator: must send None to get the first yield\n",
    "    first = await agen.asend(None)\n",
    "    print(first)  # → \"ready\"\n",
    "\n",
    "    # 2) Send in “hello” and await the next yield\n",
    "    resp1 = await agen.asend(\"hello\")\n",
    "    print(resp1)  # → \"echo: hello\"\n",
    "\n",
    "    # 3) Send in “world” and await the next yield\n",
    "    resp2 = await agen.asend(\"world\")\n",
    "    print(resp2)  # → \"echo: world\"\n",
    "\n",
    "    # 4) Close the generator\n",
    "    try:\n",
    "        await agen.asend(None)\n",
    "    except StopAsyncIteration:\n",
    "        print(\"Generator has exited.\")\n",
    "\n",
    "# Run it\n",
    "await main()\n"
   ]
  },
  {
   "cell_type": "markdown",
   "id": "ad17a8ea",
   "metadata": {},
   "source": [
    "# Generator Functions"
   ]
  },
  {
   "cell_type": "code",
   "execution_count": null,
   "id": "17c8cc9a",
   "metadata": {},
   "outputs": [],
   "source": [
    "def myfunc():\n",
    "    \"\"\"\n",
    "    A simple function that does nothing.\n",
    "    \"\"\"\n",
    "    return 1\n",
    "    return 2\n",
    "    return 3\n",
    "\n",
    "# This function is not used in the async context, but is included to match the original request."
   ]
  },
  {
   "cell_type": "code",
   "execution_count": null,
   "id": "3fa549e1",
   "metadata": {},
   "outputs": [],
   "source": [
    "def myfunc():\n",
    "    \"\"\"\n",
    "    A simple function that does nothing.\n",
    "    \"\"\"\n",
    "    yield 1\n",
    "    yield 2\n",
    "    yield 3\n",
    "\n",
    "# This function is not used in the async context, but is included to match the original request."
   ]
  },
  {
   "cell_type": "code",
   "execution_count": null,
   "id": "af48e943",
   "metadata": {},
   "outputs": [],
   "source": [
    "myfunc()"
   ]
  },
  {
   "cell_type": "code",
   "execution_count": null,
   "id": "785f1459",
   "metadata": {},
   "outputs": [],
   "source": [
    "g = myfunc()"
   ]
  },
  {
   "cell_type": "code",
   "execution_count": null,
   "id": "6ead4d05",
   "metadata": {},
   "outputs": [],
   "source": [
    "next(g)"
   ]
  },
  {
   "cell_type": "code",
   "execution_count": null,
   "id": "e8254d08",
   "metadata": {},
   "outputs": [],
   "source": [
    "g.gi_frame.f_lineno"
   ]
  },
  {
   "cell_type": "code",
   "execution_count": null,
   "id": "1799b4a9",
   "metadata": {},
   "outputs": [],
   "source": [
    "# we can create, using this, our own baby verion of asyncio\n",
    "\n",
    "# we'll create a list\n",
    "# we'll put those generators in the list\n",
    "# we'll iterate over the list, giving each generator a chance to run\n",
    "# when a generator is done (it raises StopIteration), we remove it from the list\n",
    "# this is a very simple event loop"
   ]
  },
  {
   "cell_type": "code",
   "execution_count": null,
   "id": "76b92ba3",
   "metadata": {},
   "outputs": [],
   "source": [
    "def mygen(id_number, maxnum):\n",
    "    \"\"\"\n",
    "    A simple generator that yields numbers up to a maximum.\n",
    "    \"\"\"\n",
    "    for i in range(maxnum):\n",
    "        yield f\"Generator {id_number}: {i}\""
   ]
  },
  {
   "cell_type": "code",
   "execution_count": null,
   "id": "da1cc35c",
   "metadata": {},
   "outputs": [],
   "source": [
    "g1 = mygen(1, 5)\n",
    "g2 = mygen(2, 7)\n",
    "g3 = mygen(3, 3)"
   ]
  },
  {
   "cell_type": "code",
   "execution_count": null,
   "id": "956e60f4",
   "metadata": {},
   "outputs": [],
   "source": [
    "generators = [g1, g2, g3]"
   ]
  },
  {
   "cell_type": "code",
   "execution_count": null,
   "id": "ca7c643b",
   "metadata": {},
   "outputs": [],
   "source": [
    "while generators:\n",
    "    for one_g in generators:\n",
    "        try:\n",
    "            print(next(one_g))\n",
    "        except StopIteration:\n",
    "            # If the generator is done, remove it from the list\n",
    "            generators.remove(one_g)\n",
    "print(\"All generators are done.\")"
   ]
  },
  {
   "cell_type": "code",
   "execution_count": null,
   "id": "336541ae",
   "metadata": {},
   "outputs": [],
   "source": [
    "# Mapping this to an asyncio-like event loop:\n",
    "\n",
    "# - In 'asyncio' , we don't define regular functions. Rather, we define coroutines using 'async def'.\n",
    "# Just as generators functions, when we run them,  gives us generators objects, async def functions return *coroutines*. \n",
    "# You don't run a corouting directly. Rather, you put it on the event loop, which will run it for you.\n",
    "# Instead of 'yield' in generators, in 'asyncio' we use a term called 'await'. This means two things are once: First, that\n",
    "# we're are waiting for a value from something that might take a while. Second: While we're waiting, we are willing to goto sleep, \n",
    "# a la yield, and let other things run. So, 'await' is like 'yield' in that sense."
   ]
  },
  {
   "cell_type": "code",
   "execution_count": null,
   "id": "5342da92",
   "metadata": {},
   "outputs": [],
   "source": [
    "async def hello():\n",
    "    print((\"Hello, world!\"))"
   ]
  },
  {
   "cell_type": "code",
   "execution_count": null,
   "id": "ae47f350",
   "metadata": {},
   "outputs": [],
   "source": [
    "type(hello)"
   ]
  },
  {
   "cell_type": "code",
   "execution_count": null,
   "id": "efc9b14c",
   "metadata": {},
   "outputs": [],
   "source": [
    "import dis\n",
    "dis.show_code(hello)"
   ]
  },
  {
   "cell_type": "code",
   "execution_count": null,
   "id": "aa7e2fff",
   "metadata": {},
   "outputs": [],
   "source": [
    "hello()"
   ]
  },
  {
   "cell_type": "code",
   "execution_count": null,
   "id": "e1a2ba2a",
   "metadata": {},
   "outputs": [],
   "source": [
    "# WE don't run coroutines directly. We put them on the event loop, which will run them for us."
   ]
  },
  {
   "cell_type": "code",
   "execution_count": null,
   "id": "5432b93b",
   "metadata": {},
   "outputs": [],
   "source": [
    "await hello()"
   ]
  },
  {
   "cell_type": "code",
   "execution_count": null,
   "id": "3d6afc85",
   "metadata": {},
   "outputs": [],
   "source": [
    "import asyncio\n",
    "\n",
    "async def hello():\n",
    "    await asyncio.sleep(1)\n",
    "    print((\"Hello, world!\"))"
   ]
  },
  {
   "cell_type": "code",
   "execution_count": null,
   "id": "6f0b9871",
   "metadata": {},
   "outputs": [],
   "source": [
    "await hello()"
   ]
  },
  {
   "cell_type": "code",
   "execution_count": null,
   "id": "1f6d04e8",
   "metadata": {},
   "outputs": [],
   "source": [
    "import random\n",
    "async def hello(number):\n",
    "    await asyncio.sleep(random.randint(0, 4))\n",
    "    print((f\"Hello, world: {number}!\"))\n",
    "    return number"
   ]
  },
  {
   "cell_type": "code",
   "execution_count": null,
   "id": "560fd291",
   "metadata": {},
   "outputs": [],
   "source": [
    "tasks = [asyncio.create_task(hello(i)) for i in range(5)]\n",
    "result = await asyncio.gather(*tasks)\n",
    "\n"
   ]
  },
  {
   "cell_type": "code",
   "execution_count": null,
   "id": "27eb947c",
   "metadata": {},
   "outputs": [],
   "source": [
    "result"
   ]
  },
  {
   "cell_type": "code",
   "execution_count": null,
   "id": "7fc93bbd",
   "metadata": {},
   "outputs": [],
   "source": [
    "async def up(maximum):\n",
    "    for i in range(maximum):\n",
    "        await asyncio.sleep(1)\n",
    "        print(f\"Up: {i}\")\n",
    "        await asyncio.sleep(0)       # <-- explicit yield back to the loop\n",
    "\n",
    "async def down(maximum):\n",
    "    for i in range(maximum, 0, -1):\n",
    "        await asyncio.sleep(1)\n",
    "        print(f\"Down: {i}\")\n",
    "\n",
    "async def powers(n):\n",
    "    for i in range(2, 8):\n",
    "        await asyncio.sleep(1)\n",
    "        print(f\"Powers: {n ** i}\")\n",
    "\n",
    "async def run_tasks():\n",
    "    coros = [up(4), down(4), powers(4)] \n",
    "    async with asyncio.TaskGroup() as tg:\n",
    "        for coro in coros:\n",
    "            tg.create_task(coro)\n",
    "\n",
    "\n",
    "    result = await coros[0] # RuntimeError: cannot reuse already awaited coroutine\n",
    "\n",
    "# Once a coroutine has been awaited and finished, it cannot be awaited again.\n",
    "# This is because a coroutine is an awaitable object that runs only once—after it completes, its state is \"exhausted\".\n",
    "# Trying to await it again will raise a RuntimeError.\n",
    "# If you want to run the same logic multiple times, you must create a new coroutine object each time.\n",
    "\n",
    "results = await run_tasks() \n"
   ]
  },
  {
   "cell_type": "markdown",
   "id": "f063418c",
   "metadata": {},
   "source": [
    "Under the hood, a Python `async def` function isn’t a fresh piece of code every time you `await` it—it’s more like a stateful generator:\n",
    "\n",
    "1. **Coroutine objects are single‐use generators**\n",
    "   When you call an `async def` function, e.g. `coro = hello(…)`, Python builds a *coroutine object*, which internally is a generator‐style state machine. You then “drive” it to completion by awaiting it (directly or via `gather`, etc.).\n",
    "\n",
    "2. **Once it runs to completion, its state is done**\n",
    "   Like a normal generator, when it returns (i.e. reaches the end or hits a `return`), it raises `StopIteration` internally. At that point its internal instruction pointer is at the end, local variables have been torn down, and there’s no “rewind” mechanism.\n",
    "\n",
    "3. **Re‐awaiting a finished coroutine is invalid**\n",
    "   If you try:\n",
    "\n",
    "   ```python\n",
    "   coro = hello(1)\n",
    "   await coro        # first time: works\n",
    "   await coro        # second time: RuntimeError\n",
    "   ```\n",
    "\n",
    "   you’ll get:\n",
    "\n",
    "   ```\n",
    "   RuntimeError: cannot reuse already awaited coroutine\n",
    "   ```\n",
    "\n",
    "   That error exists because Python won’t implicitly recreate or rewind the coroutine object for you.\n",
    "\n",
    "4. **To run the same logic again, call the function again**\n",
    "   You need a *new* coroutine object each time:\n",
    "\n",
    "   ```python\n",
    "   await hello(1)            # runs once\n",
    "   await hello(1)            # brand‐new coroutine, runs again\n",
    "   ```\n",
    "\n",
    "   Or, if you stored it, recreate:\n",
    "\n",
    "   ```python\n",
    "   coro = hello(1)\n",
    "   await coro\n",
    "   # …later…\n",
    "   coro = hello(1)           # NEW object\n",
    "   await coro\n",
    "   ```\n",
    "\n",
    "---\n",
    "\n",
    "#### Why design it this way?\n",
    "\n",
    "* **Statefulness:** Coroutines can suspend at `await`, keep internal locals, stack frames, exception handlers, etc. They’re inherently stateful.\n",
    "* **Performance & simplicity:** Treating them as one‐shot generators keeps the implementation simple and avoids hidden memory resets or surprising side effects.\n",
    "* **Explicit is better than implicit:** If you really wanted to reuse logic, you explicitly call the function again, making it clear you’re spinning up a fresh state machine.\n",
    "\n",
    "In short: a finished coroutine is “exhausted” just like a generator after it hits `return`, and you must call the `async def` function again to get a fresh coroutine to await.\n"
   ]
  },
  {
   "cell_type": "markdown",
   "id": "109e274c",
   "metadata": {},
   "source": [
    "# How to Trap Exceptions in a TaskGroup"
   ]
  },
  {
   "cell_type": "markdown",
   "id": "33cb3b7a",
   "metadata": {},
   "source": [
    "## Catch the `ExceptionGroup` when the group exits\n",
    "\n",
    "By design, if *any* child task raises, the TaskGroup:\n",
    "\n",
    "1. Cancels all *other* children\n",
    "2. Propagates an **`ExceptionGroup`** out of the `async with` block\n",
    "\n",
    "You can catch that exception and unpack it with the new `except*` syntax (Python 3.11+), or inspect its `.exceptions` list:\n",
    "\n",
    "```python\n",
    "import asyncio\n",
    "\n",
    "async def bad(i):\n",
    "    await asyncio.sleep(i * 0.1)\n",
    "    raise RuntimeError(f\"task {i} failed\")\n",
    "\n",
    "async def main():\n",
    "    try:\n",
    "        async with asyncio.TaskGroup() as tg:\n",
    "            # schedule a few tasks, one of which will error\n",
    "            tg.create_task(bad(1))\n",
    "            tg.create_task(bad(2))\n",
    "            tg.create_task(bad(3))\n",
    "    # catch *only* RuntimeErrors from the group\n",
    "    except* RuntimeError as group:\n",
    "        for exc in group.exceptions:\n",
    "            print(\"Caught child error:\", exc)\n",
    "    # (you could also do `except* Exception as group:` to catch all)\n",
    "    else:\n",
    "        print(\"all tasks succeeded\")\n",
    "\n",
    "asyncio.run(main())\n",
    "```\n",
    "\n",
    "**What’s happening?**\n",
    "\n",
    "* As soon as one `bad(i)` raises, the TaskGroup tears down: all remaining tasks are cancelled, and an `ExceptionGroup` is thrown.\n",
    "* `except* RuntimeError as group:` pulls out just the `RuntimeError` instances into `group.exceptions`.\n",
    "\n"
   ]
  },
  {
   "cell_type": "markdown",
   "id": "df21162d",
   "metadata": {},
   "source": []
  }
 ],
 "metadata": {
  "kernelspec": {
   "display_name": ".venv",
   "language": "python",
   "name": "python3"
  },
  "language_info": {
   "codemirror_mode": {
    "name": "ipython",
    "version": 3
   },
   "file_extension": ".py",
   "mimetype": "text/x-python",
   "name": "python",
   "nbconvert_exporter": "python",
   "pygments_lexer": "ipython3",
   "version": "3.13.3"
  }
 },
 "nbformat": 4,
 "nbformat_minor": 5
}
