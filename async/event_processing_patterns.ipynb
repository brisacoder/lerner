{
 "cells": [
  {
   "cell_type": "markdown",
   "id": "faf074f0",
   "metadata": {},
   "source": [
    "# Event Processing Patterns in Python\n",
    "This notebook demonstrates common in-memory event-processing algorithms and data structures, using synthetic event streams. Each section includes detailed comments and example usage."
   ]
  },
  {
   "cell_type": "code",
   "execution_count": null,
   "id": "be37418e",
   "metadata": {},
   "outputs": [],
   "source": [
    "# Core imports used across examples\n",
    "import collections\n",
    "from collections import deque, Counter, OrderedDict\n",
    "import heapq\n",
    "import bisect\n",
    "import random\n",
    "from dataclasses import dataclass\n",
    "from typing import List, Tuple, Dict\n",
    "\n",
    "# Utility for printing results\n",
    "def show(title, result):\n",
    "    print(f\"## {title}\\n\", result, \"\\n\")"
   ]
  },
  {
   "cell_type": "markdown",
   "id": "d2ac5526",
   "metadata": {},
   "source": [
    "## 1. Hash Map / Counter\n",
    "Count occurrences, group by key, dedupe, or track last-seen values in O(1) per event."
   ]
  },
  {
   "cell_type": "code",
   "execution_count": null,
   "id": "1fe51095",
   "metadata": {},
   "outputs": [],
   "source": [
    "# Synthetic event stream: list of user IDs\n",
    "events = [random.choice(['alice', 'bob', 'carol', 'dave']) for _ in range(20)]\n",
    "show('Events', events)\n",
    "\n",
    "# 1.a Count occurrences using Counter\n",
    "counts = Counter(events)\n",
    "show('Counts per user', counts)\n",
    "\n",
    "# 1.b Track last-seen index for each user\n",
    "last_seen = {}\n",
    "for idx, user in enumerate(events):\n",
    "    last_seen[user] = idx\n",
    "show('Last-seen positions', last_seen)"
   ]
  },
  {
   "cell_type": "markdown",
   "id": "7ef30487",
   "metadata": {},
   "source": [
    "## 2. Sliding Window\n",
    "Maintain data for the last *k* items (e.g., moving averages or rate limits)."
   ]
  },
  {
   "cell_type": "code",
   "execution_count": null,
   "id": "25f0a2db",
   "metadata": {},
   "outputs": [],
   "source": [
    "# Synthetic timestamped readings (seconds)\n",
    "readings = [(i, random.uniform(0, 100)) for i in range(30)]\n",
    "window_size = 5  # seconds\n",
    "dq = deque()\n",
    "sum_vals = 0\n",
    "moving_avg = []\n",
    "\n",
    "for timestamp, value in readings:\n",
    "    # Add new event\n",
    "    dq.append((timestamp, value))\n",
    "    sum_vals += value\n",
    "    # Expire old events\n",
    "    while dq and dq[0][0] < timestamp - window_size:\n",
    "        _, old_val = dq.popleft()\n",
    "        sum_vals -= old_val\n",
    "    # Compute average over current window\n",
    "    moving_avg.append((timestamp, sum_vals / len(dq)))\n",
    "\n",
    "show('Moving average (window=5)', moving_avg)"
   ]
  },
  {
   "cell_type": "markdown",
   "id": "ab4ef771",
   "metadata": {},
   "source": [
    "## 3. Min/Max-Heap\n",
    "Maintain the top-K elements or next expiry in O(log N) per update."
   ]
  },
  {
   "cell_type": "code",
   "execution_count": null,
   "id": "adc2af74",
   "metadata": {},
   "outputs": [],
   "source": [
    "# Synthetic scores to maintain top-3\n",
    "scores = [random.randint(0, 100) for _ in range(15)]\n",
    "show('Scores stream', scores)\n",
    "\n",
    "# Min-heap of size K to keep top K\n",
    "K = 3\n",
    "min_heap = []\n",
    "for score in scores:\n",
    "    if len(min_heap) < K:\n",
    "        heapq.heappush(min_heap, score)\n",
    "    else:\n",
    "        heapq.heappushpop(min_heap, score)\n",
    "show('Top-3 scores', sorted(min_heap, reverse=True))"
   ]
  },
  {
   "cell_type": "markdown",
   "id": "0b21dd1d",
   "metadata": {},
   "source": [
    "## 4. Ordered Map / Range Queries\n",
    "Support range counts or next/prev lookups in sorted order."
   ]
  },
  {
   "cell_type": "code",
   "execution_count": null,
   "id": "c15154a3",
   "metadata": {},
   "outputs": [],
   "source": [
    "# Synthetic timestamps\n",
    "timestamps = sorted(random.randint(0, 100) for _ in range(20))\n",
    "show('Timestamps', timestamps)\n",
    "\n",
    "# Use bisect to count events in a given range [low, high]\n",
    "low, high = 20, 50\n",
    "left = bisect.bisect_left(timestamps, low)\n",
    "right = bisect.bisect_right(timestamps, high)\n",
    "show(f'Count in [{low}, {high}]', right - left)"
   ]
  },
  {
   "cell_type": "markdown",
   "id": "481ab6a8",
   "metadata": {},
   "source": [
    "## 5. Interval Merge / Sweep-Line\n",
    "Merge overlapping intervals or compute total covered time."
   ]
  },
  {
   "cell_type": "code",
   "execution_count": null,
   "id": "f50cf03f",
   "metadata": {},
   "outputs": [],
   "source": [
    "# Synthetic intervals (start, end)\n",
    "intervals = [(random.randint(0, 60), random.randint(60, 120)) for _ in range(10)]\n",
    "# Normalize start < end\n",
    "intervals = [(min(s, e), max(s, e)) for s, e in intervals]\n",
    "intervals.sort()\n",
    "show('Original intervals', intervals)\n",
    "\n",
    "# Merge logic\n",
    "merged = []\n",
    "for start, end in intervals:\n",
    "    if not merged or start > merged[-1][1]:\n",
    "        merged.append((start, end))\n",
    "    else:\n",
    "        merged[-1] = (merged[-1][0], max(merged[-1][1], end))\n",
    "show('Merged intervals', merged)\n",
    "\n",
    "# Compute total covered time\n",
    "total = sum(e - s for s, e in merged)\n",
    "show('Total covered time', total)"
   ]
  },
  {
   "cell_type": "markdown",
   "id": "5ce278eb",
   "metadata": {},
   "source": [
    "## 6. LRU Cache\n",
    "Evict least-recently-used items when capacity is exceeded, in O(1) per access."
   ]
  },
  {
   "cell_type": "code",
   "execution_count": null,
   "id": "bf3d3bd4",
   "metadata": {},
   "outputs": [],
   "source": [
    "class LRUCache:\n",
    "    def __init__(self, capacity: int):\n",
    "        self.cache = OrderedDict()\n",
    "        self.capacity = capacity\n",
    "\n",
    "    def get(self, key):\n",
    "        if key not in self.cache:\n",
    "            return None\n",
    "        # Move to end (most recent)\n",
    "        value = self.cache.pop(key)\n",
    "        self.cache[key] = value\n",
    "        return value\n",
    "\n",
    "    def put(self, key, value):\n",
    "        if key in self.cache:\n",
    "            self.cache.pop(key)\n",
    "        elif len(self.cache) >= self.capacity:\n",
    "            # Pop oldest (first key)\n",
    "            self.cache.popitem(last=False)\n",
    "        self.cache[key] = value\n",
    "\n",
    "# Demo\n",
    "ops = [('put', i, i*10) for i in range(5)] + [('get', 2, None), ('put', 5, 50)]\n",
    "cache = LRUCache(capacity=3)\n",
    "for op, key, val in ops:\n",
    "    if op == 'put':\n",
    "        cache.put(key, val)\n",
    "    else:\n",
    "        cache.get(key)\n",
    "show('Final LRU state', list(cache.cache.items()))"
   ]
  },
  {
   "cell_type": "markdown",
   "id": "e14cf9b0",
   "metadata": {},
   "source": [
    "## 7. Reservoir Sampling\n",
    "Randomly sample k items from a stream of unknown size with O(k) memory."
   ]
  },
  {
   "cell_type": "code",
   "execution_count": null,
   "id": "ecc8ffe2",
   "metadata": {},
   "outputs": [],
   "source": [
    "def reservoir_sample(stream, k=1):\n",
    "    # Initialize reservoir\n",
    "    reservoir = []\n",
    "    for i, item in enumerate(stream):\n",
    "        if i < k:\n",
    "            reservoir.append(item)\n",
    "        else:\n",
    "            # Replace with decreasing probability\n",
    "            j = random.randint(0, i)\n",
    "            if j < k:\n",
    "                reservoir[j] = item\n",
    "    return reservoir\n",
    "\n",
    "# Demo: sample one event ID\n",
    "events = list(range(100))\n",
    "sample = reservoir_sample(events, k=1)\n",
    "show('Reservoir sample (k=1)', sample)"
   ]
  },
  {
   "cell_type": "markdown",
   "id": "abafcb3b",
   "metadata": {},
   "source": [
    "## 8. Graph Traversal / Union-Find\n",
    "Maintain connectivity as edges arrive and detect cycles."
   ]
  },
  {
   "cell_type": "code",
   "execution_count": null,
   "id": "e32ee007",
   "metadata": {},
   "outputs": [],
   "source": [
    "# Union-Find implementation\n",
    "class UnionFind:\n",
    "    def __init__(self, n):\n",
    "        self.parent = list(range(n))\n",
    "        self.rank = [0]*n\n",
    "\n",
    "    def find(self, x):\n",
    "        if self.parent[x] != x:\n",
    "            self.parent[x] = self.find(self.parent[x])\n",
    "        return self.parent[x]\n",
    "\n",
    "    def union(self, x, y):\n",
    "        rx, ry = self.find(x), self.find(y)\n",
    "        if rx == ry:\n",
    "            return False  # cycle\n",
    "        if self.rank[rx] < self.rank[ry]:\n",
    "            self.parent[rx] = ry\n",
    "        elif self.rank[rx] > self.rank[ry]:\n",
    "            self.parent[ry] = rx\n",
    "        else:\n",
    "            self.parent[ry] = rx\n",
    "            self.rank[rx] += 1\n",
    "        return True\n",
    "\n",
    "# Synthetic union events\n",
    "edges = [(random.randint(0, 9), random.randint(0, 9)) for _ in range(15)]\n",
    "uf = UnionFind(10)\n",
    "results = [(u, v, uf.union(u, v)) for u, v in edges]\n",
    "show('Edge union results (cycle? False means merged)', results)"
   ]
  },
  {
   "cell_type": "markdown",
   "id": "2be6a187",
   "metadata": {},
   "source": [
    "## 9. Streaming Max-Profit (DP Over Prices)\n",
    "Compute max profit in one-pass as prices stream in."
   ]
  },
  {
   "cell_type": "code",
   "execution_count": null,
   "id": "adc66691",
   "metadata": {},
   "outputs": [],
   "source": [
    "# Synthetic stock prices\n",
    "prices = [random.randint(10, 100) for _ in range(20)]\n",
    "min_price = float('inf')\n",
    "max_profit = 0\n",
    "for price in prices:\n",
    "    min_price = min(min_price, price)  # best buy-so-far\n",
    "    profit = price - min_price         # possible sell gain\n",
    "    max_profit = max(max_profit, profit)\n",
    "\n",
    "show('Prices', prices)\n",
    "show('Max profit', max_profit)"
   ]
  }
 ],
 "metadata": {},
 "nbformat": 4,
 "nbformat_minor": 5
}
