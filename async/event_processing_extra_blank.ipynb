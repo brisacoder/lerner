{
 "cells": [
  {
   "cell_type": "markdown",
   "id": "691f7abb",
   "metadata": {},
   "source": [
    "# 20 More Event‑Processing Interview Problems (Stdlib‑Only, **No Solutions**)\n",
    "\n",
    "*Each problem gives you a full task statement, a hint listing the stdlib constructs you’ll likely need, and a starter code cell.*\n",
    "\n",
    "All problems presume events shaped like:\n",
    "\n",
    "```python\n",
    "{\n",
    "    \"id\": int,\n",
    "    \"ts\": \"ISO‑8601 string\",\n",
    "    \"user\": \"user42\",\n",
    "    \"type\": \"LOGIN\" | \"VIEW\" | \"PURCHASE\" | ...,\n",
    "    \"payload\": {\"value\": int, ...}\n",
    "}\n",
    "```\n",
    "\n",
    "Use the generator below or plug in your own dataset.\n"
   ]
  },
  {
   "cell_type": "markdown",
   "id": "53d0ba5e",
   "metadata": {},
   "source": [
    "## Optional Helper – Synthetic Event Generator"
   ]
  },
  {
   "cell_type": "code",
   "execution_count": 1,
   "id": "3345ea48",
   "metadata": {},
   "outputs": [],
   "source": [
    "\n",
    "import random, string\n",
    "from datetime import datetime, timedelta\n",
    "\n",
    "EVENT_TYPES = [\"CLICK\", \"VIEW\", \"LOGIN\", \"PURCHASE\", \"LOGOUT\"]\n",
    "random.seed(1337)\n",
    "\n",
    "def _rand_ts(start, end):\n",
    "    delta = end - start\n",
    "    return start + timedelta(seconds=random.randint(0, int(delta.total_seconds())))\n",
    "\n",
    "def generate_events(n=1000):\n",
    "    start, end = datetime.now() - timedelta(days=1), datetime.now()\n",
    "    for i in range(n):\n",
    "        yield {\n",
    "            \"id\": i,\n",
    "            \"ts\": _rand_ts(start, end).isoformat(),\n",
    "            \"user\": f\"user{random.randint(1, 200)}\",\n",
    "            \"type\": random.choice(EVENT_TYPES),\n",
    "            \"payload\": {\"value\": random.randint(1, 10_000)}\n",
    "        }\n"
   ]
  },
  {
   "cell_type": "markdown",
   "id": "e1451b30",
   "metadata": {},
   "source": [
    "---\n",
    "\n",
    "### Problem 1 – Hourly Event Histogram\n",
    "\n",
    "**Task**  \n",
    "Count how many events fall into each **hour of the day** (0‑23) and return a dict like `{hour: count}`.\n",
    "\n",
    "**Hint – stdlib tools to consider** → datetime, collections.Counter\n"
   ]
  },
  {
   "cell_type": "code",
   "execution_count": null,
   "id": "6a412f2f",
   "metadata": {},
   "outputs": [],
   "source": [
    "# TODO – your code for Problem 1\n"
   ]
  },
  {
   "cell_type": "markdown",
   "id": "c86c2099",
   "metadata": {},
   "source": [
    "---\n",
    "\n",
    "### Problem 2 – Streaming 90th‑Percentile Payload Value\n",
    "\n",
    "**Task**  \n",
    "Keep a data structure that lets you query the 90th percentile of `payload['value']` at any moment during ingestion.\n",
    "\n",
    "**Hint – stdlib tools to consider** → heapq, bisect, statistics.quantiles\n"
   ]
  },
  {
   "cell_type": "code",
   "execution_count": null,
   "id": "e8239add",
   "metadata": {},
   "outputs": [],
   "source": [
    "# TODO – your code for Problem 2\n"
   ]
  },
  {
   "cell_type": "markdown",
   "id": "fe9f29b6",
   "metadata": {},
   "source": [
    "---\n",
    "\n",
    "### Problem 3 – Triple‑Login Without Logout Detector\n",
    "\n",
    "**Task**  \n",
    "For each user, emit the first timestamp at which they have **three consecutive `LOGIN` events** without an intervening `LOGOUT`.\n",
    "\n",
    "**Hint – stdlib tools to consider** → collections.defaultdict, collections.deque\n"
   ]
  },
  {
   "cell_type": "code",
   "execution_count": null,
   "id": "fd60ef90",
   "metadata": {},
   "outputs": [],
   "source": [
    "# TODO – your code for Problem 3\n"
   ]
  },
  {
   "cell_type": "markdown",
   "id": "722704a4",
   "metadata": {},
   "source": [
    "---\n",
    "\n",
    "### Problem 4 – Re‑order Events with ≤ 5 s Skew\n",
    "\n",
    "**Task**  \n",
    "Events arrive up to five seconds out of order. Buffer just enough to output them globally sorted.\n",
    "\n",
    "**Hint – stdlib tools to consider** → heapq, datetime\n"
   ]
  },
  {
   "cell_type": "code",
   "execution_count": null,
   "id": "fdd825df",
   "metadata": {},
   "outputs": [],
   "source": [
    "# TODO – your code for Problem 4\n"
   ]
  },
  {
   "cell_type": "markdown",
   "id": "da5292a5",
   "metadata": {},
   "source": [
    "---\n",
    "\n",
    "### Problem 5 – Decile Buckets of Payload Values\n",
    "\n",
    "**Task**  \n",
    "Produce counts for ten equal‑width buckets between the min and max `payload['value']`.\n",
    "\n",
    "**Hint – stdlib tools to consider** → bisect, math\n"
   ]
  },
  {
   "cell_type": "code",
   "execution_count": null,
   "id": "81353969",
   "metadata": {},
   "outputs": [],
   "source": [
    "# TODO – your code for Problem 5\n"
   ]
  },
  {
   "cell_type": "markdown",
   "id": "d2b846b9",
   "metadata": {},
   "source": [
    "---\n",
    "\n",
    "### Problem 6 – User‑to‑Distinct‑Types Map\n",
    "\n",
    "**Task**  \n",
    "Build a mapping `user → set(event types)` as events stream in (needed for downstream access‑control logic).\n",
    "\n",
    "**Hint – stdlib tools to consider** → collections.defaultdict, set\n"
   ]
  },
  {
   "cell_type": "code",
   "execution_count": null,
   "id": "f05bded6",
   "metadata": {},
   "outputs": [],
   "source": [
    "# TODO – your code for Problem 6\n"
   ]
  },
  {
   "cell_type": "markdown",
   "id": "318197c5",
   "metadata": {},
   "source": [
    "---\n",
    "\n",
    "### Problem 7 – Reservoir Sample of 100 Events\n",
    "\n",
    "**Task**  \n",
    "Implement uniform random sampling to keep 100 representative events from an unbounded stream.\n",
    "\n",
    "**Hint – stdlib tools to consider** → random, enumerate\n"
   ]
  },
  {
   "cell_type": "code",
   "execution_count": null,
   "id": "c5a2e6b8",
   "metadata": {},
   "outputs": [],
   "source": [
    "# TODO – your code for Problem 7\n"
   ]
  },
  {
   "cell_type": "markdown",
   "id": "cf3b3971",
   "metadata": {},
   "source": [
    "---\n",
    "\n",
    "### Problem 8 – Write NDJSON to Gzip\n",
    "\n",
    "**Task**  \n",
    "Serialize all events in NDJSON format and write to a `.gz` file called `events.ndjson.gz`.\n",
    "\n",
    "**Hint – stdlib tools to consider** → json, gzip, io\n"
   ]
  },
  {
   "cell_type": "code",
   "execution_count": null,
   "id": "990bcedc",
   "metadata": {},
   "outputs": [],
   "source": [
    "# TODO – your code for Problem 8\n"
   ]
  },
  {
   "cell_type": "markdown",
   "id": "87512c5f",
   "metadata": {},
   "source": [
    "---\n",
    "\n",
    "### Problem 9 – Day‑of‑Week Aggregation\n",
    "\n",
    "**Task**  \n",
    "Count events for each day‑of‑week (Mon–Sun) and return an ordered list.\n",
    "\n",
    "**Hint – stdlib tools to consider** → itertools.groupby, operator.itemgetter, datetime\n"
   ]
  },
  {
   "cell_type": "code",
   "execution_count": null,
   "id": "235f3016",
   "metadata": {},
   "outputs": [],
   "source": [
    "# TODO – your code for Problem 9\n"
   ]
  },
  {
   "cell_type": "markdown",
   "id": "e9686b72",
   "metadata": {},
   "source": [
    "---\n",
    "\n",
    "### Problem 10 – Longest Daily Activity Streak per User\n",
    "\n",
    "**Task**  \n",
    "Find each user's maximum streak of consecutive calendar days with at least one event.\n",
    "\n",
    "**Hint – stdlib tools to consider** → collections.defaultdict, datetime\n"
   ]
  },
  {
   "cell_type": "code",
   "execution_count": null,
   "id": "a07dd886",
   "metadata": {},
   "outputs": [],
   "source": [
    "# TODO – your code for Problem 10\n"
   ]
  },
  {
   "cell_type": "markdown",
   "id": "7198e0e8",
   "metadata": {},
   "source": [
    "---\n",
    "\n",
    "### Problem 11 – Top‑10 Users by Spend\n",
    "\n",
    "**Task**  \n",
    "Assuming each `PURCHASE` event's `payload['value']` is dollars spent, output the top‑10 users by total spend.\n",
    "\n",
    "**Hint – stdlib tools to consider** → collections.Counter, heapq.nlargest\n"
   ]
  },
  {
   "cell_type": "code",
   "execution_count": null,
   "id": "39b9dfef",
   "metadata": {},
   "outputs": [],
   "source": [
    "# TODO – your code for Problem 11\n"
   ]
  },
  {
   "cell_type": "markdown",
   "id": "75ef00bf",
   "metadata": {},
   "source": [
    "---\n",
    "\n",
    "### Problem 12 – Minute‑Level Surge Detection\n",
    "\n",
    "**Task**  \n",
    "Identify any minute where the event count exceeds `mean + 2*stdev` of the previous 60 minutes.\n",
    "\n",
    "**Hint – stdlib tools to consider** → collections.deque, statistics.mean, statistics.stdev\n"
   ]
  },
  {
   "cell_type": "code",
   "execution_count": null,
   "id": "9fb9a6f7",
   "metadata": {},
   "outputs": [],
   "source": [
    "# TODO – your code for Problem 12\n"
   ]
  },
  {
   "cell_type": "markdown",
   "id": "d632e1bc",
   "metadata": {},
   "source": [
    "---\n",
    "\n",
    "### Problem 13 – Simple Bloom‑like Duplicate Filter\n",
    "\n",
    "**Task**  \n",
    "Implement a fixed‑size bit‑array to flag when an `id` is *probably* a duplicate.\n",
    "\n",
    "**Hint – stdlib tools to consider** → hashlib, bytearray\n"
   ]
  },
  {
   "cell_type": "code",
   "execution_count": null,
   "id": "4145ac46",
   "metadata": {},
   "outputs": [],
   "source": [
    "# TODO – your code for Problem 13\n"
   ]
  },
  {
   "cell_type": "markdown",
   "id": "428c4acc",
   "metadata": {},
   "source": [
    "---\n",
    "\n",
    "### Problem 14 – Sliding Window Maximum\n",
    "\n",
    "**Task**  \n",
    "For every 10‑event sliding window, output the maximum `payload['value']`.\n",
    "\n",
    "**Hint – stdlib tools to consider** → collections.deque\n"
   ]
  },
  {
   "cell_type": "code",
   "execution_count": null,
   "id": "a67c7e0d",
   "metadata": {},
   "outputs": [],
   "source": [
    "# TODO – your code for Problem 14\n"
   ]
  },
  {
   "cell_type": "markdown",
   "id": "70c0a322",
   "metadata": {},
   "source": [
    "---\n",
    "\n",
    "### Problem 15 – Temporal Join of Two Streams\n",
    "\n",
    "**Task**  \n",
    "Given two *sorted* lists A and B, output `(a, b)` pairs where `a.id == b.id` and timestamps differ by ≤2 seconds.\n",
    "\n",
    "**Hint – stdlib tools to consider** → dict, datetime\n"
   ]
  },
  {
   "cell_type": "code",
   "execution_count": null,
   "id": "fa1017bd",
   "metadata": {},
   "outputs": [],
   "source": [
    "# TODO – your code for Problem 15\n"
   ]
  },
  {
   "cell_type": "markdown",
   "id": "2db24b7f",
   "metadata": {},
   "source": [
    "---\n",
    "\n",
    "### Problem 16 – Session Duration Distribution\n",
    "\n",
    "**Task**  \n",
    "Break each user's activity into sessions separated by ≥30 min of inactivity, then compute session durations.\n",
    "\n",
    "**Hint – stdlib tools to consider** → collections.defaultdict, datetime\n"
   ]
  },
  {
   "cell_type": "code",
   "execution_count": null,
   "id": "f0213788",
   "metadata": {},
   "outputs": [],
   "source": [
    "# TODO – your code for Problem 16\n"
   ]
  },
  {
   "cell_type": "markdown",
   "id": "8c7f5ce5",
   "metadata": {},
   "source": [
    "---\n",
    "\n",
    "### Problem 17 – One‑Line XML Event Writer\n",
    "\n",
    "**Task**  \n",
    "Convert every event dict to an XML element `<event …/>` and write one per line to `events.xmll` (yes, double‑l).\n",
    "\n",
    "**Hint – stdlib tools to consider** → xml.etree.ElementTree\n"
   ]
  },
  {
   "cell_type": "code",
   "execution_count": null,
   "id": "e578c806",
   "metadata": {},
   "outputs": [],
   "source": [
    "# TODO – your code for Problem 17\n"
   ]
  },
  {
   "cell_type": "markdown",
   "id": "c5181f47",
   "metadata": {},
   "source": [
    "---\n",
    "\n",
    "### Problem 18 – Adjacent Type Pair Counts\n",
    "\n",
    "**Task**  \n",
    "Count how often each *ordered* pair of consecutive event types appears in the stream.\n",
    "\n",
    "**Hint – stdlib tools to consider** → collections.Counter\n"
   ]
  },
  {
   "cell_type": "code",
   "execution_count": null,
   "id": "a34c9a44",
   "metadata": {},
   "outputs": [],
   "source": [
    "# TODO – your code for Problem 18\n"
   ]
  },
  {
   "cell_type": "markdown",
   "id": "7d78107e",
   "metadata": {},
   "source": [
    "---\n",
    "\n",
    "### Problem 19 – Fixed‑Size Batch Averager\n",
    "\n",
    "**Task**  \n",
    "Process the stream in chunks of 500 events and print the average `payload['value']` for each chunk.\n",
    "\n",
    "**Hint – stdlib tools to consider** → itertools.islice\n"
   ]
  },
  {
   "cell_type": "code",
   "execution_count": null,
   "id": "2a178617",
   "metadata": {},
   "outputs": [],
   "source": [
    "# TODO – your code for Problem 19\n"
   ]
  },
  {
   "cell_type": "markdown",
   "id": "faa1ec80",
   "metadata": {},
   "source": [
    "---\n",
    "\n",
    "### Problem 20 – First Timestamp Ordering Violation\n",
    "\n",
    "**Task**  \n",
    "In a supposedly sorted list, find the index where `ts` becomes earlier than the previous element (return ‑1 if never).\n",
    "\n",
    "**Hint – stdlib tools to consider** → enumerate, datetime\n"
   ]
  },
  {
   "cell_type": "code",
   "execution_count": null,
   "id": "a404db51",
   "metadata": {},
   "outputs": [],
   "source": [
    "# TODO – your code for Problem 20\n"
   ]
  }
 ],
 "metadata": {
  "kernelspec": {
   "display_name": ".venv",
   "language": "python",
   "name": "python3"
  },
  "language_info": {
   "codemirror_mode": {
    "name": "ipython",
    "version": 3
   },
   "file_extension": ".py",
   "mimetype": "text/x-python",
   "name": "python",
   "nbconvert_exporter": "python",
   "pygments_lexer": "ipython3",
   "version": "3.13.3"
  }
 },
 "nbformat": 4,
 "nbformat_minor": 5
}
