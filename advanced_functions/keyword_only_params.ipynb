{
 "cells": [
  {
   "cell_type": "code",
   "execution_count": 11,
   "id": "d4e24b67",
   "metadata": {},
   "outputs": [],
   "source": [
    "def myfunc(a, b=10, *args):\n",
    "    print(f\"{a=} {b=} {args=}\")\n",
    "    "
   ]
  },
  {
   "cell_type": "code",
   "execution_count": 12,
   "id": "59a4d599",
   "metadata": {},
   "outputs": [
    {
     "name": "stdout",
     "output_type": "stream",
     "text": [
      "a=100 b=200 args=(300, 400, 500)\n"
     ]
    }
   ],
   "source": [
    "myfunc(100, 200, 300, 400, 500)"
   ]
  },
  {
   "cell_type": "code",
   "execution_count": 13,
   "id": "a4382bde",
   "metadata": {},
   "outputs": [
    {
     "data": {
      "text/plain": [
       "2"
      ]
     },
     "execution_count": 13,
     "metadata": {},
     "output_type": "execute_result"
    }
   ],
   "source": [
    "myfunc.__code__.co_argcount"
   ]
  },
  {
   "cell_type": "code",
   "execution_count": 14,
   "id": "7b0740ef",
   "metadata": {},
   "outputs": [
    {
     "data": {
      "text/plain": [
       "('a', 'b', 'args')"
      ]
     },
     "execution_count": 14,
     "metadata": {},
     "output_type": "execute_result"
    }
   ],
   "source": [
    "myfunc.__code__.co_varnames\n",
    "# args is not considered an argument, only 'a' and 'b'\n",
    "# the first two that correspond to argcount"
   ]
  },
  {
   "cell_type": "code",
   "execution_count": 15,
   "id": "98679018",
   "metadata": {},
   "outputs": [],
   "source": [
    "def myfunc(a, b=10, *args):\n",
    "    print(f\"{a=} {b=} {args=}\")"
   ]
  },
  {
   "cell_type": "code",
   "execution_count": 16,
   "id": "0bef7df7",
   "metadata": {},
   "outputs": [
    {
     "name": "stdout",
     "output_type": "stream",
     "text": [
      "a=100 b=200 args=(300, 400)\n"
     ]
    }
   ],
   "source": [
    "myfunc(100, 200, 300, 400)"
   ]
  },
  {
   "cell_type": "code",
   "execution_count": 17,
   "id": "06464126",
   "metadata": {},
   "outputs": [],
   "source": [
    "# keywords only argument must come at the end\n",
    "def myfunc(a, *args, b=10):\n",
    "    print(f\"{a=} {b=} {args=}\")"
   ]
  },
  {
   "cell_type": "code",
   "execution_count": 18,
   "id": "9728fda8",
   "metadata": {},
   "outputs": [
    {
     "name": "stdout",
     "output_type": "stream",
     "text": [
      "a=100 b=10 args=(200, 300, 400, 500)\n"
     ]
    }
   ],
   "source": [
    "myfunc(100, 200, 300, 400, 500)"
   ]
  },
  {
   "cell_type": "code",
   "execution_count": 19,
   "id": "11dfaf50",
   "metadata": {},
   "outputs": [
    {
     "data": {
      "text/plain": [
       "1"
      ]
     },
     "execution_count": 19,
     "metadata": {},
     "output_type": "execute_result"
    }
   ],
   "source": [
    "myfunc.__code__.co_argcount"
   ]
  },
  {
   "cell_type": "code",
   "execution_count": null,
   "id": "f8c4fda6",
   "metadata": {},
   "outputs": [
    {
     "data": {
      "text/plain": [
       "1"
      ]
     },
     "execution_count": 20,
     "metadata": {},
     "output_type": "execute_result"
    }
   ],
   "source": [
    "# This tells us the number of keyword based parameters\n",
    "myfunc.__code__.co_kwonlyargcount"
   ]
  },
  {
   "cell_type": "code",
   "execution_count": 21,
   "id": "aba569b8",
   "metadata": {},
   "outputs": [],
   "source": [
    "# keywords only argument must come at the end\n",
    "def myfunc(a, *args, b=10, c=50):\n",
    "    print(f\"{a=} {b=} {args=}\")"
   ]
  },
  {
   "cell_type": "code",
   "execution_count": 22,
   "id": "eade427b",
   "metadata": {},
   "outputs": [
    {
     "data": {
      "text/plain": [
       "2"
      ]
     },
     "execution_count": 22,
     "metadata": {},
     "output_type": "execute_result"
    }
   ],
   "source": [
    "myfunc.__code__.co_kwonlyargcount"
   ]
  },
  {
   "cell_type": "code",
   "execution_count": 23,
   "id": "46838e27",
   "metadata": {},
   "outputs": [
    {
     "name": "stdout",
     "output_type": "stream",
     "text": [
      "  2           RESUME                   0\n",
      "\n",
      "  3           LOAD_GLOBAL              1 (print + NULL)\n",
      "              LOAD_CONST               1 ('a=')\n",
      "              LOAD_FAST                0 (a)\n",
      "              CONVERT_VALUE            2 (repr)\n",
      "              FORMAT_SIMPLE\n",
      "              LOAD_CONST               2 (' b=')\n",
      "              LOAD_FAST                1 (b)\n",
      "              CONVERT_VALUE            2 (repr)\n",
      "              FORMAT_SIMPLE\n",
      "              LOAD_CONST               3 (' args=')\n",
      "              LOAD_FAST                3 (args)\n",
      "              CONVERT_VALUE            2 (repr)\n",
      "              FORMAT_SIMPLE\n",
      "              BUILD_STRING             6\n",
      "              CALL                     1\n",
      "              POP_TOP\n",
      "              RETURN_CONST             0 (None)\n"
     ]
    }
   ],
   "source": [
    "import dis\n",
    "\n",
    "\n",
    "dis.dis(myfunc)"
   ]
  }
 ],
 "metadata": {
  "kernelspec": {
   "display_name": ".venv",
   "language": "python",
   "name": "python3"
  },
  "language_info": {
   "codemirror_mode": {
    "name": "ipython",
    "version": 3
   },
   "file_extension": ".py",
   "mimetype": "text/x-python",
   "name": "python",
   "nbconvert_exporter": "python",
   "pygments_lexer": "ipython3",
   "version": "3.13.3"
  }
 },
 "nbformat": 4,
 "nbformat_minor": 5
}
