{
 "cells": [
  {
   "cell_type": "code",
   "execution_count": 1,
   "id": "c6d20611",
   "metadata": {},
   "outputs": [],
   "source": [
    "def hello(name):\n",
    "    return f\"Hello, {name}!\""
   ]
  },
  {
   "cell_type": "code",
   "execution_count": 2,
   "id": "ea452362",
   "metadata": {},
   "outputs": [
    {
     "data": {
      "text/plain": [
       "function"
      ]
     },
     "execution_count": 2,
     "metadata": {},
     "output_type": "execute_result"
    }
   ],
   "source": [
    "type(hello)"
   ]
  },
  {
   "cell_type": "code",
   "execution_count": 3,
   "id": "158fdb8a",
   "metadata": {},
   "outputs": [
    {
     "data": {
      "text/plain": [
       "function"
      ]
     },
     "execution_count": 3,
     "metadata": {},
     "output_type": "execute_result"
    }
   ],
   "source": [
    "x =hello\n",
    "type(x)"
   ]
  },
  {
   "cell_type": "code",
   "execution_count": 5,
   "id": "fa67f811",
   "metadata": {},
   "outputs": [
    {
     "data": {
      "text/plain": [
       "'Hello, World!'"
      ]
     },
     "execution_count": 5,
     "metadata": {},
     "output_type": "execute_result"
    }
   ],
   "source": [
    "x(\"World\")"
   ]
  },
  {
   "cell_type": "code",
   "execution_count": 4,
   "id": "325770f9",
   "metadata": {},
   "outputs": [
    {
     "data": {
      "text/plain": [
       "True"
      ]
     },
     "execution_count": 4,
     "metadata": {},
     "output_type": "execute_result"
    }
   ],
   "source": [
    "x is hello"
   ]
  },
  {
   "cell_type": "code",
   "execution_count": 6,
   "id": "ba23c992",
   "metadata": {},
   "outputs": [
    {
     "data": {
      "text/plain": [
       "True"
      ]
     },
     "execution_count": 6,
     "metadata": {},
     "output_type": "execute_result"
    }
   ],
   "source": [
    "id(x) == id(hello)"
   ]
  },
  {
   "cell_type": "code",
   "execution_count": 7,
   "id": "29b5bcdb",
   "metadata": {},
   "outputs": [
    {
     "data": {
      "text/plain": [
       "['__annotations__',\n",
       " '__builtins__',\n",
       " '__call__',\n",
       " '__class__',\n",
       " '__closure__',\n",
       " '__code__',\n",
       " '__defaults__',\n",
       " '__delattr__',\n",
       " '__dict__',\n",
       " '__dir__',\n",
       " '__doc__',\n",
       " '__eq__',\n",
       " '__format__',\n",
       " '__ge__',\n",
       " '__get__',\n",
       " '__getattribute__',\n",
       " '__getstate__',\n",
       " '__globals__',\n",
       " '__gt__',\n",
       " '__hash__',\n",
       " '__init__',\n",
       " '__init_subclass__',\n",
       " '__kwdefaults__',\n",
       " '__le__',\n",
       " '__lt__',\n",
       " '__module__',\n",
       " '__name__',\n",
       " '__ne__',\n",
       " '__new__',\n",
       " '__qualname__',\n",
       " '__reduce__',\n",
       " '__reduce_ex__',\n",
       " '__repr__',\n",
       " '__setattr__',\n",
       " '__sizeof__',\n",
       " '__str__',\n",
       " '__subclasshook__',\n",
       " '__type_params__']"
      ]
     },
     "execution_count": 7,
     "metadata": {},
     "output_type": "execute_result"
    }
   ],
   "source": [
    "dir(hello)"
   ]
  },
  {
   "cell_type": "code",
   "execution_count": 11,
   "id": "4de994cb",
   "metadata": {},
   "outputs": [
    {
     "data": {
      "text/plain": [
       "<code object hello at 0x00000198F05F9370, file \"C:\\Users\\dev\\AppData\\Local\\Temp\\ipykernel_35960\\2809789542.py\", line 1>"
      ]
     },
     "execution_count": 11,
     "metadata": {},
     "output_type": "execute_result"
    }
   ],
   "source": [
    "hello.__code__"
   ]
  },
  {
   "cell_type": "code",
   "execution_count": 13,
   "id": "199cc86f",
   "metadata": {},
   "outputs": [
    {
     "data": {
      "text/plain": [
       "['__class__',\n",
       " '__delattr__',\n",
       " '__dir__',\n",
       " '__doc__',\n",
       " '__eq__',\n",
       " '__format__',\n",
       " '__ge__',\n",
       " '__getattribute__',\n",
       " '__getstate__',\n",
       " '__gt__',\n",
       " '__hash__',\n",
       " '__init__',\n",
       " '__init_subclass__',\n",
       " '__le__',\n",
       " '__lt__',\n",
       " '__ne__',\n",
       " '__new__',\n",
       " '__reduce__',\n",
       " '__reduce_ex__',\n",
       " '__replace__',\n",
       " '__repr__',\n",
       " '__setattr__',\n",
       " '__sizeof__',\n",
       " '__str__',\n",
       " '__subclasshook__',\n",
       " '_co_code_adaptive',\n",
       " '_varname_from_oparg',\n",
       " 'co_argcount',\n",
       " 'co_cellvars',\n",
       " 'co_code',\n",
       " 'co_consts',\n",
       " 'co_exceptiontable',\n",
       " 'co_filename',\n",
       " 'co_firstlineno',\n",
       " 'co_flags',\n",
       " 'co_freevars',\n",
       " 'co_kwonlyargcount',\n",
       " 'co_lines',\n",
       " 'co_linetable',\n",
       " 'co_lnotab',\n",
       " 'co_name',\n",
       " 'co_names',\n",
       " 'co_nlocals',\n",
       " 'co_positions',\n",
       " 'co_posonlyargcount',\n",
       " 'co_qualname',\n",
       " 'co_stacksize',\n",
       " 'co_varnames',\n",
       " 'replace']"
      ]
     },
     "execution_count": 13,
     "metadata": {},
     "output_type": "execute_result"
    }
   ],
   "source": [
    "dir(hello.__code__)"
   ]
  },
  {
   "cell_type": "code",
   "execution_count": 12,
   "id": "696bc8df",
   "metadata": {},
   "outputs": [
    {
     "data": {
      "text/plain": [
       "('name',)"
      ]
     },
     "execution_count": 12,
     "metadata": {},
     "output_type": "execute_result"
    }
   ],
   "source": [
    "hello.__code__.co_varnames"
   ]
  },
  {
   "cell_type": "code",
   "execution_count": 15,
   "id": "92f8e3ac",
   "metadata": {},
   "outputs": [
    {
     "ename": "TypeError",
     "evalue": "hello() missing 1 required positional argument: 'name'",
     "output_type": "error",
     "traceback": [
      "\u001b[31m---------------------------------------------------------------------------\u001b[39m",
      "\u001b[31mTypeError\u001b[39m                                 Traceback (most recent call last)",
      "\u001b[36mCell\u001b[39m\u001b[36m \u001b[39m\u001b[32mIn[15]\u001b[39m\u001b[32m, line 1\u001b[39m\n\u001b[32m----> \u001b[39m\u001b[32m1\u001b[39m \u001b[43mhello\u001b[49m\u001b[43m(\u001b[49m\u001b[43m)\u001b[49m\n",
      "\u001b[31mTypeError\u001b[39m: hello() missing 1 required positional argument: 'name'"
     ]
    }
   ],
   "source": [
    "hello()"
   ]
  },
  {
   "cell_type": "code",
   "execution_count": null,
   "id": "49614c6c",
   "metadata": {},
   "outputs": [
    {
     "data": {
      "text/plain": [
       "1"
      ]
     },
     "execution_count": 14,
     "metadata": {},
     "output_type": "execute_result"
    }
   ],
   "source": [
    "hello.__code__.co_argcount # of arguments"
   ]
  },
  {
   "cell_type": "code",
   "execution_count": 16,
   "id": "8ca3068a",
   "metadata": {},
   "outputs": [
    {
     "data": {
      "text/plain": [
       "b'\\x95\\x00S\\x01U\\x00\\x0e\\x00S\\x023\\x03$\\x00'"
      ]
     },
     "execution_count": 16,
     "metadata": {},
     "output_type": "execute_result"
    }
   ],
   "source": [
    "hello.__code__.co_code"
   ]
  },
  {
   "cell_type": "code",
   "execution_count": 17,
   "id": "20880223",
   "metadata": {},
   "outputs": [
    {
     "name": "stdout",
     "output_type": "stream",
     "text": [
      "  1           RESUME                   0\n",
      "\n",
      "  2           LOAD_CONST               1 ('Hello, ')\n",
      "              LOAD_FAST                0 (name)\n",
      "              FORMAT_SIMPLE\n",
      "              LOAD_CONST               2 ('!')\n",
      "              BUILD_STRING             3\n",
      "              RETURN_VALUE\n"
     ]
    }
   ],
   "source": [
    "import dis\n",
    "dis.dis(hello)"
   ]
  },
  {
   "cell_type": "code",
   "execution_count": 18,
   "id": "e4c935a5",
   "metadata": {},
   "outputs": [],
   "source": [
    "def hello(name):\n",
    "    print(f\"Hello, {name}!\")\n"
   ]
  },
  {
   "cell_type": "code",
   "execution_count": null,
   "id": "7d2487a0",
   "metadata": {},
   "outputs": [
    {
     "name": "stdout",
     "output_type": "stream",
     "text": [
      "  1           RESUME                   0\n",
      "\n",
      "  2           LOAD_GLOBAL              1 (print + NULL)\n",
      "              LOAD_CONST               1 ('Hello, ')\n",
      "              LOAD_FAST                0 (name)\n",
      "              FORMAT_SIMPLE\n",
      "              LOAD_CONST               2 ('!')\n",
      "              BUILD_STRING             3\n",
      "              CALL                     1\n",
      "              POP_TOP\n",
      "              RETURN_CONST             0 (None)\n"
     ]
    }
   ],
   "source": [
    "import dis\n",
    "dis.dis(hello) # Notiiced the None return value"
   ]
  },
  {
   "cell_type": "code",
   "execution_count": 20,
   "id": "d6f9ab7d",
   "metadata": {},
   "outputs": [],
   "source": [
    "def hello(first, last):\n",
    "    return f\"Hello, {first} {last}!\""
   ]
  },
  {
   "cell_type": "code",
   "execution_count": 21,
   "id": "ceb3119f",
   "metadata": {},
   "outputs": [
    {
     "name": "stdout",
     "output_type": "stream",
     "text": [
      "  1           RESUME                   0\n",
      "\n",
      "  2           LOAD_CONST               1 ('Hello, ')\n",
      "              LOAD_FAST                0 (first)\n",
      "              FORMAT_SIMPLE\n",
      "              LOAD_CONST               2 (' ')\n",
      "              LOAD_FAST                1 (last)\n",
      "              FORMAT_SIMPLE\n",
      "              LOAD_CONST               3 ('!')\n",
      "              BUILD_STRING             5\n",
      "              RETURN_VALUE\n"
     ]
    }
   ],
   "source": [
    "dis.dis(hello) # Notiiced the None return value"
   ]
  },
  {
   "cell_type": "code",
   "execution_count": 22,
   "id": "f3510dec",
   "metadata": {},
   "outputs": [
    {
     "data": {
      "text/plain": [
       "2"
      ]
     },
     "execution_count": 22,
     "metadata": {},
     "output_type": "execute_result"
    }
   ],
   "source": [
    "hello.__code__.co_argcount"
   ]
  },
  {
   "cell_type": "code",
   "execution_count": 23,
   "id": "0a36fa56",
   "metadata": {},
   "outputs": [
    {
     "data": {
      "text/plain": [
       "('first', 'last')"
      ]
     },
     "execution_count": 23,
     "metadata": {},
     "output_type": "execute_result"
    }
   ],
   "source": [
    "hello.__code__.co_varnames"
   ]
  },
  {
   "cell_type": "code",
   "execution_count": 25,
   "id": "171738e1",
   "metadata": {},
   "outputs": [],
   "source": [
    "def hello(first, last=\"defaultlast\"):\n",
    "    return f\"Hello, {first} {last}!\""
   ]
  },
  {
   "cell_type": "code",
   "execution_count": 26,
   "id": "b1b42f45",
   "metadata": {},
   "outputs": [
    {
     "data": {
      "text/plain": [
       "('defaultlast',)"
      ]
     },
     "execution_count": 26,
     "metadata": {},
     "output_type": "execute_result"
    }
   ],
   "source": [
    "hello.__defaults__"
   ]
  },
  {
   "cell_type": "code",
   "execution_count": 27,
   "id": "d73de764",
   "metadata": {},
   "outputs": [
    {
     "data": {
      "text/plain": [
       "'Hello, a defaultlast!'"
      ]
     },
     "execution_count": 27,
     "metadata": {},
     "output_type": "execute_result"
    }
   ],
   "source": [
    "hello('a')"
   ]
  },
  {
   "cell_type": "code",
   "execution_count": null,
   "id": "b25e4480",
   "metadata": {},
   "outputs": [],
   "source": [
    "# number of arguments - hello.__code__.co_argcount\n",
    "# The difference will come from hello.__defaults__\n"
   ]
  },
  {
   "cell_type": "code",
   "execution_count": 29,
   "id": "dfc762b0",
   "metadata": {},
   "outputs": [],
   "source": [
    "def add_one(x=[]):\n",
    "    x.append(1)\n",
    "    return x\n"
   ]
  },
  {
   "cell_type": "code",
   "execution_count": 30,
   "id": "93ed0dcd",
   "metadata": {},
   "outputs": [
    {
     "name": "stdout",
     "output_type": "stream",
     "text": [
      "  1           RESUME                   0\n",
      "\n",
      "  2           LOAD_FAST                0 (x)\n",
      "              LOAD_ATTR                1 (append + NULL|self)\n",
      "              LOAD_CONST               1 (1)\n",
      "              CALL                     1\n",
      "              POP_TOP\n",
      "\n",
      "  3           LOAD_FAST                0 (x)\n",
      "              RETURN_VALUE\n"
     ]
    }
   ],
   "source": [
    "dis.dis(add_one)"
   ]
  },
  {
   "cell_type": "code",
   "execution_count": 31,
   "id": "bf9c9817",
   "metadata": {},
   "outputs": [
    {
     "data": {
      "text/plain": [
       "([],)"
      ]
     },
     "execution_count": 31,
     "metadata": {},
     "output_type": "execute_result"
    }
   ],
   "source": [
    "add_one.__defaults__"
   ]
  },
  {
   "cell_type": "code",
   "execution_count": 32,
   "id": "8033fadc",
   "metadata": {},
   "outputs": [
    {
     "data": {
      "text/plain": [
       "[1]"
      ]
     },
     "execution_count": 32,
     "metadata": {},
     "output_type": "execute_result"
    }
   ],
   "source": [
    "add_one()"
   ]
  },
  {
   "cell_type": "code",
   "execution_count": 33,
   "id": "7d1ba370",
   "metadata": {},
   "outputs": [
    {
     "data": {
      "text/plain": [
       "([1],)"
      ]
     },
     "execution_count": 33,
     "metadata": {},
     "output_type": "execute_result"
    }
   ],
   "source": [
    "add_one.__defaults__"
   ]
  },
  {
   "cell_type": "code",
   "execution_count": 34,
   "id": "1dd95a2a",
   "metadata": {},
   "outputs": [
    {
     "data": {
      "text/plain": [
       "[1, 1, 1]"
      ]
     },
     "execution_count": 34,
     "metadata": {},
     "output_type": "execute_result"
    }
   ],
   "source": [
    "add_one()\n",
    "add_one()"
   ]
  },
  {
   "cell_type": "code",
   "execution_count": null,
   "id": "a6b22e24",
   "metadata": {},
   "outputs": [],
   "source": [
    "add_one.__defaults__"
   ]
  },
  {
   "cell_type": "code",
   "execution_count": 35,
   "id": "2c3c4fd4",
   "metadata": {},
   "outputs": [
    {
     "name": "stdout",
     "output_type": "stream",
     "text": [
      "  1           RESUME                   0\n",
      "\n",
      "  2           LOAD_FAST                0 (x)\n",
      "              LOAD_ATTR                1 (append + NULL|self)\n",
      "              LOAD_CONST               1 (1)\n",
      "              CALL                     1\n",
      "              POP_TOP\n",
      "\n",
      "  3           LOAD_FAST                0 (x)\n",
      "              RETURN_VALUE\n"
     ]
    }
   ],
   "source": [
    "dis.dis(add_one)"
   ]
  },
  {
   "cell_type": "code",
   "execution_count": 36,
   "id": "db4beadd",
   "metadata": {},
   "outputs": [],
   "source": [
    "# That is why mutable defaults is dangerous"
   ]
  },
  {
   "cell_type": "code",
   "execution_count": 37,
   "id": "5511a60d",
   "metadata": {},
   "outputs": [],
   "source": [
    "def add_one(x=None):\n",
    "    if x is None:\n",
    "        x = []\n",
    "    x.append(1)\n",
    "    return x"
   ]
  },
  {
   "cell_type": "code",
   "execution_count": 38,
   "id": "cf148f13",
   "metadata": {},
   "outputs": [
    {
     "name": "stdout",
     "output_type": "stream",
     "text": [
      "  1           RESUME                   0\n",
      "\n",
      "  2           LOAD_FAST                0 (x)\n",
      "              POP_JUMP_IF_NOT_NONE     2 (to L1)\n",
      "\n",
      "  3           BUILD_LIST               0\n",
      "              STORE_FAST               0 (x)\n",
      "\n",
      "  4   L1:     LOAD_FAST                0 (x)\n",
      "              LOAD_ATTR                1 (append + NULL|self)\n",
      "              LOAD_CONST               1 (1)\n",
      "              CALL                     1\n",
      "              POP_TOP\n",
      "\n",
      "  5           LOAD_FAST                0 (x)\n",
      "              RETURN_VALUE\n"
     ]
    }
   ],
   "source": [
    "dis.dis(add_one)"
   ]
  },
  {
   "cell_type": "code",
   "execution_count": null,
   "id": "c9fa6840",
   "metadata": {},
   "outputs": [],
   "source": []
  }
 ],
 "metadata": {
  "kernelspec": {
   "display_name": ".venv",
   "language": "python",
   "name": "python3"
  },
  "language_info": {
   "codemirror_mode": {
    "name": "ipython",
    "version": 3
   },
   "file_extension": ".py",
   "mimetype": "text/x-python",
   "name": "python",
   "nbconvert_exporter": "python",
   "pygments_lexer": "ipython3",
   "version": "3.13.3"
  }
 },
 "nbformat": 4,
 "nbformat_minor": 5
}
