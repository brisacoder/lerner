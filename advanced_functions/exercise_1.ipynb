{
 "cells": [
  {
   "cell_type": "code",
   "execution_count": null,
   "id": "c8504d63",
   "metadata": {},
   "outputs": [],
   "source": [
    "def transform_files(*args, suffix=\"new\", function=len):\n",
    "    for file in args:\n",
    "        result = function(file)\n",
    "        filename = f\"{file}.{suffix}\"\n",
    "        with open(filename, \"w\", encoding=\"utf-8\") as f:\n",
    "            f.write(str(result))"
   ]
  },
  {
   "cell_type": "code",
   "execution_count": null,
   "id": "34be776b",
   "metadata": {},
   "outputs": [],
   "source": [
    "transform_files('a.txt', 'b.txt', 'c.txt')"
   ]
  },
  {
   "cell_type": "code",
   "execution_count": 13,
   "id": "0fce5834",
   "metadata": {},
   "outputs": [],
   "source": [
    "from functools import reduce\n",
    "from typing import List, Dict, Any\n",
    "def combine_dicts(*args : List[Dict[str, Any]], maxvalues=-1) -> Dict[str, Any]:\n",
    "    def combine_two(a, b):\n",
    "        c = dict()\n",
    "        keys = a.keys() | b.keys()\n",
    "        for k in keys:\n",
    "            c[k] = a.get(k, []) + b.get(k, [])\n",
    "            if maxvalues != -1:\n",
    "                c[k] = c[k][:maxvalues]\n",
    "        return c    \n",
    "\n",
    "    d = reduce(combine_two, args)\n",
    "    return d\n",
    "\n",
    "\n",
    "\n",
    "    "
   ]
  },
  {
   "cell_type": "code",
   "execution_count": 17,
   "id": "1ca8aaf9",
   "metadata": {},
   "outputs": [
    {
     "data": {
      "application/vnd.microsoft.datawrangler.viewer.v0+json": {
       "columns": [
        {
         "name": "index",
         "rawType": "int64",
         "type": "integer"
        },
        {
         "name": "b",
         "rawType": "int64",
         "type": "integer"
        },
        {
         "name": "a",
         "rawType": "int64",
         "type": "integer"
        },
        {
         "name": "c",
         "rawType": "int64",
         "type": "integer"
        }
       ],
       "ref": "92ddd5fd-b404-466c-acff-6e90e064e9b7",
       "rows": [
        [
         "0",
         "4",
         "1",
         "11"
        ],
        [
         "1",
         "5",
         "2",
         "16"
        ],
        [
         "2",
         "8",
         "3",
         "17"
        ]
       ],
       "shape": {
        "columns": 3,
        "rows": 3
       }
      },
      "text/plain": [
       "{'b': [4, 5, 8], 'a': [1, 2, 3], 'c': [11, 16, 17]}"
      ]
     },
     "execution_count": 17,
     "metadata": {},
     "output_type": "execute_result"
    }
   ],
   "source": [
    "d1 = {\"a\": [1, 2, 3], \"b\": [4, 5]}\n",
    "d2 = {\"a\": [6, 7], \"b\": [8, 9, 10], \"c\": [11]}\n",
    "d3 = {\"a\": [12], \"b\": [13, 14, 15], \"c\": [16, 17]}\n",
    "combine_dicts(d1, d2, d3, maxvalues=3)"
   ]
  }
 ],
 "metadata": {
  "kernelspec": {
   "display_name": ".venv",
   "language": "python",
   "name": "python3"
  },
  "language_info": {
   "codemirror_mode": {
    "name": "ipython",
    "version": 3
   },
   "file_extension": ".py",
   "mimetype": "text/x-python",
   "name": "python",
   "nbconvert_exporter": "python",
   "pygments_lexer": "ipython3",
   "version": "3.13.3"
  }
 },
 "nbformat": 4,
 "nbformat_minor": 5
}
