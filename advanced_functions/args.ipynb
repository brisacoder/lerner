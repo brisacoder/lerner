{
 "cells": [
  {
   "cell_type": "code",
   "execution_count": null,
   "id": "7851727b",
   "metadata": {},
   "outputs": [],
   "source": [
    "# Pronounced 'splat; args\n",
    "\n",
    "def my_sum(*numbers):\n",
    "    print(f\"{numbers=}\")\n",
    "    total = 0\n",
    "    for one_number in numbers:\n",
    "        total += one_number\n",
    "    return total\n"
   ]
  },
  {
   "cell_type": "code",
   "execution_count": 10,
   "id": "33284972",
   "metadata": {},
   "outputs": [
    {
     "data": {
      "text/plain": [
       "('numbers', 'total', 'one_number')"
      ]
     },
     "execution_count": 10,
     "metadata": {},
     "output_type": "execute_result"
    }
   ],
   "source": [
    "my_sum.__code__.co_varnames"
   ]
  },
  {
   "cell_type": "code",
   "execution_count": 3,
   "id": "e73f1d7a",
   "metadata": {},
   "outputs": [
    {
     "name": "stdout",
     "output_type": "stream",
     "text": [
      "numbers=(10, 10, 30, 40)\n"
     ]
    },
    {
     "data": {
      "text/plain": [
       "90"
      ]
     },
     "execution_count": 3,
     "metadata": {},
     "output_type": "execute_result"
    }
   ],
   "source": [
    "my_sum(10, 10, 30, 40) # arguments must be a tuple"
   ]
  },
  {
   "cell_type": "code",
   "execution_count": 4,
   "id": "d6457007",
   "metadata": {},
   "outputs": [
    {
     "data": {
      "text/plain": [
       "0"
      ]
     },
     "execution_count": 4,
     "metadata": {},
     "output_type": "execute_result"
    }
   ],
   "source": [
    "my_sum.__code__.co_argcount"
   ]
  },
  {
   "cell_type": "code",
   "execution_count": 14,
   "id": "97f71faf",
   "metadata": {},
   "outputs": [],
   "source": [
    "def my_sum(name, *numbers):\n",
    "    print(f\"Hello, {name}!\")\n",
    "    print(f\"{numbers=}\")\n",
    "    total = 0\n",
    "    for one_number in numbers:\n",
    "        total += one_number\n",
    "    return total"
   ]
  },
  {
   "cell_type": "code",
   "execution_count": 6,
   "id": "6dcae813",
   "metadata": {},
   "outputs": [
    {
     "data": {
      "text/plain": [
       "1"
      ]
     },
     "execution_count": 6,
     "metadata": {},
     "output_type": "execute_result"
    }
   ],
   "source": [
    "my_sum.__code__.co_argcount"
   ]
  },
  {
   "cell_type": "code",
   "execution_count": 7,
   "id": "f8245d13",
   "metadata": {},
   "outputs": [],
   "source": [
    "my_sum.__defaults__"
   ]
  },
  {
   "cell_type": "code",
   "execution_count": 12,
   "id": "fb700921",
   "metadata": {},
   "outputs": [
    {
     "data": {
      "text/plain": [
       "('name', 'numbers', 'total', 'one_number')"
      ]
     },
     "execution_count": 12,
     "metadata": {},
     "output_type": "execute_result"
    }
   ],
   "source": [
    "my_sum.__code__.co_varnames"
   ]
  },
  {
   "cell_type": "code",
   "execution_count": 15,
   "id": "f87cc522",
   "metadata": {},
   "outputs": [
    {
     "data": {
      "text/plain": [
       "7"
      ]
     },
     "execution_count": 15,
     "metadata": {},
     "output_type": "execute_result"
    }
   ],
   "source": [
    "my_sum.__code__.co_flags"
   ]
  },
  {
   "cell_type": "code",
   "execution_count": null,
   "id": "443ae9de",
   "metadata": {},
   "outputs": [
    {
     "data": {
      "text/plain": [
       "'0b111'"
      ]
     },
     "execution_count": 17,
     "metadata": {},
     "output_type": "execute_result"
    }
   ],
   "source": [
    "bin(my_sum.__code__.co_flags)\n",
    "# When you use *args, Python stores this information in \n",
    "# co_flags. Notice the extra bit in the flag that \n",
    "# indicates *args "
   ]
  },
  {
   "cell_type": "code",
   "execution_count": 19,
   "id": "33b9e561",
   "metadata": {},
   "outputs": [],
   "source": [
    "def my_sum(name, numbers):\n",
    "    print(f\"Hello, {name}!\")\n",
    "    print(f\"{numbers=}\")\n",
    "    total = 0\n",
    "    for one_number in numbers:\n",
    "        total += one_number\n",
    "    return total"
   ]
  },
  {
   "cell_type": "code",
   "execution_count": 21,
   "id": "f6f59bef",
   "metadata": {},
   "outputs": [
    {
     "data": {
      "text/plain": [
       "3"
      ]
     },
     "execution_count": 21,
     "metadata": {},
     "output_type": "execute_result"
    }
   ],
   "source": [
    "my_sum.__code__.co_flags"
   ]
  },
  {
   "cell_type": "code",
   "execution_count": null,
   "id": "0e4a671b",
   "metadata": {},
   "outputs": [
    {
     "data": {
      "text/plain": [
       "'0b11'"
      ]
     },
     "execution_count": 20,
     "metadata": {},
     "output_type": "execute_result"
    }
   ],
   "source": [
    "bin(my_sum.__code__.co_flags)"
   ]
  }
 ],
 "metadata": {
  "kernelspec": {
   "display_name": ".venv",
   "language": "python",
   "name": "python3"
  },
  "language_info": {
   "codemirror_mode": {
    "name": "ipython",
    "version": 3
   },
   "file_extension": ".py",
   "mimetype": "text/x-python",
   "name": "python",
   "nbconvert_exporter": "python",
   "pygments_lexer": "ipython3",
   "version": "3.13.3"
  }
 },
 "nbformat": 4,
 "nbformat_minor": 5
}
