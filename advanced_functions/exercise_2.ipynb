{
 "cells": [
  {
   "cell_type": "code",
   "execution_count": null,
   "id": "f2ae1ed7",
   "metadata": {},
   "outputs": [],
   "source": [
    "def report_card(name, **kwargs) -> str:\n",
    "    report = f\"{name}:\\n\"\n",
    "    for subject, grade in kwargs.items():\n",
    "        report += f\"{subject:>10}: {grade:^0.1f}\\n\"\n",
    "    return report"
   ]
  },
  {
   "cell_type": "code",
   "execution_count": null,
   "id": "aa1b3e91",
   "metadata": {},
   "outputs": [],
   "source": [
    "print(report_card('Eve', English=95, Math=90, History=75, Science=86))\n"
   ]
  },
  {
   "cell_type": "code",
   "execution_count": 23,
   "id": "a7228c1b",
   "metadata": {},
   "outputs": [
    {
     "data": {
      "text/plain": [
       "'x=5, y=10'"
      ]
     },
     "execution_count": 23,
     "metadata": {},
     "output_type": "execute_result"
    }
   ],
   "source": [
    "x = 5\n",
    "y = 10\n",
    "s = 'x={x}, y={y}'\n",
    "s.format(**globals())\n"
   ]
  },
  {
   "cell_type": "code",
   "execution_count": null,
   "id": "c1f6f0a7",
   "metadata": {},
   "outputs": [],
   "source": [
    "def print_globals(**kwargs):\n",
    "    for name, value in kwargs.items():\n",
    "        if not name.startswith('__'):\n",
    "            print(f\"{name}: {value}\")\n"
   ]
  },
  {
   "cell_type": "code",
   "execution_count": null,
   "id": "e6b9df57",
   "metadata": {},
   "outputs": [],
   "source": [
    "print_globals(**globals())"
   ]
  }
 ],
 "metadata": {
  "kernelspec": {
   "display_name": ".venv",
   "language": "python",
   "name": "python3"
  },
  "language_info": {
   "codemirror_mode": {
    "name": "ipython",
    "version": 3
   },
   "file_extension": ".py",
   "mimetype": "text/x-python",
   "name": "python",
   "nbconvert_exporter": "python",
   "pygments_lexer": "ipython3",
   "version": "3.13.3"
  }
 },
 "nbformat": 4,
 "nbformat_minor": 5
}
