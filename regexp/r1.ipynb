{
 "cells": [
  {
   "cell_type": "markdown",
   "id": "dace04ac",
   "metadata": {},
   "source": [
    "# Important methods in re\n",
    "\n",
    "- re.search\n",
    "- re.match\n",
    "- re.findall\n",
    "- re.sub ?"
   ]
  },
  {
   "cell_type": "markdown",
   "id": "b328eee2",
   "metadata": {},
   "source": []
  }
 ],
 "metadata": {
  "language_info": {
   "name": "python"
  }
 },
 "nbformat": 4,
 "nbformat_minor": 5
}
