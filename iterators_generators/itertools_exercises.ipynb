{
 "cells": [
  {
   "cell_type": "code",
   "execution_count": 2,
   "id": "83a05b9c",
   "metadata": {},
   "outputs": [
    {
     "name": "stdout",
     "output_type": "stream",
     "text": [
      "a 100 1 b 200 2 c 300 3 d 400 4 "
     ]
    }
   ],
   "source": [
    "s = 'abcd'\n",
    "mylist = [100, 200, 300, 400]\n",
    "t = (1, 2, 3, 4)\n",
    "for i in zip(s, mylist, t):\n",
    "    for j in i:\n",
    "        print(j, end=' ')\n",
    "\n"
   ]
  },
  {
   "cell_type": "code",
   "execution_count": 3,
   "id": "25bcf6fe",
   "metadata": {},
   "outputs": [
    {
     "name": "stdout",
     "output_type": "stream",
     "text": [
      "a b c d 100 200 300 400 1 2 3 4 "
     ]
    }
   ],
   "source": [
    "from itertools import chain\n",
    "for i in chain(s, mylist, t):\n",
    "    print(i, end=' ')"
   ]
  },
  {
   "cell_type": "code",
   "execution_count": 4,
   "id": "b4600c76",
   "metadata": {},
   "outputs": [
    {
     "name": "stdout",
     "output_type": "stream",
     "text": [
      "10 11 12 13 14 "
     ]
    }
   ],
   "source": [
    "from itertools import count\n",
    "i = count(10)\n",
    "for j in range(5):\n",
    "    print(next(i), end=' ')"
   ]
  },
  {
   "cell_type": "code",
   "execution_count": 5,
   "id": "f1259727",
   "metadata": {},
   "outputs": [
    {
     "name": "stdout",
     "output_type": "stream",
     "text": [
      "100 200 300 400 100 200 300 400 100 200 "
     ]
    }
   ],
   "source": [
    "from itertools import cycle\n",
    "g = cycle(mylist)\n",
    "for j in range(10):\n",
    "    print(next(g), end=' ')"
   ]
  },
  {
   "cell_type": "code",
   "execution_count": 54,
   "id": "64e4ba9f",
   "metadata": {},
   "outputs": [
    {
     "name": "stdout",
     "output_type": "stream",
     "text": [
      "('hello', 'world') ('hello', 'world') ('hello', 'world') "
     ]
    }
   ],
   "source": [
    "from itertools import repeat\n",
    "for j in repeat(('hello', 'world'), 3):\n",
    "    print(j, end=' ')"
   ]
  },
  {
   "cell_type": "code",
   "execution_count": 7,
   "id": "c01b6341",
   "metadata": {},
   "outputs": [
    {
     "data": {
      "text/plain": [
       "[1, 3, 5, 7, 9]"
      ]
     },
     "execution_count": 7,
     "metadata": {},
     "output_type": "execute_result"
    }
   ],
   "source": [
    "from itertools import filterfalse\n",
    "\n",
    "list(filterfalse(lambda x: x % 2 == 0, range(10)))"
   ]
  },
  {
   "cell_type": "code",
   "execution_count": 8,
   "id": "e6728896",
   "metadata": {},
   "outputs": [
    {
     "data": {
      "text/plain": [
       "[0, 2, 4, 6, 8]"
      ]
     },
     "execution_count": 8,
     "metadata": {},
     "output_type": "execute_result"
    }
   ],
   "source": [
    "list(filter(lambda x: x % 2 == 0, range(10)))"
   ]
  },
  {
   "cell_type": "code",
   "execution_count": 10,
   "id": "37651321",
   "metadata": {},
   "outputs": [
    {
     "data": {
      "text/plain": [
       "0"
      ]
     },
     "execution_count": 10,
     "metadata": {},
     "output_type": "execute_result"
    }
   ],
   "source": [
    "from itertools import takewhile, dropwhile\n",
    "g = takewhile(lambda x: x < 5, range(10))\n",
    "next(g)"
   ]
  },
  {
   "cell_type": "code",
   "execution_count": 12,
   "id": "5cdabcc4",
   "metadata": {},
   "outputs": [
    {
     "name": "stdout",
     "output_type": "stream",
     "text": [
      "5 6 7 8 9 "
     ]
    }
   ],
   "source": [
    "g = dropwhile(lambda x: x < 5, range(10))\n",
    "for i in g:\n",
    "    print(i, end=' ')"
   ]
  },
  {
   "cell_type": "code",
   "execution_count": 13,
   "id": "4380e93f",
   "metadata": {},
   "outputs": [
    {
     "name": "stdout",
     "output_type": "stream",
     "text": [
      "10 30 "
     ]
    }
   ],
   "source": [
    "from itertools import compress\n",
    "g = compress([10, 20, 30], [1, 0, 1])\n",
    "for i in g:\n",
    "    print(i, end=' ')"
   ]
  },
  {
   "cell_type": "code",
   "execution_count": 14,
   "id": "2456e33c",
   "metadata": {},
   "outputs": [
    {
     "name": "stdout",
     "output_type": "stream",
     "text": [
      "1 3 6 10 "
     ]
    }
   ],
   "source": [
    "from itertools import accumulate\n",
    "g = accumulate([1, 2, 3, 4])\n",
    "for i in g:\n",
    "    print(i, end=' ')"
   ]
  },
  {
   "cell_type": "code",
   "execution_count": 17,
   "id": "3535140d",
   "metadata": {},
   "outputs": [
    {
     "name": "stdout",
     "output_type": "stream",
     "text": [
      "name -> John\n",
      "name -> Jane\n",
      "last_name -> Doe\n",
      "last_name -> Doe\n",
      "job -> Python Consultant\n",
      "job -> Community Manager\n"
     ]
    }
   ],
   "source": [
    "# Traversing Dictionaries in Parallel\n",
    "dict_one = {\"name\": \"John\", \"last_name\": \"Doe\", \"job\": \"Python Consultant\"}\n",
    "dict_two = {\"name\": \"Jane\", \"last_name\": \"Doe\", \"job\": \"Community Manager\"}\n",
    "for (k1, v1), (k2, v2) in zip(dict_one.items(), dict_two.items()):\n",
    "    print(k1, \"->\", v1)\n",
    "    print(k2, \"->\", v2)"
   ]
  },
  {
   "cell_type": "code",
   "execution_count": 25,
   "id": "98bcecad",
   "metadata": {},
   "outputs": [
    {
     "name": "stdout",
     "output_type": "stream",
     "text": [
      "(100, 200, 300, 400) "
     ]
    }
   ],
   "source": [
    "mylist = [(100,), (200,), (300,), (400,)]\n",
    "s = zip(*mylist)\n",
    "for i in s:\n",
    "    print(i, end=' ')"
   ]
  },
  {
   "cell_type": "code",
   "execution_count": 29,
   "id": "534c6dee",
   "metadata": {},
   "outputs": [
    {
     "data": {
      "text/plain": [
       "(1, 2, 3, 4)"
      ]
     },
     "execution_count": 29,
     "metadata": {},
     "output_type": "execute_result"
    }
   ],
   "source": [
    "# Unzipping\n",
    "\n",
    "pairs = [(1, \"a\"), (2, \"b\"), (3, \"c\"), (4, \"d\")]\n",
    "numbers, letters = zip(*pairs)\n",
    "numbers"
   ]
  },
  {
   "cell_type": "code",
   "execution_count": null,
   "id": "ddd484b0",
   "metadata": {},
   "outputs": [
    {
     "data": {
      "text/plain": [
       "{'name': 'John', 'last_name': 'Doe', 'age': '45', 'job': 'Python Developer'}"
      ]
     },
     "execution_count": 30,
     "metadata": {},
     "output_type": "execute_result"
    }
   ],
   "source": [
    "# Dictionary from zip/tuples\n",
    "\n",
    "fields = [\"name\", \"last_name\", \"age\", \"job\"]\n",
    "values = [\"John\", \"Doe\", \"45\", \"Python Developer\"]\n",
    "person = dict(zip(fields, values))\n",
    "person\n"
   ]
  },
  {
   "cell_type": "code",
   "execution_count": 35,
   "id": "31888d3f",
   "metadata": {},
   "outputs": [
    {
     "data": {
      "text/plain": [
       "{1: 2, 2: 3}"
      ]
     },
     "execution_count": 35,
     "metadata": {},
     "output_type": "execute_result"
    }
   ],
   "source": [
    "dict(((1,2), (2,3)))"
   ]
  },
  {
   "cell_type": "code",
   "execution_count": 36,
   "id": "f4221d04",
   "metadata": {},
   "outputs": [
    {
     "name": "stdout",
     "output_type": "stream",
     "text": [
      "(1, 'a') (1, 'b') (2, 'a') (2, 'b') "
     ]
    }
   ],
   "source": [
    "from itertools import product\n",
    "g = product([1, 2], ['a', 'b'])\n",
    "for i in g:\n",
    "    print(i, end=' ')"
   ]
  },
  {
   "cell_type": "code",
   "execution_count": null,
   "id": "dd1fd99b",
   "metadata": {},
   "outputs": [
    {
     "data": {
      "text/plain": [
       "[(1, 2, 3), (1, 3, 2), (2, 1, 3), (2, 3, 1), (3, 1, 2), (3, 2, 1)]"
      ]
     },
     "execution_count": 39,
     "metadata": {},
     "output_type": "execute_result"
    }
   ],
   "source": [
    "from itertools import permutations\n",
    "g = permutations([1, 2, 3],3)\n",
    "list(g)"
   ]
  },
  {
   "cell_type": "code",
   "execution_count": 46,
   "id": "cd9bd621",
   "metadata": {},
   "outputs": [
    {
     "data": {
      "text/plain": [
       "[[()], [(1,), (2,), (3,)], [(1, 2), (1, 3), (2, 3)], [(1, 2, 3)]]"
      ]
     },
     "execution_count": 46,
     "metadata": {},
     "output_type": "execute_result"
    }
   ],
   "source": [
    "# All subsets from a set\n",
    "\n",
    "from itertools import combinations\n",
    "g = [list(combinations([1, 2, 3], i)) for i in range(0, 4)]\n",
    "list(g)"
   ]
  },
  {
   "cell_type": "code",
   "execution_count": 47,
   "id": "b2b5c172",
   "metadata": {},
   "outputs": [
    {
     "name": "stdout",
     "output_type": "stream",
     "text": [
      "(1, 1) (1, 2) (1, 3) (2, 2) (2, 3) (3, 3) "
     ]
    }
   ],
   "source": [
    "from itertools import combinations_with_replacement\n",
    "g = combinations_with_replacement([1, 2, 3], 2)\n",
    "for i in g:\n",
    "    print(i, end=' ')"
   ]
  },
  {
   "cell_type": "code",
   "execution_count": 59,
   "id": "8037e3c1",
   "metadata": {},
   "outputs": [
    {
     "name": "stdout",
     "output_type": "stream",
     "text": [
      "Hello World\n",
      "Hello World\n",
      "Hello World\n"
     ]
    },
    {
     "data": {
      "text/plain": [
       "[None, None, None]"
      ]
     },
     "execution_count": 59,
     "metadata": {},
     "output_type": "execute_result"
    }
   ],
   "source": [
    "from itertools import starmap, repeat\n",
    "\n",
    "function = print\n",
    "\n",
    "def repeatfunc(function, times=None, *args):\n",
    "    \"Repeat calls to a function with specified arguments.\"\n",
    "    if times is None:\n",
    "        return starmap(function, repeat(args))\n",
    "    return starmap(function, repeat(args, times))\n",
    "\n",
    "list(repeatfunc(print, 3, \"Hello\", \"World\"))\n"
   ]
  },
  {
   "cell_type": "code",
   "execution_count": null,
   "id": "dd30320b",
   "metadata": {},
   "outputs": [],
   "source": [
    "# print always returns None, that is why we see None in the output"
   ]
  },
  {
   "cell_type": "code",
   "execution_count": null,
   "id": "e1dd3258",
   "metadata": {},
   "outputs": [
    {
     "data": {
      "text/plain": [
       "'B'"
      ]
     },
     "execution_count": 65,
     "metadata": {},
     "output_type": "execute_result"
    }
   ],
   "source": [
    "iterable = 'ABCDEFG'\n",
    "# Create an iterator that returns the same iterable three times\n",
    "# Calling next on the iterator will return the next item from the iterable\n",
    "l = [iter(iterable)] * 3 \n",
    "next(l[0])\n",
    "# l[0], l[1], and l[2] refer to the same iterator object (iter(iterable)).\n",
    "# When you call next(l[0]), it returns 'A' and advances the iterator to 'B'.\n",
    "# So, calling next(l[1]) returns 'B' because l[1] is the same iterator as l[0], just another reference.\n",
    "next(l[1])\n"
   ]
  },
  {
   "cell_type": "code",
   "execution_count": 69,
   "id": "38456708",
   "metadata": {},
   "outputs": [
    {
     "name": "stdout",
     "output_type": "stream",
     "text": [
      "music bach\n",
      "art van gogh\n",
      "opera carmen\n"
     ]
    }
   ],
   "source": [
    "from collections import ChainMap\n",
    "\n",
    "baseline = {'music': 'bach', 'art': 'rembrandt'}\n",
    "adjustments = {'art': 'van gogh', 'opera': 'carmen'}\n",
    "for key, value in ChainMap(adjustments, baseline).items():\n",
    "    print(f\"{key} {value}\")"
   ]
  },
  {
   "cell_type": "code",
   "execution_count": 70,
   "id": "c616c53e",
   "metadata": {},
   "outputs": [],
   "source": [
    "from collections import Counter\n",
    "\n",
    "c = Counter()                           # a new, empty counter\n",
    "c = Counter('gallahad')                 # a new counter from an iterable\n",
    "c = Counter({'red': 4, 'blue': 2})      # a new counter from a mapping\n",
    "c = Counter(cats=4, dogs=8)             # a new counter from keyword args"
   ]
  },
  {
   "cell_type": "code",
   "execution_count": 71,
   "id": "b2d1a62a",
   "metadata": {},
   "outputs": [
    {
     "data": {
      "text/plain": [
       "0"
      ]
     },
     "execution_count": 71,
     "metadata": {},
     "output_type": "execute_result"
    }
   ],
   "source": [
    "c = Counter(['eggs', 'ham'])\n",
    "c['bacon']                              # count of a missing element is zero"
   ]
  },
  {
   "cell_type": "code",
   "execution_count": 72,
   "id": "e3ac98a2",
   "metadata": {},
   "outputs": [
    {
     "data": {
      "text/plain": [
       "['a', 'a', 'a', 'a', 'b', 'b']"
      ]
     },
     "execution_count": 72,
     "metadata": {},
     "output_type": "execute_result"
    }
   ],
   "source": [
    "c = Counter(a=4, b=2, c=0, d=-2)\n",
    "sorted(c.elements())"
   ]
  },
  {
   "cell_type": "code",
   "execution_count": 73,
   "id": "700841b0",
   "metadata": {},
   "outputs": [
    {
     "data": {
      "text/plain": [
       "False"
      ]
     },
     "execution_count": 73,
     "metadata": {},
     "output_type": "execute_result"
    }
   ],
   "source": [
    "c = Counter(a=3, b=1)\n",
    "d = Counter(a=1, b=2)\n",
    "c + d                       # add two counters together:  c[x] + d[x]\n",
    "\n",
    "c - d                       # subtract (keeping only positive counts)\n",
    "\n",
    "c & d                       # intersection:  min(c[x], d[x])\n",
    "\n",
    "c | d                       # union:  max(c[x], d[x])\n",
    "\n",
    "c == d                      # equality:  c[x] == d[x]\n",
    "\n",
    "c <= d                      # inclusion:  c[x] <= d[x]"
   ]
  },
  {
   "cell_type": "code",
   "execution_count": 74,
   "id": "81d91448",
   "metadata": {},
   "outputs": [
    {
     "data": {
      "text/plain": [
       "Counter({'b': 4})"
      ]
     },
     "execution_count": 74,
     "metadata": {},
     "output_type": "execute_result"
    }
   ],
   "source": [
    "c = Counter(a=2, b=-4)\n",
    "+c\n",
    "\n",
    "-c"
   ]
  },
  {
   "cell_type": "markdown",
   "id": "bd36a836",
   "metadata": {},
   "source": [
    "## Counter recipes\n",
    "\n",
    "- c.total()                       # total of all counts\n",
    "- c.clear()                       # reset all counts\n",
    "- list(c)                         # list unique elements\n",
    "- set(c)                          # convert to a set\n",
    "- dict(c)                         # convert to a regular dictionary\n",
    "- c.items()                       # access the (elem, cnt) pairs\n",
    "- Counter(dict(list_of_pairs))    # convert from a list of (elem, cnt) pairs\n",
    "- c.most_common()[:-n-1:-1]       # n least common elements\n",
    "- +c                              # remove zero and negative counts"
   ]
  },
  {
   "cell_type": "markdown",
   "id": "2d9f2c0d",
   "metadata": {},
   "source": []
  }
 ],
 "metadata": {
  "kernelspec": {
   "display_name": ".venv",
   "language": "python",
   "name": "python3"
  },
  "language_info": {
   "codemirror_mode": {
    "name": "ipython",
    "version": 3
   },
   "file_extension": ".py",
   "mimetype": "text/x-python",
   "name": "python",
   "nbconvert_exporter": "python",
   "pygments_lexer": "ipython3",
   "version": "3.13.3"
  }
 },
 "nbformat": 4,
 "nbformat_minor": 5
}
